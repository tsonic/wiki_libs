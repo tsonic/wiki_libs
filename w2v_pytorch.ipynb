{
  "nbformat": 4,
  "nbformat_minor": 0,
  "metadata": {
    "accelerator": "GPU",
    "colab": {
      "name": "w2v_pytorch.ipynb",
      "provenance": [],
      "collapsed_sections": [],
      "machine_shape": "hm",
      "include_colab_link": true
    },
    "kernelspec": {
      "display_name": "Python 3",
      "language": "python",
      "name": "python3"
    },
    "language_info": {
      "codemirror_mode": {
        "name": "ipython",
        "version": 3
      },
      "file_extension": ".py",
      "mimetype": "text/x-python",
      "name": "python",
      "nbconvert_exporter": "python",
      "pygments_lexer": "ipython3",
      "version": "3.7.6"
    }
  },
  "cells": [
    {
      "cell_type": "markdown",
      "metadata": {
        "id": "view-in-github",
        "colab_type": "text"
      },
      "source": [
        "<a href=\"https://colab.research.google.com/github/tsonic/wiki_libs/blob/master/w2v_pytorch.ipynb\" target=\"_parent\"><img src=\"https://colab.research.google.com/assets/colab-badge.svg\" alt=\"Open In Colab\"/></a>"
      ]
    },
    {
      "cell_type": "code",
      "metadata": {
        "colab_type": "code",
        "id": "qtGOBgkoLR4k",
        "colab": {
          "base_uri": "https://localhost:8080/",
          "height": 34
        },
        "outputId": "e47b6e1d-d54c-4b8b-ea7c-80afb9de6a39"
      },
      "source": [
        "from google.colab import drive\n",
        "drive.flush_and_unmount()\n",
        "drive.mount('/content/gdrive',force_remount=True)\n"
      ],
      "execution_count": 1,
      "outputs": [
        {
          "output_type": "stream",
          "text": [
            "Mounted at /content/gdrive\n"
          ],
          "name": "stdout"
        }
      ]
    },
    {
      "cell_type": "code",
      "metadata": {
        "colab_type": "code",
        "id": "zXZy7TkRhJfi",
        "colab": {}
      },
      "source": [
        "# !cp -rf 'gdrive/My Drive/Projects with Wei/Wei_tmp_outputs/word2vec' ./\n",
        "# !ls 'gdrive/My Drive/Projects with Wei/Wei_tmp_outputs/word2vec' -l"
      ],
      "execution_count": 2,
      "outputs": []
    },
    {
      "cell_type": "code",
      "metadata": {
        "colab_type": "code",
        "id": "0A7KpAYtFBis",
        "colab": {
          "base_uri": "https://localhost:8080/",
          "height": 136
        },
        "outputId": "c5aebdec-032d-4d58-b31d-50438bee25e9"
      },
      "source": [
        "!rm -rf word2vec/\n",
        "!git clone https://github.com/tsonic/word2vec-pytorch.git ./word2vec > /dev/null\n",
        "!cp -r ./word2vec/* ./\n",
        "!rm -rf ./word2vec/word2vec/*"
      ],
      "execution_count": 3,
      "outputs": [
        {
          "output_type": "stream",
          "text": [
            "Cloning into './word2vec'...\n",
            "remote: Enumerating objects: 202, done.\u001b[K\n",
            "remote: Counting objects:   0% (1/202)\u001b[K\rremote: Counting objects:   1% (3/202)\u001b[K\rremote: Counting objects:   2% (5/202)\u001b[K\rremote: Counting objects:   3% (7/202)\u001b[K\rremote: Counting objects:   4% (9/202)\u001b[K\rremote: Counting objects:   5% (11/202)\u001b[K\rremote: Counting objects:   6% (13/202)\u001b[K\rremote: Counting objects:   7% (15/202)\u001b[K\rremote: Counting objects:   8% (17/202)\u001b[K\rremote: Counting objects:   9% (19/202)\u001b[K\rremote: Counting objects:  10% (21/202)\u001b[K\rremote: Counting objects:  11% (23/202)\u001b[K\rremote: Counting objects:  12% (25/202)\u001b[K\rremote: Counting objects:  13% (27/202)\u001b[K\rremote: Counting objects:  14% (29/202)\u001b[K\rremote: Counting objects:  15% (31/202)\u001b[K\rremote: Counting objects:  16% (33/202)\u001b[K\rremote: Counting objects:  17% (35/202)\u001b[K\rremote: Counting objects:  18% (37/202)\u001b[K\rremote: Counting objects:  19% (39/202)\u001b[K\rremote: Counting objects:  20% (41/202)\u001b[K\rremote: Counting objects:  21% (43/202)\u001b[K\rremote: Counting objects:  22% (45/202)\u001b[K\rremote: Counting objects:  23% (47/202)\u001b[K\rremote: Counting objects:  24% (49/202)\u001b[K\rremote: Counting objects:  25% (51/202)\u001b[K\rremote: Counting objects:  26% (53/202)\u001b[K\rremote: Counting objects:  27% (55/202)\u001b[K\rremote: Counting objects:  28% (57/202)\u001b[K\rremote: Counting objects:  29% (59/202)\u001b[K\rremote: Counting objects:  30% (61/202)\u001b[K\rremote: Counting objects:  31% (63/202)\u001b[K\rremote: Counting objects:  32% (65/202)\u001b[K\rremote: Counting objects:  33% (67/202)\u001b[K\rremote: Counting objects:  34% (69/202)\u001b[K\rremote: Counting objects:  35% (71/202)\u001b[K\rremote: Counting objects:  36% (73/202)\u001b[K\rremote: Counting objects:  37% (75/202)\u001b[K\rremote: Counting objects:  38% (77/202)\u001b[K\rremote: Counting objects:  39% (79/202)\u001b[K\rremote: Counting objects:  40% (81/202)\u001b[K\rremote: Counting objects:  41% (83/202)\u001b[K\rremote: Counting objects:  42% (85/202)\u001b[K\rremote: Counting objects:  43% (87/202)\u001b[K\rremote: Counting objects:  44% (89/202)\u001b[K\rremote: Counting objects:  45% (91/202)\u001b[K\rremote: Counting objects:  46% (93/202)\u001b[K\rremote: Counting objects:  47% (95/202)\u001b[K\rremote: Counting objects:  48% (97/202)\u001b[K\rremote: Counting objects:  49% (99/202)\u001b[K\rremote: Counting objects:  50% (101/202)\u001b[K\rremote: Counting objects:  51% (104/202)\u001b[K\rremote: Counting objects:  52% (106/202)\u001b[K\rremote: Counting objects:  53% (108/202)\u001b[K\rremote: Counting objects:  54% (110/202)\u001b[K\rremote: Counting objects:  55% (112/202)\u001b[K\rremote: Counting objects:  56% (114/202)\u001b[K\rremote: Counting objects:  57% (116/202)\u001b[K\rremote: Counting objects:  58% (118/202)\u001b[K\rremote: Counting objects:  59% (120/202)\u001b[K\rremote: Counting objects:  60% (122/202)\u001b[K\rremote: Counting objects:  61% (124/202)\u001b[K\rremote: Counting objects:  62% (126/202)\u001b[K\rremote: Counting objects:  63% (128/202)\u001b[K\rremote: Counting objects:  64% (130/202)\u001b[K\rremote: Counting objects:  65% (132/202)\u001b[K\rremote: Counting objects:  66% (134/202)\u001b[K\rremote: Counting objects:  67% (136/202)\u001b[K\rremote: Counting objects:  68% (138/202)\u001b[K\rremote: Counting objects:  69% (140/202)\u001b[K\rremote: Counting objects:  70% (142/202)\u001b[K\rremote: Counting objects:  71% (144/202)\u001b[K\rremote: Counting objects:  72% (146/202)\u001b[K\rremote: Counting objects:  73% (148/202)\u001b[K\rremote: Counting objects:  74% (150/202)\u001b[K\rremote: Counting objects:  75% (152/202)\u001b[K\rremote: Counting objects:  76% (154/202)\u001b[K\rremote: Counting objects:  77% (156/202)\u001b[K\rremote: Counting objects:  78% (158/202)\u001b[K\rremote: Counting objects:  79% (160/202)\u001b[K\rremote: Counting objects:  80% (162/202)\u001b[K\rremote: Counting objects:  81% (164/202)\u001b[K\rremote: Counting objects:  82% (166/202)\u001b[K\rremote: Counting objects:  83% (168/202)\u001b[K\rremote: Counting objects:  84% (170/202)\u001b[K\rremote: Counting objects:  85% (172/202)\u001b[K\rremote: Counting objects:  86% (174/202)\u001b[K\rremote: Counting objects:  87% (176/202)\u001b[K\rremote: Counting objects:  88% (178/202)\u001b[K\rremote: Counting objects:  89% (180/202)\u001b[K\rremote: Counting objects:  90% (182/202)\u001b[K\rremote: Counting objects:  91% (184/202)\u001b[K\rremote: Counting objects:  92% (186/202)\u001b[K\rremote: Counting objects:  93% (188/202)\u001b[K\rremote: Counting objects:  94% (190/202)\u001b[K\rremote: Counting objects:  95% (192/202)\u001b[K\rremote: Counting objects:  96% (194/202)\u001b[K\rremote: Counting objects:  97% (196/202)\u001b[K\rremote: Counting objects:  98% (198/202)\u001b[K\rremote: Counting objects:  99% (200/202)\u001b[K\rremote: Counting objects: 100% (202/202)\u001b[K\rremote: Counting objects: 100% (202/202), done.\u001b[K\n",
            "remote: Compressing objects:   0% (1/127)\u001b[K\rremote: Compressing objects:   1% (2/127)\u001b[K\rremote: Compressing objects:   2% (3/127)\u001b[K\rremote: Compressing objects:   3% (4/127)\u001b[K\rremote: Compressing objects:   4% (6/127)\u001b[K\rremote: Compressing objects:   5% (7/127)\u001b[K\rremote: Compressing objects:   6% (8/127)\u001b[K\rremote: Compressing objects:   7% (9/127)\u001b[K\rremote: Compressing objects:   8% (11/127)\u001b[K\rremote: Compressing objects:   9% (12/127)\u001b[K\rremote: Compressing objects:  10% (13/127)\u001b[K\rremote: Compressing objects:  11% (14/127)\u001b[K\rremote: Compressing objects:  12% (16/127)\u001b[K\rremote: Compressing objects:  13% (17/127)\u001b[K\rremote: Compressing objects:  14% (18/127)\u001b[K\rremote: Compressing objects:  15% (20/127)\u001b[K\rremote: Compressing objects:  16% (21/127)\u001b[K\rremote: Compressing objects:  17% (22/127)\u001b[K\rremote: Compressing objects:  18% (23/127)\u001b[K\rremote: Compressing objects:  19% (25/127)\u001b[K\rremote: Compressing objects:  20% (26/127)\u001b[K\rremote: Compressing objects:  21% (27/127)\u001b[K\rremote: Compressing objects:  22% (28/127)\u001b[K\rremote: Compressing objects:  23% (30/127)\u001b[K\rremote: Compressing objects:  24% (31/127)\u001b[K\rremote: Compressing objects:  25% (32/127)\u001b[K\rremote: Compressing objects:  26% (34/127)\u001b[K\rremote: Compressing objects:  27% (35/127)\u001b[K\rremote: Compressing objects:  28% (36/127)\u001b[K\rremote: Compressing objects:  29% (37/127)\u001b[K\rremote: Compressing objects:  30% (39/127)\u001b[K\rremote: Compressing objects:  31% (40/127)\u001b[K\rremote: Compressing objects:  32% (41/127)\u001b[K\rremote: Compressing objects:  33% (42/127)\u001b[K\rremote: Compressing objects:  34% (44/127)\u001b[K\rremote: Compressing objects:  35% (45/127)\u001b[K\rremote: Compressing objects:  36% (46/127)\u001b[K\rremote: Compressing objects:  37% (47/127)\u001b[K\rremote: Compressing objects:  38% (49/127)\u001b[K\rremote: Compressing objects:  39% (50/127)\u001b[K\rremote: Compressing objects:  40% (51/127)\u001b[K\rremote: Compressing objects:  41% (53/127)\u001b[K\rremote: Compressing objects:  42% (54/127)\u001b[K\rremote: Compressing objects:  43% (55/127)\u001b[K\rremote: Compressing objects:  44% (56/127)\u001b[K\rremote: Compressing objects:  45% (58/127)\u001b[K\rremote: Compressing objects:  46% (59/127)\u001b[K\rremote: Compressing objects:  47% (60/127)\u001b[K\rremote: Compressing objects:  48% (61/127)\u001b[K\rremote: Compressing objects:  49% (63/127)\u001b[K\rremote: Compressing objects:  50% (64/127)\u001b[K\rremote: Compressing objects:  51% (65/127)\u001b[K\rremote: Compressing objects:  52% (67/127)\u001b[K\rremote: Compressing objects:  53% (68/127)\u001b[K\rremote: Compressing objects:  54% (69/127)\u001b[K\rremote: Compressing objects:  55% (70/127)\u001b[K\rremote: Compressing objects:  56% (72/127)\u001b[K\rremote: Compressing objects:  57% (73/127)\u001b[K\rremote: Compressing objects:  58% (74/127)\u001b[K\rremote: Compressing objects:  59% (75/127)\u001b[K\rremote: Compressing objects:  60% (77/127)\u001b[K\rremote: Compressing objects:  61% (78/127)\u001b[K\rremote: Compressing objects:  62% (79/127)\u001b[K\rremote: Compressing objects:  63% (81/127)\u001b[K\rremote: Compressing objects:  64% (82/127)\u001b[K\rremote: Compressing objects:  65% (83/127)\u001b[K\rremote: Compressing objects:  66% (84/127)\u001b[K\rremote: Compressing objects:  67% (86/127)\u001b[K\rremote: Compressing objects:  68% (87/127)\u001b[K\rremote: Compressing objects:  69% (88/127)\u001b[K\rremote: Compressing objects:  70% (89/127)\u001b[K\rremote: Compressing objects:  71% (91/127)\u001b[K\rremote: Compressing objects:  72% (92/127)\u001b[K\rremote: Compressing objects:  73% (93/127)\u001b[K\rremote: Compressing objects:  74% (94/127)\u001b[K\rremote: Compressing objects:  75% (96/127)\u001b[K\rremote: Compressing objects:  76% (97/127)\u001b[K\rremote: Compressing objects:  77% (98/127)\u001b[K\rremote: Compressing objects:  78% (100/127)\u001b[K\rremote: Compressing objects:  79% (101/127)\u001b[K\rremote: Compressing objects:  80% (102/127)\u001b[K\rremote: Compressing objects:  81% (103/127)\u001b[K\rremote: Compressing objects:  82% (105/127)\u001b[K\rremote: Compressing objects:  83% (106/127)\u001b[K\rremote: Compressing objects:  84% (107/127)\u001b[K\rremote: Compressing objects:  85% (108/127)\u001b[K\rremote: Compressing objects:  86% (110/127)\u001b[K\rremote: Compressing objects:  87% (111/127)\u001b[K\rremote: Compressing objects:  88% (112/127)\u001b[K\rremote: Compressing objects:  89% (114/127)\u001b[K\rremote: Compressing objects:  90% (115/127)\u001b[K\rremote: Compressing objects:  91% (116/127)\u001b[K\rremote: Compressing objects:  92% (117/127)\u001b[K\rremote: Compressing objects:  93% (119/127)\u001b[K\rremote: Compressing objects:  94% (120/127)\u001b[K\rremote: Compressing objects:  95% (121/127)\u001b[K\rremote: Compressing objects:  96% (122/127)\u001b[K\rremote: Compressing objects:  97% (124/127)\u001b[K\rremote: Compressing objects:  98% (125/127)\u001b[K\rremote: Compressing objects:  99% (126/127)\u001b[K\rremote: Compressing objects: 100% (127/127)\u001b[K\rremote: Compressing objects: 100% (127/127), done.\u001b[K\n",
            "Receiving objects:   0% (1/230)   \rReceiving objects:   1% (3/230)   \rReceiving objects:   2% (5/230)   \rReceiving objects:   3% (7/230)   \rReceiving objects:   4% (10/230)   \rReceiving objects:   5% (12/230)   \rReceiving objects:   6% (14/230)   \rReceiving objects:   7% (17/230)   \rReceiving objects:   8% (19/230)   \rReceiving objects:   9% (21/230)   \rReceiving objects:  10% (23/230)   \rReceiving objects:  11% (26/230)   \rReceiving objects:  12% (28/230)   \rReceiving objects:  13% (30/230)   \rReceiving objects:  14% (33/230)   \rReceiving objects:  15% (35/230)   \rReceiving objects:  16% (37/230)   \rReceiving objects:  17% (40/230)   \rReceiving objects:  18% (42/230)   \rReceiving objects:  19% (44/230)   \rReceiving objects:  20% (46/230)   \rReceiving objects:  21% (49/230)   \rReceiving objects:  22% (51/230)   \rReceiving objects:  23% (53/230)   \rReceiving objects:  24% (56/230)   \rReceiving objects:  25% (58/230)   \rReceiving objects:  26% (60/230)   \rReceiving objects:  27% (63/230)   \rReceiving objects:  28% (65/230)   \rremote: Total 230 (delta 146), reused 131 (delta 75), pack-reused 28\u001b[K\n",
            "Receiving objects:  29% (67/230)   \rReceiving objects:  30% (69/230)   \rReceiving objects:  31% (72/230)   \rReceiving objects:  32% (74/230)   \rReceiving objects:  33% (76/230)   \rReceiving objects:  34% (79/230)   \rReceiving objects:  35% (81/230)   \rReceiving objects:  36% (83/230)   \rReceiving objects:  37% (86/230)   \rReceiving objects:  38% (88/230)   \rReceiving objects:  39% (90/230)   \rReceiving objects:  40% (92/230)   \rReceiving objects:  41% (95/230)   \rReceiving objects:  42% (97/230)   \rReceiving objects:  43% (99/230)   \rReceiving objects:  44% (102/230)   \rReceiving objects:  45% (104/230)   \rReceiving objects:  46% (106/230)   \rReceiving objects:  47% (109/230)   \rReceiving objects:  48% (111/230)   \rReceiving objects:  49% (113/230)   \rReceiving objects:  50% (115/230)   \rReceiving objects:  51% (118/230)   \rReceiving objects:  52% (120/230)   \rReceiving objects:  53% (122/230)   \rReceiving objects:  54% (125/230)   \rReceiving objects:  55% (127/230)   \rReceiving objects:  56% (129/230)   \rReceiving objects:  57% (132/230)   \rReceiving objects:  58% (134/230)   \rReceiving objects:  59% (136/230)   \rReceiving objects:  60% (138/230)   \rReceiving objects:  61% (141/230)   \rReceiving objects:  62% (143/230)   \rReceiving objects:  63% (145/230)   \rReceiving objects:  64% (148/230)   \rReceiving objects:  65% (150/230)   \rReceiving objects:  66% (152/230)   \rReceiving objects:  67% (155/230)   \rReceiving objects:  68% (157/230)   \rReceiving objects:  69% (159/230)   \rReceiving objects:  70% (161/230)   \rReceiving objects:  71% (164/230)   \rReceiving objects:  72% (166/230)   \rReceiving objects:  73% (168/230)   \rReceiving objects:  74% (171/230)   \rReceiving objects:  75% (173/230)   \rReceiving objects:  76% (175/230)   \rReceiving objects:  77% (178/230)   \rReceiving objects:  78% (180/230)   \rReceiving objects:  79% (182/230)   \rReceiving objects:  80% (184/230)   \rReceiving objects:  81% (187/230)   \rReceiving objects:  82% (189/230)   \rReceiving objects:  83% (191/230)   \rReceiving objects:  84% (194/230)   \rReceiving objects:  85% (196/230)   \rReceiving objects:  86% (198/230)   \rReceiving objects:  87% (201/230)   \rReceiving objects:  88% (203/230)   \rReceiving objects:  89% (205/230)   \rReceiving objects:  90% (207/230)   \rReceiving objects:  91% (210/230)   \rReceiving objects:  92% (212/230)   \rReceiving objects:  93% (214/230)   \rReceiving objects:  94% (217/230)   \rReceiving objects:  95% (219/230)   \rReceiving objects:  96% (221/230)   \rReceiving objects:  97% (224/230)   \rReceiving objects:  98% (226/230)   \rReceiving objects:  99% (228/230)   \rReceiving objects: 100% (230/230)   \rReceiving objects: 100% (230/230), 31.79 KiB | 7.95 MiB/s, done.\n",
            "Resolving deltas:   0% (0/154)   \rResolving deltas:   3% (5/154)   \rResolving deltas:   8% (13/154)   \rResolving deltas:   9% (14/154)   \rResolving deltas:  10% (16/154)   \rResolving deltas:  17% (27/154)   \rResolving deltas:  45% (70/154)   \rResolving deltas:  50% (78/154)   \rResolving deltas:  55% (86/154)   \rResolving deltas:  56% (87/154)   \rResolving deltas:  81% (126/154)   \rResolving deltas: 100% (154/154)   \rResolving deltas: 100% (154/154), done.\n"
          ],
          "name": "stdout"
        }
      ]
    },
    {
      "cell_type": "code",
      "metadata": {
        "colab_type": "code",
        "id": "Z1Ie2ygrHWPO",
        "colab": {
          "base_uri": "https://localhost:8080/",
          "height": 170
        },
        "outputId": "50471022-47d1-48ee-e009-45769c637b6b"
      },
      "source": [
        "!wget -c http://mattmahoney.net/dc/text8.zip\n",
        "!unzip -o text8.zip\n",
        "!xargs -n10000 <text8 >text8_line_break\n",
        "!head -n 10 text8_line_break > text8_10line"
      ],
      "execution_count": 4,
      "outputs": [
        {
          "output_type": "stream",
          "text": [
            "--2020-07-05 19:48:11--  http://mattmahoney.net/dc/text8.zip\n",
            "Resolving mattmahoney.net (mattmahoney.net)... 67.195.197.24\n",
            "Connecting to mattmahoney.net (mattmahoney.net)|67.195.197.24|:80... connected.\n",
            "HTTP request sent, awaiting response... 416 Requested Range Not Satisfiable\n",
            "\n",
            "    The file is already fully retrieved; nothing to do.\n",
            "\n",
            "Archive:  text8.zip\n",
            "  inflating: text8                   \n"
          ],
          "name": "stdout"
        }
      ]
    },
    {
      "cell_type": "code",
      "metadata": {
        "colab_type": "code",
        "id": "-nhzCiShs0_h",
        "colab": {}
      },
      "source": [
        "!pip install ipdb > /dev/null\n",
        "!pip install line_profiler > /dev/null"
      ],
      "execution_count": 5,
      "outputs": []
    },
    {
      "cell_type": "code",
      "metadata": {
        "colab_type": "code",
        "id": "tubbDk3gIneZ",
        "colab": {
          "base_uri": "https://localhost:8080/",
          "height": 34
        },
        "outputId": "f9ea8432-e41d-4bce-a018-cd5942d47ee5"
      },
      "source": [
        "import pandas as pd\n",
        "from sklearn.neighbors import KDTree\n",
        "import numpy as np\n",
        "from sklearn import preprocessing\n",
        "from word2vec.trainer import  Word2VecTrainer\n",
        "from word2vec.data_reader import Word2vecDataset\n",
        "from torch.utils.data import Dataset\n",
        "import word2vec\n",
        "import importlib\n",
        "import torch\n",
        "import numpy as np\n",
        "import pandas as pd\n",
        "import ipdb\n",
        "importlib.reload(word2vec.trainer)"
      ],
      "execution_count": 6,
      "outputs": [
        {
          "output_type": "execute_result",
          "data": {
            "text/plain": [
              "<module 'word2vec.trainer' from '/content/word2vec/trainer.py'>"
            ]
          },
          "metadata": {
            "tags": []
          },
          "execution_count": 6
        }
      ]
    },
    {
      "cell_type": "code",
      "metadata": {
        "colab_type": "code",
        "id": "VLsG8GxByjaJ",
        "colab": {}
      },
      "source": [
        "%load_ext line_profiler"
      ],
      "execution_count": 7,
      "outputs": []
    },
    {
      "cell_type": "code",
      "metadata": {
        "colab_type": "code",
        "id": "LwD33AezH4Yh",
        "colab": {}
      },
      "source": [
        "def train(input_file=\"text8_line_break\", epochs = 10, collate_fn='custom',num_workers=0):\n",
        "  #ipdb.set_trace()\n",
        "  w2v = Word2VecTrainer(input_file=input_file, \n",
        "                        output_file=\"gdrive/My Drive/Projects with Wei/Wei_tmp_outputs/w2v_output/out.vec\",\n",
        "                        min_count=5,\n",
        "                        batch_size=8096,\n",
        "                        iterations=epochs,\n",
        "                        num_workers=num_workers,\n",
        "                        collate_fn=collate_fn,\n",
        "                        iprint=500,\n",
        "                        t=1e-3,\n",
        "                        ns_exponent=0.75,\n",
        "                        window_size=3,\n",
        "                        initial_lr=0.001,\n",
        "                        optimizer='adam',\n",
        "                        lr_schedule=False,\n",
        " #                       optimizer_kwargs={'momentum':0.9},\n",
        " #                       warm_start_model = 'gdrive/My Drive/Projects with Wei/Wei_tmp_outputs/torch_model/model.pkl',\n",
        "                        )\n",
        "  w2v.train()\n",
        "  return w2v"
      ],
      "execution_count": 27,
      "outputs": []
    },
    {
      "cell_type": "code",
      "metadata": {
        "id": "R-PsWH73EDX5",
        "colab_type": "code",
        "colab": {}
      },
      "source": [
        "pd.set_option('mode.chained_assignment','raise')"
      ],
      "execution_count": 28,
      "outputs": []
    },
    {
      "cell_type": "code",
      "metadata": {
        "colab_type": "code",
        "id": "Xb6W-vJyAWw2",
        "colab": {
          "base_uri": "https://localhost:8080/",
          "height": 1000
        },
        "outputId": "54fdbb16-8ffb-4b21-dc73-d04e619fc437"
      },
      "source": [
        "model = train(epochs=8,num_workers=3)"
      ],
      "execution_count": 29,
      "outputs": [
        {
          "output_type": "stream",
          "text": [
            "Read 1M words.\n",
            "Read 2M words.\n",
            "Read 3M words.\n",
            "Read 4M words.\n",
            "Read 5M words.\n",
            "Read 6M words.\n",
            "Read 7M words.\n",
            "Read 8M words.\n",
            "Read 9M words.\n",
            "Read 10M words.\n",
            "Read 11M words.\n",
            "Read 12M words.\n",
            "Read 13M words.\n",
            "Read 14M words.\n",
            "Read 15M words.\n",
            "Read 16M words.\n",
            "Read 17M words.\n",
            "Total embeddings: 71290\n",
            "Initializing negative samples\n",
            "monitor multi-worker\n",
            "Creating words list...\n",
            "Creating training dataframe...\n",
            "keep ratio is 0.749640\n",
            "sample of discard words are :['one', 'two', 'the', 'two', 'be']\n",
            "keep ratio is 0.749637\n",
            "sample of discard words are :['and', 'three', 'zero', 'of', 'one']\n",
            "keep ratio is 0.749700\n",
            "sample of discard words are :['the', 'one', 'and', 'a', 'of']\n",
            "keep ratio is 0.749588\n",
            "sample of discard words are :['as', 'in', 'to', 'and', 'the']\n",
            "keep ratio is 0.749598\n",
            "sample of discard words are :['as', 'with', 'that', 'was', 'with']\n",
            "keep ratio is 0.749691\n",
            "sample of discard words are :['the', 'the', 'a', 'for', 'to']\n",
            "Shuffling samples...\n",
            "Creating negative samples...\n",
            "Dataload initializing finished!\n"
          ],
          "name": "stdout"
        },
        {
          "output_type": "stream",
          "text": [
            "\r  0%|          | 0/9207 [00:00<?, ?it/s]"
          ],
          "name": "stderr"
        },
        {
          "output_type": "stream",
          "text": [
            "\n",
            "\n",
            "\n",
            "Iteration: 1\n"
          ],
          "name": "stdout"
        },
        {
          "output_type": "stream",
          "text": [
            "  5%|▌         | 480/9207 [00:29<01:13, 119.50it/s]"
          ],
          "name": "stderr"
        },
        {
          "output_type": "stream",
          "text": [
            " Loss: 2.579318611132078 lr: [0.001]\n"
          ],
          "name": "stdout"
        },
        {
          "output_type": "stream",
          "text": [
            " 10%|█         | 935/9207 [00:32<01:09, 119.54it/s]"
          ],
          "name": "stderr"
        },
        {
          "output_type": "stream",
          "text": [
            " Loss: 2.439335917388566 lr: [0.001]\n"
          ],
          "name": "stdout"
        },
        {
          "output_type": "stream",
          "text": [
            " 15%|█▌        | 1403/9207 [00:36<01:06, 118.10it/s]"
          ],
          "name": "stderr"
        },
        {
          "output_type": "stream",
          "text": [
            " Loss: 2.3947635115403307 lr: [0.001]\n"
          ],
          "name": "stdout"
        },
        {
          "output_type": "stream",
          "text": [
            " 20%|██        | 1862/9207 [00:40<01:01, 118.59it/s]"
          ],
          "name": "stderr"
        },
        {
          "output_type": "stream",
          "text": [
            " Loss: 2.3619263817212035 lr: [0.001]\n"
          ],
          "name": "stdout"
        },
        {
          "output_type": "stream",
          "text": [
            " 25%|██▌       | 2313/9207 [00:44<00:58, 117.26it/s]"
          ],
          "name": "stderr"
        },
        {
          "output_type": "stream",
          "text": [
            " Loss: 2.3358098428317797 lr: [0.001]\n"
          ],
          "name": "stdout"
        },
        {
          "output_type": "stream",
          "text": [
            " 30%|███       | 2774/9207 [00:48<00:54, 117.25it/s]"
          ],
          "name": "stderr"
        },
        {
          "output_type": "stream",
          "text": [
            " Loss: 2.313014283077323 lr: [0.001]\n"
          ],
          "name": "stdout"
        },
        {
          "output_type": "stream",
          "text": [
            " 35%|███▌      | 3241/9207 [00:52<00:50, 118.89it/s]"
          ],
          "name": "stderr"
        },
        {
          "output_type": "stream",
          "text": [
            " Loss: 2.294931863875327 lr: [0.001]\n"
          ],
          "name": "stdout"
        },
        {
          "output_type": "stream",
          "text": [
            " 40%|████      | 3701/9207 [00:56<00:46, 118.74it/s]"
          ],
          "name": "stderr"
        },
        {
          "output_type": "stream",
          "text": [
            " Loss: 2.2785988801486585 lr: [0.001]\n"
          ],
          "name": "stdout"
        },
        {
          "output_type": "stream",
          "text": [
            " 45%|████▌     | 4156/9207 [01:00<00:42, 118.74it/s]"
          ],
          "name": "stderr"
        },
        {
          "output_type": "stream",
          "text": [
            " Loss: 2.263140143273608 lr: [0.001]\n"
          ],
          "name": "stdout"
        },
        {
          "output_type": "stream",
          "text": [
            " 50%|█████     | 4620/9207 [01:03<00:38, 118.67it/s]"
          ],
          "name": "stderr"
        },
        {
          "output_type": "stream",
          "text": [
            " Loss: 2.2529763020105196 lr: [0.001]\n"
          ],
          "name": "stdout"
        },
        {
          "output_type": "stream",
          "text": [
            " 55%|█████▌    | 5076/9207 [01:07<00:35, 117.79it/s]"
          ],
          "name": "stderr"
        },
        {
          "output_type": "stream",
          "text": [
            " Loss: 2.2397173928459586 lr: [0.001]\n"
          ],
          "name": "stdout"
        },
        {
          "output_type": "stream",
          "text": [
            " 60%|██████    | 5539/9207 [01:11<00:30, 118.98it/s]"
          ],
          "name": "stderr"
        },
        {
          "output_type": "stream",
          "text": [
            " Loss: 2.2316530022031418 lr: [0.001]\n"
          ],
          "name": "stdout"
        },
        {
          "output_type": "stream",
          "text": [
            " 65%|██████▌   | 5997/9207 [01:15<00:27, 115.57it/s]"
          ],
          "name": "stderr"
        },
        {
          "output_type": "stream",
          "text": [
            " Loss: 2.2218676756261746 lr: [0.001]\n"
          ],
          "name": "stdout"
        },
        {
          "output_type": "stream",
          "text": [
            " 70%|███████   | 6454/9207 [01:19<00:23, 116.56it/s]"
          ],
          "name": "stderr"
        },
        {
          "output_type": "stream",
          "text": [
            " Loss: 2.214251716601059 lr: [0.001]\n"
          ],
          "name": "stdout"
        },
        {
          "output_type": "stream",
          "text": [
            " 75%|███████▌  | 6915/9207 [01:23<00:19, 119.22it/s]"
          ],
          "name": "stderr"
        },
        {
          "output_type": "stream",
          "text": [
            " Loss: 2.2083751661697737 lr: [0.001]\n"
          ],
          "name": "stdout"
        },
        {
          "output_type": "stream",
          "text": [
            " 80%|████████  | 7382/9207 [01:27<00:15, 119.72it/s]"
          ],
          "name": "stderr"
        },
        {
          "output_type": "stream",
          "text": [
            " Loss: 2.2002870408408963 lr: [0.001]\n"
          ],
          "name": "stdout"
        },
        {
          "output_type": "stream",
          "text": [
            " 85%|████████▌ | 7836/9207 [01:31<00:11, 117.35it/s]"
          ],
          "name": "stderr"
        },
        {
          "output_type": "stream",
          "text": [
            " Loss: 2.1945912474711204 lr: [0.001]\n"
          ],
          "name": "stdout"
        },
        {
          "output_type": "stream",
          "text": [
            " 90%|█████████ | 8299/9207 [01:35<00:07, 117.45it/s]"
          ],
          "name": "stderr"
        },
        {
          "output_type": "stream",
          "text": [
            " Loss: 2.1903246542096455 lr: [0.001]\n"
          ],
          "name": "stdout"
        },
        {
          "output_type": "stream",
          "text": [
            " 95%|█████████▌| 8757/9207 [01:39<00:03, 116.76it/s]"
          ],
          "name": "stderr"
        },
        {
          "output_type": "stream",
          "text": [
            " Loss: 2.1840706786342534 lr: [0.001]\n"
          ],
          "name": "stdout"
        },
        {
          "output_type": "stream",
          "text": [
            "100%|██████████| 9207/9207 [01:42<00:00, 89.39it/s] "
          ],
          "name": "stderr"
        },
        {
          "output_type": "stream",
          "text": [
            " Loss: 2.1791657388289223 lr: [0.001]\n",
            " Loss: 2.179188512999348\n"
          ],
          "name": "stdout"
        },
        {
          "output_type": "stream",
          "text": [
            "\n",
            "  0%|          | 0/9207 [00:00<?, ?it/s]"
          ],
          "name": "stderr"
        },
        {
          "output_type": "stream",
          "text": [
            "\n",
            "\n",
            "\n",
            "Iteration: 2\n"
          ],
          "name": "stdout"
        },
        {
          "output_type": "stream",
          "text": [
            "  5%|▌         | 483/9207 [00:26<01:13, 118.51it/s]"
          ],
          "name": "stderr"
        },
        {
          "output_type": "stream",
          "text": [
            " Loss: 2.160008230595987 lr: [0.001]\n"
          ],
          "name": "stdout"
        },
        {
          "output_type": "stream",
          "text": [
            " 10%|█         | 934/9207 [00:30<01:10, 117.56it/s]"
          ],
          "name": "stderr"
        },
        {
          "output_type": "stream",
          "text": [
            " Loss: 2.168043095647994 lr: [0.001]\n"
          ],
          "name": "stdout"
        },
        {
          "output_type": "stream",
          "text": [
            " 15%|█▌        | 1393/9207 [00:34<01:09, 111.89it/s]"
          ],
          "name": "stderr"
        },
        {
          "output_type": "stream",
          "text": [
            " Loss: 2.163914893892982 lr: [0.001]\n"
          ],
          "name": "stdout"
        },
        {
          "output_type": "stream",
          "text": [
            " 20%|██        | 1861/9207 [00:38<01:05, 112.86it/s]"
          ],
          "name": "stderr"
        },
        {
          "output_type": "stream",
          "text": [
            " Loss: 2.1569721832034006 lr: [0.001]\n"
          ],
          "name": "stdout"
        },
        {
          "output_type": "stream",
          "text": [
            " 25%|██▌       | 2318/9207 [00:42<00:57, 119.32it/s]"
          ],
          "name": "stderr"
        },
        {
          "output_type": "stream",
          "text": [
            " Loss: 2.1518085672327683 lr: [0.001]\n"
          ],
          "name": "stdout"
        },
        {
          "output_type": "stream",
          "text": [
            " 30%|███       | 2773/9207 [00:46<00:54, 117.04it/s]"
          ],
          "name": "stderr"
        },
        {
          "output_type": "stream",
          "text": [
            " Loss: 2.14602224026632 lr: [0.001]\n"
          ],
          "name": "stdout"
        },
        {
          "output_type": "stream",
          "text": [
            " 35%|███▌      | 3237/9207 [00:50<00:50, 117.18it/s]"
          ],
          "name": "stderr"
        },
        {
          "output_type": "stream",
          "text": [
            " Loss: 2.142911895342475 lr: [0.001]\n"
          ],
          "name": "stdout"
        },
        {
          "output_type": "stream",
          "text": [
            " 40%|████      | 3694/9207 [00:54<00:46, 118.66it/s]"
          ],
          "name": "stderr"
        },
        {
          "output_type": "stream",
          "text": [
            " Loss: 2.1393735236511557 lr: [0.001]\n"
          ],
          "name": "stdout"
        },
        {
          "output_type": "stream",
          "text": [
            " 45%|████▌     | 4156/9207 [00:57<00:42, 118.56it/s]"
          ],
          "name": "stderr"
        },
        {
          "output_type": "stream",
          "text": [
            " Loss: 2.1354584218692274 lr: [0.001]\n"
          ],
          "name": "stdout"
        },
        {
          "output_type": "stream",
          "text": [
            " 50%|█████     | 4621/9207 [01:01<00:38, 118.45it/s]"
          ],
          "name": "stderr"
        },
        {
          "output_type": "stream",
          "text": [
            " Loss: 2.13475448143294 lr: [0.001]\n"
          ],
          "name": "stdout"
        },
        {
          "output_type": "stream",
          "text": [
            " 55%|█████▌    | 5075/9207 [01:05<00:35, 117.62it/s]"
          ],
          "name": "stderr"
        },
        {
          "output_type": "stream",
          "text": [
            " Loss: 2.129914285567028 lr: [0.001]\n"
          ],
          "name": "stdout"
        },
        {
          "output_type": "stream",
          "text": [
            " 60%|██████    | 5540/9207 [01:09<00:30, 119.11it/s]"
          ],
          "name": "stderr"
        },
        {
          "output_type": "stream",
          "text": [
            " Loss: 2.129243244841177 lr: [0.001]\n"
          ],
          "name": "stdout"
        },
        {
          "output_type": "stream",
          "text": [
            " 65%|██████▌   | 6002/9207 [01:13<00:27, 118.38it/s]"
          ],
          "name": "stderr"
        },
        {
          "output_type": "stream",
          "text": [
            " Loss: 2.1255840178519936 lr: [0.001]\n"
          ],
          "name": "stdout"
        },
        {
          "output_type": "stream",
          "text": [
            " 70%|███████   | 6460/9207 [01:17<00:22, 120.40it/s]"
          ],
          "name": "stderr"
        },
        {
          "output_type": "stream",
          "text": [
            " Loss: 2.1241740366278217 lr: [0.001]\n"
          ],
          "name": "stdout"
        },
        {
          "output_type": "stream",
          "text": [
            " 75%|███████▌  | 6920/9207 [01:21<00:19, 118.78it/s]"
          ],
          "name": "stderr"
        },
        {
          "output_type": "stream",
          "text": [
            " Loss: 2.123002498534931 lr: [0.001]\n"
          ],
          "name": "stdout"
        },
        {
          "output_type": "stream",
          "text": [
            " 80%|████████  | 7374/9207 [01:25<00:15, 118.89it/s]"
          ],
          "name": "stderr"
        },
        {
          "output_type": "stream",
          "text": [
            " Loss: 2.1194503019176643 lr: [0.001]\n"
          ],
          "name": "stdout"
        },
        {
          "output_type": "stream",
          "text": [
            " 85%|████████▌ | 7836/9207 [01:28<00:11, 117.22it/s]"
          ],
          "name": "stderr"
        },
        {
          "output_type": "stream",
          "text": [
            " Loss: 2.1174551008654747 lr: [0.001]\n"
          ],
          "name": "stdout"
        },
        {
          "output_type": "stream",
          "text": [
            " 90%|█████████ | 8304/9207 [01:32<00:07, 118.96it/s]"
          ],
          "name": "stderr"
        },
        {
          "output_type": "stream",
          "text": [
            " Loss: 2.116831491158413 lr: [0.001]\n"
          ],
          "name": "stdout"
        },
        {
          "output_type": "stream",
          "text": [
            " 95%|█████████▌| 8762/9207 [01:36<00:03, 117.43it/s]"
          ],
          "name": "stderr"
        },
        {
          "output_type": "stream",
          "text": [
            " Loss: 2.1138913729228554 lr: [0.001]\n"
          ],
          "name": "stdout"
        },
        {
          "output_type": "stream",
          "text": [
            "100%|██████████| 9207/9207 [01:40<00:00, 91.44it/s] "
          ],
          "name": "stderr"
        },
        {
          "output_type": "stream",
          "text": [
            " Loss: 2.1119107579128302 lr: [0.001]\n",
            " Loss: 2.1120029008918078\n"
          ],
          "name": "stdout"
        },
        {
          "output_type": "stream",
          "text": [
            "\n",
            "  0%|          | 0/9207 [00:00<?, ?it/s]"
          ],
          "name": "stderr"
        },
        {
          "output_type": "stream",
          "text": [
            "\n",
            "\n",
            "\n",
            "Iteration: 3\n"
          ],
          "name": "stdout"
        },
        {
          "output_type": "stream",
          "text": [
            "  5%|▌         | 476/9207 [00:26<01:13, 119.24it/s]"
          ],
          "name": "stderr"
        },
        {
          "output_type": "stream",
          "text": [
            " Loss: 2.096300994060119 lr: [0.001]\n"
          ],
          "name": "stdout"
        },
        {
          "output_type": "stream",
          "text": [
            " 10%|█         | 934/9207 [00:29<01:09, 119.67it/s]"
          ],
          "name": "stderr"
        },
        {
          "output_type": "stream",
          "text": [
            " Loss: 2.1067238118511944 lr: [0.001]\n"
          ],
          "name": "stdout"
        },
        {
          "output_type": "stream",
          "text": [
            " 15%|█▌        | 1402/9207 [00:33<01:05, 118.84it/s]"
          ],
          "name": "stderr"
        },
        {
          "output_type": "stream",
          "text": [
            " Loss: 2.105797809852132 lr: [0.001]\n"
          ],
          "name": "stdout"
        },
        {
          "output_type": "stream",
          "text": [
            " 20%|██        | 1857/9207 [00:37<01:02, 118.00it/s]"
          ],
          "name": "stderr"
        },
        {
          "output_type": "stream",
          "text": [
            " Loss: 2.1022153345536667 lr: [0.001]\n"
          ],
          "name": "stdout"
        },
        {
          "output_type": "stream",
          "text": [
            " 25%|██▌       | 2317/9207 [00:41<00:57, 119.53it/s]"
          ],
          "name": "stderr"
        },
        {
          "output_type": "stream",
          "text": [
            " Loss: 2.0997293577631746 lr: [0.001]\n"
          ],
          "name": "stdout"
        },
        {
          "output_type": "stream",
          "text": [
            " 30%|███       | 2775/9207 [00:45<00:54, 118.98it/s]"
          ],
          "name": "stderr"
        },
        {
          "output_type": "stream",
          "text": [
            " Loss: 2.096005726685454 lr: [0.001]\n"
          ],
          "name": "stdout"
        },
        {
          "output_type": "stream",
          "text": [
            " 35%|███▌      | 3236/9207 [00:49<00:50, 118.40it/s]"
          ],
          "name": "stderr"
        },
        {
          "output_type": "stream",
          "text": [
            " Loss: 2.094969308657727 lr: [0.001]\n"
          ],
          "name": "stdout"
        },
        {
          "output_type": "stream",
          "text": [
            " 40%|████      | 3696/9207 [00:53<00:46, 118.28it/s]"
          ],
          "name": "stderr"
        },
        {
          "output_type": "stream",
          "text": [
            " Loss: 2.0933088873146333 lr: [0.001]\n"
          ],
          "name": "stdout"
        },
        {
          "output_type": "stream",
          "text": [
            " 45%|████▌     | 4160/9207 [00:57<00:43, 116.93it/s]"
          ],
          "name": "stderr"
        },
        {
          "output_type": "stream",
          "text": [
            " Loss: 2.091171698111701 lr: [0.001]\n"
          ],
          "name": "stdout"
        },
        {
          "output_type": "stream",
          "text": [
            " 50%|█████     | 4624/9207 [01:01<00:38, 119.91it/s]"
          ],
          "name": "stderr"
        },
        {
          "output_type": "stream",
          "text": [
            " Loss: 2.0917021276345222 lr: [0.001]\n"
          ],
          "name": "stdout"
        },
        {
          "output_type": "stream",
          "text": [
            " 55%|█████▌    | 5074/9207 [01:04<00:34, 120.66it/s]"
          ],
          "name": "stderr"
        },
        {
          "output_type": "stream",
          "text": [
            " Loss: 2.088340742185934 lr: [0.001]\n"
          ],
          "name": "stdout"
        },
        {
          "output_type": "stream",
          "text": [
            " 60%|██████    | 5537/9207 [01:08<00:31, 117.54it/s]"
          ],
          "name": "stderr"
        },
        {
          "output_type": "stream",
          "text": [
            " Loss: 2.0891349355157582 lr: [0.001]\n"
          ],
          "name": "stdout"
        },
        {
          "output_type": "stream",
          "text": [
            " 65%|██████▌   | 5999/9207 [01:12<00:27, 117.74it/s]"
          ],
          "name": "stderr"
        },
        {
          "output_type": "stream",
          "text": [
            " Loss: 2.0864936074746696 lr: [0.001]\n"
          ],
          "name": "stdout"
        },
        {
          "output_type": "stream",
          "text": [
            " 70%|███████   | 6460/9207 [01:16<00:23, 115.89it/s]"
          ],
          "name": "stderr"
        },
        {
          "output_type": "stream",
          "text": [
            " Loss: 2.086509810173245 lr: [0.001]\n"
          ],
          "name": "stdout"
        },
        {
          "output_type": "stream",
          "text": [
            " 75%|███████▌  | 6914/9207 [01:20<00:19, 118.59it/s]"
          ],
          "name": "stderr"
        },
        {
          "output_type": "stream",
          "text": [
            " Loss: 2.086246447404581 lr: [0.001]\n"
          ],
          "name": "stdout"
        },
        {
          "output_type": "stream",
          "text": [
            " 80%|████████  | 7379/9207 [01:24<00:15, 119.36it/s]"
          ],
          "name": "stderr"
        },
        {
          "output_type": "stream",
          "text": [
            " Loss: 2.083696099259519 lr: [0.001]\n"
          ],
          "name": "stdout"
        },
        {
          "output_type": "stream",
          "text": [
            " 85%|████████▌ | 7844/9207 [01:28<00:11, 117.79it/s]"
          ],
          "name": "stderr"
        },
        {
          "output_type": "stream",
          "text": [
            " Loss: 2.0828062666378715 lr: [0.001]\n"
          ],
          "name": "stdout"
        },
        {
          "output_type": "stream",
          "text": [
            " 90%|█████████ | 8295/9207 [01:32<00:07, 117.94it/s]"
          ],
          "name": "stderr"
        },
        {
          "output_type": "stream",
          "text": [
            " Loss: 2.082959087245553 lr: [0.001]\n"
          ],
          "name": "stdout"
        },
        {
          "output_type": "stream",
          "text": [
            " 95%|█████████▌| 8760/9207 [01:36<00:03, 118.27it/s]"
          ],
          "name": "stderr"
        },
        {
          "output_type": "stream",
          "text": [
            " Loss: 2.0809186623909657 lr: [0.001]\n"
          ],
          "name": "stdout"
        },
        {
          "output_type": "stream",
          "text": [
            "100%|██████████| 9207/9207 [01:39<00:00, 92.16it/s] \n"
          ],
          "name": "stderr"
        },
        {
          "output_type": "stream",
          "text": [
            " Loss: 2.079699352878164 lr: [0.001]\n",
            " Loss: 2.0797963742033456\n"
          ],
          "name": "stdout"
        },
        {
          "output_type": "stream",
          "text": [
            "\r  0%|          | 0/9207 [00:00<?, ?it/s]"
          ],
          "name": "stderr"
        },
        {
          "output_type": "stream",
          "text": [
            "\n",
            "\n",
            "\n",
            "Iteration: 4\n"
          ],
          "name": "stdout"
        },
        {
          "output_type": "stream",
          "text": [
            "  5%|▌         | 478/9207 [00:27<01:13, 118.91it/s]"
          ],
          "name": "stderr"
        },
        {
          "output_type": "stream",
          "text": [
            " Loss: 2.0652675378400858 lr: [0.001]\n"
          ],
          "name": "stdout"
        },
        {
          "output_type": "stream",
          "text": [
            " 10%|█         | 942/9207 [00:30<01:09, 118.30it/s]"
          ],
          "name": "stderr"
        },
        {
          "output_type": "stream",
          "text": [
            " Loss: 2.0765074429930492 lr: [0.001]\n"
          ],
          "name": "stdout"
        },
        {
          "output_type": "stream",
          "text": [
            " 15%|█▌        | 1402/9207 [00:34<01:06, 118.16it/s]"
          ],
          "name": "stderr"
        },
        {
          "output_type": "stream",
          "text": [
            " Loss: 2.0765817680812524 lr: [0.001]\n"
          ],
          "name": "stdout"
        },
        {
          "output_type": "stream",
          "text": [
            " 20%|██        | 1865/9207 [00:38<01:01, 118.84it/s]"
          ],
          "name": "stderr"
        },
        {
          "output_type": "stream",
          "text": [
            " Loss: 2.0741787290661224 lr: [0.001]\n"
          ],
          "name": "stdout"
        },
        {
          "output_type": "stream",
          "text": [
            " 25%|██▌       | 2323/9207 [00:42<00:59, 116.11it/s]"
          ],
          "name": "stderr"
        },
        {
          "output_type": "stream",
          "text": [
            " Loss: 2.0727424501885414 lr: [0.001]\n"
          ],
          "name": "stdout"
        },
        {
          "output_type": "stream",
          "text": [
            " 30%|███       | 2783/9207 [00:46<00:55, 116.33it/s]"
          ],
          "name": "stderr"
        },
        {
          "output_type": "stream",
          "text": [
            " Loss: 2.069791409084215 lr: [0.001]\n"
          ],
          "name": "stdout"
        },
        {
          "output_type": "stream",
          "text": [
            " 35%|███▌      | 3240/9207 [00:50<00:50, 117.32it/s]"
          ],
          "name": "stderr"
        },
        {
          "output_type": "stream",
          "text": [
            " Loss: 2.0695434245594946 lr: [0.001]\n"
          ],
          "name": "stdout"
        },
        {
          "output_type": "stream",
          "text": [
            " 40%|████      | 3699/9207 [00:54<00:46, 118.85it/s]"
          ],
          "name": "stderr"
        },
        {
          "output_type": "stream",
          "text": [
            " Loss: 2.0686035732891095 lr: [0.001]\n"
          ],
          "name": "stdout"
        },
        {
          "output_type": "stream",
          "text": [
            " 45%|████▌     | 4164/9207 [00:58<00:42, 117.41it/s]"
          ],
          "name": "stderr"
        },
        {
          "output_type": "stream",
          "text": [
            " Loss: 2.0671723043041172 lr: [0.001]\n"
          ],
          "name": "stdout"
        },
        {
          "output_type": "stream",
          "text": [
            " 50%|█████     | 4613/9207 [01:02<00:39, 115.11it/s]"
          ],
          "name": "stderr"
        },
        {
          "output_type": "stream",
          "text": [
            " Loss: 2.0680323278396457 lr: [0.001]\n"
          ],
          "name": "stdout"
        },
        {
          "output_type": "stream",
          "text": [
            " 55%|█████▌    | 5074/9207 [01:06<00:34, 118.28it/s]"
          ],
          "name": "stderr"
        },
        {
          "output_type": "stream",
          "text": [
            " Loss: 2.0654482336818245 lr: [0.001]\n"
          ],
          "name": "stdout"
        },
        {
          "output_type": "stream",
          "text": [
            " 60%|██████    | 5545/9207 [01:10<00:30, 119.38it/s]"
          ],
          "name": "stderr"
        },
        {
          "output_type": "stream",
          "text": [
            " Loss: 2.06678834433251 lr: [0.001]\n"
          ],
          "name": "stdout"
        },
        {
          "output_type": "stream",
          "text": [
            " 65%|██████▌   | 5994/9207 [01:13<00:27, 118.20it/s]"
          ],
          "name": "stderr"
        },
        {
          "output_type": "stream",
          "text": [
            " Loss: 2.064393954084043 lr: [0.001]\n"
          ],
          "name": "stdout"
        },
        {
          "output_type": "stream",
          "text": [
            " 70%|███████   | 6454/9207 [01:17<00:23, 118.34it/s]"
          ],
          "name": "stderr"
        },
        {
          "output_type": "stream",
          "text": [
            " Loss: 2.0650527239454566 lr: [0.001]\n"
          ],
          "name": "stdout"
        },
        {
          "output_type": "stream",
          "text": [
            " 75%|███████▌  | 6915/9207 [01:21<00:19, 117.82it/s]"
          ],
          "name": "stderr"
        },
        {
          "output_type": "stream",
          "text": [
            " Loss: 2.0651054556389257 lr: [0.001]\n"
          ],
          "name": "stdout"
        },
        {
          "output_type": "stream",
          "text": [
            " 80%|████████  | 7374/9207 [01:25<00:15, 116.88it/s]"
          ],
          "name": "stderr"
        },
        {
          "output_type": "stream",
          "text": [
            " Loss: 2.0629022479896912 lr: [0.001]\n"
          ],
          "name": "stdout"
        },
        {
          "output_type": "stream",
          "text": [
            " 85%|████████▌ | 7838/9207 [01:29<00:11, 116.60it/s]"
          ],
          "name": "stderr"
        },
        {
          "output_type": "stream",
          "text": [
            " Loss: 2.062580639130441 lr: [0.001]\n"
          ],
          "name": "stdout"
        },
        {
          "output_type": "stream",
          "text": [
            " 90%|█████████ | 8297/9207 [01:33<00:07, 118.49it/s]"
          ],
          "name": "stderr"
        },
        {
          "output_type": "stream",
          "text": [
            " Loss: 2.062972978447565 lr: [0.001]\n"
          ],
          "name": "stdout"
        },
        {
          "output_type": "stream",
          "text": [
            " 95%|█████████▌| 8759/9207 [01:37<00:03, 118.44it/s]"
          ],
          "name": "stderr"
        },
        {
          "output_type": "stream",
          "text": [
            " Loss: 2.061305134132864 lr: [0.001]\n"
          ],
          "name": "stdout"
        },
        {
          "output_type": "stream",
          "text": [
            "100%|██████████| 9207/9207 [01:41<00:00, 90.82it/s] \n"
          ],
          "name": "stderr"
        },
        {
          "output_type": "stream",
          "text": [
            " Loss: 2.060448274650745 lr: [0.001]\n",
            " Loss: 2.060537635966246\n"
          ],
          "name": "stdout"
        },
        {
          "output_type": "stream",
          "text": [
            "\r  0%|          | 0/9207 [00:00<?, ?it/s]"
          ],
          "name": "stderr"
        },
        {
          "output_type": "stream",
          "text": [
            "\n",
            "\n",
            "\n",
            "Iteration: 5\n"
          ],
          "name": "stdout"
        },
        {
          "output_type": "stream",
          "text": [
            "  5%|▌         | 479/9207 [00:27<01:17, 112.59it/s]"
          ],
          "name": "stderr"
        },
        {
          "output_type": "stream",
          "text": [
            " Loss: 2.046570174948853 lr: [0.001]\n"
          ],
          "name": "stdout"
        },
        {
          "output_type": "stream",
          "text": [
            " 10%|█         | 932/9207 [00:31<01:15, 110.11it/s]"
          ],
          "name": "stderr"
        },
        {
          "output_type": "stream",
          "text": [
            " Loss: 2.0581829332990167 lr: [0.001]\n"
          ],
          "name": "stdout"
        },
        {
          "output_type": "stream",
          "text": [
            " 15%|█▌        | 1400/9207 [00:35<01:06, 117.29it/s]"
          ],
          "name": "stderr"
        },
        {
          "output_type": "stream",
          "text": [
            " Loss: 2.058680562706053 lr: [0.001]\n"
          ],
          "name": "stdout"
        },
        {
          "output_type": "stream",
          "text": [
            " 20%|██        | 1854/9207 [00:39<01:02, 118.42it/s]"
          ],
          "name": "stderr"
        },
        {
          "output_type": "stream",
          "text": [
            " Loss: 2.056906822332991 lr: [0.001]\n"
          ],
          "name": "stdout"
        },
        {
          "output_type": "stream",
          "text": [
            " 25%|██▌       | 2319/9207 [00:43<00:58, 116.87it/s]"
          ],
          "name": "stderr"
        },
        {
          "output_type": "stream",
          "text": [
            " Loss: 2.0559841231777347 lr: [0.001]\n"
          ],
          "name": "stdout"
        },
        {
          "output_type": "stream",
          "text": [
            " 30%|███       | 2784/9207 [00:47<00:54, 118.11it/s]"
          ],
          "name": "stderr"
        },
        {
          "output_type": "stream",
          "text": [
            " Loss: 2.0534096279017735 lr: [0.001]\n"
          ],
          "name": "stdout"
        },
        {
          "output_type": "stream",
          "text": [
            " 35%|███▌      | 3236/9207 [00:50<00:50, 117.72it/s]"
          ],
          "name": "stderr"
        },
        {
          "output_type": "stream",
          "text": [
            " Loss: 2.0535220673072643 lr: [0.001]\n"
          ],
          "name": "stdout"
        },
        {
          "output_type": "stream",
          "text": [
            " 40%|████      | 3703/9207 [00:54<00:45, 120.86it/s]"
          ],
          "name": "stderr"
        },
        {
          "output_type": "stream",
          "text": [
            " Loss: 2.0529443755342234 lr: [0.001]\n"
          ],
          "name": "stdout"
        },
        {
          "output_type": "stream",
          "text": [
            " 45%|████▌     | 4165/9207 [00:58<00:42, 119.65it/s]"
          ],
          "name": "stderr"
        },
        {
          "output_type": "stream",
          "text": [
            " Loss: 2.0519154584282018 lr: [0.001]\n"
          ],
          "name": "stdout"
        },
        {
          "output_type": "stream",
          "text": [
            " 50%|█████     | 4613/9207 [01:02<00:38, 118.24it/s]"
          ],
          "name": "stderr"
        },
        {
          "output_type": "stream",
          "text": [
            " Loss: 2.0528649089643105 lr: [0.001]\n"
          ],
          "name": "stdout"
        },
        {
          "output_type": "stream",
          "text": [
            " 55%|█████▌    | 5076/9207 [01:06<00:35, 117.12it/s]"
          ],
          "name": "stderr"
        },
        {
          "output_type": "stream",
          "text": [
            " Loss: 2.0507515271535803 lr: [0.001]\n"
          ],
          "name": "stdout"
        },
        {
          "output_type": "stream",
          "text": [
            " 60%|██████    | 5539/9207 [01:10<00:30, 118.58it/s]"
          ],
          "name": "stderr"
        },
        {
          "output_type": "stream",
          "text": [
            " Loss: 2.0523402185833497 lr: [0.001]\n"
          ],
          "name": "stdout"
        },
        {
          "output_type": "stream",
          "text": [
            " 65%|██████▌   | 6003/9207 [01:14<00:27, 117.84it/s]"
          ],
          "name": "stderr"
        },
        {
          "output_type": "stream",
          "text": [
            " Loss: 2.0499908427445894 lr: [0.001]\n"
          ],
          "name": "stdout"
        },
        {
          "output_type": "stream",
          "text": [
            " 70%|███████   | 6454/9207 [01:18<00:23, 119.09it/s]"
          ],
          "name": "stderr"
        },
        {
          "output_type": "stream",
          "text": [
            " Loss: 2.0510243697424433 lr: [0.001]\n"
          ],
          "name": "stdout"
        },
        {
          "output_type": "stream",
          "text": [
            " 75%|███████▌  | 6918/9207 [01:22<00:19, 119.11it/s]"
          ],
          "name": "stderr"
        },
        {
          "output_type": "stream",
          "text": [
            " Loss: 2.051166812404808 lr: [0.001]\n"
          ],
          "name": "stdout"
        },
        {
          "output_type": "stream",
          "text": [
            " 80%|████████  | 7381/9207 [01:25<00:15, 119.36it/s]"
          ],
          "name": "stderr"
        },
        {
          "output_type": "stream",
          "text": [
            " Loss: 2.0491388600580596 lr: [0.001]\n"
          ],
          "name": "stdout"
        },
        {
          "output_type": "stream",
          "text": [
            " 85%|████████▌ | 7835/9207 [01:29<00:11, 117.09it/s]"
          ],
          "name": "stderr"
        },
        {
          "output_type": "stream",
          "text": [
            " Loss: 2.0491443006384973 lr: [0.001]\n"
          ],
          "name": "stdout"
        },
        {
          "output_type": "stream",
          "text": [
            " 90%|█████████ | 8294/9207 [01:33<00:07, 117.10it/s]"
          ],
          "name": "stderr"
        },
        {
          "output_type": "stream",
          "text": [
            " Loss: 2.049617174649061 lr: [0.001]\n"
          ],
          "name": "stdout"
        },
        {
          "output_type": "stream",
          "text": [
            " 95%|█████████▌| 8764/9207 [01:37<00:03, 115.31it/s]"
          ],
          "name": "stderr"
        },
        {
          "output_type": "stream",
          "text": [
            " Loss: 2.0481423998981874 lr: [0.001]\n"
          ],
          "name": "stdout"
        },
        {
          "output_type": "stream",
          "text": [
            "100%|██████████| 9207/9207 [01:41<00:00, 90.57it/s] \n"
          ],
          "name": "stderr"
        },
        {
          "output_type": "stream",
          "text": [
            " Loss: 2.047514332249649 lr: [0.001]\n",
            " Loss: 2.047598461871682\n"
          ],
          "name": "stdout"
        },
        {
          "output_type": "stream",
          "text": [
            "\r  0%|          | 0/9207 [00:00<?, ?it/s]"
          ],
          "name": "stderr"
        },
        {
          "output_type": "stream",
          "text": [
            "\n",
            "\n",
            "\n",
            "Iteration: 6\n"
          ],
          "name": "stdout"
        },
        {
          "output_type": "stream",
          "text": [
            "  5%|▌         | 478/9207 [00:26<01:13, 119.05it/s]"
          ],
          "name": "stderr"
        },
        {
          "output_type": "stream",
          "text": [
            " Loss: 2.033904371130015 lr: [0.001]\n"
          ],
          "name": "stdout"
        },
        {
          "output_type": "stream",
          "text": [
            " 10%|█         | 941/9207 [00:30<01:09, 118.11it/s]"
          ],
          "name": "stderr"
        },
        {
          "output_type": "stream",
          "text": [
            " Loss: 2.0457274145581774 lr: [0.001]\n"
          ],
          "name": "stdout"
        },
        {
          "output_type": "stream",
          "text": [
            " 15%|█▌        | 1402/9207 [00:34<01:05, 118.52it/s]"
          ],
          "name": "stderr"
        },
        {
          "output_type": "stream",
          "text": [
            " Loss: 2.0464604126754256 lr: [0.001]\n"
          ],
          "name": "stdout"
        },
        {
          "output_type": "stream",
          "text": [
            " 20%|██        | 1862/9207 [00:38<01:02, 116.72it/s]"
          ],
          "name": "stderr"
        },
        {
          "output_type": "stream",
          "text": [
            " Loss: 2.0450782492036526 lr: [0.001]\n"
          ],
          "name": "stdout"
        },
        {
          "output_type": "stream",
          "text": [
            " 25%|██▌       | 2322/9207 [00:42<00:58, 118.37it/s]"
          ],
          "name": "stderr"
        },
        {
          "output_type": "stream",
          "text": [
            " Loss: 2.0444329955109586 lr: [0.001]\n"
          ],
          "name": "stdout"
        },
        {
          "output_type": "stream",
          "text": [
            " 30%|███       | 2776/9207 [00:45<00:55, 116.41it/s]"
          ],
          "name": "stderr"
        },
        {
          "output_type": "stream",
          "text": [
            " Loss: 2.04206678060178 lr: [0.001]\n"
          ],
          "name": "stdout"
        },
        {
          "output_type": "stream",
          "text": [
            " 35%|███▌      | 3237/9207 [00:49<00:50, 118.56it/s]"
          ],
          "name": "stderr"
        },
        {
          "output_type": "stream",
          "text": [
            " Loss: 2.04238269731336 lr: [0.001]\n"
          ],
          "name": "stdout"
        },
        {
          "output_type": "stream",
          "text": [
            " 40%|████      | 3696/9207 [00:53<00:47, 116.48it/s]"
          ],
          "name": "stderr"
        },
        {
          "output_type": "stream",
          "text": [
            " Loss: 2.0420158514290203 lr: [0.001]\n"
          ],
          "name": "stdout"
        },
        {
          "output_type": "stream",
          "text": [
            " 45%|████▌     | 4160/9207 [00:57<00:42, 119.36it/s]"
          ],
          "name": "stderr"
        },
        {
          "output_type": "stream",
          "text": [
            " Loss: 2.0412697221639626 lr: [0.001]\n"
          ],
          "name": "stdout"
        },
        {
          "output_type": "stream",
          "text": [
            " 50%|█████     | 4616/9207 [01:01<00:38, 118.04it/s]"
          ],
          "name": "stderr"
        },
        {
          "output_type": "stream",
          "text": [
            " Loss: 2.042213144233919 lr: [0.001]\n"
          ],
          "name": "stdout"
        },
        {
          "output_type": "stream",
          "text": [
            " 55%|█████▌    | 5081/9207 [01:05<00:34, 120.02it/s]"
          ],
          "name": "stderr"
        },
        {
          "output_type": "stream",
          "text": [
            " Loss: 2.0404192892739244 lr: [0.001]\n"
          ],
          "name": "stdout"
        },
        {
          "output_type": "stream",
          "text": [
            " 60%|██████    | 5533/9207 [01:09<00:31, 117.89it/s]"
          ],
          "name": "stderr"
        },
        {
          "output_type": "stream",
          "text": [
            " Loss: 2.042138251112393 lr: [0.001]\n"
          ],
          "name": "stdout"
        },
        {
          "output_type": "stream",
          "text": [
            " 65%|██████▌   | 6003/9207 [01:13<00:27, 116.76it/s]"
          ],
          "name": "stderr"
        },
        {
          "output_type": "stream",
          "text": [
            " Loss: 2.0397854510341293 lr: [0.001]\n"
          ],
          "name": "stdout"
        },
        {
          "output_type": "stream",
          "text": [
            " 70%|███████   | 6461/9207 [01:17<00:23, 118.33it/s]"
          ],
          "name": "stderr"
        },
        {
          "output_type": "stream",
          "text": [
            " Loss: 2.0410646920888134 lr: [0.001]\n"
          ],
          "name": "stdout"
        },
        {
          "output_type": "stream",
          "text": [
            " 75%|███████▌  | 6920/9207 [01:21<00:19, 116.19it/s]"
          ],
          "name": "stderr"
        },
        {
          "output_type": "stream",
          "text": [
            " Loss: 2.041193179009815 lr: [0.001]\n"
          ],
          "name": "stdout"
        },
        {
          "output_type": "stream",
          "text": [
            " 80%|████████  | 7373/9207 [01:24<00:15, 117.21it/s]"
          ],
          "name": "stderr"
        },
        {
          "output_type": "stream",
          "text": [
            " Loss: 2.0392808237515783 lr: [0.001]\n"
          ],
          "name": "stdout"
        },
        {
          "output_type": "stream",
          "text": [
            " 85%|████████▌ | 7844/9207 [01:28<00:11, 117.73it/s]"
          ],
          "name": "stderr"
        },
        {
          "output_type": "stream",
          "text": [
            " Loss: 2.0394927505488454 lr: [0.001]\n"
          ],
          "name": "stdout"
        },
        {
          "output_type": "stream",
          "text": [
            " 90%|█████████ | 8297/9207 [01:32<00:07, 118.26it/s]"
          ],
          "name": "stderr"
        },
        {
          "output_type": "stream",
          "text": [
            " Loss: 2.039989444686624 lr: [0.001]\n"
          ],
          "name": "stdout"
        },
        {
          "output_type": "stream",
          "text": [
            " 95%|█████████▌| 8754/9207 [01:36<00:03, 119.55it/s]"
          ],
          "name": "stderr"
        },
        {
          "output_type": "stream",
          "text": [
            " Loss: 2.038630886719588 lr: [0.001]\n"
          ],
          "name": "stdout"
        },
        {
          "output_type": "stream",
          "text": [
            "100%|██████████| 9207/9207 [01:40<00:00, 91.59it/s] \n"
          ],
          "name": "stderr"
        },
        {
          "output_type": "stream",
          "text": [
            " Loss: 2.0381627406999567 lr: [0.001]\n",
            " Loss: 2.03824909759986\n"
          ],
          "name": "stdout"
        },
        {
          "output_type": "stream",
          "text": [
            "\r  0%|          | 0/9207 [00:00<?, ?it/s]"
          ],
          "name": "stderr"
        },
        {
          "output_type": "stream",
          "text": [
            "\n",
            "\n",
            "\n",
            "Iteration: 7\n"
          ],
          "name": "stdout"
        },
        {
          "output_type": "stream",
          "text": [
            "  5%|▌         | 474/9207 [00:26<01:13, 118.46it/s]"
          ],
          "name": "stderr"
        },
        {
          "output_type": "stream",
          "text": [
            " Loss: 2.02468788192968 lr: [0.001]\n"
          ],
          "name": "stdout"
        },
        {
          "output_type": "stream",
          "text": [
            " 10%|█         | 937/9207 [00:30<01:09, 119.66it/s]"
          ],
          "name": "stderr"
        },
        {
          "output_type": "stream",
          "text": [
            " Loss: 2.036641632781559 lr: [0.001]\n"
          ],
          "name": "stdout"
        },
        {
          "output_type": "stream",
          "text": [
            " 15%|█▌        | 1395/9207 [00:34<01:06, 117.62it/s]"
          ],
          "name": "stderr"
        },
        {
          "output_type": "stream",
          "text": [
            " Loss: 2.037535886403038 lr: [0.001]\n"
          ],
          "name": "stdout"
        },
        {
          "output_type": "stream",
          "text": [
            " 20%|██        | 1860/9207 [00:38<01:02, 117.32it/s]"
          ],
          "name": "stderr"
        },
        {
          "output_type": "stream",
          "text": [
            " Loss: 2.03640763566617 lr: [0.001]\n"
          ],
          "name": "stdout"
        },
        {
          "output_type": "stream",
          "text": [
            " 25%|██▌       | 2318/9207 [00:42<00:59, 116.55it/s]"
          ],
          "name": "stderr"
        },
        {
          "output_type": "stream",
          "text": [
            " Loss: 2.035930822383474 lr: [0.001]\n"
          ],
          "name": "stdout"
        },
        {
          "output_type": "stream",
          "text": [
            " 30%|███       | 2777/9207 [00:46<00:57, 112.55it/s]"
          ],
          "name": "stderr"
        },
        {
          "output_type": "stream",
          "text": [
            " Loss: 2.033694513446397 lr: [0.001]\n"
          ],
          "name": "stdout"
        },
        {
          "output_type": "stream",
          "text": [
            " 35%|███▌      | 3233/9207 [00:50<00:52, 114.60it/s]"
          ],
          "name": "stderr"
        },
        {
          "output_type": "stream",
          "text": [
            " Loss: 2.0341398346812563 lr: [0.001]\n"
          ],
          "name": "stdout"
        },
        {
          "output_type": "stream",
          "text": [
            " 40%|████      | 3693/9207 [00:54<00:46, 118.77it/s]"
          ],
          "name": "stderr"
        },
        {
          "output_type": "stream",
          "text": [
            " Loss: 2.0339071897614955 lr: [0.001]\n"
          ],
          "name": "stdout"
        },
        {
          "output_type": "stream",
          "text": [
            " 45%|████▌     | 4164/9207 [00:58<00:43, 116.04it/s]"
          ],
          "name": "stderr"
        },
        {
          "output_type": "stream",
          "text": [
            " Loss: 2.0333804386173715 lr: [0.001]\n"
          ],
          "name": "stdout"
        },
        {
          "output_type": "stream",
          "text": [
            " 50%|█████     | 4614/9207 [01:02<00:39, 117.75it/s]"
          ],
          "name": "stderr"
        },
        {
          "output_type": "stream",
          "text": [
            " Loss: 2.0342766520391162 lr: [0.001]\n"
          ],
          "name": "stdout"
        },
        {
          "output_type": "stream",
          "text": [
            " 55%|█████▌    | 5076/9207 [01:06<00:34, 118.77it/s]"
          ],
          "name": "stderr"
        },
        {
          "output_type": "stream",
          "text": [
            " Loss: 2.032718738344585 lr: [0.001]\n"
          ],
          "name": "stdout"
        },
        {
          "output_type": "stream",
          "text": [
            " 60%|██████    | 5535/9207 [01:09<00:31, 117.51it/s]"
          ],
          "name": "stderr"
        },
        {
          "output_type": "stream",
          "text": [
            " Loss: 2.034513347312904 lr: [0.001]\n"
          ],
          "name": "stdout"
        },
        {
          "output_type": "stream",
          "text": [
            " 65%|██████▌   | 5996/9207 [01:13<00:26, 119.13it/s]"
          ],
          "name": "stderr"
        },
        {
          "output_type": "stream",
          "text": [
            " Loss: 2.0321466003243875 lr: [0.001]\n"
          ],
          "name": "stdout"
        },
        {
          "output_type": "stream",
          "text": [
            " 70%|███████   | 6464/9207 [01:17<00:23, 119.19it/s]"
          ],
          "name": "stderr"
        },
        {
          "output_type": "stream",
          "text": [
            " Loss: 2.0335975904813184 lr: [0.001]\n"
          ],
          "name": "stdout"
        },
        {
          "output_type": "stream",
          "text": [
            " 75%|███████▌  | 6917/9207 [01:21<00:19, 118.94it/s]"
          ],
          "name": "stderr"
        },
        {
          "output_type": "stream",
          "text": [
            " Loss: 2.0336688009378605 lr: [0.001]\n"
          ],
          "name": "stdout"
        },
        {
          "output_type": "stream",
          "text": [
            " 80%|████████  | 7373/9207 [01:25<00:15, 118.29it/s]"
          ],
          "name": "stderr"
        },
        {
          "output_type": "stream",
          "text": [
            " Loss: 2.0318430454381544 lr: [0.001]\n"
          ],
          "name": "stdout"
        },
        {
          "output_type": "stream",
          "text": [
            " 85%|████████▌ | 7845/9207 [01:29<00:11, 119.10it/s]"
          ],
          "name": "stderr"
        },
        {
          "output_type": "stream",
          "text": [
            " Loss: 2.0321921761451995 lr: [0.001]\n"
          ],
          "name": "stdout"
        },
        {
          "output_type": "stream",
          "text": [
            " 90%|█████████ | 8294/9207 [01:33<00:07, 117.93it/s]"
          ],
          "name": "stderr"
        },
        {
          "output_type": "stream",
          "text": [
            " Loss: 2.0326908646147563 lr: [0.001]\n"
          ],
          "name": "stdout"
        },
        {
          "output_type": "stream",
          "text": [
            " 95%|█████████▌| 8753/9207 [01:37<00:03, 119.61it/s]"
          ],
          "name": "stderr"
        },
        {
          "output_type": "stream",
          "text": [
            " Loss: 2.031408551159523 lr: [0.001]\n"
          ],
          "name": "stdout"
        },
        {
          "output_type": "stream",
          "text": [
            "100%|██████████| 9207/9207 [01:41<00:00, 91.14it/s] "
          ],
          "name": "stderr"
        },
        {
          "output_type": "stream",
          "text": [
            " Loss: 2.031055130480266 lr: [0.001]\n",
            " Loss: 2.0311498202479146\n"
          ],
          "name": "stdout"
        },
        {
          "output_type": "stream",
          "text": [
            "\n",
            "  0%|          | 0/9207 [00:00<?, ?it/s]"
          ],
          "name": "stderr"
        },
        {
          "output_type": "stream",
          "text": [
            "\n",
            "\n",
            "\n",
            "Iteration: 8\n"
          ],
          "name": "stdout"
        },
        {
          "output_type": "stream",
          "text": [
            "  5%|▌         | 482/9207 [00:26<01:18, 111.61it/s]"
          ],
          "name": "stderr"
        },
        {
          "output_type": "stream",
          "text": [
            " Loss: 2.017652774847382 lr: [0.001]\n"
          ],
          "name": "stdout"
        },
        {
          "output_type": "stream",
          "text": [
            " 10%|█         | 934/9207 [00:30<01:09, 119.63it/s]"
          ],
          "name": "stderr"
        },
        {
          "output_type": "stream",
          "text": [
            " Loss: 2.029693517745022 lr: [0.001]\n"
          ],
          "name": "stdout"
        },
        {
          "output_type": "stream",
          "text": [
            " 15%|█▌        | 1396/9207 [00:34<01:05, 119.23it/s]"
          ],
          "name": "stderr"
        },
        {
          "output_type": "stream",
          "text": [
            " Loss: 2.0307095982811934 lr: [0.001]\n"
          ],
          "name": "stdout"
        },
        {
          "output_type": "stream",
          "text": [
            " 20%|██        | 1861/9207 [00:38<01:02, 118.26it/s]"
          ],
          "name": "stderr"
        },
        {
          "output_type": "stream",
          "text": [
            " Loss: 2.0297480904538205 lr: [0.001]\n"
          ],
          "name": "stdout"
        },
        {
          "output_type": "stream",
          "text": [
            " 25%|██▌       | 2324/9207 [00:42<00:58, 118.07it/s]"
          ],
          "name": "stderr"
        },
        {
          "output_type": "stream",
          "text": [
            " Loss: 2.0293884050107907 lr: [0.001]\n"
          ],
          "name": "stdout"
        },
        {
          "output_type": "stream",
          "text": [
            " 30%|███       | 2783/9207 [00:46<00:53, 119.19it/s]"
          ],
          "name": "stderr"
        },
        {
          "output_type": "stream",
          "text": [
            " Loss: 2.027242006108036 lr: [0.001]\n"
          ],
          "name": "stdout"
        },
        {
          "output_type": "stream",
          "text": [
            " 35%|███▌      | 3233/9207 [00:49<00:50, 117.87it/s]"
          ],
          "name": "stderr"
        },
        {
          "output_type": "stream",
          "text": [
            " Loss: 2.0277730657933666 lr: [0.001]\n"
          ],
          "name": "stdout"
        },
        {
          "output_type": "stream",
          "text": [
            " 40%|████      | 3692/9207 [00:53<00:45, 120.00it/s]"
          ],
          "name": "stderr"
        },
        {
          "output_type": "stream",
          "text": [
            " Loss: 2.0276359254055483 lr: [0.001]\n"
          ],
          "name": "stdout"
        },
        {
          "output_type": "stream",
          "text": [
            " 45%|████▌     | 4164/9207 [00:57<00:42, 119.05it/s]"
          ],
          "name": "stderr"
        },
        {
          "output_type": "stream",
          "text": [
            " Loss: 2.0272805731035626 lr: [0.001]\n"
          ],
          "name": "stdout"
        },
        {
          "output_type": "stream",
          "text": [
            " 50%|█████     | 4623/9207 [01:01<00:38, 119.41it/s]"
          ],
          "name": "stderr"
        },
        {
          "output_type": "stream",
          "text": [
            " Loss: 2.0281191478793383 lr: [0.001]\n"
          ],
          "name": "stdout"
        },
        {
          "output_type": "stream",
          "text": [
            " 55%|█████▌    | 5080/9207 [01:05<00:34, 119.31it/s]"
          ],
          "name": "stderr"
        },
        {
          "output_type": "stream",
          "text": [
            " Loss: 2.0267408732061765 lr: [0.001]\n"
          ],
          "name": "stdout"
        },
        {
          "output_type": "stream",
          "text": [
            " 60%|██████    | 5535/9207 [01:09<00:31, 117.36it/s]"
          ],
          "name": "stderr"
        },
        {
          "output_type": "stream",
          "text": [
            " Loss: 2.0285833872229473 lr: [0.001]\n"
          ],
          "name": "stdout"
        },
        {
          "output_type": "stream",
          "text": [
            " 65%|██████▌   | 5995/9207 [01:13<00:26, 119.31it/s]"
          ],
          "name": "stderr"
        },
        {
          "output_type": "stream",
          "text": [
            " Loss: 2.026199973243372 lr: [0.001]\n"
          ],
          "name": "stdout"
        },
        {
          "output_type": "stream",
          "text": [
            " 70%|███████   | 6460/9207 [01:16<00:23, 119.03it/s]"
          ],
          "name": "stderr"
        },
        {
          "output_type": "stream",
          "text": [
            " Loss: 2.027777306400829 lr: [0.001]\n"
          ],
          "name": "stdout"
        },
        {
          "output_type": "stream",
          "text": [
            " 75%|███████▌  | 6919/9207 [01:20<00:19, 118.78it/s]"
          ],
          "name": "stderr"
        },
        {
          "output_type": "stream",
          "text": [
            " Loss: 2.027778165444805 lr: [0.001]\n"
          ],
          "name": "stdout"
        },
        {
          "output_type": "stream",
          "text": [
            " 80%|████████  | 7373/9207 [01:24<00:15, 120.45it/s]"
          ],
          "name": "stderr"
        },
        {
          "output_type": "stream",
          "text": [
            " Loss: 2.0260201808587843 lr: [0.001]\n"
          ],
          "name": "stdout"
        },
        {
          "output_type": "stream",
          "text": [
            " 85%|████████▌ | 7838/9207 [01:28<00:11, 119.71it/s]"
          ],
          "name": "stderr"
        },
        {
          "output_type": "stream",
          "text": [
            " Loss: 2.026461933616607 lr: [0.001]\n"
          ],
          "name": "stdout"
        },
        {
          "output_type": "stream",
          "text": [
            " 90%|█████████ | 8293/9207 [01:32<00:07, 117.07it/s]"
          ],
          "name": "stderr"
        },
        {
          "output_type": "stream",
          "text": [
            " Loss: 2.0269539558932395 lr: [0.001]\n"
          ],
          "name": "stdout"
        },
        {
          "output_type": "stream",
          "text": [
            " 95%|█████████▌| 8763/9207 [01:36<00:03, 118.86it/s]"
          ],
          "name": "stderr"
        },
        {
          "output_type": "stream",
          "text": [
            " Loss: 2.025725549862012 lr: [0.001]\n"
          ],
          "name": "stdout"
        },
        {
          "output_type": "stream",
          "text": [
            "100%|██████████| 9207/9207 [01:40<00:00, 91.92it/s] "
          ],
          "name": "stderr"
        },
        {
          "output_type": "stream",
          "text": [
            " Loss: 2.0254539036804005 lr: [0.001]\n",
            " Loss: 2.0255591418062124\n"
          ],
          "name": "stdout"
        },
        {
          "output_type": "stream",
          "text": [
            "\n"
          ],
          "name": "stderr"
        }
      ]
    },
    {
      "cell_type": "code",
      "metadata": {
        "id": "_CO_bnn_8zWH",
        "colab_type": "code",
        "colab": {
          "base_uri": "https://localhost:8080/",
          "height": 34
        },
        "outputId": "8eadd0e8-6d2b-4253-b77c-0e37578a332f"
      },
      "source": [
        "!ls 'gdrive/My Drive/Projects with Wei/Wei_tmp_outputs/'"
      ],
      "execution_count": 30,
      "outputs": [
        {
          "output_type": "stream",
          "text": [
            "torch_model  w2v_output  word2vec\n"
          ],
          "name": "stdout"
        }
      ]
    },
    {
      "cell_type": "code",
      "metadata": {
        "id": "mqHXsVet63pL",
        "colab_type": "code",
        "colab": {}
      },
      "source": [
        "torch.save(model.skip_gram_model.state_dict(), 'gdrive/My Drive/Projects with Wei/Wei_tmp_outputs/torch_model/model.pkl')"
      ],
      "execution_count": 31,
      "outputs": []
    },
    {
      "cell_type": "code",
      "metadata": {
        "colab_type": "code",
        "id": "M0Rfuy9vxpRP",
        "colab": {}
      },
      "source": [
        "# code profiling\n",
        "# %lprun -f Word2VecTrainer.train -f Word2vecDataset.__getitem__ -f Word2vecDataset.collate -f train train(input_file=\"text8_10line\",epochs=1)"
      ],
      "execution_count": 32,
      "outputs": []
    },
    {
      "cell_type": "code",
      "metadata": {
        "colab_type": "code",
        "id": "VI4sbXBdLA37",
        "colab": {}
      },
      "source": [
        "def normalize(v):\n",
        "  return v / np.sqrt((v ** 2).sum())"
      ],
      "execution_count": 33,
      "outputs": []
    },
    {
      "cell_type": "code",
      "metadata": {
        "colab_type": "code",
        "id": "M0uatMcKIWg9",
        "colab": {
          "base_uri": "https://localhost:8080/",
          "height": 34
        },
        "outputId": "4f251658-2702-4904-ccf3-0c7ad871d808"
      },
      "source": [
        "record = []\n",
        "with open('gdrive/My Drive/Projects with Wei/Wei_tmp_outputs/w2v_output/out.vec','r') as f:\n",
        "  for l in f.readlines()[1:]:\n",
        "    l = l.split()\n",
        "    record.append({'word':l[0],'v': np.array(l[1:]).astype(float)\n",
        "        })\n",
        "!ls 'gdrive/My Drive/Projects with Wei/Wei_tmp_outputs/w2v_output/out.vec' -l"
      ],
      "execution_count": 34,
      "outputs": [
        {
          "output_type": "stream",
          "text": [
            "-rw------- 1 root root 80821765 Jul  5 20:36 'gdrive/My Drive/Projects with Wei/Wei_tmp_outputs/w2v_output/out.vec'\n"
          ],
          "name": "stdout"
        }
      ]
    },
    {
      "cell_type": "code",
      "metadata": {
        "colab_type": "code",
        "id": "_acaqyCTH-Ph",
        "colab": {}
      },
      "source": [
        "df_wv = pd.DataFrame(record)"
      ],
      "execution_count": 35,
      "outputs": []
    },
    {
      "cell_type": "code",
      "metadata": {
        "colab_type": "code",
        "id": "Iz3RnI_YO2gd",
        "colab": {
          "base_uri": "https://localhost:8080/",
          "height": 34
        },
        "outputId": "655e2946-e466-47ec-eb03-dc20a143acd0"
      },
      "source": [
        "df_wv.shape"
      ],
      "execution_count": 36,
      "outputs": [
        {
          "output_type": "execute_result",
          "data": {
            "text/plain": [
              "(71290, 2)"
            ]
          },
          "metadata": {
            "tags": []
          },
          "execution_count": 36
        }
      ]
    },
    {
      "cell_type": "code",
      "metadata": {
        "colab_type": "code",
        "id": "NfR-Lhr2KmSJ",
        "colab": {}
      },
      "source": [
        "def query(df_wv, word):\n",
        "  return df_wv.query('word == @word')['v'].iat[0]"
      ],
      "execution_count": 37,
      "outputs": []
    },
    {
      "cell_type": "code",
      "metadata": {
        "colab_type": "code",
        "id": "zAnfXeYEZzyk",
        "colab": {}
      },
      "source": [
        "def norm(v, axis=1):\n",
        "  if v.ndim == 1:\n",
        "    axis = 0\n",
        "  return np.sqrt((v ** 2).sum(axis=axis))"
      ],
      "execution_count": 38,
      "outputs": []
    },
    {
      "cell_type": "code",
      "metadata": {
        "colab_type": "code",
        "id": "nwHMPuwRJonu",
        "colab": {}
      },
      "source": [
        "nn = query(df_wv, 'king') - query(df_wv, 'man') + query(df_wv, 'woman')\n",
        "#nn = query(df_wv, 'actor') - query(df_wv, 'man') + query(df_wv, 'woman')\n",
        "#nn = query(df_wv, 'he') - query(df_wv, 'man') + query(df_wv, 'woman')\n",
        "#nn = query(df_wv, 'beijing') - query(df_wv, 'china') + query(df_wv, 'france')\n",
        "#nn = query(df_wv, 'tokyo') - query(df_wv, 'japan') + query(df_wv, 'china')\n",
        "#nn = query(df_wv, 'berlin') - query(df_wv, 'germany') + query(df_wv, 'france')\n",
        "#nn = query(df_wv, 'chemistry') + query(df_wv, 'biology')\n",
        "#nn = query(df_wv, 'machine') + query(df_wv, 'learning')"
      ],
      "execution_count": 75,
      "outputs": []
    },
    {
      "cell_type": "code",
      "metadata": {
        "colab_type": "code",
        "id": "tM3e1FpbZP47",
        "colab": {}
      },
      "source": [
        "idx = np.argsort(-np.array(df_wv['v'].tolist()).dot(nn) / norm(np.array(df_wv['v'].tolist())) / norm(nn))[:10]"
      ],
      "execution_count": 73,
      "outputs": []
    },
    {
      "cell_type": "code",
      "metadata": {
        "colab_type": "code",
        "id": "GzUAIRe4J6Ac",
        "colab": {
          "base_uri": "https://localhost:8080/",
          "height": 359
        },
        "outputId": "633a303f-82dd-4232-b93f-7c2a1acee959"
      },
      "source": [
        "df_wv.iloc[idx]"
      ],
      "execution_count": 74,
      "outputs": [
        {
          "output_type": "execute_result",
          "data": {
            "text/html": [
              "<div>\n",
              "<style scoped>\n",
              "    .dataframe tbody tr th:only-of-type {\n",
              "        vertical-align: middle;\n",
              "    }\n",
              "\n",
              "    .dataframe tbody tr th {\n",
              "        vertical-align: top;\n",
              "    }\n",
              "\n",
              "    .dataframe thead th {\n",
              "        text-align: right;\n",
              "    }\n",
              "</style>\n",
              "<table border=\"1\" class=\"dataframe\">\n",
              "  <thead>\n",
              "    <tr style=\"text-align: right;\">\n",
              "      <th></th>\n",
              "      <th>word</th>\n",
              "      <th>v</th>\n",
              "    </tr>\n",
              "  </thead>\n",
              "  <tbody>\n",
              "    <tr>\n",
              "      <th>1195</th>\n",
              "      <td>she</td>\n",
              "      <td>[0.14276955, -0.36233672, 0.17588258, 0.176270...</td>\n",
              "    </tr>\n",
              "    <tr>\n",
              "      <th>254</th>\n",
              "      <td>he</td>\n",
              "      <td>[0.043717597, -0.28282696, 0.060772948, 0.1944...</td>\n",
              "    </tr>\n",
              "    <tr>\n",
              "      <th>6932</th>\n",
              "      <td>herself</td>\n",
              "      <td>[0.39348245, -0.18656005, 0.093288705, -0.0830...</td>\n",
              "    </tr>\n",
              "    <tr>\n",
              "      <th>4021</th>\n",
              "      <td>woman</td>\n",
              "      <td>[0.4429768, -0.33505246, 0.11567422, -0.176199...</td>\n",
              "    </tr>\n",
              "    <tr>\n",
              "      <th>510</th>\n",
              "      <td>her</td>\n",
              "      <td>[0.03963077, -0.40343684, 0.1504791, 0.0586425...</td>\n",
              "    </tr>\n",
              "    <tr>\n",
              "      <th>53898</th>\n",
              "      <td>arnaz</td>\n",
              "      <td>[-0.14171396, -0.74863595, 0.3173307, -0.65848...</td>\n",
              "    </tr>\n",
              "    <tr>\n",
              "      <th>37690</th>\n",
              "      <td>widower</td>\n",
              "      <td>[0.47510436, -0.6151284, 0.7829698, -0.2658615...</td>\n",
              "    </tr>\n",
              "    <tr>\n",
              "      <th>25025</th>\n",
              "      <td>priscilla</td>\n",
              "      <td>[0.28620446, -0.5095093, 0.22013035, -0.649383...</td>\n",
              "    </tr>\n",
              "    <tr>\n",
              "      <th>41443</th>\n",
              "      <td>flockhart</td>\n",
              "      <td>[0.38381872, -0.27480015, 0.35799453, -0.30661...</td>\n",
              "    </tr>\n",
              "    <tr>\n",
              "      <th>11743</th>\n",
              "      <td>pregnant</td>\n",
              "      <td>[0.47805545, -0.2538073, 0.12515059, -0.428539...</td>\n",
              "    </tr>\n",
              "  </tbody>\n",
              "</table>\n",
              "</div>"
            ],
            "text/plain": [
              "            word                                                  v\n",
              "1195         she  [0.14276955, -0.36233672, 0.17588258, 0.176270...\n",
              "254           he  [0.043717597, -0.28282696, 0.060772948, 0.1944...\n",
              "6932     herself  [0.39348245, -0.18656005, 0.093288705, -0.0830...\n",
              "4021       woman  [0.4429768, -0.33505246, 0.11567422, -0.176199...\n",
              "510          her  [0.03963077, -0.40343684, 0.1504791, 0.0586425...\n",
              "53898      arnaz  [-0.14171396, -0.74863595, 0.3173307, -0.65848...\n",
              "37690    widower  [0.47510436, -0.6151284, 0.7829698, -0.2658615...\n",
              "25025  priscilla  [0.28620446, -0.5095093, 0.22013035, -0.649383...\n",
              "41443  flockhart  [0.38381872, -0.27480015, 0.35799453, -0.30661...\n",
              "11743   pregnant  [0.47805545, -0.2538073, 0.12515059, -0.428539..."
            ]
          },
          "metadata": {
            "tags": []
          },
          "execution_count": 74
        }
      ]
    },
    {
      "cell_type": "code",
      "metadata": {
        "colab_type": "code",
        "id": "JfC0AScBIdK3",
        "colab": {}
      },
      "source": [
        "kdt = KDTree(np.array(df_wv['v'].tolist()), leaf_size=30, metric='euclidean')"
      ],
      "execution_count": 23,
      "outputs": []
    },
    {
      "cell_type": "code",
      "metadata": {
        "colab_type": "code",
        "id": "jL6f-XR3JzhT",
        "colab": {}
      },
      "source": [
        "idx_kdt = kdt.query([nn], k=10, return_distance=False)"
      ],
      "execution_count": 24,
      "outputs": []
    },
    {
      "cell_type": "code",
      "metadata": {
        "colab_type": "code",
        "id": "zR-WAkHZLls5",
        "colab": {
          "base_uri": "https://localhost:8080/",
          "height": 359
        },
        "outputId": "5c89cb5a-b3bb-43ad-9695-ef8ecfe0d953"
      },
      "source": [
        "df_wv.iloc[idx_kdt[0]]"
      ],
      "execution_count": 25,
      "outputs": [
        {
          "output_type": "execute_result",
          "data": {
            "text/html": [
              "<div>\n",
              "<style scoped>\n",
              "    .dataframe tbody tr th:only-of-type {\n",
              "        vertical-align: middle;\n",
              "    }\n",
              "\n",
              "    .dataframe tbody tr th {\n",
              "        vertical-align: top;\n",
              "    }\n",
              "\n",
              "    .dataframe thead th {\n",
              "        text-align: right;\n",
              "    }\n",
              "</style>\n",
              "<table border=\"1\" class=\"dataframe\">\n",
              "  <thead>\n",
              "    <tr style=\"text-align: right;\">\n",
              "      <th></th>\n",
              "      <th>word</th>\n",
              "      <th>v</th>\n",
              "    </tr>\n",
              "  </thead>\n",
              "  <tbody>\n",
              "    <tr>\n",
              "      <th>59</th>\n",
              "      <td>king</td>\n",
              "      <td>[0.07621844, -0.030462567, 0.052818373, -0.227...</td>\n",
              "    </tr>\n",
              "    <tr>\n",
              "      <th>5281</th>\n",
              "      <td>queen</td>\n",
              "      <td>[-0.083775334, 0.12371362, 0.3290804, -0.23306...</td>\n",
              "    </tr>\n",
              "    <tr>\n",
              "      <th>5815</th>\n",
              "      <td>prince</td>\n",
              "      <td>[-0.09346968, 0.01732261, 0.1418458, 0.0556892...</td>\n",
              "    </tr>\n",
              "    <tr>\n",
              "      <th>2835</th>\n",
              "      <td>son</td>\n",
              "      <td>[-0.36710384, 0.39646307, 0.31738928, -0.43891...</td>\n",
              "    </tr>\n",
              "    <tr>\n",
              "      <th>50261</th>\n",
              "      <td>yorkist</td>\n",
              "      <td>[-0.07828807, -0.30119932, -0.07139033, -0.081...</td>\n",
              "    </tr>\n",
              "    <tr>\n",
              "      <th>31857</th>\n",
              "      <td>matilda</td>\n",
              "      <td>[-0.34858713, 0.6279929, 0.14104712, -0.153040...</td>\n",
              "    </tr>\n",
              "    <tr>\n",
              "      <th>64455</th>\n",
              "      <td>shaddam</td>\n",
              "      <td>[-0.0016634113, -0.079458416, 0.05712258, 0.01...</td>\n",
              "    </tr>\n",
              "    <tr>\n",
              "      <th>39037</th>\n",
              "      <td>jeroboam</td>\n",
              "      <td>[0.025178049, 0.07818709, -0.19191998, -0.3503...</td>\n",
              "    </tr>\n",
              "    <tr>\n",
              "      <th>9870</th>\n",
              "      <td>elizabeth</td>\n",
              "      <td>[0.026043132, 0.052848615, 0.059751086, -0.031...</td>\n",
              "    </tr>\n",
              "    <tr>\n",
              "      <th>5833</th>\n",
              "      <td>throne</td>\n",
              "      <td>[0.38355565, 0.690473, 0.13595429, -0.325017, ...</td>\n",
              "    </tr>\n",
              "  </tbody>\n",
              "</table>\n",
              "</div>"
            ],
            "text/plain": [
              "            word                                                  v\n",
              "59          king  [0.07621844, -0.030462567, 0.052818373, -0.227...\n",
              "5281       queen  [-0.083775334, 0.12371362, 0.3290804, -0.23306...\n",
              "5815      prince  [-0.09346968, 0.01732261, 0.1418458, 0.0556892...\n",
              "2835         son  [-0.36710384, 0.39646307, 0.31738928, -0.43891...\n",
              "50261    yorkist  [-0.07828807, -0.30119932, -0.07139033, -0.081...\n",
              "31857    matilda  [-0.34858713, 0.6279929, 0.14104712, -0.153040...\n",
              "64455    shaddam  [-0.0016634113, -0.079458416, 0.05712258, 0.01...\n",
              "39037   jeroboam  [0.025178049, 0.07818709, -0.19191998, -0.3503...\n",
              "9870   elizabeth  [0.026043132, 0.052848615, 0.059751086, -0.031...\n",
              "5833      throne  [0.38355565, 0.690473, 0.13595429, -0.325017, ..."
            ]
          },
          "metadata": {
            "tags": []
          },
          "execution_count": 25
        }
      ]
    },
    {
      "cell_type": "code",
      "metadata": {
        "id": "-04RAevjG-OJ",
        "colab_type": "code",
        "colab": {}
      },
      "source": [
        ""
      ],
      "execution_count": 25,
      "outputs": []
    }
  ]
}