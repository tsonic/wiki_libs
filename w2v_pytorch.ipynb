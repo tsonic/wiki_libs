{
  "nbformat": 4,
  "nbformat_minor": 0,
  "metadata": {
    "accelerator": "GPU",
    "colab": {
      "name": "w2v_pytorch.ipynb",
      "provenance": [],
      "collapsed_sections": [],
      "machine_shape": "hm",
      "include_colab_link": true
    },
    "kernelspec": {
      "display_name": "Python 3",
      "language": "python",
      "name": "python3"
    },
    "language_info": {
      "codemirror_mode": {
        "name": "ipython",
        "version": 3
      },
      "file_extension": ".py",
      "mimetype": "text/x-python",
      "name": "python",
      "nbconvert_exporter": "python",
      "pygments_lexer": "ipython3",
      "version": "3.7.6"
    }
  },
  "cells": [
    {
      "cell_type": "markdown",
      "metadata": {
        "id": "view-in-github",
        "colab_type": "text"
      },
      "source": [
        "<a href=\"https://colab.research.google.com/github/tsonic/wiki_libs/blob/master/w2v_pytorch.ipynb\" target=\"_parent\"><img src=\"https://colab.research.google.com/assets/colab-badge.svg\" alt=\"Open In Colab\"/></a>"
      ]
    },
    {
      "cell_type": "code",
      "metadata": {
        "colab_type": "code",
        "id": "qtGOBgkoLR4k",
        "colab": {
          "base_uri": "https://localhost:8080/",
          "height": 34
        },
        "outputId": "fdf18274-d7a3-4ae3-dc41-dba8d8385b83"
      },
      "source": [
        "from google.colab import drive\n",
        "drive.flush_and_unmount()\n",
        "drive.mount('/content/gdrive',force_remount=True)\n"
      ],
      "execution_count": null,
      "outputs": [
        {
          "output_type": "stream",
          "text": [
            "Mounted at /content/gdrive\n"
          ],
          "name": "stdout"
        }
      ]
    },
    {
      "cell_type": "code",
      "metadata": {
        "colab_type": "code",
        "id": "zXZy7TkRhJfi",
        "colab": {}
      },
      "source": [
        "# !cp -rf 'gdrive/My Drive/Projects with Wei/Wei_tmp_outputs/word2vec' ./\n",
        "# !ls 'gdrive/My Drive/Projects with Wei/Wei_tmp_outputs/word2vec' -l"
      ],
      "execution_count": null,
      "outputs": []
    },
    {
      "cell_type": "code",
      "metadata": {
        "colab_type": "code",
        "id": "0A7KpAYtFBis",
        "colab": {
          "base_uri": "https://localhost:8080/",
          "height": 136
        },
        "outputId": "a115bf4e-3899-4609-b055-21aa9bab1756"
      },
      "source": [
        "!rm -rf word2vec/\n",
        "!git clone https://github.com/tsonic/word2vec-pytorch.git ./word2vec > /dev/null\n",
        "!cp -r ./word2vec/* ./\n",
        "!rm -rf ./word2vec/word2vec/*"
      ],
      "execution_count": null,
      "outputs": [
        {
          "output_type": "stream",
          "text": [
            "Cloning into './word2vec'...\n",
            "remote: Enumerating objects: 188, done.\u001b[K\n",
            "remote: Counting objects: 100% (188/188), done.\u001b[K\n",
            "remote: Compressing objects: 100% (119/119), done.\u001b[K\n",
            "remote: Total 216 (delta 136), reused 121 (delta 69), pack-reused 28\u001b[K\n",
            "Receiving objects: 100% (216/216), 30.46 KiB | 194.00 KiB/s, done.\n",
            "Resolving deltas: 100% (144/144), done.\n"
          ],
          "name": "stdout"
        }
      ]
    },
    {
      "cell_type": "code",
      "metadata": {
        "colab_type": "code",
        "id": "Z1Ie2ygrHWPO",
        "colab": {
          "base_uri": "https://localhost:8080/",
          "height": 136
        },
        "outputId": "e6e848e5-c694-4a2a-8c22-36c289ad0797"
      },
      "source": [
        "!wget -c http://mattmahoney.net/dc/text8.zip\n",
        "!unzip -o text8.zip\n",
        "!xargs -n10000 <text8 >text8_line_break\n",
        "!head -n 10 text8_line_break > text8_10line"
      ],
      "execution_count": null,
      "outputs": [
        {
          "output_type": "stream",
          "text": [
            "--2020-07-05 00:53:12--  http://mattmahoney.net/dc/text8.zip\n",
            "Resolving mattmahoney.net (mattmahoney.net)... 67.195.197.24\n",
            "Connecting to mattmahoney.net (mattmahoney.net)|67.195.197.24|:80... connected.\n",
            "HTTP request sent, awaiting response... 416 Requested Range Not Satisfiable\n",
            "\n",
            "    The file is already fully retrieved; nothing to do.\n",
            "\n"
          ],
          "name": "stdout"
        }
      ]
    },
    {
      "cell_type": "code",
      "metadata": {
        "colab_type": "code",
        "id": "-nhzCiShs0_h",
        "colab": {}
      },
      "source": [
        "!pip install ipdb > /dev/null\n",
        "!pip install line_profiler > /dev/null"
      ],
      "execution_count": null,
      "outputs": []
    },
    {
      "cell_type": "code",
      "metadata": {
        "colab_type": "code",
        "id": "tubbDk3gIneZ",
        "colab": {
          "base_uri": "https://localhost:8080/",
          "height": 34
        },
        "outputId": "efc6a038-3106-429f-90ee-e6bf6ce57f61"
      },
      "source": [
        "import pandas as pd\n",
        "from sklearn.neighbors import KDTree\n",
        "import numpy as np\n",
        "from sklearn import preprocessing\n",
        "from word2vec.trainer import  Word2VecTrainer\n",
        "from word2vec.data_reader import Word2vecDataset\n",
        "from torch.utils.data import Dataset\n",
        "import word2vec\n",
        "import importlib\n",
        "import torch\n",
        "import numpy as np\n",
        "import pandas as pd\n",
        "import ipdb\n",
        "importlib.reload(word2vec.trainer)"
      ],
      "execution_count": null,
      "outputs": [
        {
          "output_type": "execute_result",
          "data": {
            "text/plain": [
              "<module 'word2vec.trainer' from '/content/word2vec/trainer.py'>"
            ]
          },
          "metadata": {
            "tags": []
          },
          "execution_count": 4
        }
      ]
    },
    {
      "cell_type": "code",
      "metadata": {
        "colab_type": "code",
        "id": "VLsG8GxByjaJ",
        "colab": {}
      },
      "source": [
        "%load_ext line_profiler"
      ],
      "execution_count": null,
      "outputs": []
    },
    {
      "cell_type": "code",
      "metadata": {
        "colab_type": "code",
        "id": "LwD33AezH4Yh",
        "colab": {}
      },
      "source": [
        "def train(input_file=\"text8_line_break\", epochs = 10, collate_fn='custom',num_workers=0):\n",
        "  #ipdb.set_trace()\n",
        "  w2v = Word2VecTrainer(input_file=input_file, \n",
        "                        output_file=\"gdrive/My Drive/Projects with Wei/Wei_tmp_outputs/w2v_output/out.vec\",\n",
        "                        min_count=5,\n",
        "                        batch_size=8096,\n",
        "                        iterations=epochs,\n",
        "                        num_workers=num_workers,\n",
        "                        collate_fn=collate_fn,\n",
        "                        iprint=500,\n",
        "                        t=1e-3,\n",
        "                        ns_exponent=0.75,\n",
        "                        window_size=3,\n",
        "                        initial_lr=0.001,\n",
        "                        optimizer='adam',\n",
        " #                       optimizer_kwargs={'momentum':0.9},\n",
        " #                       warm_start_model = 'gdrive/My Drive/Projects with Wei/Wei_tmp_outputs/torch_model/model.pkl',\n",
        "                        )\n",
        "  w2v.train()\n",
        "  return w2v"
      ],
      "execution_count": null,
      "outputs": []
    },
    {
      "cell_type": "code",
      "metadata": {
        "colab_type": "code",
        "id": "C_ipMwJaWPli",
        "colab": {}
      },
      "source": [
        "#%pdb"
      ],
      "execution_count": null,
      "outputs": []
    },
    {
      "cell_type": "code",
      "metadata": {
        "id": "R-PsWH73EDX5",
        "colab_type": "code",
        "colab": {}
      },
      "source": [
        "pd.set_option('mode.chained_assignment','raise')"
      ],
      "execution_count": null,
      "outputs": []
    },
    {
      "cell_type": "code",
      "metadata": {
        "colab_type": "code",
        "id": "Xb6W-vJyAWw2",
        "colab": {
          "base_uri": "https://localhost:8080/",
          "height": 1000
        },
        "outputId": "e73a49a1-77a7-4ad6-c21e-e1bb6509ad5e"
      },
      "source": [
        "#train(input_file=\"text8_10line\",epochs=1, collate_fn=None)\n",
        "model = train(epochs=10,num_workers=3)"
      ],
      "execution_count": null,
      "outputs": [
        {
          "output_type": "stream",
          "text": [
            "Read 1M words.\n",
            "Read 2M words.\n",
            "Read 3M words.\n",
            "Read 4M words.\n",
            "Read 5M words.\n",
            "Read 6M words.\n",
            "Read 7M words.\n",
            "Read 8M words.\n",
            "Read 9M words.\n",
            "Read 10M words.\n",
            "Read 11M words.\n",
            "Read 12M words.\n",
            "Read 13M words.\n",
            "Read 14M words.\n",
            "Read 15M words.\n",
            "Read 16M words.\n",
            "Read 17M words.\n",
            "Total embeddings: 71290\n",
            "Initializing negative samples\n",
            "monitor multi-worker\n",
            "Creating words list...\n",
            "Creating training dataframe...\n",
            "keep ratio is 0.749617\n",
            "sample of discard words are :['the', 'a', 'is', 'one', 'three']\n",
            "keep ratio is 0.749527\n",
            "sample of discard words are :['and', 'the', 'is', 'for', 'are']\n",
            "keep ratio is 0.749682\n",
            "sample of discard words are :['on', 'to', 'one', 'and', 'in']\n",
            "keep ratio is 0.749541\n",
            "sample of discard words are :['seven', 'is', 'the', 'one', 'was']\n",
            "keep ratio is 0.749609\n",
            "sample of discard words are :['nine', 'the', 'on', 'two', 'three']\n",
            "keep ratio is 0.749549\n",
            "sample of discard words are :['for', 'is', 'of', 'of', 'and']\n",
            "Shuffling samples...\n",
            "Creating negative samples...\n",
            "Dataload initializing finished!\n"
          ],
          "name": "stdout"
        },
        {
          "output_type": "stream",
          "text": [
            "\r  0%|          | 0/9207 [00:00<?, ?it/s]"
          ],
          "name": "stderr"
        },
        {
          "output_type": "stream",
          "text": [
            "\n",
            "\n",
            "\n",
            "Iteration: 1\n"
          ],
          "name": "stdout"
        },
        {
          "output_type": "stream",
          "text": [
            "  5%|▌         | 478/9207 [00:24<01:12, 121.01it/s]"
          ],
          "name": "stderr"
        },
        {
          "output_type": "stream",
          "text": [
            " Loss: 2.5774007153820584 lr: [0.000993826810226399]\n"
          ],
          "name": "stdout"
        },
        {
          "output_type": "stream",
          "text": [
            " 10%|█         | 940/9207 [00:28<01:08, 120.39it/s]"
          ],
          "name": "stderr"
        },
        {
          "output_type": "stream",
          "text": [
            " Loss: 2.437387808778402 lr: [0.0009755124393394469]\n"
          ],
          "name": "stdout"
        },
        {
          "output_type": "stream",
          "text": [
            " 15%|█▌        | 1395/9207 [00:31<01:04, 121.12it/s]"
          ],
          "name": "stderr"
        },
        {
          "output_type": "stream",
          "text": [
            " Loss: 2.394793324382927 lr: [0.0009455071347707878]\n"
          ],
          "name": "stdout"
        },
        {
          "output_type": "stream",
          "text": [
            " 20%|██        | 1860/9207 [00:35<01:00, 120.90it/s]"
          ],
          "name": "stderr"
        },
        {
          "output_type": "stream",
          "text": [
            " Loss: 2.3653786742328866 lr: [0.0009045486059824497]\n"
          ],
          "name": "stdout"
        },
        {
          "output_type": "stream",
          "text": [
            " 25%|██▌       | 2314/9207 [00:39<00:57, 119.57it/s]"
          ],
          "name": "stderr"
        },
        {
          "output_type": "stream",
          "text": [
            " Loss: 2.341232825476854 lr: [0.0008536438580581026]\n"
          ],
          "name": "stdout"
        },
        {
          "output_type": "stream",
          "text": [
            " 30%|███       | 2774/9207 [00:43<00:53, 120.92it/s]"
          ],
          "name": "stderr"
        },
        {
          "output_type": "stream",
          "text": [
            " Loss: 2.321490347019425 lr: [0.0007940444335081718]\n"
          ],
          "name": "stdout"
        },
        {
          "output_type": "stream",
          "text": [
            " 35%|███▌      | 3240/9207 [00:47<00:49, 121.71it/s]"
          ],
          "name": "stderr"
        },
        {
          "output_type": "stream",
          "text": [
            " Loss: 2.3046292578952183 lr: [0.0007272156418855432]\n"
          ],
          "name": "stdout"
        },
        {
          "output_type": "stream",
          "text": [
            " 40%|████      | 3699/9207 [00:50<00:45, 120.81it/s]"
          ],
          "name": "stderr"
        },
        {
          "output_type": "stream",
          "text": [
            " Loss: 2.292291044974059 lr: [0.000654800533731595]\n"
          ],
          "name": "stdout"
        },
        {
          "output_type": "stream",
          "text": [
            " 45%|████▌     | 4161/9207 [00:54<00:42, 118.40it/s]"
          ],
          "name": "stderr"
        },
        {
          "output_type": "stream",
          "text": [
            " Loss: 2.2806085638828613 lr: [0.0005785795045879378]\n"
          ],
          "name": "stdout"
        },
        {
          "output_type": "stream",
          "text": [
            " 50%|█████     | 4622/9207 [00:58<00:38, 119.29it/s]"
          ],
          "name": "stderr"
        },
        {
          "output_type": "stream",
          "text": [
            " Loss: 2.272306550788248 lr: [0.0005004265222483667]\n"
          ],
          "name": "stdout"
        },
        {
          "output_type": "stream",
          "text": [
            " 55%|█████▌    | 5084/9207 [01:02<00:34, 118.12it/s]"
          ],
          "name": "stderr"
        },
        {
          "output_type": "stream",
          "text": [
            " Loss: 2.265107417945409 lr: [0.0004222630534463885]\n"
          ],
          "name": "stdout"
        },
        {
          "output_type": "stream",
          "text": [
            " 60%|██████    | 5537/9207 [01:06<00:30, 119.08it/s]"
          ],
          "name": "stderr"
        },
        {
          "output_type": "stream",
          "text": [
            " Loss: 2.2596577671478255 lr: [0.0003460108227353404]\n"
          ],
          "name": "stdout"
        },
        {
          "output_type": "stream",
          "text": [
            " 65%|██████▌   | 6002/9207 [01:10<00:26, 121.15it/s]"
          ],
          "name": "stderr"
        },
        {
          "output_type": "stream",
          "text": [
            " Loss: 2.2547585567555193 lr: [0.0002735445650297571]\n"
          ],
          "name": "stdout"
        },
        {
          "output_type": "stream",
          "text": [
            " 70%|███████   | 6460/9207 [01:14<00:22, 120.82it/s]"
          ],
          "name": "stderr"
        },
        {
          "output_type": "stream",
          "text": [
            " Loss: 2.2511501762445874 lr: [0.00020664593343249673]\n"
          ],
          "name": "stdout"
        },
        {
          "output_type": "stream",
          "text": [
            " 75%|███████▌  | 6922/9207 [01:17<00:19, 119.39it/s]"
          ],
          "name": "stderr"
        },
        {
          "output_type": "stream",
          "text": [
            " Loss: 2.248599351794281 lr: [0.00014695969556832917]\n"
          ],
          "name": "stdout"
        },
        {
          "output_type": "stream",
          "text": [
            " 80%|████████  | 7373/9207 [01:21<00:15, 120.14it/s]"
          ],
          "name": "stderr"
        },
        {
          "output_type": "stream",
          "text": [
            " Loss: 2.2471946899200597 lr: [9.595329537951946e-05]\n"
          ],
          "name": "stdout"
        },
        {
          "output_type": "stream",
          "text": [
            " 85%|████████▌ | 7842/9207 [01:25<00:11, 120.36it/s]"
          ],
          "name": "stderr"
        },
        {
          "output_type": "stream",
          "text": [
            " Loss: 2.2457070434846274 lr: [5.488077459582418e-05]\n"
          ],
          "name": "stdout"
        },
        {
          "output_type": "stream",
          "text": [
            " 90%|█████████ | 8303/9207 [01:29<00:07, 120.65it/s]"
          ],
          "name": "stderr"
        },
        {
          "output_type": "stream",
          "text": [
            " Loss: 2.244593014441773 lr: [2.475194090448226e-05]\n"
          ],
          "name": "stdout"
        },
        {
          "output_type": "stream",
          "text": [
            " 95%|█████████▌| 8755/9207 [01:33<00:03, 120.58it/s]"
          ],
          "name": "stderr"
        },
        {
          "output_type": "stream",
          "text": [
            " Loss: 2.245370296359596 lr: [6.307540850593317e-06]\n"
          ],
          "name": "stdout"
        },
        {
          "output_type": "stream",
          "text": [
            "100%|██████████| 9207/9207 [01:36<00:00, 94.92it/s] \n"
          ],
          "name": "stderr"
        },
        {
          "output_type": "stream",
          "text": [
            " Loss: 2.245699426656564 lr: [1.0478661634505379e-09]\n",
            " Loss: 2.2448285004876802\n"
          ],
          "name": "stdout"
        },
        {
          "output_type": "stream",
          "text": [
            "\r  0%|          | 0/9207 [00:00<?, ?it/s]"
          ],
          "name": "stderr"
        },
        {
          "output_type": "stream",
          "text": [
            "\n",
            "\n",
            "\n",
            "Iteration: 2\n"
          ],
          "name": "stdout"
        },
        {
          "output_type": "stream",
          "text": [
            "  5%|▌         | 481/9207 [00:24<01:12, 120.85it/s]"
          ],
          "name": "stderr"
        },
        {
          "output_type": "stream",
          "text": [
            " Loss: 2.2229675508841544 lr: [0.000993826810226399]\n"
          ],
          "name": "stdout"
        },
        {
          "output_type": "stream",
          "text": [
            " 10%|█         | 942/9207 [00:28<01:09, 119.71it/s]"
          ],
          "name": "stderr"
        },
        {
          "output_type": "stream",
          "text": [
            " Loss: 2.225437809468459 lr: [0.0009755124393394469]\n"
          ],
          "name": "stdout"
        },
        {
          "output_type": "stream",
          "text": [
            " 15%|█▌        | 1395/9207 [00:31<01:05, 119.82it/s]"
          ],
          "name": "stderr"
        },
        {
          "output_type": "stream",
          "text": [
            " Loss: 2.215114970651519 lr: [0.0009455071347707878]\n"
          ],
          "name": "stdout"
        },
        {
          "output_type": "stream",
          "text": [
            " 20%|██        | 1857/9207 [00:35<01:05, 112.86it/s]"
          ],
          "name": "stderr"
        },
        {
          "output_type": "stream",
          "text": [
            " Loss: 2.205889806806712 lr: [0.0009045486059824497]\n"
          ],
          "name": "stdout"
        },
        {
          "output_type": "stream",
          "text": [
            " 25%|██▌       | 2313/9207 [00:39<01:00, 114.26it/s]"
          ],
          "name": "stderr"
        },
        {
          "output_type": "stream",
          "text": [
            " Loss: 2.1972232036818378 lr: [0.0008536438580581026]\n"
          ],
          "name": "stdout"
        },
        {
          "output_type": "stream",
          "text": [
            " 30%|███       | 2782/9207 [00:44<00:54, 118.87it/s]"
          ],
          "name": "stderr"
        },
        {
          "output_type": "stream",
          "text": [
            " Loss: 2.1911668226539285 lr: [0.0007940444335081718]\n"
          ],
          "name": "stdout"
        },
        {
          "output_type": "stream",
          "text": [
            " 35%|███▌      | 3235/9207 [00:47<00:49, 120.25it/s]"
          ],
          "name": "stderr"
        },
        {
          "output_type": "stream",
          "text": [
            " Loss: 2.185218412797641 lr: [0.0007272156418855432]\n"
          ],
          "name": "stdout"
        },
        {
          "output_type": "stream",
          "text": [
            " 40%|████      | 3698/9207 [00:51<00:45, 120.13it/s]"
          ],
          "name": "stderr"
        },
        {
          "output_type": "stream",
          "text": [
            " Loss: 2.1826855933099463 lr: [0.000654800533731595]\n"
          ],
          "name": "stdout"
        },
        {
          "output_type": "stream",
          "text": [
            " 45%|████▌     | 4160/9207 [00:55<00:41, 121.37it/s]"
          ],
          "name": "stderr"
        },
        {
          "output_type": "stream",
          "text": [
            " Loss: 2.1789773490140445 lr: [0.0005785795045879378]\n"
          ],
          "name": "stdout"
        },
        {
          "output_type": "stream",
          "text": [
            " 50%|█████     | 4623/9207 [00:59<00:38, 119.95it/s]"
          ],
          "name": "stderr"
        },
        {
          "output_type": "stream",
          "text": [
            " Loss: 2.177495040348911 lr: [0.0005004265222483667]\n"
          ],
          "name": "stdout"
        },
        {
          "output_type": "stream",
          "text": [
            " 55%|█████▌    | 5079/9207 [01:03<00:34, 120.84it/s]"
          ],
          "name": "stderr"
        },
        {
          "output_type": "stream",
          "text": [
            " Loss: 2.1763502864341144 lr: [0.0004222630534463885]\n"
          ],
          "name": "stdout"
        },
        {
          "output_type": "stream",
          "text": [
            " 60%|██████    | 5545/9207 [01:07<00:30, 121.93it/s]"
          ],
          "name": "stderr"
        },
        {
          "output_type": "stream",
          "text": [
            " Loss: 2.1754169720962935 lr: [0.0003460108227353404]\n"
          ],
          "name": "stdout"
        },
        {
          "output_type": "stream",
          "text": [
            " 65%|██████▌   | 6000/9207 [01:10<00:26, 120.25it/s]"
          ],
          "name": "stderr"
        },
        {
          "output_type": "stream",
          "text": [
            " Loss: 2.175254435523748 lr: [0.0002735445650297571]\n"
          ],
          "name": "stdout"
        },
        {
          "output_type": "stream",
          "text": [
            " 70%|███████   | 6455/9207 [01:14<00:22, 120.19it/s]"
          ],
          "name": "stderr"
        },
        {
          "output_type": "stream",
          "text": [
            " Loss: 2.1753507630042406 lr: [0.00020664593343249673]\n"
          ],
          "name": "stdout"
        },
        {
          "output_type": "stream",
          "text": [
            " 75%|███████▌  | 6923/9207 [01:18<00:18, 121.50it/s]"
          ],
          "name": "stderr"
        },
        {
          "output_type": "stream",
          "text": [
            " Loss: 2.1752190752273943 lr: [0.00014695969556832917]\n"
          ],
          "name": "stdout"
        },
        {
          "output_type": "stream",
          "text": [
            " 80%|████████  | 7382/9207 [01:22<00:15, 119.91it/s]"
          ],
          "name": "stderr"
        },
        {
          "output_type": "stream",
          "text": [
            " Loss: 2.1758897179810917 lr: [9.595329537951946e-05]\n"
          ],
          "name": "stdout"
        },
        {
          "output_type": "stream",
          "text": [
            " 85%|████████▌ | 7836/9207 [01:26<00:11, 120.18it/s]"
          ],
          "name": "stderr"
        },
        {
          "output_type": "stream",
          "text": [
            " Loss: 2.1756208670228365 lr: [5.488077459582418e-05]\n"
          ],
          "name": "stdout"
        },
        {
          "output_type": "stream",
          "text": [
            " 90%|█████████ | 8297/9207 [01:29<00:07, 121.39it/s]"
          ],
          "name": "stderr"
        },
        {
          "output_type": "stream",
          "text": [
            " Loss: 2.1753877401456334 lr: [2.475194090448226e-05]\n"
          ],
          "name": "stdout"
        },
        {
          "output_type": "stream",
          "text": [
            " 95%|█████████▌| 8761/9207 [01:33<00:03, 119.89it/s]"
          ],
          "name": "stderr"
        },
        {
          "output_type": "stream",
          "text": [
            " Loss: 2.177289458492777 lr: [6.307540850593317e-06]\n"
          ],
          "name": "stdout"
        },
        {
          "output_type": "stream",
          "text": [
            "100%|██████████| 9207/9207 [01:37<00:00, 94.35it/s] "
          ],
          "name": "stderr"
        },
        {
          "output_type": "stream",
          "text": [
            " Loss: 2.176311640031247 lr: [1.0478661634505379e-09]\n",
            " Loss: 2.1741953769090334\n"
          ],
          "name": "stdout"
        },
        {
          "output_type": "stream",
          "text": [
            "\n",
            "  0%|          | 0/9207 [00:00<?, ?it/s]"
          ],
          "name": "stderr"
        },
        {
          "output_type": "stream",
          "text": [
            "\n",
            "\n",
            "\n",
            "Iteration: 3\n"
          ],
          "name": "stdout"
        },
        {
          "output_type": "stream",
          "text": [
            "  5%|▌         | 483/9207 [00:24<01:12, 119.86it/s]"
          ],
          "name": "stderr"
        },
        {
          "output_type": "stream",
          "text": [
            " Loss: 2.1380391298875425 lr: [0.000993826810226399]\n"
          ],
          "name": "stdout"
        },
        {
          "output_type": "stream",
          "text": [
            " 10%|█         | 943/9207 [00:28<01:08, 121.41it/s]"
          ],
          "name": "stderr"
        },
        {
          "output_type": "stream",
          "text": [
            " Loss: 2.1463715687587146 lr: [0.0009755124393394469]\n"
          ],
          "name": "stdout"
        },
        {
          "output_type": "stream",
          "text": [
            " 15%|█▌        | 1399/9207 [00:32<01:06, 117.24it/s]"
          ],
          "name": "stderr"
        },
        {
          "output_type": "stream",
          "text": [
            " Loss: 2.141768192036821 lr: [0.0009455071347707878]\n"
          ],
          "name": "stdout"
        },
        {
          "output_type": "stream",
          "text": [
            " 20%|██        | 1857/9207 [00:36<01:03, 116.42it/s]"
          ],
          "name": "stderr"
        },
        {
          "output_type": "stream",
          "text": [
            " Loss: 2.1382781743883794 lr: [0.0009045486059824497]\n"
          ],
          "name": "stdout"
        },
        {
          "output_type": "stream",
          "text": [
            " 25%|██▌       | 2321/9207 [00:40<00:56, 121.06it/s]"
          ],
          "name": "stderr"
        },
        {
          "output_type": "stream",
          "text": [
            " Loss: 2.134346052146685 lr: [0.0008536438580581026]\n"
          ],
          "name": "stdout"
        },
        {
          "output_type": "stream",
          "text": [
            " 30%|███       | 2781/9207 [00:44<00:53, 119.08it/s]"
          ],
          "name": "stderr"
        },
        {
          "output_type": "stream",
          "text": [
            " Loss: 2.133328794916897 lr: [0.0007940444335081718]\n"
          ],
          "name": "stdout"
        },
        {
          "output_type": "stream",
          "text": [
            " 35%|███▌      | 3239/9207 [00:47<00:50, 118.87it/s]"
          ],
          "name": "stderr"
        },
        {
          "output_type": "stream",
          "text": [
            " Loss: 2.1314935158743267 lr: [0.0007272156418855432]\n"
          ],
          "name": "stdout"
        },
        {
          "output_type": "stream",
          "text": [
            " 40%|████      | 3704/9207 [00:51<00:46, 119.44it/s]"
          ],
          "name": "stderr"
        },
        {
          "output_type": "stream",
          "text": [
            " Loss: 2.1327917804818406 lr: [0.000654800533731595]\n"
          ],
          "name": "stdout"
        },
        {
          "output_type": "stream",
          "text": [
            " 45%|████▌     | 4164/9207 [00:55<00:42, 119.41it/s]"
          ],
          "name": "stderr"
        },
        {
          "output_type": "stream",
          "text": [
            " Loss: 2.1326752445971824 lr: [0.0005785795045879378]\n"
          ],
          "name": "stdout"
        },
        {
          "output_type": "stream",
          "text": [
            " 50%|█████     | 4613/9207 [00:59<00:38, 120.07it/s]"
          ],
          "name": "stderr"
        },
        {
          "output_type": "stream",
          "text": [
            " Loss: 2.1339625807896563 lr: [0.0005004265222483667]\n"
          ],
          "name": "stdout"
        },
        {
          "output_type": "stream",
          "text": [
            " 55%|█████▌    | 5085/9207 [01:03<00:34, 119.04it/s]"
          ],
          "name": "stderr"
        },
        {
          "output_type": "stream",
          "text": [
            " Loss: 2.1355844111042863 lr: [0.0004222630534463885]\n"
          ],
          "name": "stdout"
        },
        {
          "output_type": "stream",
          "text": [
            " 60%|██████    | 5535/9207 [01:07<00:30, 120.50it/s]"
          ],
          "name": "stderr"
        },
        {
          "output_type": "stream",
          "text": [
            " Loss: 2.137291590819458 lr: [0.0003460108227353404]\n"
          ],
          "name": "stdout"
        },
        {
          "output_type": "stream",
          "text": [
            " 65%|██████▌   | 5999/9207 [01:11<00:26, 119.09it/s]"
          ],
          "name": "stderr"
        },
        {
          "output_type": "stream",
          "text": [
            " Loss: 2.1397951233131054 lr: [0.0002735445650297571]\n"
          ],
          "name": "stdout"
        },
        {
          "output_type": "stream",
          "text": [
            " 70%|███████   | 6454/9207 [01:14<00:23, 118.48it/s]"
          ],
          "name": "stderr"
        },
        {
          "output_type": "stream",
          "text": [
            " Loss: 2.141805862512319 lr: [0.00020664593343249673]\n"
          ],
          "name": "stdout"
        },
        {
          "output_type": "stream",
          "text": [
            " 75%|███████▌  | 6922/9207 [01:18<00:19, 118.96it/s]"
          ],
          "name": "stderr"
        },
        {
          "output_type": "stream",
          "text": [
            " Loss: 2.1434470625528528 lr: [0.00014695969556832917]\n"
          ],
          "name": "stdout"
        },
        {
          "output_type": "stream",
          "text": [
            " 80%|████████  | 7380/9207 [01:22<00:15, 119.94it/s]"
          ],
          "name": "stderr"
        },
        {
          "output_type": "stream",
          "text": [
            " Loss: 2.145455916392437 lr: [9.595329537951946e-05]\n"
          ],
          "name": "stdout"
        },
        {
          "output_type": "stream",
          "text": [
            " 85%|████████▌ | 7845/9207 [01:26<00:11, 118.91it/s]"
          ],
          "name": "stderr"
        },
        {
          "output_type": "stream",
          "text": [
            " Loss: 2.1462600828087957 lr: [5.488077459582418e-05]\n"
          ],
          "name": "stdout"
        },
        {
          "output_type": "stream",
          "text": [
            " 90%|█████████ | 8292/9207 [01:30<00:07, 117.17it/s]"
          ],
          "name": "stderr"
        },
        {
          "output_type": "stream",
          "text": [
            " Loss: 2.14657269185706 lr: [2.475194090448226e-05]\n"
          ],
          "name": "stdout"
        },
        {
          "output_type": "stream",
          "text": [
            " 95%|█████████▌| 8764/9207 [01:34<00:03, 119.80it/s]"
          ],
          "name": "stderr"
        },
        {
          "output_type": "stream",
          "text": [
            " Loss: 2.149096905640106 lr: [6.307540850593317e-06]\n"
          ],
          "name": "stdout"
        },
        {
          "output_type": "stream",
          "text": [
            "100%|██████████| 9207/9207 [01:37<00:00, 94.02it/s] \n"
          ],
          "name": "stderr"
        },
        {
          "output_type": "stream",
          "text": [
            " Loss: 2.1469555394050746 lr: [1.0478661634505379e-09]\n",
            " Loss: 2.1435248393460906\n"
          ],
          "name": "stdout"
        },
        {
          "output_type": "stream",
          "text": [
            "\r  0%|          | 0/9207 [00:00<?, ?it/s]"
          ],
          "name": "stderr"
        },
        {
          "output_type": "stream",
          "text": [
            "\n",
            "\n",
            "\n",
            "Iteration: 4\n"
          ],
          "name": "stdout"
        },
        {
          "output_type": "stream",
          "text": [
            "  5%|▌         | 483/9207 [00:24<01:12, 119.79it/s]"
          ],
          "name": "stderr"
        },
        {
          "output_type": "stream",
          "text": [
            " Loss: 2.089367172542037 lr: [0.000993826810226399]\n"
          ],
          "name": "stdout"
        },
        {
          "output_type": "stream",
          "text": [
            " 10%|█         | 945/9207 [00:28<01:08, 120.06it/s]"
          ],
          "name": "stderr"
        },
        {
          "output_type": "stream",
          "text": [
            " Loss: 2.0997647984990135 lr: [0.0009755124393394469]\n"
          ],
          "name": "stdout"
        },
        {
          "output_type": "stream",
          "text": [
            " 15%|█▌        | 1405/9207 [00:32<01:05, 119.77it/s]"
          ],
          "name": "stderr"
        },
        {
          "output_type": "stream",
          "text": [
            " Loss: 2.0975723018004917 lr: [0.0009455071347707878]\n"
          ],
          "name": "stdout"
        },
        {
          "output_type": "stream",
          "text": [
            " 20%|██        | 1865/9207 [00:36<01:01, 119.43it/s]"
          ],
          "name": "stderr"
        },
        {
          "output_type": "stream",
          "text": [
            " Loss: 2.0968434258850714 lr: [0.0009045486059824497]\n"
          ],
          "name": "stdout"
        },
        {
          "output_type": "stream",
          "text": [
            " 25%|██▌       | 2318/9207 [00:39<00:57, 119.61it/s]"
          ],
          "name": "stderr"
        },
        {
          "output_type": "stream",
          "text": [
            " Loss: 2.0953409332377144 lr: [0.0008536438580581026]\n"
          ],
          "name": "stdout"
        },
        {
          "output_type": "stream",
          "text": [
            " 30%|███       | 2781/9207 [00:43<00:53, 120.51it/s]"
          ],
          "name": "stderr"
        },
        {
          "output_type": "stream",
          "text": [
            " Loss: 2.097501871706491 lr: [0.0007940444335081718]\n"
          ],
          "name": "stdout"
        },
        {
          "output_type": "stream",
          "text": [
            " 35%|███▌      | 3245/9207 [00:47<00:49, 120.00it/s]"
          ],
          "name": "stderr"
        },
        {
          "output_type": "stream",
          "text": [
            " Loss: 2.0981478190985734 lr: [0.0007272156418855432]\n"
          ],
          "name": "stdout"
        },
        {
          "output_type": "stream",
          "text": [
            " 40%|████      | 3696/9207 [00:51<00:46, 119.74it/s]"
          ],
          "name": "stderr"
        },
        {
          "output_type": "stream",
          "text": [
            " Loss: 2.101912977131513 lr: [0.000654800533731595]\n"
          ],
          "name": "stdout"
        },
        {
          "output_type": "stream",
          "text": [
            " 45%|████▌     | 4162/9207 [00:55<00:42, 119.36it/s]"
          ],
          "name": "stderr"
        },
        {
          "output_type": "stream",
          "text": [
            " Loss: 2.104369996903482 lr: [0.0005785795045879378]\n"
          ],
          "name": "stdout"
        },
        {
          "output_type": "stream",
          "text": [
            " 50%|█████     | 4624/9207 [00:59<00:38, 119.47it/s]"
          ],
          "name": "stderr"
        },
        {
          "output_type": "stream",
          "text": [
            " Loss: 2.107702509115487 lr: [0.0005004265222483667]\n"
          ],
          "name": "stdout"
        },
        {
          "output_type": "stream",
          "text": [
            " 55%|█████▌    | 5073/9207 [01:02<00:34, 121.32it/s]"
          ],
          "name": "stderr"
        },
        {
          "output_type": "stream",
          "text": [
            " Loss: 2.1114133586388166 lr: [0.0004222630534463885]\n"
          ],
          "name": "stdout"
        },
        {
          "output_type": "stream",
          "text": [
            " 60%|██████    | 5535/9207 [01:06<00:31, 117.45it/s]"
          ],
          "name": "stderr"
        },
        {
          "output_type": "stream",
          "text": [
            " Loss: 2.1151995382511624 lr: [0.0003460108227353404]\n"
          ],
          "name": "stdout"
        },
        {
          "output_type": "stream",
          "text": [
            " 65%|██████▌   | 6004/9207 [01:10<00:27, 118.46it/s]"
          ],
          "name": "stderr"
        },
        {
          "output_type": "stream",
          "text": [
            " Loss: 2.119655287398166 lr: [0.0002735445650297571]\n"
          ],
          "name": "stdout"
        },
        {
          "output_type": "stream",
          "text": [
            " 70%|███████   | 6454/9207 [01:14<00:22, 120.42it/s]"
          ],
          "name": "stderr"
        },
        {
          "output_type": "stream",
          "text": [
            " Loss: 2.123146308893285 lr: [0.00020664593343249673]\n"
          ],
          "name": "stdout"
        },
        {
          "output_type": "stream",
          "text": [
            " 75%|███████▌  | 6916/9207 [01:18<00:19, 119.34it/s]"
          ],
          "name": "stderr"
        },
        {
          "output_type": "stream",
          "text": [
            " Loss: 2.1264615482071028 lr: [0.00014695969556832917]\n"
          ],
          "name": "stdout"
        },
        {
          "output_type": "stream",
          "text": [
            " 80%|████████  | 7384/9207 [01:22<00:15, 119.08it/s]"
          ],
          "name": "stderr"
        },
        {
          "output_type": "stream",
          "text": [
            " Loss: 2.129523401929044 lr: [9.595329537951946e-05]\n"
          ],
          "name": "stdout"
        },
        {
          "output_type": "stream",
          "text": [
            " 85%|████████▌ | 7844/9207 [01:26<00:11, 119.97it/s]"
          ],
          "name": "stderr"
        },
        {
          "output_type": "stream",
          "text": [
            " Loss: 2.131352236031247 lr: [5.488077459582418e-05]\n"
          ],
          "name": "stdout"
        },
        {
          "output_type": "stream",
          "text": [
            " 90%|█████████ | 8294/9207 [01:29<00:07, 120.11it/s]"
          ],
          "name": "stderr"
        },
        {
          "output_type": "stream",
          "text": [
            " Loss: 2.1320855040468363 lr: [2.475194090448226e-05]\n"
          ],
          "name": "stdout"
        },
        {
          "output_type": "stream",
          "text": [
            " 95%|█████████▌| 8762/9207 [01:33<00:03, 119.26it/s]"
          ],
          "name": "stderr"
        },
        {
          "output_type": "stream",
          "text": [
            " Loss: 2.135208613249912 lr: [6.307540850593317e-06]\n"
          ],
          "name": "stdout"
        },
        {
          "output_type": "stream",
          "text": [
            "100%|██████████| 9207/9207 [01:37<00:00, 94.43it/s] \n"
          ],
          "name": "stderr"
        },
        {
          "output_type": "stream",
          "text": [
            " Loss: 2.1319331884187993 lr: [1.0478661634505379e-09]\n",
            " Loss: 2.1272740199273743\n"
          ],
          "name": "stdout"
        },
        {
          "output_type": "stream",
          "text": [
            "\r  0%|          | 0/9207 [00:00<?, ?it/s]"
          ],
          "name": "stderr"
        },
        {
          "output_type": "stream",
          "text": [
            "\n",
            "\n",
            "\n",
            "Iteration: 5\n"
          ],
          "name": "stdout"
        },
        {
          "output_type": "stream",
          "text": [
            "  5%|▌         | 473/9207 [00:24<01:13, 119.10it/s]"
          ],
          "name": "stderr"
        },
        {
          "output_type": "stream",
          "text": [
            " Loss: 2.0557501440491803 lr: [0.000993826810226399]\n"
          ],
          "name": "stdout"
        },
        {
          "output_type": "stream",
          "text": [
            " 10%|█         | 934/9207 [00:28<01:08, 120.42it/s]"
          ],
          "name": "stderr"
        },
        {
          "output_type": "stream",
          "text": [
            " Loss: 2.067068609994014 lr: [0.0009755124393394469]\n"
          ],
          "name": "stdout"
        },
        {
          "output_type": "stream",
          "text": [
            " 15%|█▌        | 1403/9207 [00:32<01:05, 119.10it/s]"
          ],
          "name": "stderr"
        },
        {
          "output_type": "stream",
          "text": [
            " Loss: 2.0664080209737845 lr: [0.0009455071347707878]\n"
          ],
          "name": "stdout"
        },
        {
          "output_type": "stream",
          "text": [
            " 20%|██        | 1853/9207 [00:36<01:05, 112.11it/s]"
          ],
          "name": "stderr"
        },
        {
          "output_type": "stream",
          "text": [
            " Loss: 2.067574746264816 lr: [0.0009045486059824497]\n"
          ],
          "name": "stdout"
        },
        {
          "output_type": "stream",
          "text": [
            " 25%|██▌       | 2321/9207 [00:40<00:59, 116.13it/s]"
          ],
          "name": "stderr"
        },
        {
          "output_type": "stream",
          "text": [
            " Loss: 2.0677866668655436 lr: [0.0008536438580581026]\n"
          ],
          "name": "stdout"
        },
        {
          "output_type": "stream",
          "text": [
            " 30%|███       | 2777/9207 [00:44<00:56, 113.41it/s]"
          ],
          "name": "stderr"
        },
        {
          "output_type": "stream",
          "text": [
            " Loss: 2.0722963482055015 lr: [0.0007940444335081718]\n"
          ],
          "name": "stdout"
        },
        {
          "output_type": "stream",
          "text": [
            " 35%|███▌      | 3244/9207 [00:48<00:49, 120.41it/s]"
          ],
          "name": "stderr"
        },
        {
          "output_type": "stream",
          "text": [
            " Loss: 2.07481409628564 lr: [0.0007272156418855432]\n"
          ],
          "name": "stdout"
        },
        {
          "output_type": "stream",
          "text": [
            " 40%|████      | 3698/9207 [00:52<00:46, 119.04it/s]"
          ],
          "name": "stderr"
        },
        {
          "output_type": "stream",
          "text": [
            " Loss: 2.0805049577334063 lr: [0.000654800533731595]\n"
          ],
          "name": "stdout"
        },
        {
          "output_type": "stream",
          "text": [
            " 45%|████▌     | 4163/9207 [00:56<00:42, 119.37it/s]"
          ],
          "name": "stderr"
        },
        {
          "output_type": "stream",
          "text": [
            " Loss: 2.084988806044894 lr: [0.0005785795045879378]\n"
          ],
          "name": "stdout"
        },
        {
          "output_type": "stream",
          "text": [
            " 50%|█████     | 4620/9207 [00:59<00:38, 118.34it/s]"
          ],
          "name": "stderr"
        },
        {
          "output_type": "stream",
          "text": [
            " Loss: 2.0900798684102724 lr: [0.0005004265222483667]\n"
          ],
          "name": "stdout"
        },
        {
          "output_type": "stream",
          "text": [
            " 55%|█████▌    | 5085/9207 [01:03<00:34, 119.70it/s]"
          ],
          "name": "stderr"
        },
        {
          "output_type": "stream",
          "text": [
            " Loss: 2.095539559380799 lr: [0.0004222630534463885]\n"
          ],
          "name": "stdout"
        },
        {
          "output_type": "stream",
          "text": [
            " 60%|██████    | 5540/9207 [01:07<00:30, 119.42it/s]"
          ],
          "name": "stderr"
        },
        {
          "output_type": "stream",
          "text": [
            " Loss: 2.1010704765977213 lr: [0.0003460108227353404]\n"
          ],
          "name": "stdout"
        },
        {
          "output_type": "stream",
          "text": [
            " 65%|██████▌   | 6000/9207 [01:11<00:27, 118.65it/s]"
          ],
          "name": "stderr"
        },
        {
          "output_type": "stream",
          "text": [
            " Loss: 2.1071297828223354 lr: [0.0002735445650297571]\n"
          ],
          "name": "stdout"
        },
        {
          "output_type": "stream",
          "text": [
            " 70%|███████   | 6462/9207 [01:15<00:23, 117.10it/s]"
          ],
          "name": "stderr"
        },
        {
          "output_type": "stream",
          "text": [
            " Loss: 2.1119424260327686 lr: [0.00020664593343249673]\n"
          ],
          "name": "stdout"
        },
        {
          "output_type": "stream",
          "text": [
            " 75%|███████▌  | 6923/9207 [01:19<00:19, 119.63it/s]"
          ],
          "name": "stderr"
        },
        {
          "output_type": "stream",
          "text": [
            " Loss: 2.116738585565964 lr: [0.00014695969556832917]\n"
          ],
          "name": "stdout"
        },
        {
          "output_type": "stream",
          "text": [
            " 80%|████████  | 7377/9207 [01:23<00:15, 117.70it/s]"
          ],
          "name": "stderr"
        },
        {
          "output_type": "stream",
          "text": [
            " Loss: 2.1207215814033105 lr: [9.595329537951946e-05]\n"
          ],
          "name": "stdout"
        },
        {
          "output_type": "stream",
          "text": [
            " 85%|████████▌ | 7835/9207 [01:26<00:11, 120.00it/s]"
          ],
          "name": "stderr"
        },
        {
          "output_type": "stream",
          "text": [
            " Loss: 2.1235087843745957 lr: [5.488077459582418e-05]\n"
          ],
          "name": "stdout"
        },
        {
          "output_type": "stream",
          "text": [
            " 90%|█████████ | 8304/9207 [01:30<00:07, 119.84it/s]"
          ],
          "name": "stderr"
        },
        {
          "output_type": "stream",
          "text": [
            " Loss: 2.124637699956439 lr: [2.475194090448226e-05]\n"
          ],
          "name": "stdout"
        },
        {
          "output_type": "stream",
          "text": [
            " 95%|█████████▌| 8761/9207 [01:34<00:03, 120.44it/s]"
          ],
          "name": "stderr"
        },
        {
          "output_type": "stream",
          "text": [
            " Loss: 2.1283082722844213 lr: [6.307540850593317e-06]\n"
          ],
          "name": "stdout"
        },
        {
          "output_type": "stream",
          "text": [
            "100%|██████████| 9207/9207 [01:38<00:00, 93.60it/s] \n"
          ],
          "name": "stderr"
        },
        {
          "output_type": "stream",
          "text": [
            " Loss: 2.123999188366187 lr: [1.0478661634505379e-09]\n",
            " Loss: 2.118252805672025\n"
          ],
          "name": "stdout"
        },
        {
          "output_type": "stream",
          "text": [
            "\r  0%|          | 0/9207 [00:00<?, ?it/s]"
          ],
          "name": "stderr"
        },
        {
          "output_type": "stream",
          "text": [
            "\n",
            "\n",
            "\n",
            "Iteration: 6\n"
          ],
          "name": "stdout"
        },
        {
          "output_type": "stream",
          "text": [
            "  5%|▌         | 483/9207 [00:24<01:12, 119.73it/s]"
          ],
          "name": "stderr"
        },
        {
          "output_type": "stream",
          "text": [
            " Loss: 2.030883959671484 lr: [0.000993826810226399]\n"
          ],
          "name": "stdout"
        },
        {
          "output_type": "stream",
          "text": [
            " 10%|█         | 934/9207 [00:28<01:12, 114.70it/s]"
          ],
          "name": "stderr"
        },
        {
          "output_type": "stream",
          "text": [
            " Loss: 2.0425823406988277 lr: [0.0009755124393394469]\n"
          ],
          "name": "stdout"
        },
        {
          "output_type": "stream",
          "text": [
            " 15%|█▌        | 1403/9207 [00:32<01:08, 114.68it/s]"
          ],
          "name": "stderr"
        },
        {
          "output_type": "stream",
          "text": [
            " Loss: 2.0429993469014884 lr: [0.0009455071347707878]\n"
          ],
          "name": "stdout"
        },
        {
          "output_type": "stream",
          "text": [
            " 20%|██        | 1860/9207 [00:36<01:01, 119.10it/s]"
          ],
          "name": "stderr"
        },
        {
          "output_type": "stream",
          "text": [
            " Loss: 2.045541426978264 lr: [0.0009045486059824497]\n"
          ],
          "name": "stdout"
        },
        {
          "output_type": "stream",
          "text": [
            " 25%|██▌       | 2323/9207 [00:40<00:56, 120.88it/s]"
          ],
          "name": "stderr"
        },
        {
          "output_type": "stream",
          "text": [
            " Loss: 2.0470725785377324 lr: [0.0008536438580581026]\n"
          ],
          "name": "stdout"
        },
        {
          "output_type": "stream",
          "text": [
            " 30%|███       | 2784/9207 [00:43<00:53, 119.85it/s]"
          ],
          "name": "stderr"
        },
        {
          "output_type": "stream",
          "text": [
            " Loss: 2.0533925583072774 lr: [0.0007940444335081718]\n"
          ],
          "name": "stdout"
        },
        {
          "output_type": "stream",
          "text": [
            " 35%|███▌      | 3240/9207 [00:47<00:50, 117.87it/s]"
          ],
          "name": "stderr"
        },
        {
          "output_type": "stream",
          "text": [
            " Loss: 2.0573953439789676 lr: [0.0007272156418855432]\n"
          ],
          "name": "stdout"
        },
        {
          "output_type": "stream",
          "text": [
            " 40%|████      | 3701/9207 [00:51<00:45, 120.14it/s]"
          ],
          "name": "stderr"
        },
        {
          "output_type": "stream",
          "text": [
            " Loss: 2.0646585860818916 lr: [0.000654800533731595]\n"
          ],
          "name": "stdout"
        },
        {
          "output_type": "stream",
          "text": [
            " 45%|████▌     | 4156/9207 [00:55<00:42, 120.09it/s]"
          ],
          "name": "stderr"
        },
        {
          "output_type": "stream",
          "text": [
            " Loss: 2.07081607042431 lr: [0.0005785795045879378]\n"
          ],
          "name": "stdout"
        },
        {
          "output_type": "stream",
          "text": [
            " 50%|█████     | 4625/9207 [00:59<00:38, 119.52it/s]"
          ],
          "name": "stderr"
        },
        {
          "output_type": "stream",
          "text": [
            " Loss: 2.0774534472334216 lr: [0.0005004265222483667]\n"
          ],
          "name": "stdout"
        },
        {
          "output_type": "stream",
          "text": [
            " 55%|█████▌    | 5083/9207 [01:03<00:34, 119.50it/s]"
          ],
          "name": "stderr"
        },
        {
          "output_type": "stream",
          "text": [
            " Loss: 2.0843937049893113 lr: [0.0004222630534463885]\n"
          ],
          "name": "stdout"
        },
        {
          "output_type": "stream",
          "text": [
            " 60%|██████    | 5539/9207 [01:06<00:31, 117.97it/s]"
          ],
          "name": "stderr"
        },
        {
          "output_type": "stream",
          "text": [
            " Loss: 2.0914439621639582 lr: [0.0003460108227353404]\n"
          ],
          "name": "stdout"
        },
        {
          "output_type": "stream",
          "text": [
            " 65%|██████▌   | 6002/9207 [01:10<00:26, 120.18it/s]"
          ],
          "name": "stderr"
        },
        {
          "output_type": "stream",
          "text": [
            " Loss: 2.0988992106032094 lr: [0.0002735445650297571]\n"
          ],
          "name": "stdout"
        },
        {
          "output_type": "stream",
          "text": [
            " 70%|███████   | 6453/9207 [01:14<00:23, 117.28it/s]"
          ],
          "name": "stderr"
        },
        {
          "output_type": "stream",
          "text": [
            " Loss: 2.104911911568853 lr: [0.00020664593343249673]\n"
          ],
          "name": "stdout"
        },
        {
          "output_type": "stream",
          "text": [
            " 75%|███████▌  | 6913/9207 [01:18<00:19, 120.36it/s]"
          ],
          "name": "stderr"
        },
        {
          "output_type": "stream",
          "text": [
            " Loss: 2.1109949191641495 lr: [0.00014695969556832917]\n"
          ],
          "name": "stdout"
        },
        {
          "output_type": "stream",
          "text": [
            " 80%|████████  | 7378/9207 [01:22<00:15, 120.58it/s]"
          ],
          "name": "stderr"
        },
        {
          "output_type": "stream",
          "text": [
            " Loss: 2.1158216428149985 lr: [9.595329537951946e-05]\n"
          ],
          "name": "stdout"
        },
        {
          "output_type": "stream",
          "text": [
            " 85%|████████▌ | 7844/9207 [01:26<00:11, 117.12it/s]"
          ],
          "name": "stderr"
        },
        {
          "output_type": "stream",
          "text": [
            " Loss: 2.119495468550925 lr: [5.488077459582418e-05]\n"
          ],
          "name": "stdout"
        },
        {
          "output_type": "stream",
          "text": [
            " 90%|█████████ | 8299/9207 [01:30<00:07, 120.36it/s]"
          ],
          "name": "stderr"
        },
        {
          "output_type": "stream",
          "text": [
            " Loss: 2.121037774147012 lr: [2.475194090448226e-05]\n"
          ],
          "name": "stdout"
        },
        {
          "output_type": "stream",
          "text": [
            " 95%|█████████▌| 8762/9207 [01:33<00:03, 118.77it/s]"
          ],
          "name": "stderr"
        },
        {
          "output_type": "stream",
          "text": [
            " Loss: 2.125171863277103 lr: [6.307540850593317e-06]\n"
          ],
          "name": "stdout"
        },
        {
          "output_type": "stream",
          "text": [
            "100%|██████████| 9207/9207 [01:37<00:00, 94.23it/s] "
          ],
          "name": "stderr"
        },
        {
          "output_type": "stream",
          "text": [
            " Loss: 2.1199281650814674 lr: [1.0478661634505379e-09]\n",
            " Loss: 2.1132430192899063\n"
          ],
          "name": "stdout"
        },
        {
          "output_type": "stream",
          "text": [
            "\n",
            "  0%|          | 0/9207 [00:00<?, ?it/s]"
          ],
          "name": "stderr"
        },
        {
          "output_type": "stream",
          "text": [
            "\n",
            "\n",
            "\n",
            "Iteration: 7\n"
          ],
          "name": "stdout"
        },
        {
          "output_type": "stream",
          "text": [
            "  5%|▌         | 479/9207 [00:24<01:13, 118.66it/s]"
          ],
          "name": "stderr"
        },
        {
          "output_type": "stream",
          "text": [
            " Loss: 2.0117015304879295 lr: [0.000993826810226399]\n"
          ],
          "name": "stdout"
        },
        {
          "output_type": "stream",
          "text": [
            " 10%|█         | 936/9207 [00:28<01:09, 119.68it/s]"
          ],
          "name": "stderr"
        },
        {
          "output_type": "stream",
          "text": [
            " Loss: 2.0234849268200104 lr: [0.0009755124393394469]\n"
          ],
          "name": "stdout"
        },
        {
          "output_type": "stream",
          "text": [
            " 15%|█▌        | 1396/9207 [00:32<01:05, 119.08it/s]"
          ],
          "name": "stderr"
        },
        {
          "output_type": "stream",
          "text": [
            " Loss: 2.024656417901549 lr: [0.0009455071347707878]\n"
          ],
          "name": "stdout"
        },
        {
          "output_type": "stream",
          "text": [
            " 20%|██        | 1858/9207 [00:36<01:02, 116.71it/s]"
          ],
          "name": "stderr"
        },
        {
          "output_type": "stream",
          "text": [
            " Loss: 2.0282009592501575 lr: [0.0009045486059824497]\n"
          ],
          "name": "stdout"
        },
        {
          "output_type": "stream",
          "text": [
            " 25%|██▌       | 2317/9207 [00:39<00:57, 120.44it/s]"
          ],
          "name": "stderr"
        },
        {
          "output_type": "stream",
          "text": [
            " Loss: 2.030782330457093 lr: [0.0008536438580581026]\n"
          ],
          "name": "stdout"
        },
        {
          "output_type": "stream",
          "text": [
            " 30%|███       | 2781/9207 [00:43<00:53, 120.97it/s]"
          ],
          "name": "stderr"
        },
        {
          "output_type": "stream",
          "text": [
            " Loss: 2.0385348997896133 lr: [0.0007940444335081718]\n"
          ],
          "name": "stdout"
        },
        {
          "output_type": "stream",
          "text": [
            " 35%|███▌      | 3243/9207 [00:47<00:49, 120.78it/s]"
          ],
          "name": "stderr"
        },
        {
          "output_type": "stream",
          "text": [
            " Loss: 2.043749411823513 lr: [0.0007272156418855432]\n"
          ],
          "name": "stdout"
        },
        {
          "output_type": "stream",
          "text": [
            " 40%|████      | 3696/9207 [00:51<00:46, 119.24it/s]"
          ],
          "name": "stderr"
        },
        {
          "output_type": "stream",
          "text": [
            " Loss: 2.052334518519088 lr: [0.000654800533731595]\n"
          ],
          "name": "stdout"
        },
        {
          "output_type": "stream",
          "text": [
            " 45%|████▌     | 4158/9207 [00:55<00:42, 119.78it/s]"
          ],
          "name": "stderr"
        },
        {
          "output_type": "stream",
          "text": [
            " Loss: 2.0599331072825873 lr: [0.0005785795045879378]\n"
          ],
          "name": "stdout"
        },
        {
          "output_type": "stream",
          "text": [
            " 50%|█████     | 4622/9207 [00:59<00:38, 118.53it/s]"
          ],
          "name": "stderr"
        },
        {
          "output_type": "stream",
          "text": [
            " Loss: 2.0679354027738723 lr: [0.0005004265222483667]\n"
          ],
          "name": "stdout"
        },
        {
          "output_type": "stream",
          "text": [
            " 55%|█████▌    | 5074/9207 [01:03<00:34, 119.95it/s]"
          ],
          "name": "stderr"
        },
        {
          "output_type": "stream",
          "text": [
            " Loss: 2.0761531069444246 lr: [0.0004222630534463885]\n"
          ],
          "name": "stdout"
        },
        {
          "output_type": "stream",
          "text": [
            " 60%|██████    | 5543/9207 [01:06<00:30, 119.32it/s]"
          ],
          "name": "stderr"
        },
        {
          "output_type": "stream",
          "text": [
            " Loss: 2.0845612605412107 lr: [0.0003460108227353404]\n"
          ],
          "name": "stdout"
        },
        {
          "output_type": "stream",
          "text": [
            " 65%|██████▌   | 6000/9207 [01:10<00:26, 120.20it/s]"
          ],
          "name": "stderr"
        },
        {
          "output_type": "stream",
          "text": [
            " Loss: 2.0932745471360144 lr: [0.0002735445650297571]\n"
          ],
          "name": "stdout"
        },
        {
          "output_type": "stream",
          "text": [
            " 70%|███████   | 6461/9207 [01:14<00:22, 120.61it/s]"
          ],
          "name": "stderr"
        },
        {
          "output_type": "stream",
          "text": [
            " Loss: 2.1003921598076216 lr: [0.00020664593343249673]\n"
          ],
          "name": "stdout"
        },
        {
          "output_type": "stream",
          "text": [
            " 75%|███████▌  | 6920/9207 [01:18<00:19, 118.70it/s]"
          ],
          "name": "stderr"
        },
        {
          "output_type": "stream",
          "text": [
            " Loss: 2.1076046354158646 lr: [0.00014695969556832917]\n"
          ],
          "name": "stdout"
        },
        {
          "output_type": "stream",
          "text": [
            " 80%|████████  | 7374/9207 [01:22<00:15, 119.26it/s]"
          ],
          "name": "stderr"
        },
        {
          "output_type": "stream",
          "text": [
            " Loss: 2.1132286752449443 lr: [9.595329537951946e-05]\n"
          ],
          "name": "stdout"
        },
        {
          "output_type": "stream",
          "text": [
            " 85%|████████▌ | 7844/9207 [01:26<00:11, 118.66it/s]"
          ],
          "name": "stderr"
        },
        {
          "output_type": "stream",
          "text": [
            " Loss: 2.1177139831055696 lr: [5.488077459582418e-05]\n"
          ],
          "name": "stdout"
        },
        {
          "output_type": "stream",
          "text": [
            " 90%|█████████ | 8304/9207 [01:30<00:07, 118.73it/s]"
          ],
          "name": "stderr"
        },
        {
          "output_type": "stream",
          "text": [
            " Loss: 2.1196805742156144 lr: [2.475194090448226e-05]\n"
          ],
          "name": "stdout"
        },
        {
          "output_type": "stream",
          "text": [
            " 95%|█████████▌| 8757/9207 [01:33<00:03, 119.33it/s]"
          ],
          "name": "stderr"
        },
        {
          "output_type": "stream",
          "text": [
            " Loss: 2.12421021558255 lr: [6.307540850593317e-06]\n"
          ],
          "name": "stdout"
        },
        {
          "output_type": "stream",
          "text": [
            "100%|██████████| 9207/9207 [01:37<00:00, 94.16it/s] \n"
          ],
          "name": "stderr"
        },
        {
          "output_type": "stream",
          "text": [
            " Loss: 2.118120143358385 lr: [1.0478661634505379e-09]\n",
            " Loss: 2.11062677732243\n"
          ],
          "name": "stdout"
        },
        {
          "output_type": "stream",
          "text": [
            "\r  0%|          | 0/9207 [00:00<?, ?it/s]"
          ],
          "name": "stderr"
        },
        {
          "output_type": "stream",
          "text": [
            "\n",
            "\n",
            "\n",
            "Iteration: 8\n"
          ],
          "name": "stdout"
        },
        {
          "output_type": "stream",
          "text": [
            "  5%|▌         | 482/9207 [00:24<01:12, 119.60it/s]"
          ],
          "name": "stderr"
        },
        {
          "output_type": "stream",
          "text": [
            " Loss: 1.9964493477217842 lr: [0.000993826810226399]\n"
          ],
          "name": "stdout"
        },
        {
          "output_type": "stream",
          "text": [
            " 10%|█         | 943/9207 [00:28<01:09, 119.10it/s]"
          ],
          "name": "stderr"
        },
        {
          "output_type": "stream",
          "text": [
            " Loss: 2.0081461470189836 lr: [0.0009755124393394469]\n"
          ],
          "name": "stdout"
        },
        {
          "output_type": "stream",
          "text": [
            " 15%|█▌        | 1399/9207 [00:31<01:04, 120.45it/s]"
          ],
          "name": "stderr"
        },
        {
          "output_type": "stream",
          "text": [
            " Loss: 2.009829475942195 lr: [0.0009455071347707878]\n"
          ],
          "name": "stdout"
        },
        {
          "output_type": "stream",
          "text": [
            " 20%|██        | 1856/9207 [00:35<01:01, 119.64it/s]"
          ],
          "name": "stderr"
        },
        {
          "output_type": "stream",
          "text": [
            " Loss: 2.014109448153863 lr: [0.0009045486059824497]\n"
          ],
          "name": "stdout"
        },
        {
          "output_type": "stream",
          "text": [
            " 25%|██▌       | 2323/9207 [00:39<01:01, 111.40it/s]"
          ],
          "name": "stderr"
        },
        {
          "output_type": "stream",
          "text": [
            " Loss: 2.0175364461332204 lr: [0.0008536438580581026]\n"
          ],
          "name": "stdout"
        },
        {
          "output_type": "stream",
          "text": [
            " 30%|███       | 2779/9207 [00:43<00:56, 113.77it/s]"
          ],
          "name": "stderr"
        },
        {
          "output_type": "stream",
          "text": [
            " Loss: 2.0264421760739086 lr: [0.0007940444335081718]\n"
          ],
          "name": "stdout"
        },
        {
          "output_type": "stream",
          "text": [
            " 35%|███▌      | 3235/9207 [00:48<00:52, 113.18it/s]"
          ],
          "name": "stderr"
        },
        {
          "output_type": "stream",
          "text": [
            " Loss: 2.0326697726145233 lr: [0.0007272156418855432]\n"
          ],
          "name": "stdout"
        },
        {
          "output_type": "stream",
          "text": [
            " 40%|████      | 3704/9207 [00:51<00:45, 119.68it/s]"
          ],
          "name": "stderr"
        },
        {
          "output_type": "stream",
          "text": [
            " Loss: 2.0423890046689364 lr: [0.000654800533731595]\n"
          ],
          "name": "stdout"
        },
        {
          "output_type": "stream",
          "text": [
            " 45%|████▌     | 4160/9207 [00:55<00:42, 119.43it/s]"
          ],
          "name": "stderr"
        },
        {
          "output_type": "stream",
          "text": [
            " Loss: 2.051256514288397 lr: [0.0005785795045879378]\n"
          ],
          "name": "stdout"
        },
        {
          "output_type": "stream",
          "text": [
            " 50%|█████     | 4619/9207 [00:59<00:38, 118.51it/s]"
          ],
          "name": "stderr"
        },
        {
          "output_type": "stream",
          "text": [
            " Loss: 2.060473791125993 lr: [0.0005004265222483667]\n"
          ],
          "name": "stdout"
        },
        {
          "output_type": "stream",
          "text": [
            " 55%|█████▌    | 5077/9207 [01:03<00:34, 118.53it/s]"
          ],
          "name": "stderr"
        },
        {
          "output_type": "stream",
          "text": [
            " Loss: 2.069820293795487 lr: [0.0004222630534463885]\n"
          ],
          "name": "stdout"
        },
        {
          "output_type": "stream",
          "text": [
            " 60%|██████    | 5538/9207 [01:07<00:31, 117.15it/s]"
          ],
          "name": "stderr"
        },
        {
          "output_type": "stream",
          "text": [
            " Loss: 2.0794634112662944 lr: [0.0003460108227353404]\n"
          ],
          "name": "stdout"
        },
        {
          "output_type": "stream",
          "text": [
            " 65%|██████▌   | 5994/9207 [01:11<00:26, 119.29it/s]"
          ],
          "name": "stderr"
        },
        {
          "output_type": "stream",
          "text": [
            " Loss: 2.0893297050748503 lr: [0.0002735445650297571]\n"
          ],
          "name": "stdout"
        },
        {
          "output_type": "stream",
          "text": [
            " 70%|███████   | 6457/9207 [01:15<00:23, 119.08it/s]"
          ],
          "name": "stderr"
        },
        {
          "output_type": "stream",
          "text": [
            " Loss: 2.0974783592550565 lr: [0.00020664593343249673]\n"
          ],
          "name": "stdout"
        },
        {
          "output_type": "stream",
          "text": [
            " 75%|███████▌  | 6922/9207 [01:19<00:18, 120.61it/s]"
          ],
          "name": "stderr"
        },
        {
          "output_type": "stream",
          "text": [
            " Loss: 2.1057016159008604 lr: [0.00014695969556832917]\n"
          ],
          "name": "stdout"
        },
        {
          "output_type": "stream",
          "text": [
            " 80%|████████  | 7379/9207 [01:22<00:15, 119.24it/s]"
          ],
          "name": "stderr"
        },
        {
          "output_type": "stream",
          "text": [
            " Loss: 2.1120908526800966 lr: [9.595329537951946e-05]\n"
          ],
          "name": "stdout"
        },
        {
          "output_type": "stream",
          "text": [
            " 85%|████████▌ | 7834/9207 [01:26<00:11, 119.91it/s]"
          ],
          "name": "stderr"
        },
        {
          "output_type": "stream",
          "text": [
            " Loss: 2.1173193445588403 lr: [5.488077459582418e-05]\n"
          ],
          "name": "stdout"
        },
        {
          "output_type": "stream",
          "text": [
            " 90%|█████████ | 8297/9207 [01:30<00:07, 120.39it/s]"
          ],
          "name": "stderr"
        },
        {
          "output_type": "stream",
          "text": [
            " Loss: 2.1197092724656343 lr: [2.475194090448226e-05]\n"
          ],
          "name": "stdout"
        },
        {
          "output_type": "stream",
          "text": [
            " 95%|█████████▌| 8764/9207 [01:34<00:03, 120.33it/s]"
          ],
          "name": "stderr"
        },
        {
          "output_type": "stream",
          "text": [
            " Loss: 2.124588150527911 lr: [6.307540850593317e-06]\n"
          ],
          "name": "stdout"
        },
        {
          "output_type": "stream",
          "text": [
            "100%|██████████| 9207/9207 [01:38<00:00, 93.71it/s] "
          ],
          "name": "stderr"
        },
        {
          "output_type": "stream",
          "text": [
            " Loss: 2.1177275960141717 lr: [1.0478661634505379e-09]\n",
            " Loss: 2.1095342380267663\n"
          ],
          "name": "stdout"
        },
        {
          "output_type": "stream",
          "text": [
            "\n",
            "  0%|          | 0/9207 [00:00<?, ?it/s]"
          ],
          "name": "stderr"
        },
        {
          "output_type": "stream",
          "text": [
            "\n",
            "\n",
            "\n",
            "Iteration: 9\n"
          ],
          "name": "stdout"
        },
        {
          "output_type": "stream",
          "text": [
            "  5%|▌         | 473/9207 [00:24<01:12, 120.28it/s]"
          ],
          "name": "stderr"
        },
        {
          "output_type": "stream",
          "text": [
            " Loss: 1.9840664666048675 lr: [0.000993826810226399]\n"
          ],
          "name": "stdout"
        },
        {
          "output_type": "stream",
          "text": [
            " 10%|█         | 937/9207 [00:28<01:10, 116.52it/s]"
          ],
          "name": "stderr"
        },
        {
          "output_type": "stream",
          "text": [
            " Loss: 1.9955679731612075 lr: [0.0009755124393394469]\n"
          ],
          "name": "stdout"
        },
        {
          "output_type": "stream",
          "text": [
            " 15%|█▌        | 1394/9207 [00:32<01:04, 120.69it/s]"
          ],
          "name": "stderr"
        },
        {
          "output_type": "stream",
          "text": [
            " Loss: 1.9975775171895276 lr: [0.0009455071347707878]\n"
          ],
          "name": "stdout"
        },
        {
          "output_type": "stream",
          "text": [
            " 20%|██        | 1855/9207 [00:35<01:01, 119.89it/s]"
          ],
          "name": "stderr"
        },
        {
          "output_type": "stream",
          "text": [
            " Loss: 2.0023943738884786 lr: [0.0009045486059824497]\n"
          ],
          "name": "stdout"
        },
        {
          "output_type": "stream",
          "text": [
            " 25%|██▌       | 2324/9207 [00:39<00:57, 119.00it/s]"
          ],
          "name": "stderr"
        },
        {
          "output_type": "stream",
          "text": [
            " Loss: 2.006501159449449 lr: [0.0008536438580581026]\n"
          ],
          "name": "stdout"
        },
        {
          "output_type": "stream",
          "text": [
            " 30%|███       | 2779/9207 [00:43<00:54, 118.85it/s]"
          ],
          "name": "stderr"
        },
        {
          "output_type": "stream",
          "text": [
            " Loss: 2.016342289794969 lr: [0.0007940444335081718]\n"
          ],
          "name": "stdout"
        },
        {
          "output_type": "stream",
          "text": [
            " 35%|███▌      | 3244/9207 [00:47<00:49, 119.35it/s]"
          ],
          "name": "stderr"
        },
        {
          "output_type": "stream",
          "text": [
            " Loss: 2.0234294850931533 lr: [0.0007272156418855432]\n"
          ],
          "name": "stdout"
        },
        {
          "output_type": "stream",
          "text": [
            " 40%|████      | 3700/9207 [00:51<00:45, 120.52it/s]"
          ],
          "name": "stderr"
        },
        {
          "output_type": "stream",
          "text": [
            " Loss: 2.0341351662111506 lr: [0.000654800533731595]\n"
          ],
          "name": "stdout"
        },
        {
          "output_type": "stream",
          "text": [
            " 45%|████▌     | 4163/9207 [00:55<00:41, 121.63it/s]"
          ],
          "name": "stderr"
        },
        {
          "output_type": "stream",
          "text": [
            " Loss: 2.044130776038362 lr: [0.0005785795045879378]\n"
          ],
          "name": "stdout"
        },
        {
          "output_type": "stream",
          "text": [
            " 50%|█████     | 4622/9207 [00:58<00:37, 121.31it/s]"
          ],
          "name": "stderr"
        },
        {
          "output_type": "stream",
          "text": [
            " Loss: 2.0544373086323042 lr: [0.0005004265222483667]\n"
          ],
          "name": "stdout"
        },
        {
          "output_type": "stream",
          "text": [
            " 55%|█████▌    | 5075/9207 [01:02<00:34, 119.80it/s]"
          ],
          "name": "stderr"
        },
        {
          "output_type": "stream",
          "text": [
            " Loss: 2.064803399071778 lr: [0.0004222630534463885]\n"
          ],
          "name": "stdout"
        },
        {
          "output_type": "stream",
          "text": [
            " 60%|██████    | 5545/9207 [01:06<00:30, 120.20it/s]"
          ],
          "name": "stderr"
        },
        {
          "output_type": "stream",
          "text": [
            " Loss: 2.0755832356924278 lr: [0.0003460108227353404]\n"
          ],
          "name": "stdout"
        },
        {
          "output_type": "stream",
          "text": [
            " 65%|██████▌   | 6000/9207 [01:10<00:26, 120.68it/s]"
          ],
          "name": "stderr"
        },
        {
          "output_type": "stream",
          "text": [
            " Loss: 2.086515751452514 lr: [0.0002735445650297571]\n"
          ],
          "name": "stdout"
        },
        {
          "output_type": "stream",
          "text": [
            " 70%|███████   | 6454/9207 [01:14<00:22, 121.97it/s]"
          ],
          "name": "stderr"
        },
        {
          "output_type": "stream",
          "text": [
            " Loss: 2.095635309283376 lr: [0.00020664593343249673]\n"
          ],
          "name": "stdout"
        },
        {
          "output_type": "stream",
          "text": [
            " 75%|███████▌  | 6921/9207 [01:17<00:19, 120.31it/s]"
          ],
          "name": "stderr"
        },
        {
          "output_type": "stream",
          "text": [
            " Loss: 2.1047827343151035 lr: [0.00014695969556832917]\n"
          ],
          "name": "stdout"
        },
        {
          "output_type": "stream",
          "text": [
            " 80%|████████  | 7376/9207 [01:21<00:15, 119.51it/s]"
          ],
          "name": "stderr"
        },
        {
          "output_type": "stream",
          "text": [
            " Loss: 2.111908180377389 lr: [9.595329537951946e-05]\n"
          ],
          "name": "stdout"
        },
        {
          "output_type": "stream",
          "text": [
            " 85%|████████▌ | 7835/9207 [01:25<00:11, 121.37it/s]"
          ],
          "name": "stderr"
        },
        {
          "output_type": "stream",
          "text": [
            " Loss: 2.117824156635675 lr: [5.488077459582418e-05]\n"
          ],
          "name": "stdout"
        },
        {
          "output_type": "stream",
          "text": [
            " 90%|█████████ | 8301/9207 [01:29<00:07, 120.41it/s]"
          ],
          "name": "stderr"
        },
        {
          "output_type": "stream",
          "text": [
            " Loss: 2.1206309197355657 lr: [2.475194090448226e-05]\n"
          ],
          "name": "stdout"
        },
        {
          "output_type": "stream",
          "text": [
            " 95%|█████████▌| 8755/9207 [01:33<00:03, 121.50it/s]"
          ],
          "name": "stderr"
        },
        {
          "output_type": "stream",
          "text": [
            " Loss: 2.1258285178603034 lr: [6.307540850593317e-06]\n"
          ],
          "name": "stdout"
        },
        {
          "output_type": "stream",
          "text": [
            "100%|██████████| 9207/9207 [01:36<00:00, 95.00it/s] \n"
          ],
          "name": "stderr"
        },
        {
          "output_type": "stream",
          "text": [
            " Loss: 2.1182591598426237 lr: [1.0478661634505379e-09]\n",
            " Loss: 2.1094549387962553\n"
          ],
          "name": "stdout"
        },
        {
          "output_type": "stream",
          "text": [
            "\r  0%|          | 0/9207 [00:00<?, ?it/s]"
          ],
          "name": "stderr"
        },
        {
          "output_type": "stream",
          "text": [
            "\n",
            "\n",
            "\n",
            "Iteration: 10\n"
          ],
          "name": "stdout"
        },
        {
          "output_type": "stream",
          "text": [
            "  5%|▌         | 484/9207 [00:24<01:12, 120.15it/s]"
          ],
          "name": "stderr"
        },
        {
          "output_type": "stream",
          "text": [
            " Loss: 1.9738684584617714 lr: [0.000993826810226399]\n"
          ],
          "name": "stdout"
        },
        {
          "output_type": "stream",
          "text": [
            " 10%|█         | 937/9207 [00:28<01:08, 119.93it/s]"
          ],
          "name": "stderr"
        },
        {
          "output_type": "stream",
          "text": [
            " Loss: 1.9851019980949847 lr: [0.0009755124393394469]\n"
          ],
          "name": "stdout"
        },
        {
          "output_type": "stream",
          "text": [
            " 15%|█▌        | 1401/9207 [00:32<01:05, 119.80it/s]"
          ],
          "name": "stderr"
        },
        {
          "output_type": "stream",
          "text": [
            " Loss: 1.9872943654470892 lr: [0.0009455071347707878]\n"
          ],
          "name": "stdout"
        },
        {
          "output_type": "stream",
          "text": [
            " 20%|██        | 1854/9207 [00:35<01:00, 120.76it/s]"
          ],
          "name": "stderr"
        },
        {
          "output_type": "stream",
          "text": [
            " Loss: 1.9924927853152745 lr: [0.0009045486059824497]\n"
          ],
          "name": "stdout"
        },
        {
          "output_type": "stream",
          "text": [
            " 25%|██▌       | 2318/9207 [00:39<00:57, 119.27it/s]"
          ],
          "name": "stderr"
        },
        {
          "output_type": "stream",
          "text": [
            " Loss: 1.997140088653588 lr: [0.0008536438580581026]\n"
          ],
          "name": "stdout"
        },
        {
          "output_type": "stream",
          "text": [
            " 30%|███       | 2781/9207 [00:43<00:52, 121.99it/s]"
          ],
          "name": "stderr"
        },
        {
          "output_type": "stream",
          "text": [
            " Loss: 2.0077409293465034 lr: [0.0007940444335081718]\n"
          ],
          "name": "stdout"
        },
        {
          "output_type": "stream",
          "text": [
            " 35%|███▌      | 3233/9207 [00:47<00:49, 119.73it/s]"
          ],
          "name": "stderr"
        },
        {
          "output_type": "stream",
          "text": [
            " Loss: 2.015562139273169 lr: [0.0007272156418855432]\n"
          ],
          "name": "stdout"
        },
        {
          "output_type": "stream",
          "text": [
            " 40%|████      | 3700/9207 [00:51<00:44, 122.71it/s]"
          ],
          "name": "stderr"
        },
        {
          "output_type": "stream",
          "text": [
            " Loss: 2.0271322371763016 lr: [0.000654800533731595]\n"
          ],
          "name": "stdout"
        },
        {
          "output_type": "stream",
          "text": [
            " 45%|████▌     | 4164/9207 [00:55<00:42, 119.66it/s]"
          ],
          "name": "stderr"
        },
        {
          "output_type": "stream",
          "text": [
            " Loss: 2.038134392245548 lr: [0.0005785795045879378]\n"
          ],
          "name": "stdout"
        },
        {
          "output_type": "stream",
          "text": [
            " 50%|█████     | 4613/9207 [00:58<00:38, 120.25it/s]"
          ],
          "name": "stderr"
        },
        {
          "output_type": "stream",
          "text": [
            " Loss: 2.049422052307004 lr: [0.0005004265222483667]\n"
          ],
          "name": "stdout"
        },
        {
          "output_type": "stream",
          "text": [
            " 55%|█████▌    | 5076/9207 [01:02<00:34, 120.87it/s]"
          ],
          "name": "stderr"
        },
        {
          "output_type": "stream",
          "text": [
            " Loss: 2.0607248787558037 lr: [0.0004222630534463885]\n"
          ],
          "name": "stdout"
        },
        {
          "output_type": "stream",
          "text": [
            " 60%|██████    | 5539/9207 [01:06<00:30, 119.13it/s]"
          ],
          "name": "stderr"
        },
        {
          "output_type": "stream",
          "text": [
            " Loss: 2.072560049914017 lr: [0.0003460108227353404]\n"
          ],
          "name": "stdout"
        },
        {
          "output_type": "stream",
          "text": [
            " 65%|██████▌   | 6001/9207 [01:10<00:26, 120.56it/s]"
          ],
          "name": "stderr"
        },
        {
          "output_type": "stream",
          "text": [
            " Loss: 2.0844846343159316 lr: [0.0002735445650297571]\n"
          ],
          "name": "stdout"
        },
        {
          "output_type": "stream",
          "text": [
            " 70%|███████   | 6456/9207 [01:14<00:22, 122.40it/s]"
          ],
          "name": "stderr"
        },
        {
          "output_type": "stream",
          "text": [
            " Loss: 2.0945241816139712 lr: [0.00020664593343249673]\n"
          ],
          "name": "stdout"
        },
        {
          "output_type": "stream",
          "text": [
            " 75%|███████▌  | 6924/9207 [01:17<00:18, 122.36it/s]"
          ],
          "name": "stderr"
        },
        {
          "output_type": "stream",
          "text": [
            " Loss: 2.1045328325598494 lr: [0.00014695969556832917]\n"
          ],
          "name": "stdout"
        },
        {
          "output_type": "stream",
          "text": [
            " 80%|████████  | 7374/9207 [01:21<00:15, 120.35it/s]"
          ],
          "name": "stderr"
        },
        {
          "output_type": "stream",
          "text": [
            " Loss: 2.112365947445259 lr: [9.595329537951946e-05]\n"
          ],
          "name": "stdout"
        },
        {
          "output_type": "stream",
          "text": [
            " 85%|████████▌ | 7840/9207 [01:25<00:11, 119.83it/s]"
          ],
          "name": "stderr"
        },
        {
          "output_type": "stream",
          "text": [
            " Loss: 2.1189261087535565 lr: [5.488077459582418e-05]\n"
          ],
          "name": "stdout"
        },
        {
          "output_type": "stream",
          "text": [
            " 90%|█████████ | 8304/9207 [01:29<00:07, 121.12it/s]"
          ],
          "name": "stderr"
        },
        {
          "output_type": "stream",
          "text": [
            " Loss: 2.1221422108045482 lr: [2.475194090448226e-05]\n"
          ],
          "name": "stdout"
        },
        {
          "output_type": "stream",
          "text": [
            " 95%|█████████▌| 8757/9207 [01:33<00:03, 120.77it/s]"
          ],
          "name": "stderr"
        },
        {
          "output_type": "stream",
          "text": [
            " Loss: 2.127638393087247 lr: [6.307540850593317e-06]\n"
          ],
          "name": "stdout"
        },
        {
          "output_type": "stream",
          "text": [
            "100%|██████████| 9207/9207 [01:36<00:00, 95.09it/s] \n"
          ],
          "name": "stderr"
        },
        {
          "output_type": "stream",
          "text": [
            " Loss: 2.1194090574322946 lr: [1.0478661634505379e-09]\n",
            " Loss: 2.1100677695282313\n"
          ],
          "name": "stdout"
        }
      ]
    },
    {
      "cell_type": "code",
      "metadata": {
        "id": "_CO_bnn_8zWH",
        "colab_type": "code",
        "colab": {
          "base_uri": "https://localhost:8080/",
          "height": 34
        },
        "outputId": "c745f644-64eb-4532-9117-6c621532614b"
      },
      "source": [
        "!ls 'gdrive/My Drive/Projects with Wei/Wei_tmp_outputs/'"
      ],
      "execution_count": null,
      "outputs": [
        {
          "output_type": "stream",
          "text": [
            "torch_model  w2v_output  word2vec\n"
          ],
          "name": "stdout"
        }
      ]
    },
    {
      "cell_type": "code",
      "metadata": {
        "id": "mqHXsVet63pL",
        "colab_type": "code",
        "colab": {}
      },
      "source": [
        "torch.save(model.skip_gram_model.state_dict(), 'gdrive/My Drive/Projects with Wei/Wei_tmp_outputs/torch_model/model.pkl')"
      ],
      "execution_count": null,
      "outputs": []
    },
    {
      "cell_type": "code",
      "metadata": {
        "colab_type": "code",
        "id": "M0Rfuy9vxpRP",
        "colab": {
          "base_uri": "https://localhost:8080/",
          "height": 850
        },
        "outputId": "16e90c28-98ce-4a66-91e5-83df3aa7b87a"
      },
      "source": [
        "%lprun -f Word2VecTrainer.train -f Word2vecDataset.__getitem__ -f Word2vecDataset.collate -f train train(input_file=\"text8_10line\",epochs=1)"
      ],
      "execution_count": null,
      "outputs": [
        {
          "output_type": "stream",
          "text": [
            "Total embeddings: 2629\n",
            "Initializing negative samples\n",
            "monitor multi-worker\n",
            "Creating words list...\n",
            "Creating training dataframe...\n",
            "keep ratio is 0.719559\n",
            "sample of discard words are :['the', 'by', 'of', 'is', 'six']\n",
            "keep ratio is 0.718652\n",
            "sample of discard words are :['is', 'two', 'the', 'an', 'eight']\n",
            "keep ratio is 0.719701\n",
            "sample of discard words are :['and', 'a', 'to', 'a', 'in']\n",
            "keep ratio is 0.719218\n",
            "sample of discard words are :['to', 'and', 'as', 's', 'the']\n",
            "keep ratio is 0.719724\n",
            "sample of discard words are :['the', 'nine', 'of', 'to', 'the']\n",
            "keep ratio is 0.720007\n",
            "sample of discard words are :['on', 'a', 'of', 'of', 'with']\n",
            "Shuffling samples...\n",
            "Creating negative samples...\n",
            "Dataload initializing finished!\n"
          ],
          "name": "stdout"
        },
        {
          "output_type": "stream",
          "text": [
            " 16%|█▌        | 7/45 [00:00<00:00, 63.71it/s]"
          ],
          "name": "stderr"
        },
        {
          "output_type": "stream",
          "text": [
            "\n",
            "\n",
            "\n",
            "Iteration: 1\n",
            "new sgd\n",
            " Loss: 18.195078670978546lr: [1.9781476007338057]\n",
            " Loss: 35.74031241238117lr: [1.9396926207859084]\n",
            " Loss: 75.21710203960538lr: [1.882947592858927]\n",
            " Loss: 164.03988227713853lr: [1.8090169943749475]\n",
            " Loss: 363.89116046135314lr: [1.719339800338651]\n",
            " Loss: 813.5565089576994lr: [1.6156614753256582]\n"
          ],
          "name": "stdout"
        },
        {
          "output_type": "stream",
          "text": [
            " 62%|██████▏   | 28/45 [00:00<00:00, 66.38it/s]"
          ],
          "name": "stderr"
        },
        {
          "output_type": "stream",
          "text": [
            " Loss: 1825.3035311535496lr: [1.5]\n",
            " Loss: 4101.734359108395lr: [1.374606593415912]\n",
            " Loss: 9223.703722006798lr: [1.2419218955996678]\n",
            " Loss: 20748.134788528205lr: [1.1045284632676535]\n",
            " Loss: 46678.104728732535lr: [0.9651005032974993]\n",
            " Loss: 105020.53704650854lr: [0.8263518223330697]\n",
            " Loss: 236291.009792499lr: [0.6909830056250527]\n"
          ],
          "name": "stdout"
        },
        {
          "output_type": "stream",
          "text": [
            " 93%|█████████▎| 42/45 [00:00<00:00, 67.57it/s]"
          ],
          "name": "stderr"
        },
        {
          "output_type": "stream",
          "text": [
            " Loss: 531649.5734453476lr: [0.5616288532109225]\n",
            " Loss: 1196206.3417131328lr: [0.4408070965292533]\n",
            " Loss: 2691459.07030194lr: [0.33086939364114176]\n",
            " Loss: 6055777.709669076lr: [0.2339555568810221]\n",
            " Loss: 13625494.648220694lr: [0.15195190384357404]\n",
            " Loss: 30657357.759947527lr: [0.08645454235739924]\n",
            " Loss: 68979049.76132217lr: [0.03873830406168133]\n",
            " Loss: 155202856.76448008lr: [0.009731931258429749]\n"
          ],
          "name": "stdout"
        },
        {
          "output_type": "stream",
          "text": [
            "\r100%|██████████| 45/45 [00:00<00:00, 67.71it/s]\n"
          ],
          "name": "stderr"
        },
        {
          "output_type": "stream",
          "text": [
            " Loss: 349206422.5215621lr: [0.0]\n",
            " Loss: 349206422.5215621\n"
          ],
          "name": "stdout"
        }
      ]
    },
    {
      "cell_type": "code",
      "metadata": {
        "colab_type": "code",
        "id": "VI4sbXBdLA37",
        "colab": {}
      },
      "source": [
        "def normalize(v):\n",
        "  return v / np.sqrt((v ** 2).sum())"
      ],
      "execution_count": null,
      "outputs": []
    },
    {
      "cell_type": "code",
      "metadata": {
        "colab_type": "code",
        "id": "M0uatMcKIWg9",
        "colab": {
          "base_uri": "https://localhost:8080/",
          "height": 34
        },
        "outputId": "7bb8ff12-ba81-4f58-b3a7-53f71e4c8270"
      },
      "source": [
        "record = []\n",
        "with open('gdrive/My Drive/Projects with Wei/Wei_tmp_outputs/w2v_output/out.vec','r') as f:\n",
        "  for l in f.readlines()[1:]:\n",
        "    l = l.split()\n",
        "    record.append({'word':l[0],'v': np.array(l[1:]).astype(float)\n",
        "        })\n",
        "!ls 'gdrive/My Drive/Projects with Wei/Wei_tmp_outputs/w2v_output/out.vec' -l"
      ],
      "execution_count": null,
      "outputs": [
        {
          "output_type": "stream",
          "text": [
            "-rw------- 1 root root 81363252 Jul  5 04:28 'gdrive/My Drive/Projects with Wei/Wei_tmp_outputs/w2v_output/out.vec'\n"
          ],
          "name": "stdout"
        }
      ]
    },
    {
      "cell_type": "code",
      "metadata": {
        "colab_type": "code",
        "id": "_acaqyCTH-Ph",
        "colab": {}
      },
      "source": [
        "df_wv = pd.DataFrame(record)"
      ],
      "execution_count": null,
      "outputs": []
    },
    {
      "cell_type": "code",
      "metadata": {
        "colab_type": "code",
        "id": "Iz3RnI_YO2gd",
        "colab": {
          "base_uri": "https://localhost:8080/",
          "height": 34
        },
        "outputId": "2d1e0933-8987-4953-9481-54da522b88c8"
      },
      "source": [
        "df_wv.shape"
      ],
      "execution_count": null,
      "outputs": [
        {
          "output_type": "execute_result",
          "data": {
            "text/plain": [
              "(71290, 2)"
            ]
          },
          "metadata": {
            "tags": []
          },
          "execution_count": 12
        }
      ]
    },
    {
      "cell_type": "code",
      "metadata": {
        "colab_type": "code",
        "id": "NfR-Lhr2KmSJ",
        "colab": {}
      },
      "source": [
        "def query(df_wv, word):\n",
        "  return df_wv.query('word == @word')['v'].iat[0]"
      ],
      "execution_count": null,
      "outputs": []
    },
    {
      "cell_type": "code",
      "metadata": {
        "colab_type": "code",
        "id": "zAnfXeYEZzyk",
        "colab": {}
      },
      "source": [
        "def norm(v, axis=1):\n",
        "  if v.ndim == 1:\n",
        "    axis = 0\n",
        "  return np.sqrt((v ** 2).sum(axis=axis))"
      ],
      "execution_count": null,
      "outputs": []
    },
    {
      "cell_type": "code",
      "metadata": {
        "colab_type": "code",
        "id": "nwHMPuwRJonu",
        "colab": {}
      },
      "source": [
        "nn = query(df_wv, 'king') - query(df_wv, 'man') + query(df_wv, 'woman')\n",
        "#nn = query(df_wv, 'beijing') - query(df_wv, 'china') + query(df_wv, 'france')\n",
        "#nn = query(df_wv, 'tokyo') - query(df_wv, 'japan') + query(df_wv, 'china')\n",
        "#nn = query(df_wv, 'berlin') - query(df_wv, 'germany') + query(df_wv, 'france')\n",
        "#nn = query(df_wv, 'chemistry') + query(df_wv, 'biology')"
      ],
      "execution_count": null,
      "outputs": []
    },
    {
      "cell_type": "code",
      "metadata": {
        "colab_type": "code",
        "id": "tM3e1FpbZP47",
        "colab": {}
      },
      "source": [
        "idx = np.argsort(-np.array(df_wv['v'].tolist()).dot(nn) / norm(np.array(df_wv['v'].tolist())) / norm(nn))[:10]"
      ],
      "execution_count": null,
      "outputs": []
    },
    {
      "cell_type": "code",
      "metadata": {
        "colab_type": "code",
        "id": "GzUAIRe4J6Ac",
        "colab": {
          "base_uri": "https://localhost:8080/",
          "height": 359
        },
        "outputId": "aae239b0-5668-441b-d242-bdb8f79a41de"
      },
      "source": [
        "df_wv.iloc[idx]"
      ],
      "execution_count": null,
      "outputs": [
        {
          "output_type": "execute_result",
          "data": {
            "text/html": [
              "<div>\n",
              "<style scoped>\n",
              "    .dataframe tbody tr th:only-of-type {\n",
              "        vertical-align: middle;\n",
              "    }\n",
              "\n",
              "    .dataframe tbody tr th {\n",
              "        vertical-align: top;\n",
              "    }\n",
              "\n",
              "    .dataframe thead th {\n",
              "        text-align: right;\n",
              "    }\n",
              "</style>\n",
              "<table border=\"1\" class=\"dataframe\">\n",
              "  <thead>\n",
              "    <tr style=\"text-align: right;\">\n",
              "      <th></th>\n",
              "      <th>word</th>\n",
              "      <th>v</th>\n",
              "    </tr>\n",
              "  </thead>\n",
              "  <tbody>\n",
              "    <tr>\n",
              "      <th>59</th>\n",
              "      <td>king</td>\n",
              "      <td>[0.25682366, 0.5265563, -0.3428215, 0.22853044...</td>\n",
              "    </tr>\n",
              "    <tr>\n",
              "      <th>5281</th>\n",
              "      <td>queen</td>\n",
              "      <td>[0.24002871, 0.15797892, -0.5006429, 0.4440159...</td>\n",
              "    </tr>\n",
              "    <tr>\n",
              "      <th>69354</th>\n",
              "      <td>fortinbras</td>\n",
              "      <td>[0.4533407, 0.49967518, 0.30939332, 0.35899234...</td>\n",
              "    </tr>\n",
              "    <tr>\n",
              "      <th>5833</th>\n",
              "      <td>throne</td>\n",
              "      <td>[0.15846571, 0.06948268, -0.65286267, 0.275083...</td>\n",
              "    </tr>\n",
              "    <tr>\n",
              "      <th>4021</th>\n",
              "      <td>woman</td>\n",
              "      <td>[0.89864457, 0.08260373, -0.7453142, 0.0016958...</td>\n",
              "    </tr>\n",
              "    <tr>\n",
              "      <th>28687</th>\n",
              "      <td>haakon</td>\n",
              "      <td>[0.59113187, 0.5571257, -0.46103752, 0.2661262...</td>\n",
              "    </tr>\n",
              "    <tr>\n",
              "      <th>64455</th>\n",
              "      <td>shaddam</td>\n",
              "      <td>[0.37656596, 0.017006982, -0.30148518, 0.20780...</td>\n",
              "    </tr>\n",
              "    <tr>\n",
              "      <th>39037</th>\n",
              "      <td>jeroboam</td>\n",
              "      <td>[0.7098199, 0.026053963, 0.05566991, 0.2553251...</td>\n",
              "    </tr>\n",
              "    <tr>\n",
              "      <th>23764</th>\n",
              "      <td>sigismund</td>\n",
              "      <td>[0.42741853, 0.59145254, -0.806376, 0.1694513,...</td>\n",
              "    </tr>\n",
              "    <tr>\n",
              "      <th>22601</th>\n",
              "      <td>theodoric</td>\n",
              "      <td>[0.6537579, 0.2909081, -0.53827256, 0.56067944...</td>\n",
              "    </tr>\n",
              "  </tbody>\n",
              "</table>\n",
              "</div>"
            ],
            "text/plain": [
              "             word                                                  v\n",
              "59           king  [0.25682366, 0.5265563, -0.3428215, 0.22853044...\n",
              "5281        queen  [0.24002871, 0.15797892, -0.5006429, 0.4440159...\n",
              "69354  fortinbras  [0.4533407, 0.49967518, 0.30939332, 0.35899234...\n",
              "5833       throne  [0.15846571, 0.06948268, -0.65286267, 0.275083...\n",
              "4021        woman  [0.89864457, 0.08260373, -0.7453142, 0.0016958...\n",
              "28687      haakon  [0.59113187, 0.5571257, -0.46103752, 0.2661262...\n",
              "64455     shaddam  [0.37656596, 0.017006982, -0.30148518, 0.20780...\n",
              "39037    jeroboam  [0.7098199, 0.026053963, 0.05566991, 0.2553251...\n",
              "23764   sigismund  [0.42741853, 0.59145254, -0.806376, 0.1694513,...\n",
              "22601   theodoric  [0.6537579, 0.2909081, -0.53827256, 0.56067944..."
            ]
          },
          "metadata": {
            "tags": []
          },
          "execution_count": 20
        }
      ]
    },
    {
      "cell_type": "code",
      "metadata": {
        "colab_type": "code",
        "id": "JfC0AScBIdK3",
        "colab": {}
      },
      "source": [
        "kdt = KDTree(np.array(df_wv['v'].tolist()), leaf_size=30, metric='euclidean')"
      ],
      "execution_count": null,
      "outputs": []
    },
    {
      "cell_type": "code",
      "metadata": {
        "colab_type": "code",
        "id": "jL6f-XR3JzhT",
        "colab": {}
      },
      "source": [
        "idx_kdt = kdt.query([nn], k=10, return_distance=False)"
      ],
      "execution_count": null,
      "outputs": []
    },
    {
      "cell_type": "code",
      "metadata": {
        "colab_type": "code",
        "id": "zR-WAkHZLls5",
        "colab": {
          "base_uri": "https://localhost:8080/",
          "height": 359
        },
        "outputId": "fc9c1f56-170d-4886-8a1d-618bbb82f055"
      },
      "source": [
        "df_wv.iloc[idx_kdt[0]]"
      ],
      "execution_count": null,
      "outputs": [
        {
          "output_type": "execute_result",
          "data": {
            "text/html": [
              "<div>\n",
              "<style scoped>\n",
              "    .dataframe tbody tr th:only-of-type {\n",
              "        vertical-align: middle;\n",
              "    }\n",
              "\n",
              "    .dataframe tbody tr th {\n",
              "        vertical-align: top;\n",
              "    }\n",
              "\n",
              "    .dataframe thead th {\n",
              "        text-align: right;\n",
              "    }\n",
              "</style>\n",
              "<table border=\"1\" class=\"dataframe\">\n",
              "  <thead>\n",
              "    <tr style=\"text-align: right;\">\n",
              "      <th></th>\n",
              "      <th>word</th>\n",
              "      <th>v</th>\n",
              "    </tr>\n",
              "  </thead>\n",
              "  <tbody>\n",
              "    <tr>\n",
              "      <th>16652</th>\n",
              "      <td>amsterdam</td>\n",
              "      <td>[-0.04225606, -0.1772273, 0.14886653, 0.433470...</td>\n",
              "    </tr>\n",
              "    <tr>\n",
              "      <th>374</th>\n",
              "      <td>france</td>\n",
              "      <td>[0.32410085, -0.030169796, 0.31716037, -0.0723...</td>\n",
              "    </tr>\n",
              "    <tr>\n",
              "      <th>53554</th>\n",
              "      <td>gatwick</td>\n",
              "      <td>[-0.11365152, -0.041066684, 0.01053389, 0.1382...</td>\n",
              "    </tr>\n",
              "    <tr>\n",
              "      <th>36327</th>\n",
              "      <td>dieppe</td>\n",
              "      <td>[-0.017984835, -0.3836057, 0.23845297, 0.08139...</td>\n",
              "    </tr>\n",
              "    <tr>\n",
              "      <th>12042</th>\n",
              "      <td>lisbon</td>\n",
              "      <td>[0.27636647, -0.14155672, 0.17263706, 0.277182...</td>\n",
              "    </tr>\n",
              "    <tr>\n",
              "      <th>16653</th>\n",
              "      <td>antwerp</td>\n",
              "      <td>[0.16522618, -0.24737935, 0.12014366, 0.172257...</td>\n",
              "    </tr>\n",
              "    <tr>\n",
              "      <th>27339</th>\n",
              "      <td>brussels</td>\n",
              "      <td>[-0.014147169, 0.19188918, 0.20063105, 0.12001...</td>\n",
              "    </tr>\n",
              "    <tr>\n",
              "      <th>50552</th>\n",
              "      <td>hasselt</td>\n",
              "      <td>[-0.11635591, -0.32249963, -0.0050784065, 0.13...</td>\n",
              "    </tr>\n",
              "    <tr>\n",
              "      <th>56890</th>\n",
              "      <td>leith</td>\n",
              "      <td>[-0.2590372, -0.3375757, -0.24993496, 0.191510...</td>\n",
              "    </tr>\n",
              "    <tr>\n",
              "      <th>38363</th>\n",
              "      <td>uffizi</td>\n",
              "      <td>[0.14675494, 0.0067567686, 0.26336154, 0.06450...</td>\n",
              "    </tr>\n",
              "  </tbody>\n",
              "</table>\n",
              "</div>"
            ],
            "text/plain": [
              "            word                                                  v\n",
              "16652  amsterdam  [-0.04225606, -0.1772273, 0.14886653, 0.433470...\n",
              "374       france  [0.32410085, -0.030169796, 0.31716037, -0.0723...\n",
              "53554    gatwick  [-0.11365152, -0.041066684, 0.01053389, 0.1382...\n",
              "36327     dieppe  [-0.017984835, -0.3836057, 0.23845297, 0.08139...\n",
              "12042     lisbon  [0.27636647, -0.14155672, 0.17263706, 0.277182...\n",
              "16653    antwerp  [0.16522618, -0.24737935, 0.12014366, 0.172257...\n",
              "27339   brussels  [-0.014147169, 0.19188918, 0.20063105, 0.12001...\n",
              "50552    hasselt  [-0.11635591, -0.32249963, -0.0050784065, 0.13...\n",
              "56890      leith  [-0.2590372, -0.3375757, -0.24993496, 0.191510...\n",
              "38363     uffizi  [0.14675494, 0.0067567686, 0.26336154, 0.06450..."
            ]
          },
          "metadata": {
            "tags": []
          },
          "execution_count": 51
        }
      ]
    },
    {
      "cell_type": "code",
      "metadata": {
        "id": "-04RAevjG-OJ",
        "colab_type": "code",
        "colab": {}
      },
      "source": [
        ""
      ],
      "execution_count": null,
      "outputs": []
    }
  ]
}