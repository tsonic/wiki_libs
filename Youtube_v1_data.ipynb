{
  "nbformat": 4,
  "nbformat_minor": 0,
  "metadata": {
    "colab": {
      "name": "Youtube_v1_data.ipynb",
      "provenance": [],
      "collapsed_sections": [],
      "machine_shape": "hm"
    },
    "kernelspec": {
      "name": "python3",
      "display_name": "Python 3"
    },
    "accelerator": "GPU"
  },
  "cells": [
    {
      "cell_type": "code",
      "metadata": {
        "id": "oJENNPTCZMpI",
        "colab_type": "code",
        "colab": {
          "base_uri": "https://localhost:8080/",
          "height": 119
        },
        "outputId": "9eb3450c-3129-44d5-f537-9b9b2be8b22e"
      },
      "source": [
        "!rm -rf wiki_libs\n",
        "!git clone https://github.com/tsonic/wiki_libs.git"
      ],
      "execution_count": 1,
      "outputs": [
        {
          "output_type": "stream",
          "text": [
            "Cloning into 'wiki_libs'...\n",
            "remote: Enumerating objects: 87, done.\u001b[K\n",
            "remote: Counting objects: 100% (87/87), done.\u001b[K\n",
            "remote: Compressing objects: 100% (60/60), done.\u001b[K\n",
            "remote: Total 87 (delta 44), reused 60 (delta 25), pack-reused 0\u001b[K\n",
            "Unpacking objects: 100% (87/87), done.\n"
          ],
          "name": "stdout"
        }
      ]
    },
    {
      "cell_type": "code",
      "metadata": {
        "id": "AFhOD5agRhg9",
        "colab_type": "code",
        "colab": {}
      },
      "source": [
        "import torch\n",
        "import torch.nn as nn\n",
        "import torch.nn.functional as F\n",
        "from torch.utils.data import DataLoader\n",
        "import matplotlib.pyplot as plt\n",
        "import numpy as np\n",
        "import json\n",
        "from collections import defaultdict\n",
        "import pandas as pd\n",
        "from zipfile import ZipFile\n",
        "import pickle\n",
        "import gc\n",
        "from gensim.models.phrases import Phrases, Phraser\n",
        "import itertools\n",
        "import importlib\n",
        "import wiki_libs\n",
        "from wiki_libs.preprocessing import *\n",
        "from functools import partial\n",
        "import torch.optim as optim\n",
        "import traceback\n",
        "importlib.reload(wiki_libs.preprocessing)\n",
        "\n",
        "use_cuda = torch.cuda.is_available()\n",
        "device = torch.device(\"cuda:0\" if use_cuda else \"cpu\")\n",
        "# cudnn.benchmark = True # CUDA for PyTorch. Faster runtime if input size constant in iterations.  \n",
        "!pip install ipdb > /dev/null\n",
        "!pip install line_profiler > /dev/null\n",
        "%load_ext line_profiler\n",
        "import ipdb\n",
        "import pdb\n",
        "\n",
        "np.random.seed(12345)"
      ],
      "execution_count": 2,
      "outputs": []
    },
    {
      "cell_type": "code",
      "metadata": {
        "colab_type": "code",
        "id": "qtGOBgkoLR4k",
        "colab": {
          "base_uri": "https://localhost:8080/",
          "height": 139
        },
        "outputId": "9ff30dc2-76e0-4456-a88a-9fb2f0dcab87"
      },
      "source": [
        "from google.colab import drive\n",
        "drive.flush_and_unmount()\n",
        "drive.mount('/content/gdrive',force_remount=True)"
      ],
      "execution_count": 3,
      "outputs": [
        {
          "output_type": "stream",
          "text": [
            "Drive not mounted, so nothing to flush and unmount.\n",
            "Go to this URL in a browser: https://accounts.google.com/o/oauth2/auth?client_id=947318989803-6bn6qk8qdgf4n4g3pfee6491hc0brc4i.apps.googleusercontent.com&redirect_uri=urn%3aietf%3awg%3aoauth%3a2.0%3aoob&response_type=code&scope=email%20https%3a%2f%2fwww.googleapis.com%2fauth%2fdocs.test%20https%3a%2f%2fwww.googleapis.com%2fauth%2fdrive%20https%3a%2f%2fwww.googleapis.com%2fauth%2fdrive.photos.readonly%20https%3a%2f%2fwww.googleapis.com%2fauth%2fpeopleapi.readonly\n",
            "\n",
            "Enter your authorization code:\n",
            "··········\n",
            "Mounted at /content/gdrive\n"
          ],
          "name": "stdout"
        }
      ]
    },
    {
      "cell_type": "markdown",
      "metadata": {
        "id": "ClPh1xtBXlwh",
        "colab_type": "text"
      },
      "source": [
        "Configuration Class"
      ]
    },
    {
      "cell_type": "code",
      "metadata": {
        "id": "xRen2hlaY5RJ",
        "colab_type": "code",
        "colab": {}
      },
      "source": [
        "%%time\n",
        "df_cp = read_category_links()"
      ],
      "execution_count": null,
      "outputs": []
    },
    {
      "cell_type": "code",
      "metadata": {
        "id": "uwy0G71ahWi2",
        "colab_type": "code",
        "colab": {}
      },
      "source": [
        "%%time\n",
        "#load ngram model\n",
        "\n",
        "ngram_model = load_ngram_model(NGRAM_MODEL_PATH_PREFIX + \"title_category_ngram_model.pickle\")"
      ],
      "execution_count": null,
      "outputs": []
    },
    {
      "cell_type": "code",
      "metadata": {
        "id": "ciMMs_Ry1Y-K",
        "colab_type": "code",
        "colab": {}
      },
      "source": [
        "print(df_cp.columns)\n",
        "print(df_cp.shape)"
      ],
      "execution_count": null,
      "outputs": []
    },
    {
      "cell_type": "code",
      "metadata": {
        "id": "g34lta9TiMGT",
        "colab_type": "code",
        "colab": {}
      },
      "source": [
        "df_cp['page_title'].isnull().mean()"
      ],
      "execution_count": null,
      "outputs": []
    },
    {
      "cell_type": "code",
      "metadata": {
        "id": "ShwZU4q3f1KN",
        "colab_type": "code",
        "colab": {}
      },
      "source": [
        "%%time\n",
        "# tranform title, return list of list of ngrams\n",
        "title_transformed, category_transformed = get_transformed_title_category(ngram_model)"
      ],
      "execution_count": null,
      "outputs": []
    },
    {
      "cell_type": "code",
      "metadata": {
        "id": "RpN1c9G53lvT",
        "colab_type": "code",
        "colab": {}
      },
      "source": [
        "vocab_title = generate_vocab(title_transformed)"
      ],
      "execution_count": null,
      "outputs": []
    },
    {
      "cell_type": "code",
      "metadata": {
        "id": "EAMczYgU4Cmp",
        "colab_type": "code",
        "colab": {}
      },
      "source": [
        "vocab_category = generate_vocab(category_transformed)"
      ],
      "execution_count": null,
      "outputs": []
    },
    {
      "cell_type": "code",
      "metadata": {
        "id": "-ROzLwcq7Rfh",
        "colab_type": "code",
        "colab": {}
      },
      "source": [
        "vocab_title_category = generate_vocab(title_transformed + category_transformed)"
      ],
      "execution_count": null,
      "outputs": []
    },
    {
      "cell_type": "code",
      "metadata": {
        "id": "wQh_ZrV59Auz",
        "colab_type": "code",
        "colab": {}
      },
      "source": [
        "# with open('gdrive/My Drive/Projects with Wei/wiki_data/ngram_model/vocab.json','w') as f:\n",
        "#   json.dump({\n",
        "#       'vocab_title':vocab_title,\n",
        "#       'vocab_category':vocab_category,\n",
        "#       'vocab_title_category':vocab_title_category,\n",
        "#       }), f)"
      ],
      "execution_count": null,
      "outputs": []
    },
    {
      "cell_type": "code",
      "metadata": {
        "id": "jVWyb8bYZ0T7",
        "colab_type": "code",
        "colab": {}
      },
      "source": [
        "with open('gdrive/My Drive/Projects with Wei/wiki_data/ngram_model/vocab.json','r') as f:\n",
        "    vocab_json = json.load(f)\n",
        "    vocab_title = vocab_json['vocab_title']\n",
        "    vocab_category = vocab_json['vocab_category']\n",
        "    vocab_title_category = 'vocab_title_category'\n",
        "    word2ind_title_category = defaultdict(lambda:-1, {w:i for i, w in enumerate(vocab_title_category)})\n",
        "    word2ind_title = defaultdict(lambda:-1, {w:i for i, w in enumerate(vocab_title)})\n",
        "    word2ind_category = defaultdict(lambda:-1, {w:i for i, w in enumerate(vocab_category)})"
      ],
      "execution_count": null,
      "outputs": []
    },
    {
      "cell_type": "code",
      "metadata": {
        "id": "TjJvyCTB62qD",
        "colab_type": "code",
        "colab": {}
      },
      "source": [
        "len(vocab_title)\n"
      ],
      "execution_count": null,
      "outputs": []
    },
    {
      "cell_type": "code",
      "metadata": {
        "id": "nQKzz9_gghw7",
        "colab_type": "code",
        "colab": {}
      },
      "source": [
        "def ngram_to_idx(l, word2ind):\n",
        "  return np.array([word2ind[ng] for ng in l])"
      ],
      "execution_count": null,
      "outputs": []
    },
    {
      "cell_type": "code",
      "metadata": {
        "id": "ln-c2CjWbjva",
        "colab_type": "code",
        "colab": {}
      },
      "source": [
        "%%time\n",
        "df_page_2_bow = (\n",
        "    df_cp[['page_id','page_title']]\n",
        "    .drop_duplicates()\n",
        "    .fillna({'page_title':''})\n",
        "    .assign(processed_title = lambda df: df['page_title'].apply(process_title))\n",
        "    .assign(processed_title_ngram = lambda df: \n",
        "            transform_ngram(df['processed_title'].tolist(), ngram_model))\n",
        "    .assign(processed_title_ngram_idx = lambda df: \n",
        "            df['processed_title_ngram'].apply(ngram_to_idx, word2ind=word2ind_title))\n",
        ")"
      ],
      "execution_count": null,
      "outputs": []
    },
    {
      "cell_type": "code",
      "metadata": {
        "id": "44iHEGxkiLMs",
        "colab_type": "code",
        "colab": {}
      },
      "source": [
        "%%time\n",
        "df_category_2_bow = (\n",
        "    df_cp[['page_category']]\n",
        "    .drop_duplicates()\n",
        "    .fillna({'page_category':''})\n",
        "    .assign(processed_category = lambda df: df['page_category']\n",
        "                                      .apply(process_title))\n",
        "    .assign(processed_category_ngram = lambda df: transform_ngram(df['processed_category'].tolist(), ngram_model))\n",
        "    .assign(processed_category_ngram_idx = \n",
        "                                     lambda df: df['processed_category_ngram'].apply(ngram_to_idx, word2ind=word2ind_category))\n",
        ")"
      ],
      "execution_count": null,
      "outputs": []
    },
    {
      "cell_type": "code",
      "metadata": {
        "id": "5foEZOu7aEtE",
        "colab_type": "code",
        "colab": {}
      },
      "source": [
        "%%time\n",
        "df_lp = next(read_link_pairs_chunks(n_chunk=10))\n",
        "df_lp.shape"
      ],
      "execution_count": null,
      "outputs": []
    },
    {
      "cell_type": "code",
      "metadata": {
        "id": "xrvrVwqyVPvl",
        "colab_type": "code",
        "colab": {}
      },
      "source": [
        "class Config():\n",
        "    #TODO: fill in the dirs\n",
        "    training_dir = \\\n",
        "    testing_dir = \\\n",
        "\n",
        "    #TODO: complete hyper-par defs\n",
        "    EMD_DIM1      = 2 ** 3 #left tower \n",
        "    EMD_DIM2      = 2 ** 3 #right tower (= left for L2 cals)\n",
        "    MAX_EPOCHS    = 100\n",
        "    LEARNING_RATE = 1 ** (-5) # grid \\in [-6:-3]\n",
        "    NUM_EPOCHS     = 10\n",
        "\n",
        "    # data parameters. to be used in the DataLoader caclass\n",
        "    data_params = {'BATCH_SIZE': 2 ** 6, # grid \\in [3:8]\n",
        "                   'shuffle': True,\n",
        "                   'num_workers': 6}\n"
      ],
      "execution_count": null,
      "outputs": []
    },
    {
      "cell_type": "markdown",
      "metadata": {
        "id": "OPbFLyVXL5yw",
        "colab_type": "text"
      },
      "source": [
        "Helper_functions"
      ]
    },
    {
      "cell_type": "code",
      "metadata": {
        "id": "-a6DdTHtL7Dr",
        "colab_type": "code",
        "colab": {}
      },
      "source": [
        "def show_plot(iteration, loss):\n",
        "    plt.plot(iteration, loss)\n",
        "    plt.show()"
      ],
      "execution_count": null,
      "outputs": []
    },
    {
      "cell_type": "markdown",
      "metadata": {
        "id": "h4wpwC9oS6Ua",
        "colab_type": "text"
      },
      "source": [
        "**Import** data\n",
        "\n",
        "Reference: https://stanford.edu/~shervine/blog/pytorch-how-to-generate-data-parallel"
      ]
    },
    {
      "cell_type": "code",
      "metadata": {
        "id": "-7KSzeuRIyxG",
        "colab_type": "code",
        "colab": {}
      },
      "source": [
        "class PageWordStats(object):\n",
        "    def __init__(self, read_path,\n",
        "                 ngram_model_file = \"title_category_ngram_model.pickle\",\n",
        "                 output_path = \"gdrive/My Drive/Projects with Wei/wiki_data/page_word_stats.json\",\n",
        "                 n_chunk = 10,\n",
        "                 ):\n",
        "        if read_path is not None:\n",
        "            config = json.load(open(read_path, 'r'))\n",
        "            self.word_frequency = config['word_frequency']\n",
        "            self.word2id = config['word2id']\n",
        "            self.id2word = config['id2word']\n",
        "            self.page_frequency = {int(k):v for k, v in config['page_frequency'].items()}\n",
        "\n",
        "            self.page2id = {int(k):v for k, v in config['page2id'].items()}\n",
        "            self.id2page = config['id2page']\n",
        "        else:\n",
        "            # recomptue the target page stats\n",
        "\n",
        "            gen = read_link_pairs_chunks(n_chunk = n_chunk)\n",
        "            print('generating page id stats...')\n",
        "            s_page = []\n",
        "            for df_chunk in gen:\n",
        "                val_counts = df_chunk['page_id_target'].append(df_chunk['page_id_source']).value_counts()\n",
        "                s_page.append(val_counts)\n",
        "            df_stats = (\n",
        "                pd.concat(s_page)\n",
        "                .rename_axis(\"page_id\")  #rename index\n",
        "                .to_frame('count')\n",
        "                .groupby(\"page_id\")\n",
        "                    .sum()\n",
        "                .reset_index()\n",
        "            )\n",
        "            self.page_frequency = {row.page_id: row.count \n",
        "                                   for row in df_stats.itertuples(index = False)}\n",
        "            self.page2id = {p:i for i, p in enumerate(df_stats['page_id'])}\n",
        "            self.id2page = df_stats['page_id'].tolist()\n",
        "\n",
        "            # recompute the word stats\n",
        "            print('generating word/ngram stats from title and categories...')\n",
        "\n",
        "            ngram_model = load_ngram_model(NGRAM_MODEL_PATH_PREFIX + ngram_model_file)\n",
        "            title_transformed, category_transformed = get_transformed_title_category(ngram_model)\n",
        "            s_words = (\n",
        "                pd.Series(itertools.chain(*(title_transformed + category_transformed)))\n",
        "                .value_counts()\n",
        "            )\n",
        "            # word_frequency is a list, where ith element is the word frequency of word with id i.\n",
        "            self.word_frequency = s_words.tolist()\n",
        "            self.word2id = {w:i for i, w in enumerate(s_words.index)}\n",
        "            self.id2word = s_words.index.tolist()\n",
        "            json.dump({\n",
        "                'word_frequency': self.word_frequency,\n",
        "                'word2id': self.word2id,\n",
        "                'id2word':self.id2word,\n",
        "                'page_frequency': self.page_frequency,\n",
        "                'page2id': self.page2id,\n",
        "                'id2page': self.id2page,\n",
        "                }, \n",
        "                open(output_path, 'w'))\n",
        "        print('There are %d unique words/ngrams' % len(self.word2id))\n",
        "        print('There are %d unique pages' % len(self.page2id))"
      ],
      "execution_count": 4,
      "outputs": []
    },
    {
      "cell_type": "code",
      "metadata": {
        "id": "dP-jKZ8qaNJL",
        "colab_type": "code",
        "colab": {}
      },
      "source": [
        "# %%time\n",
        "# page_word_stats = PageWordStats(read_path = None,n_chunk=10)"
      ],
      "execution_count": 5,
      "outputs": []
    },
    {
      "cell_type": "code",
      "metadata": {
        "id": "Bp80ZKWKbXJu",
        "colab_type": "code",
        "colab": {
          "base_uri": "https://localhost:8080/",
          "height": 51
        },
        "outputId": "1e0c2024-13ed-4d23-e15f-1eedc41ccab3"
      },
      "source": [
        "page_word_stats = PageWordStats(read_path = \"gdrive/My Drive/Projects with Wei/wiki_data/page_word_stats.json\")"
      ],
      "execution_count": 6,
      "outputs": [
        {
          "output_type": "stream",
          "text": [
            "There are 1748542 unique words/ngrams\n",
            "There are 5330812 unique pages\n"
          ],
          "name": "stdout"
        }
      ]
    },
    {
      "cell_type": "code",
      "metadata": {
        "id": "bFSjeu9OSpGp",
        "colab_type": "code",
        "colab": {}
      },
      "source": [
        "NEGATIVE_TABLE_SIZE = 1e8\n",
        "class WikiDataset(torch.utils.data.IterableDataset):\n",
        "    'Characterizes a dataset for PyTorch'\n",
        "    def __init__(self, file_list, compression, n_chunk, num_negs, page_word_stats, ns_exponent):\n",
        "        'Initialization'\n",
        "        #self.labels = labels\n",
        "        # self.list_IDs = list_IDs\n",
        "        # if isinstance(file_list, str):\n",
        "        #     file_list = [file_list]\n",
        "        self.file_list = file_list\n",
        "        self.compression = compression\n",
        "        self.n_chunk = n_chunk\n",
        "        self.pos = 0\n",
        "\n",
        "        self.chunk_iterator = None\n",
        "        self.instance_dict = None\n",
        "\n",
        "\n",
        "        self.negatives = []\n",
        "        self.negpos = 0\n",
        "        self.num_negs = num_negs\n",
        "        self.page_word_stats = page_word_stats\n",
        "\n",
        "        self.word_frequency = page_word_stats.word_frequency\n",
        "        self.word2id = page_word_stats.word2id\n",
        "        self.id2word = page_word_stats.id2word\n",
        "        self.page2id = page_word_stats.page2id\n",
        "        p,i = zip(*self.page2id.items())\n",
        "        self.page2id_series_map = pd.Series(i, index = p, dtype = np.int64)\n",
        "        self.id2page = page_word_stats.id2page\n",
        "        self.page_frequency = page_word_stats.page_frequency\n",
        "        self.initTableNegatives(ns_exponent=ns_exponent)\n",
        "\n",
        "    # Iterable may not know the length of the stream before hand\n",
        "    # def __len__(self):\n",
        "    #     'Denotes the total number of samples'\n",
        "    #     return len(self.list_IDs)\n",
        "\n",
        "    # def __getitem__(self, index):\n",
        "    #     'Generates one sample of data'\n",
        "    #     # Select sample\n",
        "    #     ID = self.list_IDs[index]\n",
        "\n",
        "    #     # Load data and get label\n",
        "    #     X = torch.load('data/' + ID + '.pt')\n",
        "    #     y = self.labels[ID]\n",
        "\n",
        "    #     return X, y\n",
        "    \n",
        "    def __iter__(self):\n",
        "        return self\n",
        "    \n",
        "    def __next__(self):\n",
        "        if self.chunk_iterator is None:\n",
        "            self.chunk_iterator = read_files_in_chunks(self.file_list, compression=self.compression, \n",
        "                                                       n_chunk = self.n_chunk, progress_bar = True)\n",
        "            \n",
        "        if self.instance_dict is None or self.pos >= len(self.instance_dict):\n",
        "            #print('read_new_chunk', flush = True)\n",
        "            df = next(self.chunk_iterator)\n",
        "            # have to reset self.pos after pull next in above iterator, otherwise \n",
        "            # it does not invalidate current instance_dict after iterator is exhausted.\n",
        "            self.pos = 0\n",
        "\n",
        "            df = df.assign(\n",
        "                    page_id_source = lambda df: df['page_id_source'].map(self.page2id_series_map),\n",
        "                    page_id_target = lambda df: df['page_id_target'].map(self.page2id_series_map),\n",
        "                )\n",
        "\n",
        "            self.instance_dict = list(df.itertuples(index = False, name = None))\n",
        "        ret = self.instance_dict[self.pos]\n",
        "        self.pos += 1\n",
        "        return ret\n",
        "\n",
        "    def getNegatives(self, target, size):  # TODO check equality with target\n",
        "        response = self.negatives[self.negpos:self.negpos + size]\n",
        "        # reshuffle negative table if negpos > total neg table size.\n",
        "        if (self.negpos + size) // len(self.negatives) >= 1:\n",
        "            # print('reshuffle negative table...')\n",
        "            np.random.shuffle(self.negatives)\n",
        "        self.negpos = (self.negpos + size) % len(self.negatives)\n",
        "        if len(response) != size:\n",
        "            return np.concatenate((response, self.negatives[0:self.negpos]))\n",
        "        return response\n",
        "\n",
        "    def initTableNegatives(self, ns_exponent):\n",
        "        print('Initializing negative samples', flush=True)\n",
        "        page_id, page_counts = zip(*self.page_frequency.items())\n",
        "        ratio = np.array(page_counts).astype(np.float64) ** ns_exponent / sum(page_counts)\n",
        "        sampled_count = np.round(ratio * NEGATIVE_TABLE_SIZE)\n",
        "\n",
        "        df = pd.DataFrame.from_records(enumerate(sampled_count))\n",
        "        # the column 0 is the page id, column 1 is the count of the page\n",
        "        self.negatives = np.repeat(df[0].astype(np.int64).values, df[1].astype(np.int64).values)\n",
        "        np.random.shuffle(self.negatives)\n",
        "\n",
        "    def collate(self,batches):\n",
        "        negs = self.getNegatives(None, self.num_negs * len(batches)).reshape((len(batches), self.num_negs))\n",
        "        id_list, positive_list = zip(*batches)\n",
        "\n",
        "        return torch.LongTensor(id_list), torch.LongTensor(positive_list), torch.from_numpy(negs)\n",
        "\n",
        "    @staticmethod\n",
        "    def worker_init_fn(worker_id, file_handle_lists):\n",
        "        worker_info = torch.utils.data.get_worker_info()\n",
        "        dataset = worker_info.dataset  # the dataset copy in this worker process\n",
        "        worker_id = worker_info.id\n",
        "\n",
        "        np.random.seed(np.random.get_state()[1][0] + worker_id) \n",
        "        np.random.shuffle(dataset.negatives)\n",
        "        dataset.file_list = file_handle_lists[worker_id]"
      ],
      "execution_count": 7,
      "outputs": []
    },
    {
      "cell_type": "code",
      "metadata": {
        "id": "LrhHiSSMHyev",
        "colab_type": "code",
        "colab": {}
      },
      "source": [
        "#%pdb"
      ],
      "execution_count": 8,
      "outputs": []
    },
    {
      "cell_type": "code",
      "metadata": {
        "id": "fMsdT7kmCXDB",
        "colab_type": "code",
        "colab": {}
      },
      "source": [
        "def test():\n",
        "    tt = get_file_handles_in_zip(LINK_PAIRS_LOCATION)\n",
        "    for i, d in enumerate(WikiDataset(tt, compression='zip', n_chunk=100, num_negs=5, page_word_stats = page_word_stats, ns_exponent = 0.5)):\n",
        "        print(d)\n",
        "        if i > 100:\n",
        "            break\n"
      ],
      "execution_count": 9,
      "outputs": []
    },
    {
      "cell_type": "code",
      "metadata": {
        "id": "VFuCRj7X4jyw",
        "colab_type": "code",
        "colab": {}
      },
      "source": [
        "#%lprun -f WikiDataset.__next__ test()"
      ],
      "execution_count": 10,
      "outputs": []
    },
    {
      "cell_type": "code",
      "metadata": {
        "id": "VeFXyLw2S8Mk",
        "colab_type": "code",
        "colab": {}
      },
      "source": [
        "# # Datasets\n",
        "# partition = # IDs\n",
        "# labels = # Labels\n",
        "\n",
        "# #dataloader -> iterator\n",
        "# training_set = Dataset(partition['train'], labels)\n",
        "# validation_set = Dataset(partition['validation'], labels)\n",
        "\n",
        "# #TODO: load trainset and testset\n",
        "# training_generator  = DataLoader(trainset, **data_params)\n",
        "# validation_generator  = DataLoader(testset, **data_params)"
      ],
      "execution_count": 11,
      "outputs": []
    },
    {
      "cell_type": "markdown",
      "metadata": {
        "id": "u8F1ILBCXSvz",
        "colab_type": "text"
      },
      "source": [
        "Model"
      ]
    },
    {
      "cell_type": "code",
      "metadata": {
        "id": "htHjJZE7cgib",
        "colab_type": "code",
        "colab": {}
      },
      "source": [
        "class two_tower(nn.Module):\n",
        "    def __init__(self, vocab_size, embedding_dim, context_size, hidden_dim1, out_dim):\n",
        "        super(nn.Module, self).__init__()\n",
        "        self.embeddings = nn.Embedding(vocab_size, embedding_dim)\n",
        "        self.linear1 = nn.Linear(context_size * embedding_dim, hidden_dim1)\n",
        "        self.linear2 = nn.Linear(hidden_dim1, out_dim)\n",
        "\n",
        "    def forward_left(self, inputs):\n",
        "        embeds = self.embeddings(inputs).view((1, -1))\n",
        "        h = F.relu(self.linear1(embeds))\n",
        "        out = F.relu(self.linear2(h))\n",
        "        # log_probs = F.log_softmax(out, dim=1)\n",
        "        return out\n",
        "\n",
        "    def forward_right(self, inputs):\n",
        "        embeds = self.embeddings(inputs).view((1, -1))\n",
        "        h = F.relu(self.linear1(embeds))\n",
        "        out = F.relu(self.linear2(h))\n",
        "        # log_probs = F.log_softmax(out, dim=1)\n",
        "        return out\n",
        "\n",
        "    def forward(self, inputs):\n",
        "        inputs_left, inputs_right = inputs\n",
        "        return self.forward_left(inputs_left), self.forward_right(inputs_right)"
      ],
      "execution_count": 12,
      "outputs": []
    },
    {
      "cell_type": "code",
      "metadata": {
        "id": "lskV0o6b5yOm",
        "colab_type": "code",
        "colab": {}
      },
      "source": [
        "class OneTower(nn.Module):\n",
        "    def __init__(self, corpus_size, embedding_dim, hidden_dim1, out_dim, sparse, single_layer = False):\n",
        "        super(OneTower, self).__init__()\n",
        "        self.embeddings = nn.Embedding(corpus_size, embedding_dim, sparse=sparse)\n",
        "        self.single_layer = single_layer\n",
        "\n",
        "        # if single_layer is True, it essentially become w2v model with single hidden layer\n",
        "        if not self.single_layer:\n",
        "            self.linear1 = nn.Linear(embedding_dim, hidden_dim1)\n",
        "            self.linear2 = nn.Linear(hidden_dim1, out_dim)\n",
        "        self.out_embeddings = nn.Embedding(corpus_size, embedding_dim, sparse=sparse)\n",
        "        \n",
        "    def forward(self, pos_u, pos_v, neg_v):\n",
        "        emb_u = self.embeddings(pos_u)\n",
        "        emb_v = self.out_embeddings(pos_v)\n",
        "        emb_neg_v = self.out_embeddings(neg_v)\n",
        "\n",
        "        if not self.single_layer:\n",
        "            h1 = F.relu(self.linear1(emb_u))\n",
        "            h2 = F.relu(self.linear2(h1))\n",
        "        else:\n",
        "            h2 = emb_v\n",
        "\n",
        "        score = torch.sum(torch.mul(h2, emb_v), dim=1)\n",
        "        score = torch.clamp(score, max=10, min=-10)\n",
        "        score = -F.logsigmoid(score)\n",
        "\n",
        "\n",
        "        neg_score = torch.bmm(emb_neg_v, h2.unsqueeze(2)).squeeze()\n",
        "        neg_score = torch.clamp(neg_score, max=10, min=-10)\n",
        "        neg_score = -torch.sum(F.logsigmoid(-neg_score), dim=1)\n",
        "\n",
        "        return torch.mean(score + neg_score)    "
      ],
      "execution_count": 13,
      "outputs": []
    },
    {
      "cell_type": "code",
      "metadata": {
        "id": "ns7DMTP32Cl-",
        "colab_type": "code",
        "colab": {}
      },
      "source": [
        "#%pdb"
      ],
      "execution_count": 14,
      "outputs": []
    },
    {
      "cell_type": "code",
      "metadata": {
        "id": "XL7lfyCsDkIv",
        "colab_type": "code",
        "colab": {}
      },
      "source": [
        "class MultipleOptimizer:\n",
        "    def __init__(self, *op):\n",
        "        self.optimizers = op\n",
        "\n",
        "    def zero_grad(self):\n",
        "        for op in self.optimizers:\n",
        "            op.zero_grad()\n",
        "\n",
        "    def step(self):\n",
        "        for op in self.optimizers:\n",
        "            op.step()\n",
        "\n",
        "class WikiTrainer:\n",
        "\n",
        "    def __init__(self, page_word_stats, hidden_dim1, out_dim, embedding_dim=100, batch_size=32, window_size=5, iterations=3,\n",
        "                 initial_lr=0.001, min_count=12, num_workers=0, collate_fn='custom', iprint=500, t=1e-3, ns_exponent=0.75, \n",
        "                 optimizer='adam', optimizer_kwargs = None, warm_start_model = None, lr_schedule = False, timeout = 60, n_chunk = 20,\n",
        "                 sparse=False, single_layer=False, test = False, save_embedding = True):\n",
        "\n",
        "        file_handle_lists = get_files_in_dir(LINK_PAIRS_LOCATION)\n",
        "        if test:\n",
        "            file_handle_lists = file_handle_lists[:2]\n",
        "            num_workers = 0\n",
        "            n_chunk = 1\n",
        "            \n",
        "        dataset = WikiDataset(file_list = None, compression = 'zip', n_chunk = n_chunk, \n",
        "                              page_word_stats = page_word_stats, num_negs=5, \n",
        "                              ns_exponent=ns_exponent)\n",
        "        if collate_fn == 'custom':\n",
        "            collate_fn = dataset.collate\n",
        "        else:\n",
        "            collate_fn = None\n",
        "        \n",
        "        if num_workers > 0:\n",
        "            file_handle_lists = np.array_split(file_handle_lists, num_workers)\n",
        "        else:\n",
        "            timeout = 0\n",
        "            dataset.file_list = file_handle_lists\n",
        "\n",
        "        self.dataloader = DataLoader(dataset, batch_size=batch_size,\n",
        "                                     shuffle=False, num_workers=num_workers, \n",
        "                                     collate_fn=collate_fn, \n",
        "                                     worker_init_fn=partial(dataset.worker_init_fn, file_handle_lists=file_handle_lists),\n",
        "                                     timeout = timeout,\n",
        "                                    )\n",
        "\n",
        "        # self.output_file_name = output_file\n",
        "        self.corpus_size = len(dataset.page_frequency)\n",
        "        self.embedding_dim = embedding_dim\n",
        "        self.save_embedding = save_embedding\n",
        "        self.iprint = iprint\n",
        "        self.batch_size = batch_size\n",
        "        self.iterations = iterations\n",
        "        self.initial_lr = initial_lr\n",
        "        self.model = OneTower(self.corpus_size, self.embedding_dim, \n",
        " #                             context_size = dataset.num_neg, \n",
        "                              hidden_dim1 = hidden_dim1, \n",
        "                              out_dim = out_dim, sparse=sparse,\n",
        "                              single_layer = single_layer,\n",
        "                              )\n",
        "\n",
        "        if warm_start_model is not None:\n",
        "            self.model.load_state_dict(torch.load(warm_start_model), strict=False)\n",
        "        self.optimizer = optimizer\n",
        "        if optimizer_kwargs is None:\n",
        "            optimizer_kwargs = {}\n",
        "        self.optimizer_kwargs = optimizer_kwargs\n",
        "        self.lr_schedule = lr_schedule\n",
        "        self.use_cuda = torch.cuda.is_available()\n",
        "        self.device = torch.device(\"cuda\" if self.use_cuda else \"cpu\")\n",
        "        if self.use_cuda:\n",
        "            self.model.cuda()\n",
        "\n",
        "    def train(self):\n",
        "        # clearn GPU memory cache\n",
        "        gc.collect()\n",
        "        torch.cuda.empty_cache()\n",
        "\n",
        "        if self.optimizer == 'adam':\n",
        "            optimizer = optim.Adam(self.model.parameters(), lr=self.initial_lr, **self.optimizer_kwargs)\n",
        "        elif self.optimizer == 'sparse_adam':\n",
        "            optimizer = optim.SparseAdam(self.model.parameters(), lr=self.initial_lr, **self.optimizer_kwargs)\n",
        "        elif self.optimizer == 'sparse_dense_adam':\n",
        "            opti_sparse = optim.SparseAdam([self.model.embeddings.weight, self.model.out_embeddings.weight], lr=self.initial_lr, **self.optimizer_kwargs)\n",
        "            opti_dense = optim.Adam([self.model.linear1.weight, self.model.linear2.weight], lr=self.initial_lr, **self.optimizer_kwargs)\n",
        "            optimizer = MultipleOptimizer(opti_sparse, opti_dense)\n",
        "        elif self.optimizer == 'sgd':\n",
        "            optimizer = optim.SGD(self.model.parameters(), lr=self.initial_lr, **self.optimizer_kwargs)\n",
        "        elif self.optimizer == 'asgd':\n",
        "            optimizer = optim.ASGD(self.model.parameters(), lr=self.initial_lr, **self.optimizer_kwargs)\n",
        "        elif self.optimizer == 'adagrad':\n",
        "            optimizer = optim.Adagrad(self.model.parameters(), lr=self.initial_lr, **self.optimizer_kwargs)\n",
        "        else:\n",
        "            raise Exception('Unknown optimizer!')\n",
        "\n",
        "        for iteration in range(self.iterations):\n",
        "\n",
        "            print(\"\\n\\n\\nIteration: \" + str(iteration + 1))\n",
        "\n",
        "            if self.lr_schedule:\n",
        "                scheduler = torch.optim.lr_scheduler.CosineAnnealingLR(optimizer, len(self.dataloader))\n",
        "            running_loss = 0.0\n",
        "            iprint = self.iprint #len(self.dataloader) // 20\n",
        "            for i, sample_batched in enumerate(self.dataloader):\n",
        "                # ipdb.set_trace()\n",
        "                if len(sample_batched[0]) > 1:\n",
        "                    pos_u = sample_batched[0].to(self.device)\n",
        "                    pos_v = sample_batched[1].to(self.device)\n",
        "                    neg_v = sample_batched[2].to(self.device)\n",
        "                    \n",
        "                    optimizer.zero_grad()\n",
        "                    loss = self.model.forward(pos_u, pos_v, neg_v)\n",
        "                    loss.backward()\n",
        "                    optimizer.step()\n",
        "                    if self.lr_schedule:\n",
        "                        scheduler.step()\n",
        "\n",
        "                    running_loss = running_loss * (1 - 5/iprint) + loss.item() * (5/iprint)\n",
        "                    if i > 0 and i % iprint == 0:\n",
        "                        # print(\" Loss: \" + str(running_loss) + ' lr: ' \n",
        "                        #     + str([param_group['lr'] for param_group in optimizer.param_groups]))\n",
        "                        print(\" Loss: \" + str(running_loss))\n",
        "            print(\" Loss: \" + str(running_loss))\n",
        "\n",
        "        #self.skip_gram_model.save_embedding(self.data.id2word, self.output_file_name)\n",
        "        if self.save_embedding:\n",
        "            print('Saving embeddings...', flush=True)\n",
        "            embeddings = self.model.embeddings.weight.cpu().data.numpy()\n",
        "            np.savez_compressed('gdrive/My Drive/Projects with Wei/wiki_data/wiki_embedding/embedding.npz', embeddings)"
      ],
      "execution_count": 15,
      "outputs": []
    },
    {
      "cell_type": "code",
      "metadata": {
        "id": "E-fs7JuvM8HP",
        "colab_type": "code",
        "colab": {}
      },
      "source": [
        "def train_model(epochs = 1, collate_fn='custom',num_workers=1, test = False, n_chunk = 20, save_embedding=True):\n",
        "  #ipdb.set_trace()\n",
        "  wt = WikiTrainer(\n",
        "                        page_word_stats = page_word_stats, \n",
        "                        hidden_dim1 = 100, \n",
        "                        out_dim = 100, \n",
        "                        # output_file=\"gdrive/My Drive/Projects with Wei/Wei_tmp_outputs/w2v_output/out.vec\",\n",
        "                        # min_count=5,\n",
        "                        batch_size=8096,\n",
        "                        iterations=epochs,\n",
        "                        num_workers=num_workers,\n",
        "                        collate_fn=collate_fn,\n",
        "                        iprint=5000,\n",
        "                        n_chunk = n_chunk,\n",
        "                        embedding_dim=100,\n",
        "                        ns_exponent=0.75,\n",
        "                        initial_lr=0.002,\n",
        "                        optimizer='sparse_adam',\n",
        "                        single_layer=True,\n",
        "                        sparse=True,\n",
        "                        lr_schedule=False,\n",
        "                        test=test,\n",
        "                        save_embedding=save_embedding,\n",
        " #                       optimizer_kwargs={'momentum':0.9},\n",
        " #                       warm_start_model = 'gdrive/My Drive/Projects with Wei/Wei_tmp_outputs/torch_model/model.pkl',\n",
        "                        )\n",
        "  wt.train()\n",
        "  return wt"
      ],
      "execution_count": 16,
      "outputs": []
    },
    {
      "cell_type": "code",
      "metadata": {
        "id": "2n2Q4Kc-cRMT",
        "colab_type": "code",
        "colab": {}
      },
      "source": [
        "gc.collect()\n",
        "torch.cuda.empty_cache()"
      ],
      "execution_count": 17,
      "outputs": []
    },
    {
      "cell_type": "code",
      "metadata": {
        "id": "PK-F-EAyNxS1",
        "colab_type": "code",
        "colab": {
          "base_uri": "https://localhost:8080/",
          "height": 1000
        },
        "outputId": "826524e1-81e9-4137-c81b-b54c449f1c58"
      },
      "source": [
        "train_model(epochs=20,\n",
        "            num_workers=3, \n",
        "            test = False, \n",
        "            save_embedding=True)"
      ],
      "execution_count": 18,
      "outputs": [
        {
          "output_type": "stream",
          "text": [
            "Initializing negative samples\n",
            "\n",
            "\n",
            "\n",
            "Iteration: 1\n"
          ],
          "name": "stdout"
        },
        {
          "output_type": "stream",
          "text": [
            "  5%|▌         | 1/20 [01:10<22:10, 70.03s/it]"
          ],
          "name": "stderr"
        },
        {
          "output_type": "stream",
          "text": [
            " Loss: 14.705712729023572\n"
          ],
          "name": "stdout"
        },
        {
          "output_type": "stream",
          "text": [
            " 15%|█▌        | 3/20 [03:29<19:46, 69.78s/it]"
          ],
          "name": "stderr"
        },
        {
          "output_type": "stream",
          "text": [
            " Loss: 14.020082445807551\n"
          ],
          "name": "stdout"
        },
        {
          "output_type": "stream",
          "text": [
            " 25%|██▌       | 5/20 [05:49<17:27, 69.80s/it]"
          ],
          "name": "stderr"
        },
        {
          "output_type": "stream",
          "text": [
            " Loss: 13.48529598702027\n"
          ],
          "name": "stdout"
        },
        {
          "output_type": "stream",
          "text": [
            " 35%|███▌      | 7/20 [08:14<15:28, 71.42s/it]"
          ],
          "name": "stderr"
        },
        {
          "output_type": "stream",
          "text": [
            " Loss: 13.031981582442004\n"
          ],
          "name": "stdout"
        },
        {
          "output_type": "stream",
          "text": [
            " 50%|█████     | 10/20 [10:52<10:17, 61.72s/it]"
          ],
          "name": "stderr"
        },
        {
          "output_type": "stream",
          "text": [
            " Loss: 12.620547089598384\n"
          ],
          "name": "stdout"
        },
        {
          "output_type": "stream",
          "text": [
            " 60%|██████    | 12/20 [13:09<08:04, 60.58s/it]"
          ],
          "name": "stderr"
        },
        {
          "output_type": "stream",
          "text": [
            " Loss: 12.238354696553483\n"
          ],
          "name": "stdout"
        },
        {
          "output_type": "stream",
          "text": [
            " 70%|███████   | 14/20 [15:02<05:50, 58.39s/it]"
          ],
          "name": "stderr"
        },
        {
          "output_type": "stream",
          "text": [
            " Loss: 11.878915310497542\n"
          ],
          "name": "stdout"
        },
        {
          "output_type": "stream",
          "text": [
            " 85%|████████▌ | 17/20 [17:42<02:58, 59.56s/it]"
          ],
          "name": "stderr"
        },
        {
          "output_type": "stream",
          "text": [
            " Loss: 11.534206094077579\n"
          ],
          "name": "stdout"
        },
        {
          "output_type": "stream",
          "text": [
            " 95%|█████████▌| 19/20 [20:05<01:00, 60.34s/it]"
          ],
          "name": "stderr"
        },
        {
          "output_type": "stream",
          "text": [
            " Loss: 11.20488226139866\n"
          ],
          "name": "stdout"
        },
        {
          "output_type": "stream",
          "text": [
            "100%|██████████| 20/20 [20:42<00:00, 62.13s/it]\n",
            "100%|██████████| 20/20 [20:58<00:00, 62.91s/it]\n",
            "100%|██████████| 20/20 [20:58<00:00, 62.93s/it]\n"
          ],
          "name": "stderr"
        },
        {
          "output_type": "stream",
          "text": [
            " Loss: 11.130658483844984\n",
            "\n",
            "\n",
            "\n",
            "Iteration: 2\n"
          ],
          "name": "stdout"
        },
        {
          "output_type": "stream",
          "text": [
            "  5%|▌         | 1/20 [01:08<21:46, 68.74s/it]"
          ],
          "name": "stderr"
        },
        {
          "output_type": "stream",
          "text": [
            " Loss: 9.12624919620048\n"
          ],
          "name": "stdout"
        },
        {
          "output_type": "stream",
          "text": [
            " 15%|█▌        | 3/20 [03:45<20:50, 73.55s/it]"
          ],
          "name": "stderr"
        },
        {
          "output_type": "stream",
          "text": [
            " Loss: 9.338702698246882\n"
          ],
          "name": "stdout"
        },
        {
          "output_type": "stream",
          "text": [
            " 25%|██▌       | 5/20 [06:22<19:00, 76.03s/it]"
          ],
          "name": "stderr"
        },
        {
          "output_type": "stream",
          "text": [
            " Loss: 9.28243801579988\n"
          ],
          "name": "stdout"
        },
        {
          "output_type": "stream",
          "text": [
            " 35%|███▌      | 7/20 [09:11<17:31, 80.91s/it]"
          ],
          "name": "stderr"
        },
        {
          "output_type": "stream",
          "text": [
            " Loss: 9.159208511143031\n"
          ],
          "name": "stdout"
        },
        {
          "output_type": "stream",
          "text": [
            " 50%|█████     | 10/20 [12:08<11:32, 69.26s/it]"
          ],
          "name": "stderr"
        },
        {
          "output_type": "stream",
          "text": [
            " Loss: 9.003360168169927\n"
          ],
          "name": "stdout"
        },
        {
          "output_type": "stream",
          "text": [
            " 60%|██████    | 12/20 [14:32<08:46, 65.78s/it]"
          ],
          "name": "stderr"
        },
        {
          "output_type": "stream",
          "text": [
            " Loss: 8.834916685606775\n"
          ],
          "name": "stdout"
        },
        {
          "output_type": "stream",
          "text": [
            " 70%|███████   | 14/20 [16:35<06:21, 63.54s/it]"
          ],
          "name": "stderr"
        },
        {
          "output_type": "stream",
          "text": [
            " Loss: 8.661599498036727\n"
          ],
          "name": "stdout"
        },
        {
          "output_type": "stream",
          "text": [
            " 85%|████████▌ | 17/20 [19:22<03:08, 62.86s/it]"
          ],
          "name": "stderr"
        },
        {
          "output_type": "stream",
          "text": [
            " Loss: 8.488044523666446\n"
          ],
          "name": "stdout"
        },
        {
          "output_type": "stream",
          "text": [
            " 95%|█████████▌| 19/20 [21:57<01:04, 64.76s/it]"
          ],
          "name": "stderr"
        },
        {
          "output_type": "stream",
          "text": [
            " Loss: 8.315058143360355\n"
          ],
          "name": "stdout"
        },
        {
          "output_type": "stream",
          "text": [
            "100%|██████████| 20/20 [22:38<00:00, 67.95s/it]\n",
            "100%|██████████| 20/20 [22:54<00:00, 68.73s/it]\n",
            "100%|██████████| 20/20 [22:55<00:00, 68.75s/it]\n"
          ],
          "name": "stderr"
        },
        {
          "output_type": "stream",
          "text": [
            " Loss: 8.272815172636834\n",
            "\n",
            "\n",
            "\n",
            "Iteration: 3\n"
          ],
          "name": "stdout"
        },
        {
          "output_type": "stream",
          "text": [
            "  5%|▌         | 1/20 [01:08<21:46, 68.78s/it]"
          ],
          "name": "stderr"
        },
        {
          "output_type": "stream",
          "text": [
            " Loss: 7.042097638553477\n"
          ],
          "name": "stdout"
        },
        {
          "output_type": "stream",
          "text": [
            " 15%|█▌        | 3/20 [03:46<20:54, 73.80s/it]"
          ],
          "name": "stderr"
        },
        {
          "output_type": "stream",
          "text": [
            " Loss: 7.186788740361588\n"
          ],
          "name": "stdout"
        },
        {
          "output_type": "stream",
          "text": [
            " 25%|██▌       | 5/20 [06:22<19:00, 76.02s/it]"
          ],
          "name": "stderr"
        },
        {
          "output_type": "stream",
          "text": [
            " Loss: 7.16451801810809\n"
          ],
          "name": "stdout"
        },
        {
          "output_type": "stream",
          "text": [
            " 35%|███▌      | 7/20 [09:13<17:35, 81.18s/it]"
          ],
          "name": "stderr"
        },
        {
          "output_type": "stream",
          "text": [
            " Loss: 7.104052870718289\n"
          ],
          "name": "stdout"
        },
        {
          "output_type": "stream",
          "text": [
            " 50%|█████     | 10/20 [12:10<11:32, 69.26s/it]"
          ],
          "name": "stderr"
        },
        {
          "output_type": "stream",
          "text": [
            " Loss: 7.024983399651482\n"
          ],
          "name": "stdout"
        },
        {
          "output_type": "stream",
          "text": [
            " 60%|██████    | 12/20 [14:33<08:47, 65.94s/it]"
          ],
          "name": "stderr"
        },
        {
          "output_type": "stream",
          "text": [
            " Loss: 6.937885095441418\n"
          ],
          "name": "stdout"
        },
        {
          "output_type": "stream",
          "text": [
            " 70%|███████   | 14/20 [16:36<06:21, 63.51s/it]"
          ],
          "name": "stderr"
        },
        {
          "output_type": "stream",
          "text": [
            " Loss: 6.848280277620312\n"
          ],
          "name": "stdout"
        },
        {
          "output_type": "stream",
          "text": [
            " 85%|████████▌ | 17/20 [19:24<03:08, 62.95s/it]"
          ],
          "name": "stderr"
        },
        {
          "output_type": "stream",
          "text": [
            " Loss: 6.757251297398909\n"
          ],
          "name": "stdout"
        },
        {
          "output_type": "stream",
          "text": [
            " 95%|█████████▌| 19/20 [21:58<01:04, 64.77s/it]"
          ],
          "name": "stderr"
        },
        {
          "output_type": "stream",
          "text": [
            " Loss: 6.665298098393561\n"
          ],
          "name": "stdout"
        },
        {
          "output_type": "stream",
          "text": [
            "100%|██████████| 20/20 [22:40<00:00, 68.04s/it]\n",
            "100%|██████████| 20/20 [22:55<00:00, 68.80s/it]\n",
            "100%|██████████| 20/20 [22:56<00:00, 68.81s/it]\n"
          ],
          "name": "stderr"
        },
        {
          "output_type": "stream",
          "text": [
            " Loss: 6.640984955353588\n",
            "\n",
            "\n",
            "\n",
            "Iteration: 4\n"
          ],
          "name": "stdout"
        },
        {
          "output_type": "stream",
          "text": [
            "  5%|▌         | 1/20 [01:08<21:41, 68.48s/it]"
          ],
          "name": "stderr"
        },
        {
          "output_type": "stream",
          "text": [
            " Loss: 5.842159752767573\n"
          ],
          "name": "stdout"
        },
        {
          "output_type": "stream",
          "text": [
            " 15%|█▌        | 3/20 [03:45<20:48, 73.46s/it]"
          ],
          "name": "stderr"
        },
        {
          "output_type": "stream",
          "text": [
            " Loss: 5.952811795620117\n"
          ],
          "name": "stdout"
        },
        {
          "output_type": "stream",
          "text": [
            " 25%|██▌       | 5/20 [06:22<19:01, 76.08s/it]"
          ],
          "name": "stderr"
        },
        {
          "output_type": "stream",
          "text": [
            " Loss: 5.949601193402164\n"
          ],
          "name": "stdout"
        },
        {
          "output_type": "stream",
          "text": [
            " 35%|███▌      | 7/20 [09:12<17:33, 81.02s/it]"
          ],
          "name": "stderr"
        },
        {
          "output_type": "stream",
          "text": [
            " Loss: 5.921586902032292\n"
          ],
          "name": "stdout"
        },
        {
          "output_type": "stream",
          "text": [
            " 50%|█████     | 10/20 [12:09<11:33, 69.38s/it]"
          ],
          "name": "stderr"
        },
        {
          "output_type": "stream",
          "text": [
            " Loss: 5.881117123147254\n"
          ],
          "name": "stdout"
        },
        {
          "output_type": "stream",
          "text": [
            " 60%|██████    | 12/20 [14:33<08:47, 65.92s/it]"
          ],
          "name": "stderr"
        },
        {
          "output_type": "stream",
          "text": [
            " Loss: 5.834848915180094\n"
          ],
          "name": "stdout"
        },
        {
          "output_type": "stream",
          "text": [
            " 70%|███████   | 14/20 [16:37<06:21, 63.66s/it]"
          ],
          "name": "stderr"
        },
        {
          "output_type": "stream",
          "text": [
            " Loss: 5.7863427410066235\n"
          ],
          "name": "stdout"
        },
        {
          "output_type": "stream",
          "text": [
            " 85%|████████▌ | 17/20 [19:24<03:08, 62.91s/it]"
          ],
          "name": "stderr"
        },
        {
          "output_type": "stream",
          "text": [
            " Loss: 5.735112263829685\n"
          ],
          "name": "stdout"
        },
        {
          "output_type": "stream",
          "text": [
            " 95%|█████████▌| 19/20 [21:59<01:04, 64.94s/it]"
          ],
          "name": "stderr"
        },
        {
          "output_type": "stream",
          "text": [
            " Loss: 5.682560427720571\n"
          ],
          "name": "stdout"
        },
        {
          "output_type": "stream",
          "text": [
            "100%|██████████| 20/20 [22:40<00:00, 68.04s/it]\n",
            "100%|██████████| 20/20 [22:56<00:00, 68.81s/it]\n",
            "100%|██████████| 20/20 [22:56<00:00, 68.84s/it]\n"
          ],
          "name": "stderr"
        },
        {
          "output_type": "stream",
          "text": [
            " Loss: 5.6671948555324345\n",
            "\n",
            "\n",
            "\n",
            "Iteration: 5\n"
          ],
          "name": "stdout"
        },
        {
          "output_type": "stream",
          "text": [
            "  5%|▌         | 1/20 [01:08<21:36, 68.22s/it]"
          ],
          "name": "stderr"
        },
        {
          "output_type": "stream",
          "text": [
            " Loss: 5.1187579103088465\n"
          ],
          "name": "stdout"
        },
        {
          "output_type": "stream",
          "text": [
            " 15%|█▌        | 3/20 [03:45<20:47, 73.41s/it]"
          ],
          "name": "stderr"
        },
        {
          "output_type": "stream",
          "text": [
            " Loss: 5.205477005739818\n"
          ],
          "name": "stdout"
        },
        {
          "output_type": "stream",
          "text": [
            " 25%|██▌       | 5/20 [06:22<18:58, 75.89s/it]"
          ],
          "name": "stderr"
        },
        {
          "output_type": "stream",
          "text": [
            " Loss: 5.207859828353313\n"
          ],
          "name": "stdout"
        },
        {
          "output_type": "stream",
          "text": [
            " 35%|███▌      | 7/20 [09:01<16:50, 77.70s/it]"
          ],
          "name": "stderr"
        },
        {
          "output_type": "stream",
          "text": [
            " Loss: 5.193493870212259\n"
          ],
          "name": "stdout"
        },
        {
          "output_type": "stream",
          "text": [
            " 50%|█████     | 10/20 [11:34<10:26, 62.61s/it]"
          ],
          "name": "stderr"
        },
        {
          "output_type": "stream",
          "text": [
            " Loss: 5.170238957232028\n"
          ],
          "name": "stdout"
        },
        {
          "output_type": "stream",
          "text": [
            " 60%|██████    | 12/20 [13:43<07:56, 59.60s/it]"
          ],
          "name": "stderr"
        },
        {
          "output_type": "stream",
          "text": [
            " Loss: 5.143098596937443\n"
          ],
          "name": "stdout"
        },
        {
          "output_type": "stream",
          "text": [
            " 70%|███████   | 14/20 [15:36<05:47, 57.85s/it]"
          ],
          "name": "stderr"
        },
        {
          "output_type": "stream",
          "text": [
            " Loss: 5.114118693820992\n"
          ],
          "name": "stdout"
        },
        {
          "output_type": "stream",
          "text": [
            " 85%|████████▌ | 17/20 [17:58<02:45, 55.07s/it]"
          ],
          "name": "stderr"
        },
        {
          "output_type": "stream",
          "text": [
            " Loss: 5.0823021309002625\n"
          ],
          "name": "stdout"
        },
        {
          "output_type": "stream",
          "text": [
            " 95%|█████████▌| 19/20 [20:17<00:57, 57.60s/it]"
          ],
          "name": "stderr"
        },
        {
          "output_type": "stream",
          "text": [
            " Loss: 5.049486959766672\n"
          ],
          "name": "stdout"
        },
        {
          "output_type": "stream",
          "text": [
            "100%|██████████| 20/20 [20:53<00:00, 62.69s/it]\n",
            "100%|██████████| 20/20 [21:09<00:00, 63.48s/it]\n",
            "100%|██████████| 20/20 [21:10<00:00, 63.50s/it]\n"
          ],
          "name": "stderr"
        },
        {
          "output_type": "stream",
          "text": [
            " Loss: 5.038798552088651\n",
            "\n",
            "\n",
            "\n",
            "Iteration: 6\n"
          ],
          "name": "stdout"
        },
        {
          "output_type": "stream",
          "text": [
            "  5%|▌         | 1/20 [01:08<21:39, 68.39s/it]"
          ],
          "name": "stderr"
        },
        {
          "output_type": "stream",
          "text": [
            " Loss: 4.644592556280059\n"
          ],
          "name": "stdout"
        },
        {
          "output_type": "stream",
          "text": [
            " 15%|█▌        | 3/20 [03:45<20:50, 73.56s/it]"
          ],
          "name": "stderr"
        },
        {
          "output_type": "stream",
          "text": [
            " Loss: 4.714480143755549\n"
          ],
          "name": "stdout"
        },
        {
          "output_type": "stream",
          "text": [
            " 25%|██▌       | 5/20 [06:22<18:59, 75.99s/it]"
          ],
          "name": "stderr"
        },
        {
          "output_type": "stream",
          "text": [
            " Loss: 4.717834830680678\n"
          ],
          "name": "stdout"
        },
        {
          "output_type": "stream",
          "text": [
            " 35%|███▌      | 7/20 [09:14<17:38, 81.43s/it]"
          ],
          "name": "stderr"
        },
        {
          "output_type": "stream",
          "text": [
            " Loss: 4.709556247940599\n"
          ],
          "name": "stdout"
        },
        {
          "output_type": "stream",
          "text": [
            " 50%|█████     | 10/20 [12:12<11:36, 69.69s/it]"
          ],
          "name": "stderr"
        },
        {
          "output_type": "stream",
          "text": [
            " Loss: 4.694848571653949\n"
          ],
          "name": "stdout"
        },
        {
          "output_type": "stream",
          "text": [
            " 60%|██████    | 12/20 [14:36<08:48, 66.11s/it]"
          ],
          "name": "stderr"
        },
        {
          "output_type": "stream",
          "text": [
            " Loss: 4.677890212219312\n"
          ],
          "name": "stdout"
        },
        {
          "output_type": "stream",
          "text": [
            " 70%|███████   | 14/20 [16:39<06:21, 63.62s/it]"
          ],
          "name": "stderr"
        },
        {
          "output_type": "stream",
          "text": [
            " Loss: 4.658941678280112\n"
          ],
          "name": "stdout"
        },
        {
          "output_type": "stream",
          "text": [
            " 85%|████████▌ | 17/20 [19:29<03:10, 63.52s/it]"
          ],
          "name": "stderr"
        },
        {
          "output_type": "stream",
          "text": [
            " Loss: 4.6376285979320135\n"
          ],
          "name": "stdout"
        },
        {
          "output_type": "stream",
          "text": [
            " 95%|█████████▌| 19/20 [22:03<01:04, 64.90s/it]"
          ],
          "name": "stderr"
        },
        {
          "output_type": "stream",
          "text": [
            " Loss: 4.615689894999125\n"
          ],
          "name": "stdout"
        },
        {
          "output_type": "stream",
          "text": [
            "100%|██████████| 20/20 [22:44<00:00, 68.24s/it]\n",
            "100%|██████████| 20/20 [23:00<00:00, 69.02s/it]\n",
            "100%|██████████| 20/20 [23:00<00:00, 69.04s/it]\n"
          ],
          "name": "stderr"
        },
        {
          "output_type": "stream",
          "text": [
            " Loss: 4.607656718658163\n",
            "\n",
            "\n",
            "\n",
            "Iteration: 7\n"
          ],
          "name": "stdout"
        },
        {
          "output_type": "stream",
          "text": [
            "  5%|▌         | 1/20 [01:08<21:45, 68.72s/it]"
          ],
          "name": "stderr"
        },
        {
          "output_type": "stream",
          "text": [
            " Loss: 4.313271718963405\n"
          ],
          "name": "stdout"
        },
        {
          "output_type": "stream",
          "text": [
            " 15%|█▌        | 3/20 [03:45<20:51, 73.62s/it]"
          ],
          "name": "stderr"
        },
        {
          "output_type": "stream",
          "text": [
            " Loss: 4.371332271032591\n"
          ],
          "name": "stdout"
        },
        {
          "output_type": "stream",
          "text": [
            " 25%|██▌       | 5/20 [06:22<19:01, 76.12s/it]"
          ],
          "name": "stderr"
        },
        {
          "output_type": "stream",
          "text": [
            " Loss: 4.374425640528766\n"
          ],
          "name": "stdout"
        },
        {
          "output_type": "stream",
          "text": [
            " 35%|███▌      | 7/20 [09:12<17:33, 81.03s/it]"
          ],
          "name": "stderr"
        },
        {
          "output_type": "stream",
          "text": [
            " Loss: 4.369206503169216\n"
          ],
          "name": "stdout"
        },
        {
          "output_type": "stream",
          "text": [
            " 50%|█████     | 10/20 [12:10<11:34, 69.47s/it]"
          ],
          "name": "stderr"
        },
        {
          "output_type": "stream",
          "text": [
            " Loss: 4.359030220640019\n"
          ],
          "name": "stdout"
        },
        {
          "output_type": "stream",
          "text": [
            " 60%|██████    | 12/20 [14:32<08:46, 65.80s/it]"
          ],
          "name": "stderr"
        },
        {
          "output_type": "stream",
          "text": [
            " Loss: 4.348024665145185\n"
          ],
          "name": "stdout"
        },
        {
          "output_type": "stream",
          "text": [
            " 70%|███████   | 14/20 [16:36<06:22, 63.67s/it]"
          ],
          "name": "stderr"
        },
        {
          "output_type": "stream",
          "text": [
            " Loss: 4.334569747803158\n"
          ],
          "name": "stdout"
        },
        {
          "output_type": "stream",
          "text": [
            " 85%|████████▌ | 17/20 [19:24<03:08, 62.91s/it]"
          ],
          "name": "stderr"
        },
        {
          "output_type": "stream",
          "text": [
            " Loss: 4.319498697172901\n"
          ],
          "name": "stdout"
        },
        {
          "output_type": "stream",
          "text": [
            " 95%|█████████▌| 19/20 [21:57<01:04, 64.77s/it]"
          ],
          "name": "stderr"
        },
        {
          "output_type": "stream",
          "text": [
            " Loss: 4.30395720034262\n"
          ],
          "name": "stdout"
        },
        {
          "output_type": "stream",
          "text": [
            "100%|██████████| 20/20 [22:40<00:00, 68.02s/it]\n",
            "100%|██████████| 20/20 [22:55<00:00, 68.79s/it]\n",
            "100%|██████████| 20/20 [22:55<00:00, 68.78s/it]\n"
          ],
          "name": "stderr"
        },
        {
          "output_type": "stream",
          "text": [
            " Loss: 4.297587494882682\n",
            "\n",
            "\n",
            "\n",
            "Iteration: 8\n"
          ],
          "name": "stdout"
        },
        {
          "output_type": "stream",
          "text": [
            "  5%|▌         | 1/20 [01:07<21:26, 67.69s/it]"
          ],
          "name": "stderr"
        },
        {
          "output_type": "stream",
          "text": [
            " Loss: 4.0699991454419235\n"
          ],
          "name": "stdout"
        },
        {
          "output_type": "stream",
          "text": [
            " 15%|█▌        | 3/20 [03:44<20:41, 73.04s/it]"
          ],
          "name": "stderr"
        },
        {
          "output_type": "stream",
          "text": [
            " Loss: 4.119761711991808\n"
          ],
          "name": "stdout"
        },
        {
          "output_type": "stream",
          "text": [
            " 25%|██▌       | 5/20 [06:21<18:55, 75.67s/it]"
          ],
          "name": "stderr"
        },
        {
          "output_type": "stream",
          "text": [
            " Loss: 4.122288783690033\n"
          ],
          "name": "stdout"
        },
        {
          "output_type": "stream",
          "text": [
            " 35%|███▌      | 7/20 [09:11<17:33, 81.00s/it]"
          ],
          "name": "stderr"
        },
        {
          "output_type": "stream",
          "text": [
            " Loss: 4.11873333952001\n"
          ],
          "name": "stdout"
        },
        {
          "output_type": "stream",
          "text": [
            " 50%|█████     | 10/20 [12:10<11:36, 69.69s/it]"
          ],
          "name": "stderr"
        },
        {
          "output_type": "stream",
          "text": [
            " Loss: 4.111189101242069\n"
          ],
          "name": "stdout"
        },
        {
          "output_type": "stream",
          "text": [
            " 60%|██████    | 12/20 [14:35<08:51, 66.48s/it]"
          ],
          "name": "stderr"
        },
        {
          "output_type": "stream",
          "text": [
            " Loss: 4.103961294703394\n"
          ],
          "name": "stdout"
        },
        {
          "output_type": "stream",
          "text": [
            " 70%|███████   | 14/20 [16:39<06:23, 63.97s/it]"
          ],
          "name": "stderr"
        },
        {
          "output_type": "stream",
          "text": [
            " Loss: 4.09375037126357\n"
          ],
          "name": "stdout"
        },
        {
          "output_type": "stream",
          "text": [
            " 85%|████████▌ | 17/20 [19:23<03:07, 62.55s/it]"
          ],
          "name": "stderr"
        },
        {
          "output_type": "stream",
          "text": [
            " Loss: 4.082711400733162\n"
          ],
          "name": "stdout"
        },
        {
          "output_type": "stream",
          "text": [
            " 95%|█████████▌| 19/20 [22:02<01:05, 65.84s/it]"
          ],
          "name": "stderr"
        },
        {
          "output_type": "stream",
          "text": [
            " Loss: 4.071230416854385\n"
          ],
          "name": "stdout"
        },
        {
          "output_type": "stream",
          "text": [
            "100%|██████████| 20/20 [22:45<00:00, 68.29s/it]\n",
            "100%|██████████| 20/20 [23:01<00:00, 69.10s/it]\n",
            "100%|██████████| 20/20 [23:01<00:00, 69.07s/it]\n"
          ],
          "name": "stderr"
        },
        {
          "output_type": "stream",
          "text": [
            " Loss: 4.065997625632889\n",
            "\n",
            "\n",
            "\n",
            "Iteration: 9\n"
          ],
          "name": "stdout"
        },
        {
          "output_type": "stream",
          "text": [
            "  5%|▌         | 1/20 [01:08<21:40, 68.45s/it]"
          ],
          "name": "stderr"
        },
        {
          "output_type": "stream",
          "text": [
            " Loss: 3.884454569944287\n"
          ],
          "name": "stdout"
        },
        {
          "output_type": "stream",
          "text": [
            " 15%|█▌        | 3/20 [03:25<19:23, 68.46s/it]"
          ],
          "name": "stderr"
        },
        {
          "output_type": "stream",
          "text": [
            " Loss: 3.9283630135122043\n"
          ],
          "name": "stdout"
        },
        {
          "output_type": "stream",
          "text": [
            " 25%|██▌       | 5/20 [05:42<17:05, 68.40s/it]"
          ],
          "name": "stderr"
        },
        {
          "output_type": "stream",
          "text": [
            " Loss: 3.930414395033108\n"
          ],
          "name": "stdout"
        },
        {
          "output_type": "stream",
          "text": [
            " 35%|███▌      | 7/20 [08:05<15:11, 70.08s/it]"
          ],
          "name": "stderr"
        },
        {
          "output_type": "stream",
          "text": [
            " Loss: 3.927877032886145\n"
          ],
          "name": "stdout"
        },
        {
          "output_type": "stream",
          "text": [
            " 50%|█████     | 10/20 [10:40<10:04, 60.50s/it]"
          ],
          "name": "stderr"
        },
        {
          "output_type": "stream",
          "text": [
            " Loss: 3.9220902803930318\n"
          ],
          "name": "stdout"
        },
        {
          "output_type": "stream",
          "text": [
            " 60%|██████    | 12/20 [12:57<08:04, 60.51s/it]"
          ],
          "name": "stderr"
        },
        {
          "output_type": "stream",
          "text": [
            " Loss: 3.9173689490751364\n"
          ],
          "name": "stdout"
        },
        {
          "output_type": "stream",
          "text": [
            " 70%|███████   | 14/20 [14:55<05:57, 59.51s/it]"
          ],
          "name": "stderr"
        },
        {
          "output_type": "stream",
          "text": [
            " Loss: 3.9093340886611765\n"
          ],
          "name": "stdout"
        },
        {
          "output_type": "stream",
          "text": [
            " 85%|████████▌ | 17/20 [17:24<02:50, 56.86s/it]"
          ],
          "name": "stderr"
        },
        {
          "output_type": "stream",
          "text": [
            " Loss: 3.9010542952951064\n"
          ],
          "name": "stdout"
        },
        {
          "output_type": "stream",
          "text": [
            " 95%|█████████▌| 19/20 [19:39<00:57, 57.63s/it]"
          ],
          "name": "stderr"
        },
        {
          "output_type": "stream",
          "text": [
            " Loss: 3.8923708715443732\n"
          ],
          "name": "stdout"
        },
        {
          "output_type": "stream",
          "text": [
            "100%|██████████| 20/20 [20:15<00:00, 60.79s/it]\n",
            "100%|██████████| 20/20 [20:30<00:00, 61.53s/it]\n",
            "100%|██████████| 20/20 [20:30<00:00, 61.53s/it]\n"
          ],
          "name": "stderr"
        },
        {
          "output_type": "stream",
          "text": [
            " Loss: 3.887971512609476\n",
            "\n",
            "\n",
            "\n",
            "Iteration: 10\n"
          ],
          "name": "stdout"
        },
        {
          "output_type": "stream",
          "text": [
            "  5%|▌         | 1/20 [01:08<21:50, 68.98s/it]"
          ],
          "name": "stderr"
        },
        {
          "output_type": "stream",
          "text": [
            " Loss: 3.7390392543998914\n"
          ],
          "name": "stdout"
        },
        {
          "output_type": "stream",
          "text": [
            " 15%|█▌        | 3/20 [03:25<19:26, 68.60s/it]"
          ],
          "name": "stderr"
        },
        {
          "output_type": "stream",
          "text": [
            " Loss: 3.7787746968150953\n"
          ],
          "name": "stdout"
        },
        {
          "output_type": "stream",
          "text": [
            " 25%|██▌       | 5/20 [05:42<17:04, 68.28s/it]"
          ],
          "name": "stderr"
        },
        {
          "output_type": "stream",
          "text": [
            " Loss: 3.780522709359464\n"
          ],
          "name": "stdout"
        },
        {
          "output_type": "stream",
          "text": [
            " 35%|███▌      | 7/20 [08:05<15:11, 70.13s/it]"
          ],
          "name": "stderr"
        },
        {
          "output_type": "stream",
          "text": [
            " Loss: 3.7786796294615055\n"
          ],
          "name": "stdout"
        },
        {
          "output_type": "stream",
          "text": [
            " 50%|█████     | 10/20 [10:39<10:02, 60.29s/it]"
          ],
          "name": "stderr"
        },
        {
          "output_type": "stream",
          "text": [
            " Loss: 3.774190177532299\n"
          ],
          "name": "stdout"
        },
        {
          "output_type": "stream",
          "text": [
            " 60%|██████    | 12/20 [12:55<07:59, 59.94s/it]"
          ],
          "name": "stderr"
        },
        {
          "output_type": "stream",
          "text": [
            " Loss: 3.7711675090788055\n"
          ],
          "name": "stdout"
        },
        {
          "output_type": "stream",
          "text": [
            " 70%|███████   | 14/20 [14:52<05:54, 59.14s/it]"
          ],
          "name": "stderr"
        },
        {
          "output_type": "stream",
          "text": [
            " Loss: 3.7647330176076657\n"
          ],
          "name": "stdout"
        },
        {
          "output_type": "stream",
          "text": [
            " 85%|████████▌ | 17/20 [17:20<02:50, 56.72s/it]"
          ],
          "name": "stderr"
        },
        {
          "output_type": "stream",
          "text": [
            " Loss: 3.7584649051639207\n"
          ],
          "name": "stdout"
        },
        {
          "output_type": "stream",
          "text": [
            " 95%|█████████▌| 19/20 [19:36<00:57, 57.61s/it]"
          ],
          "name": "stderr"
        },
        {
          "output_type": "stream",
          "text": [
            " Loss: 3.751780385819096\n"
          ],
          "name": "stdout"
        },
        {
          "output_type": "stream",
          "text": [
            "100%|██████████| 20/20 [20:11<00:00, 60.57s/it]\n",
            "100%|██████████| 20/20 [20:26<00:00, 61.33s/it]\n",
            "100%|██████████| 20/20 [20:27<00:00, 61.35s/it]\n"
          ],
          "name": "stderr"
        },
        {
          "output_type": "stream",
          "text": [
            " Loss: 3.748010270936833\n",
            "\n",
            "\n",
            "\n",
            "Iteration: 11\n"
          ],
          "name": "stdout"
        },
        {
          "output_type": "stream",
          "text": [
            "  5%|▌         | 1/20 [01:08<21:33, 68.09s/it]"
          ],
          "name": "stderr"
        },
        {
          "output_type": "stream",
          "text": [
            " Loss: 3.6227681649346315\n"
          ],
          "name": "stdout"
        },
        {
          "output_type": "stream",
          "text": [
            " 15%|█▌        | 3/20 [03:24<19:16, 68.01s/it]"
          ],
          "name": "stderr"
        },
        {
          "output_type": "stream",
          "text": [
            " Loss: 3.6594491591137324\n"
          ],
          "name": "stdout"
        },
        {
          "output_type": "stream",
          "text": [
            " 25%|██▌       | 5/20 [05:40<17:00, 68.03s/it]"
          ],
          "name": "stderr"
        },
        {
          "output_type": "stream",
          "text": [
            " Loss: 3.6610024450516683\n"
          ],
          "name": "stdout"
        },
        {
          "output_type": "stream",
          "text": [
            " 35%|███▌      | 7/20 [08:03<15:07, 69.84s/it]"
          ],
          "name": "stderr"
        },
        {
          "output_type": "stream",
          "text": [
            " Loss: 3.6596596798270777\n"
          ],
          "name": "stdout"
        },
        {
          "output_type": "stream",
          "text": [
            " 50%|█████     | 10/20 [10:37<10:01, 60.13s/it]"
          ],
          "name": "stderr"
        },
        {
          "output_type": "stream",
          "text": [
            " Loss: 3.6561857554490205\n"
          ],
          "name": "stdout"
        },
        {
          "output_type": "stream",
          "text": [
            " 60%|██████    | 12/20 [12:53<07:59, 59.94s/it]"
          ],
          "name": "stderr"
        },
        {
          "output_type": "stream",
          "text": [
            " Loss: 3.6543478247365906\n"
          ],
          "name": "stdout"
        },
        {
          "output_type": "stream",
          "text": [
            " 70%|███████   | 14/20 [14:49<05:53, 58.98s/it]"
          ],
          "name": "stderr"
        },
        {
          "output_type": "stream",
          "text": [
            " Loss: 3.6490875128827818\n"
          ],
          "name": "stdout"
        },
        {
          "output_type": "stream",
          "text": [
            " 85%|████████▌ | 17/20 [17:16<02:49, 56.49s/it]"
          ],
          "name": "stderr"
        },
        {
          "output_type": "stream",
          "text": [
            " Loss: 3.6443201754672625\n"
          ],
          "name": "stdout"
        },
        {
          "output_type": "stream",
          "text": [
            " 95%|█████████▌| 19/20 [19:32<00:57, 57.28s/it]"
          ],
          "name": "stderr"
        },
        {
          "output_type": "stream",
          "text": [
            " Loss: 3.6390925339637326\n"
          ],
          "name": "stdout"
        },
        {
          "output_type": "stream",
          "text": [
            "100%|██████████| 20/20 [20:07<00:00, 60.36s/it]\n",
            "100%|██████████| 20/20 [20:22<00:00, 61.13s/it]\n",
            "100%|██████████| 20/20 [20:22<00:00, 61.14s/it]\n"
          ],
          "name": "stderr"
        },
        {
          "output_type": "stream",
          "text": [
            " Loss: 3.635791598975788\n",
            "\n",
            "\n",
            "\n",
            "Iteration: 12\n"
          ],
          "name": "stdout"
        },
        {
          "output_type": "stream",
          "text": [
            "  5%|▌         | 1/20 [01:07<21:25, 67.68s/it]"
          ],
          "name": "stderr"
        },
        {
          "output_type": "stream",
          "text": [
            " Loss: 3.528123135737171\n"
          ],
          "name": "stdout"
        },
        {
          "output_type": "stream",
          "text": [
            " 15%|█▌        | 3/20 [03:24<19:14, 67.91s/it]"
          ],
          "name": "stderr"
        },
        {
          "output_type": "stream",
          "text": [
            " Loss: 3.5624631792932644\n"
          ],
          "name": "stdout"
        },
        {
          "output_type": "stream",
          "text": [
            " 25%|██▌       | 5/20 [05:39<16:57, 67.84s/it]"
          ],
          "name": "stderr"
        },
        {
          "output_type": "stream",
          "text": [
            " Loss: 3.563900690501498\n"
          ],
          "name": "stdout"
        },
        {
          "output_type": "stream",
          "text": [
            " 35%|███▌      | 7/20 [08:02<15:06, 69.71s/it]"
          ],
          "name": "stderr"
        },
        {
          "output_type": "stream",
          "text": [
            " Loss: 3.562948383140061\n"
          ],
          "name": "stdout"
        },
        {
          "output_type": "stream",
          "text": [
            " 50%|█████     | 10/20 [10:36<10:00, 60.09s/it]"
          ],
          "name": "stderr"
        },
        {
          "output_type": "stream",
          "text": [
            " Loss: 3.560232144712334\n"
          ],
          "name": "stdout"
        },
        {
          "output_type": "stream",
          "text": [
            " 60%|██████    | 12/20 [12:51<07:58, 59.75s/it]"
          ],
          "name": "stderr"
        },
        {
          "output_type": "stream",
          "text": [
            " Loss: 3.559224700837535\n"
          ],
          "name": "stdout"
        },
        {
          "output_type": "stream",
          "text": [
            " 70%|███████   | 14/20 [14:48<05:53, 58.95s/it]"
          ],
          "name": "stderr"
        },
        {
          "output_type": "stream",
          "text": [
            " Loss: 3.5548721345209193\n"
          ],
          "name": "stdout"
        },
        {
          "output_type": "stream",
          "text": [
            " 85%|████████▌ | 17/20 [17:15<02:49, 56.52s/it]"
          ],
          "name": "stderr"
        },
        {
          "output_type": "stream",
          "text": [
            " Loss: 3.551192268423351\n"
          ],
          "name": "stdout"
        },
        {
          "output_type": "stream",
          "text": [
            " 95%|█████████▌| 19/20 [19:32<00:57, 57.54s/it]"
          ],
          "name": "stderr"
        },
        {
          "output_type": "stream",
          "text": [
            " Loss: 3.547065936704818\n"
          ],
          "name": "stdout"
        },
        {
          "output_type": "stream",
          "text": [
            "100%|██████████| 20/20 [20:07<00:00, 60.36s/it]\n",
            "100%|██████████| 20/20 [20:22<00:00, 61.14s/it]\n",
            "100%|██████████| 20/20 [20:22<00:00, 61.13s/it]\n"
          ],
          "name": "stderr"
        },
        {
          "output_type": "stream",
          "text": [
            " Loss: 3.544112148355266\n",
            "\n",
            "\n",
            "\n",
            "Iteration: 13\n"
          ],
          "name": "stdout"
        },
        {
          "output_type": "stream",
          "text": [
            "  5%|▌         | 1/20 [01:08<21:34, 68.14s/it]"
          ],
          "name": "stderr"
        },
        {
          "output_type": "stream",
          "text": [
            " Loss: 3.4497057025944513\n"
          ],
          "name": "stdout"
        },
        {
          "output_type": "stream",
          "text": [
            " 15%|█▌        | 3/20 [03:24<19:17, 68.09s/it]"
          ],
          "name": "stderr"
        },
        {
          "output_type": "stream",
          "text": [
            " Loss: 3.4822049524679275\n"
          ],
          "name": "stdout"
        },
        {
          "output_type": "stream",
          "text": [
            " 25%|██▌       | 5/20 [05:40<16:59, 67.98s/it]"
          ],
          "name": "stderr"
        },
        {
          "output_type": "stream",
          "text": [
            " Loss: 3.4835767997335028\n"
          ],
          "name": "stdout"
        },
        {
          "output_type": "stream",
          "text": [
            " 35%|███▌      | 7/20 [08:02<15:04, 69.57s/it]"
          ],
          "name": "stderr"
        },
        {
          "output_type": "stream",
          "text": [
            " Loss: 3.482941063451076\n"
          ],
          "name": "stdout"
        },
        {
          "output_type": "stream",
          "text": [
            " 50%|█████     | 10/20 [10:36<10:02, 60.21s/it]"
          ],
          "name": "stderr"
        },
        {
          "output_type": "stream",
          "text": [
            " Loss: 3.480798077302176\n"
          ],
          "name": "stdout"
        },
        {
          "output_type": "stream",
          "text": [
            " 60%|██████    | 12/20 [12:52<07:59, 59.89s/it]"
          ],
          "name": "stderr"
        },
        {
          "output_type": "stream",
          "text": [
            " Loss: 3.4803556010458894\n"
          ],
          "name": "stdout"
        },
        {
          "output_type": "stream",
          "text": [
            " 70%|███████   | 14/20 [14:49<05:54, 59.09s/it]"
          ],
          "name": "stderr"
        },
        {
          "output_type": "stream",
          "text": [
            " Loss: 3.476703075997805\n"
          ],
          "name": "stdout"
        },
        {
          "output_type": "stream",
          "text": [
            " 85%|████████▌ | 17/20 [17:17<02:49, 56.60s/it]"
          ],
          "name": "stderr"
        },
        {
          "output_type": "stream",
          "text": [
            " Loss: 3.473828143512969\n"
          ],
          "name": "stdout"
        },
        {
          "output_type": "stream",
          "text": [
            " 95%|█████████▌| 19/20 [19:34<00:57, 57.70s/it]"
          ],
          "name": "stderr"
        },
        {
          "output_type": "stream",
          "text": [
            " Loss: 3.4705269835812556\n"
          ],
          "name": "stdout"
        },
        {
          "output_type": "stream",
          "text": [
            "100%|██████████| 20/20 [20:09<00:00, 60.47s/it]\n",
            "100%|██████████| 20/20 [20:24<00:00, 61.23s/it]\n",
            "100%|██████████| 20/20 [20:24<00:00, 61.25s/it]\n"
          ],
          "name": "stderr"
        },
        {
          "output_type": "stream",
          "text": [
            " Loss: 3.467818291978665\n",
            "\n",
            "\n",
            "\n",
            "Iteration: 14\n"
          ],
          "name": "stdout"
        },
        {
          "output_type": "stream",
          "text": [
            "  5%|▌         | 1/20 [01:08<21:40, 68.47s/it]"
          ],
          "name": "stderr"
        },
        {
          "output_type": "stream",
          "text": [
            " Loss: 3.3836038713179324\n"
          ],
          "name": "stdout"
        },
        {
          "output_type": "stream",
          "text": [
            " 15%|█▌        | 3/20 [03:24<19:20, 68.29s/it]"
          ],
          "name": "stderr"
        },
        {
          "output_type": "stream",
          "text": [
            " Loss: 3.414648836482624\n"
          ],
          "name": "stdout"
        },
        {
          "output_type": "stream",
          "text": [
            " 25%|██▌       | 5/20 [05:40<17:00, 68.05s/it]"
          ],
          "name": "stderr"
        },
        {
          "output_type": "stream",
          "text": [
            " Loss: 3.4159498983390066\n"
          ],
          "name": "stdout"
        },
        {
          "output_type": "stream",
          "text": [
            " 35%|███▌      | 7/20 [08:02<15:04, 69.60s/it]"
          ],
          "name": "stderr"
        },
        {
          "output_type": "stream",
          "text": [
            " Loss: 3.4155601151403703\n"
          ],
          "name": "stdout"
        },
        {
          "output_type": "stream",
          "text": [
            " 50%|█████     | 10/20 [10:38<10:05, 60.59s/it]"
          ],
          "name": "stderr"
        },
        {
          "output_type": "stream",
          "text": [
            " Loss: 3.4138412517817893\n"
          ],
          "name": "stdout"
        },
        {
          "output_type": "stream",
          "text": [
            " 60%|██████    | 12/20 [12:54<08:00, 60.12s/it]"
          ],
          "name": "stderr"
        },
        {
          "output_type": "stream",
          "text": [
            " Loss: 3.4137877277297193\n"
          ],
          "name": "stdout"
        },
        {
          "output_type": "stream",
          "text": [
            " 70%|███████   | 14/20 [14:51<05:56, 59.34s/it]"
          ],
          "name": "stderr"
        },
        {
          "output_type": "stream",
          "text": [
            " Loss: 3.410678148730665\n"
          ],
          "name": "stdout"
        },
        {
          "output_type": "stream",
          "text": [
            " 85%|████████▌ | 17/20 [17:19<02:50, 56.81s/it]"
          ],
          "name": "stderr"
        },
        {
          "output_type": "stream",
          "text": [
            " Loss: 3.408392731981475\n"
          ],
          "name": "stdout"
        },
        {
          "output_type": "stream",
          "text": [
            " 95%|█████████▌| 19/20 [19:36<00:57, 57.57s/it]"
          ],
          "name": "stderr"
        },
        {
          "output_type": "stream",
          "text": [
            " Loss: 3.4057339981761823\n"
          ],
          "name": "stdout"
        },
        {
          "output_type": "stream",
          "text": [
            "100%|██████████| 20/20 [20:11<00:00, 60.56s/it]\n",
            "100%|██████████| 20/20 [20:26<00:00, 61.31s/it]\n",
            "100%|██████████| 20/20 [20:26<00:00, 61.32s/it]\n"
          ],
          "name": "stderr"
        },
        {
          "output_type": "stream",
          "text": [
            " Loss: 3.403204565152367\n",
            "\n",
            "\n",
            "\n",
            "Iteration: 15\n"
          ],
          "name": "stdout"
        },
        {
          "output_type": "stream",
          "text": [
            "  5%|▌         | 1/20 [01:07<21:28, 67.84s/it]"
          ],
          "name": "stderr"
        },
        {
          "output_type": "stream",
          "text": [
            " Loss: 3.326941695221579\n"
          ],
          "name": "stdout"
        },
        {
          "output_type": "stream",
          "text": [
            " 15%|█▌        | 3/20 [03:24<19:15, 67.97s/it]"
          ],
          "name": "stderr"
        },
        {
          "output_type": "stream",
          "text": [
            " Loss: 3.3568218776542045\n"
          ],
          "name": "stdout"
        },
        {
          "output_type": "stream",
          "text": [
            " 25%|██▌       | 5/20 [05:40<17:00, 68.05s/it]"
          ],
          "name": "stderr"
        },
        {
          "output_type": "stream",
          "text": [
            " Loss: 3.358046854997448\n"
          ],
          "name": "stdout"
        },
        {
          "output_type": "stream",
          "text": [
            " 35%|███▌      | 7/20 [08:02<15:05, 69.69s/it]"
          ],
          "name": "stderr"
        },
        {
          "output_type": "stream",
          "text": [
            " Loss: 3.3578278265243253\n"
          ],
          "name": "stdout"
        },
        {
          "output_type": "stream",
          "text": [
            " 50%|█████     | 10/20 [10:37<10:02, 60.20s/it]"
          ],
          "name": "stderr"
        },
        {
          "output_type": "stream",
          "text": [
            " Loss: 3.356443563947259\n"
          ],
          "name": "stdout"
        },
        {
          "output_type": "stream",
          "text": [
            " 60%|██████    | 12/20 [12:52<07:58, 59.80s/it]"
          ],
          "name": "stderr"
        },
        {
          "output_type": "stream",
          "text": [
            " Loss: 3.356644670138137\n"
          ],
          "name": "stdout"
        },
        {
          "output_type": "stream",
          "text": [
            " 70%|███████   | 14/20 [14:50<05:54, 59.16s/it]"
          ],
          "name": "stderr"
        },
        {
          "output_type": "stream",
          "text": [
            " Loss: 3.353955246815088\n"
          ],
          "name": "stdout"
        },
        {
          "output_type": "stream",
          "text": [
            " 85%|████████▌ | 17/20 [17:18<02:50, 56.72s/it]"
          ],
          "name": "stderr"
        },
        {
          "output_type": "stream",
          "text": [
            " Loss: 3.3521165520120895\n"
          ],
          "name": "stdout"
        },
        {
          "output_type": "stream",
          "text": [
            " 95%|█████████▌| 19/20 [19:35<00:57, 57.76s/it]"
          ],
          "name": "stderr"
        },
        {
          "output_type": "stream",
          "text": [
            " Loss: 3.3499424004266736\n"
          ],
          "name": "stdout"
        },
        {
          "output_type": "stream",
          "text": [
            "100%|██████████| 20/20 [20:10<00:00, 60.51s/it]\n",
            "100%|██████████| 20/20 [20:26<00:00, 61.31s/it]\n",
            "100%|██████████| 20/20 [20:25<00:00, 61.28s/it]\n"
          ],
          "name": "stderr"
        },
        {
          "output_type": "stream",
          "text": [
            " Loss: 3.3475573725551273\n",
            "\n",
            "\n",
            "\n",
            "Iteration: 16\n"
          ],
          "name": "stdout"
        },
        {
          "output_type": "stream",
          "text": [
            "  5%|▌         | 1/20 [01:07<21:31, 67.96s/it]"
          ],
          "name": "stderr"
        },
        {
          "output_type": "stream",
          "text": [
            " Loss: 3.277597748256266\n"
          ],
          "name": "stdout"
        },
        {
          "output_type": "stream",
          "text": [
            " 15%|█▌        | 3/20 [03:24<19:16, 68.02s/it]"
          ],
          "name": "stderr"
        },
        {
          "output_type": "stream",
          "text": [
            " Loss: 3.306498635169548\n"
          ],
          "name": "stdout"
        },
        {
          "output_type": "stream",
          "text": [
            " 25%|██▌       | 5/20 [05:40<17:00, 68.04s/it]"
          ],
          "name": "stderr"
        },
        {
          "output_type": "stream",
          "text": [
            " Loss: 3.307676682875085\n"
          ],
          "name": "stdout"
        },
        {
          "output_type": "stream",
          "text": [
            " 35%|███▌      | 7/20 [08:03<15:08, 69.91s/it]"
          ],
          "name": "stderr"
        },
        {
          "output_type": "stream",
          "text": [
            " Loss: 3.307572123391465\n"
          ],
          "name": "stdout"
        },
        {
          "output_type": "stream",
          "text": [
            " 50%|█████     | 10/20 [10:37<10:02, 60.25s/it]"
          ],
          "name": "stderr"
        },
        {
          "output_type": "stream",
          "text": [
            " Loss: 3.3064429217389826\n"
          ],
          "name": "stdout"
        },
        {
          "output_type": "stream",
          "text": [
            " 60%|██████    | 12/20 [12:53<07:59, 59.93s/it]"
          ],
          "name": "stderr"
        },
        {
          "output_type": "stream",
          "text": [
            " Loss: 3.3068266826434045\n"
          ],
          "name": "stdout"
        },
        {
          "output_type": "stream",
          "text": [
            " 70%|███████   | 14/20 [14:50<05:54, 59.17s/it]"
          ],
          "name": "stderr"
        },
        {
          "output_type": "stream",
          "text": [
            " Loss: 3.3044677815089942\n"
          ],
          "name": "stdout"
        },
        {
          "output_type": "stream",
          "text": [
            " 85%|████████▌ | 17/20 [17:18<02:50, 56.75s/it]"
          ],
          "name": "stderr"
        },
        {
          "output_type": "stream",
          "text": [
            " Loss: 3.302966075636966\n"
          ],
          "name": "stdout"
        },
        {
          "output_type": "stream",
          "text": [
            " 95%|█████████▌| 19/20 [19:35<00:57, 57.61s/it]"
          ],
          "name": "stderr"
        },
        {
          "output_type": "stream",
          "text": [
            " Loss: 3.301175478688527\n"
          ],
          "name": "stdout"
        },
        {
          "output_type": "stream",
          "text": [
            "100%|██████████| 20/20 [20:10<00:00, 60.53s/it]\n",
            "100%|██████████| 20/20 [20:25<00:00, 61.30s/it]\n",
            "100%|██████████| 20/20 [20:26<00:00, 61.31s/it]\n"
          ],
          "name": "stderr"
        },
        {
          "output_type": "stream",
          "text": [
            " Loss: 3.298899782473207\n",
            "\n",
            "\n",
            "\n",
            "Iteration: 17\n"
          ],
          "name": "stdout"
        },
        {
          "output_type": "stream",
          "text": [
            "  5%|▌         | 1/20 [01:08<21:39, 68.42s/it]"
          ],
          "name": "stderr"
        },
        {
          "output_type": "stream",
          "text": [
            " Loss: 3.233995855857122\n"
          ],
          "name": "stdout"
        },
        {
          "output_type": "stream",
          "text": [
            " 15%|█▌        | 3/20 [03:25<19:21, 68.33s/it]"
          ],
          "name": "stderr"
        },
        {
          "output_type": "stream",
          "text": [
            " Loss: 3.2620874664168347\n"
          ],
          "name": "stdout"
        },
        {
          "output_type": "stream",
          "text": [
            " 25%|██▌       | 5/20 [05:41<17:02, 68.17s/it]"
          ],
          "name": "stderr"
        },
        {
          "output_type": "stream",
          "text": [
            " Loss: 3.2632055347693107\n"
          ],
          "name": "stdout"
        },
        {
          "output_type": "stream",
          "text": [
            " 35%|███▌      | 7/20 [08:02<15:05, 69.62s/it]"
          ],
          "name": "stderr"
        },
        {
          "output_type": "stream",
          "text": [
            " Loss: 3.26318471598161\n"
          ],
          "name": "stdout"
        },
        {
          "output_type": "stream",
          "text": [
            " 50%|█████     | 10/20 [10:39<10:06, 60.67s/it]"
          ],
          "name": "stderr"
        },
        {
          "output_type": "stream",
          "text": [
            " Loss: 3.2622509976092076\n"
          ],
          "name": "stdout"
        },
        {
          "output_type": "stream",
          "text": [
            " 60%|██████    | 12/20 [12:55<08:02, 60.29s/it]"
          ],
          "name": "stderr"
        },
        {
          "output_type": "stream",
          "text": [
            " Loss: 3.262762270344283\n"
          ],
          "name": "stdout"
        },
        {
          "output_type": "stream",
          "text": [
            " 70%|███████   | 14/20 [14:52<05:56, 59.34s/it]"
          ],
          "name": "stderr"
        },
        {
          "output_type": "stream",
          "text": [
            " Loss: 3.260677247422461\n"
          ],
          "name": "stdout"
        },
        {
          "output_type": "stream",
          "text": [
            " 85%|████████▌ | 17/20 [17:21<02:50, 56.82s/it]"
          ],
          "name": "stderr"
        },
        {
          "output_type": "stream",
          "text": [
            " Loss: 3.259420937755282\n"
          ],
          "name": "stdout"
        },
        {
          "output_type": "stream",
          "text": [
            " 95%|█████████▌| 19/20 [19:37<00:57, 57.67s/it]"
          ],
          "name": "stderr"
        },
        {
          "output_type": "stream",
          "text": [
            " Loss: 3.2579365865705614\n"
          ],
          "name": "stdout"
        },
        {
          "output_type": "stream",
          "text": [
            "100%|██████████| 20/20 [20:13<00:00, 60.65s/it]\n",
            "100%|██████████| 20/20 [20:28<00:00, 61.40s/it]\n",
            "100%|██████████| 20/20 [20:27<00:00, 61.40s/it]\n"
          ],
          "name": "stderr"
        },
        {
          "output_type": "stream",
          "text": [
            " Loss: 3.2557532145275676\n",
            "\n",
            "\n",
            "\n",
            "Iteration: 18\n"
          ],
          "name": "stdout"
        },
        {
          "output_type": "stream",
          "text": [
            "  5%|▌         | 1/20 [01:08<21:34, 68.14s/it]"
          ],
          "name": "stderr"
        },
        {
          "output_type": "stream",
          "text": [
            " Loss: 3.1949508511672247\n"
          ],
          "name": "stdout"
        },
        {
          "output_type": "stream",
          "text": [
            " 15%|█▌        | 3/20 [03:25<19:20, 68.25s/it]"
          ],
          "name": "stderr"
        },
        {
          "output_type": "stream",
          "text": [
            " Loss: 3.222365911716063\n"
          ],
          "name": "stdout"
        },
        {
          "output_type": "stream",
          "text": [
            " 25%|██▌       | 5/20 [05:41<17:02, 68.14s/it]"
          ],
          "name": "stderr"
        },
        {
          "output_type": "stream",
          "text": [
            " Loss: 3.223432171768583\n"
          ],
          "name": "stdout"
        },
        {
          "output_type": "stream",
          "text": [
            " 35%|███▌      | 7/20 [08:02<15:04, 69.61s/it]"
          ],
          "name": "stderr"
        },
        {
          "output_type": "stream",
          "text": [
            " Loss: 3.2234680765376416\n"
          ],
          "name": "stdout"
        },
        {
          "output_type": "stream",
          "text": [
            " 50%|█████     | 10/20 [10:37<10:02, 60.22s/it]"
          ],
          "name": "stderr"
        },
        {
          "output_type": "stream",
          "text": [
            " Loss: 3.2226817197554887\n"
          ],
          "name": "stdout"
        },
        {
          "output_type": "stream",
          "text": [
            " 60%|██████    | 12/20 [12:53<07:58, 59.84s/it]"
          ],
          "name": "stderr"
        },
        {
          "output_type": "stream",
          "text": [
            " Loss: 3.2232858922931324\n"
          ],
          "name": "stdout"
        },
        {
          "output_type": "stream",
          "text": [
            " 70%|███████   | 14/20 [14:50<05:55, 59.17s/it]"
          ],
          "name": "stderr"
        },
        {
          "output_type": "stream",
          "text": [
            " Loss: 3.221424519199263\n"
          ],
          "name": "stdout"
        },
        {
          "output_type": "stream",
          "text": [
            " 85%|████████▌ | 17/20 [17:18<02:50, 56.80s/it]"
          ],
          "name": "stderr"
        },
        {
          "output_type": "stream",
          "text": [
            " Loss: 3.22035168659241\n"
          ],
          "name": "stdout"
        },
        {
          "output_type": "stream",
          "text": [
            " 95%|█████████▌| 19/20 [19:35<00:57, 57.79s/it]"
          ],
          "name": "stderr"
        },
        {
          "output_type": "stream",
          "text": [
            " Loss: 3.2191214573126863\n"
          ],
          "name": "stdout"
        },
        {
          "output_type": "stream",
          "text": [
            "100%|██████████| 20/20 [20:11<00:00, 60.56s/it]\n",
            "100%|██████████| 20/20 [20:26<00:00, 61.31s/it]\n",
            "100%|██████████| 20/20 [20:26<00:00, 61.32s/it]\n"
          ],
          "name": "stderr"
        },
        {
          "output_type": "stream",
          "text": [
            " Loss: 3.217002663022428\n",
            "\n",
            "\n",
            "\n",
            "Iteration: 19\n"
          ],
          "name": "stdout"
        },
        {
          "output_type": "stream",
          "text": [
            "  5%|▌         | 1/20 [01:08<21:37, 68.28s/it]"
          ],
          "name": "stderr"
        },
        {
          "output_type": "stream",
          "text": [
            " Loss: 3.1595972913093155\n"
          ],
          "name": "stdout"
        },
        {
          "output_type": "stream",
          "text": [
            " 15%|█▌        | 3/20 [03:25<19:22, 68.37s/it]"
          ],
          "name": "stderr"
        },
        {
          "output_type": "stream",
          "text": [
            " Loss: 3.1864244031905327\n"
          ],
          "name": "stdout"
        },
        {
          "output_type": "stream",
          "text": [
            " 25%|██▌       | 5/20 [05:42<17:05, 68.40s/it]"
          ],
          "name": "stderr"
        },
        {
          "output_type": "stream",
          "text": [
            " Loss: 3.1874339044785276\n"
          ],
          "name": "stdout"
        },
        {
          "output_type": "stream",
          "text": [
            " 35%|███▌      | 7/20 [08:06<15:12, 70.21s/it]"
          ],
          "name": "stderr"
        },
        {
          "output_type": "stream",
          "text": [
            " Loss: 3.1875104699771737\n"
          ],
          "name": "stdout"
        },
        {
          "output_type": "stream",
          "text": [
            " 50%|█████     | 10/20 [10:40<10:04, 60.49s/it]"
          ],
          "name": "stderr"
        },
        {
          "output_type": "stream",
          "text": [
            " Loss: 3.1868382538513393\n"
          ],
          "name": "stdout"
        },
        {
          "output_type": "stream",
          "text": [
            " 60%|██████    | 12/20 [12:57<08:01, 60.14s/it]"
          ],
          "name": "stderr"
        },
        {
          "output_type": "stream",
          "text": [
            " Loss: 3.1875091254988877\n"
          ],
          "name": "stdout"
        },
        {
          "output_type": "stream",
          "text": [
            " 70%|███████   | 14/20 [14:55<05:56, 59.41s/it]"
          ],
          "name": "stderr"
        },
        {
          "output_type": "stream",
          "text": [
            " Loss: 3.1858302756895682\n"
          ],
          "name": "stdout"
        },
        {
          "output_type": "stream",
          "text": [
            " 85%|████████▌ | 17/20 [17:23<02:50, 56.88s/it]"
          ],
          "name": "stderr"
        },
        {
          "output_type": "stream",
          "text": [
            " Loss: 3.184887123200201\n"
          ],
          "name": "stdout"
        },
        {
          "output_type": "stream",
          "text": [
            " 95%|█████████▌| 19/20 [19:40<00:57, 57.71s/it]"
          ],
          "name": "stderr"
        },
        {
          "output_type": "stream",
          "text": [
            " Loss: 3.183873407062621\n"
          ],
          "name": "stdout"
        },
        {
          "output_type": "stream",
          "text": [
            "100%|██████████| 20/20 [20:15<00:00, 60.75s/it]\n",
            "100%|██████████| 20/20 [20:30<00:00, 61.53s/it]\n",
            "100%|██████████| 20/20 [20:30<00:00, 61.53s/it]\n"
          ],
          "name": "stderr"
        },
        {
          "output_type": "stream",
          "text": [
            " Loss: 3.1818007088378564\n",
            "\n",
            "\n",
            "\n",
            "Iteration: 20\n"
          ],
          "name": "stdout"
        },
        {
          "output_type": "stream",
          "text": [
            "  5%|▌         | 1/20 [01:08<21:32, 68.00s/it]"
          ],
          "name": "stderr"
        },
        {
          "output_type": "stream",
          "text": [
            " Loss: 3.127247406029966\n"
          ],
          "name": "stdout"
        },
        {
          "output_type": "stream",
          "text": [
            " 15%|█▌        | 3/20 [03:25<19:20, 68.28s/it]"
          ],
          "name": "stderr"
        },
        {
          "output_type": "stream",
          "text": [
            " Loss: 3.153551753189505\n"
          ],
          "name": "stdout"
        },
        {
          "output_type": "stream",
          "text": [
            " 25%|██▌       | 5/20 [05:41<17:02, 68.15s/it]"
          ],
          "name": "stderr"
        },
        {
          "output_type": "stream",
          "text": [
            " Loss: 3.15449887827236\n"
          ],
          "name": "stdout"
        },
        {
          "output_type": "stream",
          "text": [
            " 35%|███▌      | 7/20 [08:05<15:11, 70.09s/it]"
          ],
          "name": "stderr"
        },
        {
          "output_type": "stream",
          "text": [
            " Loss: 3.1546029734855567\n"
          ],
          "name": "stdout"
        },
        {
          "output_type": "stream",
          "text": [
            " 50%|█████     | 10/20 [10:39<10:04, 60.47s/it]"
          ],
          "name": "stderr"
        },
        {
          "output_type": "stream",
          "text": [
            " Loss: 3.15402674573876\n"
          ],
          "name": "stdout"
        },
        {
          "output_type": "stream",
          "text": [
            " 60%|██████    | 12/20 [12:55<07:59, 59.92s/it]"
          ],
          "name": "stderr"
        },
        {
          "output_type": "stream",
          "text": [
            " Loss: 3.1547305563399397\n"
          ],
          "name": "stdout"
        },
        {
          "output_type": "stream",
          "text": [
            " 70%|███████   | 14/20 [14:52<05:54, 59.10s/it]"
          ],
          "name": "stderr"
        },
        {
          "output_type": "stream",
          "text": [
            " Loss: 3.15320273092764\n"
          ],
          "name": "stdout"
        },
        {
          "output_type": "stream",
          "text": [
            " 85%|████████▌ | 17/20 [17:19<02:49, 56.60s/it]"
          ],
          "name": "stderr"
        },
        {
          "output_type": "stream",
          "text": [
            " Loss: 3.152353044738457\n"
          ],
          "name": "stdout"
        },
        {
          "output_type": "stream",
          "text": [
            " 95%|█████████▌| 19/20 [19:36<00:57, 57.42s/it]"
          ],
          "name": "stderr"
        },
        {
          "output_type": "stream",
          "text": [
            " Loss: 3.151514125973728\n"
          ],
          "name": "stdout"
        },
        {
          "output_type": "stream",
          "text": [
            "100%|██████████| 20/20 [20:10<00:00, 60.54s/it]\n",
            "100%|██████████| 20/20 [20:26<00:00, 61.31s/it]\n",
            "100%|██████████| 20/20 [20:26<00:00, 61.34s/it]\n"
          ],
          "name": "stderr"
        },
        {
          "output_type": "stream",
          "text": [
            " Loss: 3.1494753585896036\n",
            "Saving embeddings...\n"
          ],
          "name": "stdout"
        },
        {
          "output_type": "execute_result",
          "data": {
            "text/plain": [
              "<__main__.WikiTrainer at 0x7f9c80bb6be0>"
            ]
          },
          "metadata": {
            "tags": []
          },
          "execution_count": 18
        }
      ]
    },
    {
      "cell_type": "markdown",
      "metadata": {
        "id": "fXxANF5_1kZx",
        "colab_type": "text"
      },
      "source": [
        "Train"
      ]
    },
    {
      "cell_type": "code",
      "metadata": {
        "id": "oqIpBwsaz95a",
        "colab_type": "code",
        "colab": {
          "base_uri": "https://localhost:8080/",
          "height": 170
        },
        "outputId": "6dccb84a-f78c-43f9-9c46-eba69337a3c8"
      },
      "source": [
        "%lprun -f WikiDataset.__next__ -f WikiDataset.collate -f WikiTrainer.train train_model(num_workers=0, test = True, n_chunk=1)"
      ],
      "execution_count": null,
      "outputs": [
        {
          "output_type": "stream",
          "text": [
            "Initializing negative samples\n"
          ],
          "name": "stdout"
        },
        {
          "output_type": "stream",
          "text": [
            "\n",
            "  0%|          | 0/1 [00:00<?, ?it/s]\u001b[A"
          ],
          "name": "stderr"
        },
        {
          "output_type": "stream",
          "text": [
            "\n",
            "\n",
            "\n",
            "Iteration: 1\n"
          ],
          "name": "stdout"
        },
        {
          "output_type": "stream",
          "text": [
            "\n",
            "100%|██████████| 1/1 [00:58<00:00, 58.34s/it]\n"
          ],
          "name": "stderr"
        },
        {
          "output_type": "stream",
          "text": [
            " Loss: 5.873366421972997\n"
          ],
          "name": "stdout"
        }
      ]
    },
    {
      "cell_type": "code",
      "metadata": {
        "id": "5nidrvvWqRpd",
        "colab_type": "code",
        "colab": {
          "base_uri": "https://localhost:8080/",
          "height": 238
        },
        "outputId": "c5c81998-90f6-47b3-d82c-737368aca4ad"
      },
      "source": [
        "length = 0\n",
        "for c in read_link_pairs_chunks(n_chunk=10):\n",
        "    print(len(c))\n",
        "    length += len(c)\n",
        "print(length)"
      ],
      "execution_count": null,
      "outputs": [
        {
          "output_type": "stream",
          "text": [
            "\r  0%|          | 0/10 [00:00<?, ?it/s]"
          ],
          "name": "stderr"
        },
        {
          "output_type": "stream",
          "text": [
            "reading link pairs in 10 chunks\n"
          ],
          "name": "stdout"
        },
        {
          "output_type": "stream",
          "text": [
            "\r 10%|█         | 1/10 [00:11<01:46, 11.87s/it]"
          ],
          "name": "stderr"
        },
        {
          "output_type": "stream",
          "text": [
            "37397160\n"
          ],
          "name": "stdout"
        },
        {
          "output_type": "stream",
          "text": [
            "\r 20%|██        | 2/10 [00:22<01:32, 11.62s/it]"
          ],
          "name": "stderr"
        },
        {
          "output_type": "stream",
          "text": [
            "37397160\n"
          ],
          "name": "stdout"
        },
        {
          "output_type": "stream",
          "text": [
            "\r 30%|███       | 3/10 [00:34<01:21, 11.61s/it]"
          ],
          "name": "stderr"
        },
        {
          "output_type": "stream",
          "text": [
            "37397160\n"
          ],
          "name": "stdout"
        },
        {
          "output_type": "stream",
          "text": [
            "\r 40%|████      | 4/10 [00:45<01:08, 11.36s/it]"
          ],
          "name": "stderr"
        },
        {
          "output_type": "stream",
          "text": [
            "37397160\n"
          ],
          "name": "stdout"
        },
        {
          "output_type": "stream",
          "text": [
            "\r 50%|█████     | 5/10 [00:56<00:56, 11.20s/it]"
          ],
          "name": "stderr"
        },
        {
          "output_type": "stream",
          "text": [
            "37397160\n"
          ],
          "name": "stdout"
        },
        {
          "output_type": "stream",
          "text": [
            "\r 60%|██████    | 6/10 [01:06<00:44, 11.02s/it]"
          ],
          "name": "stderr"
        },
        {
          "output_type": "stream",
          "text": [
            "37397160\n"
          ],
          "name": "stdout"
        },
        {
          "output_type": "stream",
          "text": [
            "\r 70%|███████   | 7/10 [01:17<00:32, 10.86s/it]"
          ],
          "name": "stderr"
        },
        {
          "output_type": "stream",
          "text": [
            "37397160\n"
          ],
          "name": "stdout"
        },
        {
          "output_type": "stream",
          "text": [
            "\r 80%|████████  | 8/10 [01:27<00:21, 10.69s/it]"
          ],
          "name": "stderr"
        },
        {
          "output_type": "stream",
          "text": [
            "37397160\n"
          ],
          "name": "stdout"
        },
        {
          "output_type": "stream",
          "text": [
            "\r 90%|█████████ | 9/10 [01:37<00:10, 10.56s/it]"
          ],
          "name": "stderr"
        },
        {
          "output_type": "stream",
          "text": [
            "37397160\n"
          ],
          "name": "stdout"
        },
        {
          "output_type": "stream",
          "text": [
            "100%|██████████| 10/10 [01:48<00:00, 10.80s/it]"
          ],
          "name": "stderr"
        },
        {
          "output_type": "stream",
          "text": [
            "37397113\n",
            "373971553\n"
          ],
          "name": "stdout"
        },
        {
          "output_type": "stream",
          "text": [
            "\n"
          ],
          "name": "stderr"
        }
      ]
    },
    {
      "cell_type": "code",
      "metadata": {
        "id": "SECPcELX5soV",
        "colab_type": "code",
        "colab": {}
      },
      "source": [
        "class ContrastiveLoss(torch.nn.Module):\n",
        "    \"\"\"\n",
        "    Contrastive loss function.\n",
        "    Based on: http://yann.lecun.com/exdb/publis/pdf/hadsell-chopra-lecun-06.pdf\n",
        "    \"\"\"\n",
        "\n",
        "    def __init__(self, margin=2.0):\n",
        "        super(ContrastiveLoss, self).__init__()\n",
        "        self.margin = margin\n",
        "\n",
        "    def forward(self, outputs, label):\n",
        "        outputs1, output2 = outputs\n",
        "        euclidean_distance = F.pairwise_distance(output1, output2)\n",
        "        loss_contrastive = torch.mean((1-label) * torch.pow(euclidean_distance, 2) +\n",
        "                                      (label) * torch.pow(torch.clamp(self.margin - euclidean_distance, min=0.0), 2))\n",
        "        return loss_contrastive"
      ],
      "execution_count": null,
      "outputs": []
    },
    {
      "cell_type": "markdown",
      "metadata": {
        "id": "04bGxFzBpSEW",
        "colab_type": "text"
      },
      "source": [
        ""
      ]
    },
    {
      "cell_type": "markdown",
      "metadata": {
        "id": "qpopIKro8sEP",
        "colab_type": "text"
      },
      "source": [
        "We'll define a little function to create our model and optimizer so we\n",
        "can reuse it in the future."
      ]
    },
    {
      "cell_type": "code",
      "metadata": {
        "id": "ZmvPEWOl1dQQ",
        "colab_type": "code",
        "colab": {}
      },
      "source": [
        "def get_model(C, device):\n",
        "    model = two_tower().to(device)\n",
        "    return model, optim.Adam(model.parameters(), lr = C.LEARNING_RATE)"
      ],
      "execution_count": null,
      "outputs": []
    },
    {
      "cell_type": "markdown",
      "metadata": {
        "id": "kCcDDtLp8c6W",
        "colab_type": "text"
      },
      "source": [
        "Since we go through a similar process twice of calculating the loss for both the training set and the validation set, let's make that into its own function, loss_batch, which computes the loss for one batch.\n",
        "\n",
        "We pass an optimizer in for the training set, and use it to perform backprop. For the validation set, we don't pass an optimizer, so the method doesn't perform backprop."
      ]
    },
    {
      "cell_type": "code",
      "metadata": {
        "id": "lpkja9iG8dXc",
        "colab_type": "code",
        "colab": {}
      },
      "source": [
        "def loss_batch(model, loss_func, xb, yb, opt=None):\n",
        "    loss = loss_func(model(xb), yb)\n",
        "\n",
        "    if opt is not None:\n",
        "        loss.backward()\n",
        "        opt.step()\n",
        "        opt.zero_grad()\n",
        "\n",
        "    return loss.item(), len(xb)"
      ],
      "execution_count": null,
      "outputs": []
    },
    {
      "cell_type": "markdown",
      "metadata": {
        "id": "Ln7HPiX49KvU",
        "colab_type": "text"
      },
      "source": [
        "fit runs the necessary operations to train our model and compute the training and validation losses for each epoch. \n",
        "\n",
        "(Note that we always call model.train() before training, and model.eval() before inference, because these are used by layers such as nn.BatchNorm2d and nn.Dropout to ensure appropriate behaviour for these different phases.)\n",
        "\n"
      ]
    },
    {
      "cell_type": "code",
      "metadata": {
        "id": "B5-WaMDi9MZu",
        "colab_type": "code",
        "colab": {}
      },
      "source": [
        "def fit(epochs, model, loss_func, opt, train_dl, valid_dl, device):\n",
        "    counter = []\n",
        "    loss_history = [] \n",
        "    iteration_number= 0\n",
        "    \n",
        "    for epoch in range(epochs):\n",
        "        model.train()\n",
        "        for i, data in enumerate(train_dl, 0):\n",
        "            xb, yb = data\n",
        "            loss_batch(model, loss_func, xb, yb, opt)\n",
        "            \n",
        "            if i %10 == 0 :\n",
        "            print(\"Epoch number {}\\n Current loss {}\\n\".format(epoch, loss_contrastive.data[0]))\n",
        "            iteration_number +=10\n",
        "            counter.append(iteration_number)\n",
        "            loss_history.append(loss_contrastive.data[0])\n",
        "\n",
        "        model.eval()\n",
        "        with torch.no_grad():\n",
        "            losses, nums = zip(\n",
        "                *[loss_batch(model, loss_func, xb, yb) for xb, yb in valid_dl]\n",
        "            )\n",
        "        val_loss = np.sum(np.multiply(losses, nums)) / np.sum(nums)\n",
        "        print(epoch, val_loss)\n",
        "\n",
        "    show_plot(counter,loss_history)"
      ],
      "execution_count": null,
      "outputs": []
    },
    {
      "cell_type": "markdown",
      "metadata": {
        "id": "1HlIOs-J_iQu",
        "colab_type": "text"
      },
      "source": [
        "\"get_data\" returns dataloaders for the training and validation sets."
      ]
    },
    {
      "cell_type": "code",
      "metadata": {
        "id": "zKA_xlqf_kfS",
        "colab_type": "code",
        "colab": {}
      },
      "source": [
        "#TODO: send the batches to device\n",
        "\n",
        "def get_data(X, Y, C):\n",
        "    # Datasets\n",
        "    X = # IDs\n",
        "    Y = # Labels\n",
        "\n",
        "    #dataloader -> iterator\n",
        "    training_set = Dataset(X['train'], Y)\n",
        "    validation_set = Dataset(X['validation'], Y)\n",
        "\n",
        "    return (\n",
        "        DataLoader(train_ds, **C.data_params),\n",
        "        DataLoader(valid_ds, **C.data_params),\n",
        "    )"
      ],
      "execution_count": null,
      "outputs": []
    },
    {
      "cell_type": "markdown",
      "metadata": {
        "id": "NBlkZxnhAY9l",
        "colab_type": "text"
      },
      "source": [
        "main(). \n",
        "\n",
        "Now, our whole process of obtaining the data loaders and fitting the model can be run in 3 lines of code:"
      ]
    },
    {
      "cell_type": "code",
      "metadata": {
        "id": "ePoHD2d9_8hQ",
        "colab_type": "code",
        "colab": {}
      },
      "source": [
        "train_dl, valid_dl = get_data(X, Y, Config)\n",
        "model, opt = get_model(Config, device)\n",
        "fit(Config.NUM_EPOCHS, model, loss_func, opt, train_dl, valid_dl)"
      ],
      "execution_count": null,
      "outputs": []
    },
    {
      "cell_type": "code",
      "metadata": {
        "id": "Lxgkl5uT1mxx",
        "colab_type": "code",
        "cellView": "form",
        "colab": {}
      },
      "source": [
        "#@title\n",
        "model, opt = get_model()\n",
        "loss_func  = ContrastiveLoss()\n",
        "print(loss(model(xb), yb))\n",
        "\n",
        "\n",
        "counter = []\n",
        "loss_history = [] \n",
        "iteration_number= 0\n",
        "\n",
        "for epoch in range(0, Config.NUM_EPOCHS):\n",
        "    model.train()\n",
        "    for i, xb1, xb2 in enumerate(train_dataloader, 0):\n",
        "        pred1, pred2 = model(xb1, xb2)\n",
        "        loss_contrastive = loss_func(pred1, pred2, yb)\n",
        "        loss_contrastive.backward()\n",
        "        opt.step()\n",
        "        opt.zero_grad()\n",
        "  \n",
        "        if i %10 == 0 :\n",
        "            print(\"Epoch number {}\\n Current loss {}\\n\".format(epoch, loss_contrastive.data[0]))\n",
        "            iteration_number +=10\n",
        "            counter.append(iteration_number)\n",
        "            loss_history.append(loss_contrastive.data[0])\n",
        "    \n",
        "    model.eval()\n",
        "    with torch.no_grad():\n",
        "        valid_loss = sum(loss_func(model(xb1, xb2), yb) for xb1, xb2, yb in validation_generator)\n",
        "    print(epoch, valid_loss / len(validation_generator))     \n",
        "       \n",
        "show_plot(counter,loss_history)"
      ],
      "execution_count": null,
      "outputs": []
    },
    {
      "cell_type": "code",
      "metadata": {
        "id": "PvfUzen-6Stx",
        "colab_type": "code",
        "colab": {}
      },
      "source": [
        ""
      ],
      "execution_count": null,
      "outputs": []
    }
  ]
}