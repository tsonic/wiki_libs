{
  "nbformat": 4,
  "nbformat_minor": 0,
  "metadata": {
    "colab": {
      "name": "Youtube_v1_data.ipynb",
      "provenance": [],
      "collapsed_sections": [],
      "machine_shape": "hm"
    },
    "kernelspec": {
      "name": "python3",
      "display_name": "Python 3"
    },
    "accelerator": "GPU"
  },
  "cells": [
    {
      "cell_type": "code",
      "metadata": {
        "id": "oJENNPTCZMpI",
        "colab_type": "code",
        "colab": {
          "base_uri": "https://localhost:8080/",
          "height": 119
        },
        "outputId": "8f34a100-4ebe-43c1-e8b3-1b2b2ddb5b86"
      },
      "source": [
        "!rm -rf wiki_libs\n",
        "!git clone https://github.com/tsonic/wiki_libs.git"
      ],
      "execution_count": 1,
      "outputs": [
        {
          "output_type": "stream",
          "text": [
            "Cloning into 'wiki_libs'...\n",
            "remote: Enumerating objects: 90, done.\u001b[K\n",
            "remote: Counting objects:   1% (1/90)\u001b[K\rremote: Counting objects:   2% (2/90)\u001b[K\rremote: Counting objects:   3% (3/90)\u001b[K\rremote: Counting objects:   4% (4/90)\u001b[K\rremote: Counting objects:   5% (5/90)\u001b[K\rremote: Counting objects:   6% (6/90)\u001b[K\rremote: Counting objects:   7% (7/90)\u001b[K\rremote: Counting objects:   8% (8/90)\u001b[K\rremote: Counting objects:  10% (9/90)\u001b[K\rremote: Counting objects:  11% (10/90)\u001b[K\rremote: Counting objects:  12% (11/90)\u001b[K\rremote: Counting objects:  13% (12/90)\u001b[K\rremote: Counting objects:  14% (13/90)\u001b[K\rremote: Counting objects:  15% (14/90)\u001b[K\rremote: Counting objects:  16% (15/90)\u001b[K\rremote: Counting objects:  17% (16/90)\u001b[K\rremote: Counting objects:  18% (17/90)\u001b[K\rremote: Counting objects:  20% (18/90)\u001b[K\rremote: Counting objects:  21% (19/90)\u001b[K\rremote: Counting objects:  22% (20/90)\u001b[K\rremote: Counting objects:  23% (21/90)\u001b[K\rremote: Counting objects:  24% (22/90)\u001b[K\rremote: Counting objects:  25% (23/90)\u001b[K\rremote: Counting objects:  26% (24/90)\u001b[K\rremote: Counting objects:  27% (25/90)\u001b[K\rremote: Counting objects:  28% (26/90)\u001b[K\rremote: Counting objects:  30% (27/90)\u001b[K\rremote: Counting objects:  31% (28/90)\u001b[K\rremote: Counting objects:  32% (29/90)\u001b[K\rremote: Counting objects:  33% (30/90)\u001b[K\rremote: Counting objects:  34% (31/90)\u001b[K\rremote: Counting objects:  35% (32/90)\u001b[K\rremote: Counting objects:  36% (33/90)\u001b[K\rremote: Counting objects:  37% (34/90)\u001b[K\rremote: Counting objects:  38% (35/90)\u001b[K\rremote: Counting objects:  40% (36/90)\u001b[K\rremote: Counting objects:  41% (37/90)\u001b[K\rremote: Counting objects:  42% (38/90)\u001b[K\rremote: Counting objects:  43% (39/90)\u001b[K\rremote: Counting objects:  44% (40/90)\u001b[K\rremote: Counting objects:  45% (41/90)\u001b[K\rremote: Counting objects:  46% (42/90)\u001b[K\rremote: Counting objects:  47% (43/90)\u001b[K\rremote: Counting objects:  48% (44/90)\u001b[K\rremote: Counting objects:  50% (45/90)\u001b[K\rremote: Counting objects:  51% (46/90)\u001b[K\rremote: Counting objects:  52% (47/90)\u001b[K\rremote: Counting objects:  53% (48/90)\u001b[K\rremote: Counting objects:  54% (49/90)\u001b[K\rremote: Counting objects:  55% (50/90)\u001b[K\rremote: Counting objects:  56% (51/90)\u001b[K\rremote: Counting objects:  57% (52/90)\u001b[K\rremote: Counting objects:  58% (53/90)\u001b[K\rremote: Counting objects:  60% (54/90)\u001b[K\rremote: Counting objects:  61% (55/90)\u001b[K\rremote: Counting objects:  62% (56/90)\u001b[K\rremote: Counting objects:  63% (57/90)\u001b[K\rremote: Counting objects:  64% (58/90)\u001b[K\rremote: Counting objects:  65% (59/90)\u001b[K\rremote: Counting objects:  66% (60/90)\u001b[K\rremote: Counting objects:  67% (61/90)\u001b[K\rremote: Counting objects:  68% (62/90)\u001b[K\rremote: Counting objects:  70% (63/90)\u001b[K\rremote: Counting objects:  71% (64/90)\u001b[K\rremote: Counting objects:  72% (65/90)\u001b[K\rremote: Counting objects:  73% (66/90)\u001b[K\rremote: Counting objects:  74% (67/90)\u001b[K\rremote: Counting objects:  75% (68/90)\u001b[K\rremote: Counting objects:  76% (69/90)\u001b[K\rremote: Counting objects:  77% (70/90)\u001b[K\rremote: Counting objects:  78% (71/90)\u001b[K\rremote: Counting objects:  80% (72/90)\u001b[K\rremote: Counting objects:  81% (73/90)\u001b[K\rremote: Counting objects:  82% (74/90)\u001b[K\rremote: Counting objects:  83% (75/90)\u001b[K\rremote: Counting objects:  84% (76/90)\u001b[K\rremote: Counting objects:  85% (77/90)\u001b[K\rremote: Counting objects:  86% (78/90)\u001b[K\rremote: Counting objects:  87% (79/90)\u001b[K\rremote: Counting objects:  88% (80/90)\u001b[K\rremote: Counting objects:  90% (81/90)\u001b[K\rremote: Counting objects:  91% (82/90)\u001b[K\rremote: Counting objects:  92% (83/90)\u001b[K\rremote: Counting objects:  93% (84/90)\u001b[K\rremote: Counting objects:  94% (85/90)\u001b[K\rremote: Counting objects:  95% (86/90)\u001b[K\rremote: Counting objects:  96% (87/90)\u001b[K\rremote: Counting objects:  97% (88/90)\u001b[K\rremote: Counting objects:  98% (89/90)\u001b[K\rremote: Counting objects: 100% (90/90)\u001b[K\rremote: Counting objects: 100% (90/90), done.\u001b[K\n",
            "remote: Compressing objects:   1% (1/63)\u001b[K\rremote: Compressing objects:   3% (2/63)\u001b[K\rremote: Compressing objects:   4% (3/63)\u001b[K\rremote: Compressing objects:   6% (4/63)\u001b[K\rremote: Compressing objects:   7% (5/63)\u001b[K\rremote: Compressing objects:   9% (6/63)\u001b[K\rremote: Compressing objects:  11% (7/63)\u001b[K\rremote: Compressing objects:  12% (8/63)\u001b[K\rremote: Compressing objects:  14% (9/63)\u001b[K\rremote: Compressing objects:  15% (10/63)\u001b[K\rremote: Compressing objects:  17% (11/63)\u001b[K\rremote: Compressing objects:  19% (12/63)\u001b[K\rremote: Compressing objects:  20% (13/63)\u001b[K\rremote: Compressing objects:  22% (14/63)\u001b[K\rremote: Compressing objects:  23% (15/63)\u001b[K\rremote: Compressing objects:  25% (16/63)\u001b[K\rremote: Compressing objects:  26% (17/63)\u001b[K\rremote: Compressing objects:  28% (18/63)\u001b[K\rremote: Compressing objects:  30% (19/63)\u001b[K\rremote: Compressing objects:  31% (20/63)\u001b[K\rremote: Compressing objects:  33% (21/63)\u001b[K\rremote: Compressing objects:  34% (22/63)\u001b[K\rremote: Compressing objects:  36% (23/63)\u001b[K\rremote: Compressing objects:  38% (24/63)\u001b[K\rremote: Compressing objects:  39% (25/63)\u001b[K\rremote: Compressing objects:  41% (26/63)\u001b[K\rremote: Compressing objects:  42% (27/63)\u001b[K\rremote: Compressing objects:  44% (28/63)\u001b[K\rremote: Compressing objects:  46% (29/63)\u001b[K\rremote: Compressing objects:  47% (30/63)\u001b[K\rremote: Compressing objects:  49% (31/63)\u001b[K\rremote: Compressing objects:  50% (32/63)\u001b[K\rremote: Compressing objects:  52% (33/63)\u001b[K\rremote: Compressing objects:  53% (34/63)\u001b[K\rremote: Compressing objects:  55% (35/63)\u001b[K\rremote: Compressing objects:  57% (36/63)\u001b[K\rremote: Compressing objects:  58% (37/63)\u001b[K\rremote: Compressing objects:  60% (38/63)\u001b[K\rremote: Compressing objects:  61% (39/63)\u001b[K\rremote: Compressing objects:  63% (40/63)\u001b[K\rremote: Compressing objects:  65% (41/63)\u001b[K\rremote: Compressing objects:  66% (42/63)\u001b[K\rremote: Compressing objects:  68% (43/63)\u001b[K\rremote: Compressing objects:  69% (44/63)\u001b[K\rremote: Compressing objects:  71% (45/63)\u001b[K\rremote: Compressing objects:  73% (46/63)\u001b[K\rremote: Compressing objects:  74% (47/63)\u001b[K\rremote: Compressing objects:  76% (48/63)\u001b[K\rremote: Compressing objects:  77% (49/63)\u001b[K\rremote: Compressing objects:  79% (50/63)\u001b[K\rremote: Compressing objects:  80% (51/63)\u001b[K\rremote: Compressing objects:  82% (52/63)\u001b[K\rremote: Compressing objects:  84% (53/63)\u001b[K\rremote: Compressing objects:  85% (54/63)\u001b[K\rremote: Compressing objects:  87% (55/63)\u001b[K\rremote: Compressing objects:  88% (56/63)\u001b[K\rremote: Compressing objects:  90% (57/63)\u001b[K\rremote: Compressing objects:  92% (58/63)\u001b[K\rremote: Compressing objects:  93% (59/63)\u001b[K\rremote: Compressing objects:  95% (60/63)\u001b[K\rremote: Compressing objects:  96% (61/63)\u001b[K\rremote: Compressing objects:  98% (62/63)\u001b[K\rremote: Compressing objects: 100% (63/63)\u001b[K\rremote: Compressing objects: 100% (63/63), done.\u001b[K\n",
            "Unpacking objects:   1% (1/90)   \rUnpacking objects:   2% (2/90)   \rUnpacking objects:   3% (3/90)   \rUnpacking objects:   4% (4/90)   \rUnpacking objects:   5% (5/90)   \rUnpacking objects:   6% (6/90)   \rUnpacking objects:   7% (7/90)   \rUnpacking objects:   8% (8/90)   \rUnpacking objects:  10% (9/90)   \rUnpacking objects:  11% (10/90)   \rUnpacking objects:  12% (11/90)   \rUnpacking objects:  13% (12/90)   \rUnpacking objects:  14% (13/90)   \rUnpacking objects:  15% (14/90)   \rUnpacking objects:  16% (15/90)   \rUnpacking objects:  17% (16/90)   \rUnpacking objects:  18% (17/90)   \rUnpacking objects:  20% (18/90)   \rUnpacking objects:  21% (19/90)   \rUnpacking objects:  22% (20/90)   \rUnpacking objects:  23% (21/90)   \rUnpacking objects:  24% (22/90)   \rUnpacking objects:  25% (23/90)   \rUnpacking objects:  26% (24/90)   \rUnpacking objects:  27% (25/90)   \rUnpacking objects:  28% (26/90)   \rUnpacking objects:  30% (27/90)   \rUnpacking objects:  31% (28/90)   \rUnpacking objects:  32% (29/90)   \rUnpacking objects:  33% (30/90)   \rUnpacking objects:  34% (31/90)   \rUnpacking objects:  35% (32/90)   \rUnpacking objects:  36% (33/90)   \rremote: Total 90 (delta 46), reused 60 (delta 25), pack-reused 0\u001b[K\n",
            "Unpacking objects:  37% (34/90)   \rUnpacking objects:  38% (35/90)   \rUnpacking objects:  40% (36/90)   \rUnpacking objects:  41% (37/90)   \rUnpacking objects:  42% (38/90)   \rUnpacking objects:  43% (39/90)   \rUnpacking objects:  44% (40/90)   \rUnpacking objects:  45% (41/90)   \rUnpacking objects:  46% (42/90)   \rUnpacking objects:  47% (43/90)   \rUnpacking objects:  48% (44/90)   \rUnpacking objects:  50% (45/90)   \rUnpacking objects:  51% (46/90)   \rUnpacking objects:  52% (47/90)   \rUnpacking objects:  53% (48/90)   \rUnpacking objects:  54% (49/90)   \rUnpacking objects:  55% (50/90)   \rUnpacking objects:  56% (51/90)   \rUnpacking objects:  57% (52/90)   \rUnpacking objects:  58% (53/90)   \rUnpacking objects:  60% (54/90)   \rUnpacking objects:  61% (55/90)   \rUnpacking objects:  62% (56/90)   \rUnpacking objects:  63% (57/90)   \rUnpacking objects:  64% (58/90)   \rUnpacking objects:  65% (59/90)   \rUnpacking objects:  66% (60/90)   \rUnpacking objects:  67% (61/90)   \rUnpacking objects:  68% (62/90)   \rUnpacking objects:  70% (63/90)   \rUnpacking objects:  71% (64/90)   \rUnpacking objects:  72% (65/90)   \rUnpacking objects:  73% (66/90)   \rUnpacking objects:  74% (67/90)   \rUnpacking objects:  75% (68/90)   \rUnpacking objects:  76% (69/90)   \rUnpacking objects:  77% (70/90)   \rUnpacking objects:  78% (71/90)   \rUnpacking objects:  80% (72/90)   \rUnpacking objects:  81% (73/90)   \rUnpacking objects:  82% (74/90)   \rUnpacking objects:  83% (75/90)   \rUnpacking objects:  84% (76/90)   \rUnpacking objects:  85% (77/90)   \rUnpacking objects:  86% (78/90)   \rUnpacking objects:  87% (79/90)   \rUnpacking objects:  88% (80/90)   \rUnpacking objects:  90% (81/90)   \rUnpacking objects:  91% (82/90)   \rUnpacking objects:  92% (83/90)   \rUnpacking objects:  93% (84/90)   \rUnpacking objects:  94% (85/90)   \rUnpacking objects:  95% (86/90)   \rUnpacking objects:  96% (87/90)   \rUnpacking objects:  97% (88/90)   \rUnpacking objects:  98% (89/90)   \rUnpacking objects: 100% (90/90)   \rUnpacking objects: 100% (90/90), done.\n"
          ],
          "name": "stdout"
        }
      ]
    },
    {
      "cell_type": "code",
      "metadata": {
        "id": "AFhOD5agRhg9",
        "colab_type": "code",
        "colab": {}
      },
      "source": [
        "import torch\n",
        "import torch.nn as nn\n",
        "import torch.nn.functional as F\n",
        "from torch.utils.data import DataLoader\n",
        "import matplotlib.pyplot as plt\n",
        "import numpy as np\n",
        "import json\n",
        "from collections import defaultdict\n",
        "import pandas as pd\n",
        "from zipfile import ZipFile\n",
        "import pickle\n",
        "import gc\n",
        "from gensim.models.phrases import Phrases, Phraser\n",
        "import itertools\n",
        "import importlib\n",
        "import wiki_libs\n",
        "from wiki_libs.preprocessing import *\n",
        "from functools import partial\n",
        "import torch.optim as optim\n",
        "import traceback\n",
        "importlib.reload(wiki_libs.preprocessing)\n",
        "\n",
        "use_cuda = torch.cuda.is_available()\n",
        "device = torch.device(\"cuda:0\" if use_cuda else \"cpu\")\n",
        "# cudnn.benchmark = True # CUDA for PyTorch. Faster runtime if input size constant in iterations.  \n",
        "!pip install ipdb > /dev/null\n",
        "!pip install line_profiler > /dev/null\n",
        "%load_ext line_profiler\n",
        "import ipdb\n",
        "import pdb\n",
        "\n",
        "np.random.seed(12345)"
      ],
      "execution_count": 2,
      "outputs": []
    },
    {
      "cell_type": "code",
      "metadata": {
        "colab_type": "code",
        "id": "qtGOBgkoLR4k",
        "colab": {
          "base_uri": "https://localhost:8080/",
          "height": 34
        },
        "outputId": "874cb3e9-cbb4-420d-f0dc-c932199ba726"
      },
      "source": [
        "from google.colab import drive\n",
        "drive.flush_and_unmount()\n",
        "drive.mount('/content/gdrive',force_remount=True)"
      ],
      "execution_count": 3,
      "outputs": [
        {
          "output_type": "stream",
          "text": [
            "Mounted at /content/gdrive\n"
          ],
          "name": "stdout"
        }
      ]
    },
    {
      "cell_type": "markdown",
      "metadata": {
        "id": "ClPh1xtBXlwh",
        "colab_type": "text"
      },
      "source": [
        "Configuration Class"
      ]
    },
    {
      "cell_type": "code",
      "metadata": {
        "id": "xRen2hlaY5RJ",
        "colab_type": "code",
        "colab": {
          "base_uri": "https://localhost:8080/",
          "height": 51
        },
        "outputId": "fd1cf4ce-4e96-43ce-91ba-d59bb841cac3"
      },
      "source": [
        "%%time\n",
        "df_cp = read_category_links()"
      ],
      "execution_count": null,
      "outputs": [
        {
          "output_type": "stream",
          "text": [
            "CPU times: user 47.8 s, sys: 2.92 s, total: 50.7 s\n",
            "Wall time: 54.3 s\n"
          ],
          "name": "stdout"
        }
      ]
    },
    {
      "cell_type": "code",
      "metadata": {
        "id": "uwy0G71ahWi2",
        "colab_type": "code",
        "colab": {}
      },
      "source": [
        "%%time\n",
        "#load ngram model\n",
        "\n",
        "ngram_model = load_ngram_model(NGRAM_MODEL_PATH_PREFIX + \"title_category_ngram_model.pickle\")"
      ],
      "execution_count": null,
      "outputs": []
    },
    {
      "cell_type": "code",
      "metadata": {
        "id": "ciMMs_Ry1Y-K",
        "colab_type": "code",
        "colab": {}
      },
      "source": [
        "print(df_cp.columns)\n",
        "print(df_cp.shape)"
      ],
      "execution_count": null,
      "outputs": []
    },
    {
      "cell_type": "code",
      "metadata": {
        "id": "g34lta9TiMGT",
        "colab_type": "code",
        "colab": {}
      },
      "source": [
        "df_cp['page_title'].isnull().mean()"
      ],
      "execution_count": null,
      "outputs": []
    },
    {
      "cell_type": "code",
      "metadata": {
        "id": "ShwZU4q3f1KN",
        "colab_type": "code",
        "colab": {}
      },
      "source": [
        "%%time\n",
        "# tranform title, return list of list of ngrams\n",
        "title_transformed, category_transformed = get_transformed_title_category(ngram_model)"
      ],
      "execution_count": null,
      "outputs": []
    },
    {
      "cell_type": "code",
      "metadata": {
        "id": "RpN1c9G53lvT",
        "colab_type": "code",
        "colab": {}
      },
      "source": [
        "vocab_title = generate_vocab(title_transformed)"
      ],
      "execution_count": null,
      "outputs": []
    },
    {
      "cell_type": "code",
      "metadata": {
        "id": "EAMczYgU4Cmp",
        "colab_type": "code",
        "colab": {}
      },
      "source": [
        "vocab_category = generate_vocab(category_transformed)"
      ],
      "execution_count": null,
      "outputs": []
    },
    {
      "cell_type": "code",
      "metadata": {
        "id": "-ROzLwcq7Rfh",
        "colab_type": "code",
        "colab": {}
      },
      "source": [
        "vocab_title_category = generate_vocab(title_transformed + category_transformed)"
      ],
      "execution_count": null,
      "outputs": []
    },
    {
      "cell_type": "code",
      "metadata": {
        "id": "wQh_ZrV59Auz",
        "colab_type": "code",
        "colab": {}
      },
      "source": [
        "# with open('gdrive/My Drive/Projects with Wei/wiki_data/ngram_model/vocab.json','w') as f:\n",
        "#   json.dump({\n",
        "#       'vocab_title':vocab_title,\n",
        "#       'vocab_category':vocab_category,\n",
        "#       'vocab_title_category':vocab_title_category,\n",
        "#       }), f)"
      ],
      "execution_count": null,
      "outputs": []
    },
    {
      "cell_type": "code",
      "metadata": {
        "id": "jVWyb8bYZ0T7",
        "colab_type": "code",
        "colab": {}
      },
      "source": [
        "with open('gdrive/My Drive/Projects with Wei/wiki_data/ngram_model/vocab.json','r') as f:\n",
        "    vocab_json = json.load(f)\n",
        "    vocab_title = vocab_json['vocab_title']\n",
        "    vocab_category = vocab_json['vocab_category']\n",
        "    vocab_title_category = 'vocab_title_category'\n",
        "    word2ind_title_category = defaultdict(lambda:-1, {w:i for i, w in enumerate(vocab_title_category)})\n",
        "    word2ind_title = defaultdict(lambda:-1, {w:i for i, w in enumerate(vocab_title)})\n",
        "    word2ind_category = defaultdict(lambda:-1, {w:i for i, w in enumerate(vocab_category)})"
      ],
      "execution_count": null,
      "outputs": []
    },
    {
      "cell_type": "code",
      "metadata": {
        "id": "TjJvyCTB62qD",
        "colab_type": "code",
        "colab": {}
      },
      "source": [
        "len(vocab_title)\n"
      ],
      "execution_count": null,
      "outputs": []
    },
    {
      "cell_type": "code",
      "metadata": {
        "id": "nQKzz9_gghw7",
        "colab_type": "code",
        "colab": {}
      },
      "source": [
        "def ngram_to_idx(l, word2ind):\n",
        "  return np.array([word2ind[ng] for ng in l])"
      ],
      "execution_count": null,
      "outputs": []
    },
    {
      "cell_type": "code",
      "metadata": {
        "id": "ln-c2CjWbjva",
        "colab_type": "code",
        "colab": {}
      },
      "source": [
        "%%time\n",
        "df_page_2_bow = (\n",
        "    df_cp[['page_id','page_title']]\n",
        "    .drop_duplicates()\n",
        "    .fillna({'page_title':''})\n",
        "    .assign(processed_title = lambda df: df['page_title'].apply(process_title))\n",
        "    .assign(processed_title_ngram = lambda df: \n",
        "            transform_ngram(df['processed_title'].tolist(), ngram_model))\n",
        "    .assign(processed_title_ngram_idx = lambda df: \n",
        "            df['processed_title_ngram'].apply(ngram_to_idx, word2ind=word2ind_title))\n",
        ")"
      ],
      "execution_count": null,
      "outputs": []
    },
    {
      "cell_type": "code",
      "metadata": {
        "id": "44iHEGxkiLMs",
        "colab_type": "code",
        "colab": {}
      },
      "source": [
        "%%time\n",
        "df_category_2_bow = (\n",
        "    df_cp[['page_category']]\n",
        "    .drop_duplicates()\n",
        "    .fillna({'page_category':''})\n",
        "    .assign(processed_category = lambda df: df['page_category']\n",
        "                                      .apply(process_title))\n",
        "    .assign(processed_category_ngram = lambda df: transform_ngram(df['processed_category'].tolist(), ngram_model))\n",
        "    .assign(processed_category_ngram_idx = \n",
        "                                     lambda df: df['processed_category_ngram'].apply(ngram_to_idx, word2ind=word2ind_category))\n",
        ")"
      ],
      "execution_count": null,
      "outputs": []
    },
    {
      "cell_type": "code",
      "metadata": {
        "id": "5foEZOu7aEtE",
        "colab_type": "code",
        "colab": {}
      },
      "source": [
        "%%time\n",
        "df_lp = next(read_link_pairs_chunks(n_chunk=10))\n",
        "df_lp.shape"
      ],
      "execution_count": null,
      "outputs": []
    },
    {
      "cell_type": "code",
      "metadata": {
        "id": "xrvrVwqyVPvl",
        "colab_type": "code",
        "colab": {}
      },
      "source": [
        "class Config():\n",
        "    #TODO: fill in the dirs\n",
        "    training_dir = \\\n",
        "    testing_dir = \\\n",
        "\n",
        "    #TODO: complete hyper-par defs\n",
        "    EMD_DIM1      = 2 ** 3 #left tower \n",
        "    EMD_DIM2      = 2 ** 3 #right tower (= left for L2 cals)\n",
        "    MAX_EPOCHS    = 100\n",
        "    LEARNING_RATE = 1 ** (-5) # grid \\in [-6:-3]\n",
        "    NUM_EPOCHS     = 10\n",
        "\n",
        "    # data parameters. to be used in the DataLoader caclass\n",
        "    data_params = {'BATCH_SIZE': 2 ** 6, # grid \\in [3:8]\n",
        "                   'shuffle': True,\n",
        "                   'num_workers': 6}\n"
      ],
      "execution_count": null,
      "outputs": []
    },
    {
      "cell_type": "markdown",
      "metadata": {
        "id": "OPbFLyVXL5yw",
        "colab_type": "text"
      },
      "source": [
        "Helper_functions"
      ]
    },
    {
      "cell_type": "code",
      "metadata": {
        "id": "-a6DdTHtL7Dr",
        "colab_type": "code",
        "colab": {}
      },
      "source": [
        "def show_plot(iteration, loss):\n",
        "    plt.plot(iteration, loss)\n",
        "    plt.show()"
      ],
      "execution_count": null,
      "outputs": []
    },
    {
      "cell_type": "markdown",
      "metadata": {
        "id": "h4wpwC9oS6Ua",
        "colab_type": "text"
      },
      "source": [
        "**Import** data\n",
        "\n",
        "Reference: https://stanford.edu/~shervine/blog/pytorch-how-to-generate-data-parallel"
      ]
    },
    {
      "cell_type": "code",
      "metadata": {
        "id": "-7KSzeuRIyxG",
        "colab_type": "code",
        "colab": {}
      },
      "source": [
        "class PageWordStats(object):\n",
        "    def __init__(self, read_path,\n",
        "                 ngram_model_file = \"title_category_ngram_model.pickle\",\n",
        "                 output_path = \"gdrive/My Drive/Projects with Wei/wiki_data/page_word_stats.json\",\n",
        "                 n_chunk = 10,\n",
        "                 ):\n",
        "        if read_path is not None:\n",
        "            config = json.load(open(read_path, 'r'))\n",
        "            self.word_frequency = config['word_frequency']\n",
        "            self.word2id = config['word2id']\n",
        "            self.id2word = config['id2word']\n",
        "            self.page_frequency = {int(k):v for k, v in config['page_frequency'].items()}\n",
        "\n",
        "            self.page2id = {int(k):v for k, v in config['page2id'].items()}\n",
        "            self.id2page = config['id2page']\n",
        "        else:\n",
        "            # recomptue the target page stats\n",
        "\n",
        "            gen = read_link_pairs_chunks(n_chunk = n_chunk)\n",
        "            print('generating page id stats...')\n",
        "            s_page = []\n",
        "            for df_chunk in gen:\n",
        "                val_counts = df_chunk['page_id_target'].append(df_chunk['page_id_source']).value_counts()\n",
        "                s_page.append(val_counts)\n",
        "            df_stats = (\n",
        "                pd.concat(s_page)\n",
        "                .rename_axis(\"page_id\")  #rename index\n",
        "                .to_frame('count')\n",
        "                .groupby(\"page_id\")\n",
        "                    .sum()\n",
        "                .reset_index()\n",
        "            )\n",
        "            self.page_frequency = {row.page_id: row.count \n",
        "                                   for row in df_stats.itertuples(index = False)}\n",
        "            self.page2id = {p:i for i, p in enumerate(df_stats['page_id'])}\n",
        "            self.id2page = df_stats['page_id'].tolist()\n",
        "\n",
        "            # recompute the word stats\n",
        "            print('generating word/ngram stats from title and categories...')\n",
        "\n",
        "            ngram_model = load_ngram_model(NGRAM_MODEL_PATH_PREFIX + ngram_model_file)\n",
        "            title_transformed, category_transformed = get_transformed_title_category(ngram_model)\n",
        "            s_words = (\n",
        "                pd.Series(itertools.chain(*(title_transformed + category_transformed)))\n",
        "                .value_counts()\n",
        "            )\n",
        "            # word_frequency is a list, where ith element is the word frequency of word with id i.\n",
        "            self.word_frequency = s_words.tolist()\n",
        "            self.word2id = {w:i for i, w in enumerate(s_words.index)}\n",
        "            self.id2word = s_words.index.tolist()\n",
        "            json.dump({\n",
        "                'word_frequency': self.word_frequency,\n",
        "                'word2id': self.word2id,\n",
        "                'id2word':self.id2word,\n",
        "                'page_frequency': self.page_frequency,\n",
        "                'page2id': self.page2id,\n",
        "                'id2page': self.id2page,\n",
        "                }, \n",
        "                open(output_path, 'w'))\n",
        "        print('There are %d unique words/ngrams' % len(self.word2id))\n",
        "        print('There are %d unique pages' % len(self.page2id))"
      ],
      "execution_count": 4,
      "outputs": []
    },
    {
      "cell_type": "code",
      "metadata": {
        "id": "dP-jKZ8qaNJL",
        "colab_type": "code",
        "colab": {}
      },
      "source": [
        "# %%time\n",
        "# page_word_stats = PageWordStats(read_path = None,n_chunk=10)"
      ],
      "execution_count": 5,
      "outputs": []
    },
    {
      "cell_type": "code",
      "metadata": {
        "id": "Bp80ZKWKbXJu",
        "colab_type": "code",
        "colab": {
          "base_uri": "https://localhost:8080/",
          "height": 51
        },
        "outputId": "951cacec-024a-4fb8-dfd8-bade5108c7c3"
      },
      "source": [
        "page_word_stats = PageWordStats(read_path = \"gdrive/My Drive/Projects with Wei/wiki_data/page_word_stats.json\")"
      ],
      "execution_count": 6,
      "outputs": [
        {
          "output_type": "stream",
          "text": [
            "There are 1748542 unique words/ngrams\n",
            "There are 5330812 unique pages\n"
          ],
          "name": "stdout"
        }
      ]
    },
    {
      "cell_type": "code",
      "metadata": {
        "id": "bFSjeu9OSpGp",
        "colab_type": "code",
        "colab": {}
      },
      "source": [
        "NEGATIVE_TABLE_SIZE = 1e8\n",
        "class WikiDataset(torch.utils.data.IterableDataset):\n",
        "    'Characterizes a dataset for PyTorch'\n",
        "    def __init__(self, file_list, compression, n_chunk, num_negs, page_word_stats, ns_exponent):\n",
        "        'Initialization'\n",
        "        #self.labels = labels\n",
        "        # self.list_IDs = list_IDs\n",
        "        # if isinstance(file_list, str):\n",
        "        #     file_list = [file_list]\n",
        "        self.file_list = file_list\n",
        "        self.compression = compression\n",
        "        self.n_chunk = n_chunk\n",
        "        self.pos = 0\n",
        "\n",
        "        self.chunk_iterator = None\n",
        "        self.instance_dict = None\n",
        "\n",
        "\n",
        "        self.negatives = []\n",
        "        self.negpos = 0\n",
        "        self.num_negs = num_negs\n",
        "        self.page_word_stats = page_word_stats\n",
        "\n",
        "        self.word_frequency = page_word_stats.word_frequency\n",
        "        self.word2id = page_word_stats.word2id\n",
        "        self.id2word = page_word_stats.id2word\n",
        "        self.page2id = page_word_stats.page2id\n",
        "        p,i = zip(*self.page2id.items())\n",
        "        self.page2id_series_map = pd.Series(i, index = p, dtype = np.int64)\n",
        "        self.id2page = page_word_stats.id2page\n",
        "        self.page_frequency = page_word_stats.page_frequency\n",
        "        self.initTableNegatives(ns_exponent=ns_exponent)\n",
        "\n",
        "    # Iterable may not know the length of the stream before hand\n",
        "    # def __len__(self):\n",
        "    #     'Denotes the total number of samples'\n",
        "    #     return len(self.list_IDs)\n",
        "\n",
        "    # def __getitem__(self, index):\n",
        "    #     'Generates one sample of data'\n",
        "    #     # Select sample\n",
        "    #     ID = self.list_IDs[index]\n",
        "\n",
        "    #     # Load data and get label\n",
        "    #     X = torch.load('data/' + ID + '.pt')\n",
        "    #     y = self.labels[ID]\n",
        "\n",
        "    #     return X, y\n",
        "    \n",
        "    def __iter__(self):\n",
        "        return self\n",
        "    \n",
        "    def __next__(self):\n",
        "        if self.chunk_iterator is None:\n",
        "            self.chunk_iterator = read_files_in_chunks(self.file_list, compression=self.compression, \n",
        "                                                       n_chunk = self.n_chunk, progress_bar = True)\n",
        "            \n",
        "        if self.instance_dict is None or self.pos >= len(self.instance_dict):\n",
        "            #print('read_new_chunk', flush = True)\n",
        "            df = next(self.chunk_iterator)\n",
        "            # have to reset self.pos after pull next in above iterator, otherwise \n",
        "            # it does not invalidate current instance_dict after iterator is exhausted.\n",
        "            self.pos = 0\n",
        "\n",
        "            df = df.assign(\n",
        "                    page_id_source = lambda df: df['page_id_source'].map(self.page2id_series_map),\n",
        "                    page_id_target = lambda df: df['page_id_target'].map(self.page2id_series_map),\n",
        "                )\n",
        "\n",
        "            self.instance_dict = list(df.itertuples(index = False, name = None))\n",
        "        ret = self.instance_dict[self.pos]\n",
        "        self.pos += 1\n",
        "        return ret\n",
        "\n",
        "    def getNegatives(self, target, size):  # TODO check equality with target\n",
        "        response = self.negatives[self.negpos:self.negpos + size]\n",
        "        # reshuffle negative table if negpos > total neg table size.\n",
        "        if (self.negpos + size) // len(self.negatives) >= 1:\n",
        "            # print('reshuffle negative table...')\n",
        "            np.random.shuffle(self.negatives)\n",
        "        self.negpos = (self.negpos + size) % len(self.negatives)\n",
        "        if len(response) != size:\n",
        "            return np.concatenate((response, self.negatives[0:self.negpos]))\n",
        "        return response\n",
        "\n",
        "    def initTableNegatives(self, ns_exponent):\n",
        "        print('Initializing negative samples', flush=True)\n",
        "        page_id, page_counts = zip(*self.page_frequency.items())\n",
        "        ratio = np.array(page_counts).astype(np.float64) ** ns_exponent / sum(page_counts)\n",
        "        sampled_count = np.round(ratio * NEGATIVE_TABLE_SIZE)\n",
        "\n",
        "        df = pd.DataFrame.from_records(enumerate(sampled_count))\n",
        "        # the column 0 is the page id, column 1 is the count of the page\n",
        "        self.negatives = np.repeat(df[0].astype(np.int64).values, df[1].astype(np.int64).values)\n",
        "        np.random.shuffle(self.negatives)\n",
        "\n",
        "    def collate(self,batches):\n",
        "        negs = self.getNegatives(None, self.num_negs * len(batches)).reshape((len(batches), self.num_negs))\n",
        "        id_list, positive_list = zip(*batches)\n",
        "\n",
        "        return torch.LongTensor(id_list), torch.LongTensor(positive_list), torch.from_numpy(negs)\n",
        "\n",
        "    @staticmethod\n",
        "    def worker_init_fn(worker_id, file_handle_lists):\n",
        "        worker_info = torch.utils.data.get_worker_info()\n",
        "        dataset = worker_info.dataset  # the dataset copy in this worker process\n",
        "        worker_id = worker_info.id\n",
        "\n",
        "        np.random.seed(np.random.get_state()[1][0] + worker_id) \n",
        "        np.random.shuffle(dataset.negatives)\n",
        "        dataset.file_list = file_handle_lists[worker_id]"
      ],
      "execution_count": 7,
      "outputs": []
    },
    {
      "cell_type": "code",
      "metadata": {
        "id": "LrhHiSSMHyev",
        "colab_type": "code",
        "colab": {}
      },
      "source": [
        "#%pdb"
      ],
      "execution_count": 8,
      "outputs": []
    },
    {
      "cell_type": "code",
      "metadata": {
        "id": "fMsdT7kmCXDB",
        "colab_type": "code",
        "colab": {}
      },
      "source": [
        "def test():\n",
        "    tt = get_file_handles_in_zip(LINK_PAIRS_LOCATION)\n",
        "    for i, d in enumerate(WikiDataset(tt, compression='zip', n_chunk=100, num_negs=5, page_word_stats = page_word_stats, ns_exponent = 0.5)):\n",
        "        print(d)\n",
        "        if i > 100:\n",
        "            break\n"
      ],
      "execution_count": 9,
      "outputs": []
    },
    {
      "cell_type": "code",
      "metadata": {
        "id": "VFuCRj7X4jyw",
        "colab_type": "code",
        "colab": {}
      },
      "source": [
        "#%lprun -f WikiDataset.__next__ test()"
      ],
      "execution_count": 10,
      "outputs": []
    },
    {
      "cell_type": "code",
      "metadata": {
        "id": "VeFXyLw2S8Mk",
        "colab_type": "code",
        "colab": {}
      },
      "source": [
        "# # Datasets\n",
        "# partition = # IDs\n",
        "# labels = # Labels\n",
        "\n",
        "# #dataloader -> iterator\n",
        "# training_set = Dataset(partition['train'], labels)\n",
        "# validation_set = Dataset(partition['validation'], labels)\n",
        "\n",
        "# #TODO: load trainset and testset\n",
        "# training_generator  = DataLoader(trainset, **data_params)\n",
        "# validation_generator  = DataLoader(testset, **data_params)"
      ],
      "execution_count": 11,
      "outputs": []
    },
    {
      "cell_type": "markdown",
      "metadata": {
        "id": "u8F1ILBCXSvz",
        "colab_type": "text"
      },
      "source": [
        "Model"
      ]
    },
    {
      "cell_type": "code",
      "metadata": {
        "id": "htHjJZE7cgib",
        "colab_type": "code",
        "colab": {}
      },
      "source": [
        "class two_tower(nn.Module):\n",
        "    def __init__(self, vocab_size, embedding_dim, context_size, hidden_dim1, out_dim):\n",
        "        super(nn.Module, self).__init__()\n",
        "        self.embeddings = nn.Embedding(vocab_size, embedding_dim)\n",
        "        self.linear1 = nn.Linear(context_size * embedding_dim, hidden_dim1)\n",
        "        self.linear2 = nn.Linear(hidden_dim1, out_dim)\n",
        "\n",
        "    def forward_left(self, inputs):\n",
        "        embeds = self.embeddings(inputs).view((1, -1))\n",
        "        h = F.relu(self.linear1(embeds))\n",
        "        out = F.relu(self.linear2(h))\n",
        "        # log_probs = F.log_softmax(out, dim=1)\n",
        "        return out\n",
        "\n",
        "    def forward_right(self, inputs):\n",
        "        embeds = self.embeddings(inputs).view((1, -1))\n",
        "        h = F.relu(self.linear1(embeds))\n",
        "        out = F.relu(self.linear2(h))\n",
        "        # log_probs = F.log_softmax(out, dim=1)\n",
        "        return out\n",
        "\n",
        "    def forward(self, inputs):\n",
        "        inputs_left, inputs_right = inputs\n",
        "        return self.forward_left(inputs_left), self.forward_right(inputs_right)"
      ],
      "execution_count": 12,
      "outputs": []
    },
    {
      "cell_type": "code",
      "metadata": {
        "id": "lskV0o6b5yOm",
        "colab_type": "code",
        "colab": {}
      },
      "source": [
        "class OneTower(nn.Module):\n",
        "    def __init__(self, corpus_size, embedding_dim, hidden_dim1, out_dim, sparse, single_layer = False):\n",
        "        super(OneTower, self).__init__()\n",
        "        self.embeddings = nn.Embedding(corpus_size, embedding_dim, sparse=sparse)\n",
        "        self.single_layer = single_layer\n",
        "\n",
        "        # if single_layer is True, it essentially become w2v model with single hidden layer\n",
        "        if not self.single_layer:\n",
        "            self.linear1 = nn.Linear(embedding_dim, hidden_dim1)\n",
        "            self.linear2 = nn.Linear(hidden_dim1, out_dim)\n",
        "        self.out_embeddings = nn.Embedding(corpus_size, embedding_dim, sparse=sparse)\n",
        "        \n",
        "    def forward(self, pos_u, pos_v, neg_v):\n",
        "        emb_u = self.embeddings(pos_u)\n",
        "        emb_v = self.out_embeddings(pos_v)\n",
        "        emb_neg_v = self.out_embeddings(neg_v)\n",
        "\n",
        "        if not self.single_layer:\n",
        "            h1 = F.relu(self.linear1(emb_u))\n",
        "            h2 = F.relu(self.linear2(h1))\n",
        "        else:\n",
        "            h2 = emb_v\n",
        "\n",
        "        score = torch.sum(torch.mul(h2, emb_v), dim=1)\n",
        "        score = torch.clamp(score, max=10, min=-10)\n",
        "        score = -F.logsigmoid(score)\n",
        "\n",
        "\n",
        "        neg_score = torch.bmm(emb_neg_v, h2.unsqueeze(2)).squeeze()\n",
        "        neg_score = torch.clamp(neg_score, max=10, min=-10)\n",
        "        neg_score = -torch.sum(F.logsigmoid(-neg_score), dim=1)\n",
        "\n",
        "        return torch.mean(score + neg_score)    "
      ],
      "execution_count": 13,
      "outputs": []
    },
    {
      "cell_type": "code",
      "metadata": {
        "id": "ns7DMTP32Cl-",
        "colab_type": "code",
        "colab": {}
      },
      "source": [
        "#%pdb"
      ],
      "execution_count": 14,
      "outputs": []
    },
    {
      "cell_type": "code",
      "metadata": {
        "id": "XL7lfyCsDkIv",
        "colab_type": "code",
        "colab": {}
      },
      "source": [
        "class MultipleOptimizer:\n",
        "    def __init__(self, *op):\n",
        "        self.optimizers = op\n",
        "\n",
        "    def zero_grad(self):\n",
        "        for op in self.optimizers:\n",
        "            op.zero_grad()\n",
        "\n",
        "    def step(self):\n",
        "        for op in self.optimizers:\n",
        "            op.step()\n",
        "\n",
        "class WikiTrainer:\n",
        "\n",
        "    def __init__(self, page_word_stats, hidden_dim1, out_dim, embedding_dim=100, batch_size=32, window_size=5, iterations=3,\n",
        "                 initial_lr=0.001, min_count=12, num_workers=0, collate_fn='custom', iprint=500, t=1e-3, ns_exponent=0.75, \n",
        "                 optimizer='adam', optimizer_kwargs = None, warm_start_model = None, lr_schedule = False, timeout = 60, n_chunk = 20,\n",
        "                 sparse=False, single_layer=False, test = False, save_embedding = True):\n",
        "\n",
        "        file_handle_lists = get_files_in_dir(LINK_PAIRS_LOCATION)\n",
        "        if test:\n",
        "            file_handle_lists = file_handle_lists[:2]\n",
        "            num_workers = 0\n",
        "            n_chunk = 1\n",
        "            \n",
        "        dataset = WikiDataset(file_list = None, compression = 'zip', n_chunk = n_chunk, \n",
        "                              page_word_stats = page_word_stats, num_negs=5, \n",
        "                              ns_exponent=ns_exponent)\n",
        "        if collate_fn == 'custom':\n",
        "            collate_fn = dataset.collate\n",
        "        else:\n",
        "            collate_fn = None\n",
        "        \n",
        "        if num_workers > 0:\n",
        "            file_handle_lists = np.array_split(file_handle_lists, num_workers)\n",
        "        else:\n",
        "            timeout = 0\n",
        "            dataset.file_list = file_handle_lists\n",
        "\n",
        "        self.dataloader = DataLoader(dataset, batch_size=batch_size,\n",
        "                                     shuffle=False, num_workers=num_workers, \n",
        "                                     collate_fn=collate_fn, \n",
        "                                     worker_init_fn=partial(dataset.worker_init_fn, file_handle_lists=file_handle_lists),\n",
        "                                     timeout = timeout,\n",
        "                                     drop_last = True,\n",
        "                                    )\n",
        "\n",
        "        # self.output_file_name = output_file\n",
        "        self.corpus_size = len(dataset.page_frequency)\n",
        "        self.embedding_dim = embedding_dim\n",
        "        self.save_embedding = save_embedding\n",
        "        self.iprint = iprint\n",
        "        self.batch_size = batch_size\n",
        "        self.iterations = iterations\n",
        "        self.initial_lr = initial_lr\n",
        "        self.model = OneTower(self.corpus_size, self.embedding_dim, \n",
        " #                             context_size = dataset.num_neg, \n",
        "                              hidden_dim1 = hidden_dim1, \n",
        "                              out_dim = out_dim, sparse=sparse,\n",
        "                              single_layer = single_layer,\n",
        "                              )\n",
        "\n",
        "        if warm_start_model is not None:\n",
        "            self.model.load_state_dict(torch.load(warm_start_model), strict=False)\n",
        "        self.optimizer = optimizer\n",
        "        if optimizer_kwargs is None:\n",
        "            optimizer_kwargs = {}\n",
        "        self.optimizer_kwargs = optimizer_kwargs\n",
        "        self.lr_schedule = lr_schedule\n",
        "        self.use_cuda = torch.cuda.is_available()\n",
        "        self.device = torch.device(\"cuda\" if self.use_cuda else \"cpu\")\n",
        "        if self.use_cuda:\n",
        "            self.model.cuda()\n",
        "\n",
        "    def train(self):\n",
        "        # clearn GPU memory cache\n",
        "        gc.collect()\n",
        "        torch.cuda.empty_cache()\n",
        "\n",
        "        self.final_lr = self.initial_lr\n",
        "\n",
        "        if self.optimizer == 'adam':\n",
        "            optimizer = optim.Adam(self.model.parameters(), lr=self.initial_lr, **self.optimizer_kwargs)\n",
        "        elif self.optimizer == 'sparse_adam':\n",
        "            optimizer = optim.SparseAdam(self.model.parameters(), lr=self.initial_lr, **self.optimizer_kwargs)\n",
        "        elif self.optimizer == 'sparse_dense_adam':\n",
        "            opti_sparse = optim.SparseAdam([self.model.embeddings.weight, self.model.out_embeddings.weight], lr=self.initial_lr, **self.optimizer_kwargs)\n",
        "            opti_dense = optim.Adam([self.model.linear1.weight, self.model.linear2.weight], lr=self.initial_lr, **self.optimizer_kwargs)\n",
        "            optimizer = MultipleOptimizer(opti_sparse, opti_dense)\n",
        "        elif self.optimizer == 'sgd':\n",
        "            optimizer = optim.SGD(self.model.parameters(), lr=self.initial_lr, **self.optimizer_kwargs)\n",
        "        elif self.optimizer == 'asgd':\n",
        "            optimizer = optim.ASGD(self.model.parameters(), lr=self.initial_lr, **self.optimizer_kwargs)\n",
        "        elif self.optimizer == 'adagrad':\n",
        "            optimizer = optim.Adagrad(self.model.parameters(), lr=self.initial_lr, **self.optimizer_kwargs)\n",
        "        else:\n",
        "            raise Exception('Unknown optimizer!')\n",
        "\n",
        "        if self.lr_schedule:\n",
        "            scheduler = torch.optim.lr_scheduler.CosineAnnealingLR(optimizer, self.iterations)\n",
        "        running_loss = 0.0\n",
        "        for iteration in range(self.iterations):\n",
        "\n",
        "            print(\"\\n\\n\\nIteration: \" + str(iteration + 1))\n",
        "\n",
        "            iprint = self.iprint #len(self.dataloader) // 20\n",
        "            for i, sample_batched in enumerate(self.dataloader):\n",
        "                # ipdb.set_trace()\n",
        "                if len(sample_batched[0]) > 1:\n",
        "                    pos_u = sample_batched[0].to(self.device)\n",
        "                    pos_v = sample_batched[1].to(self.device)\n",
        "                    neg_v = sample_batched[2].to(self.device)\n",
        "                    \n",
        "                    optimizer.zero_grad()\n",
        "                    loss = self.model.forward(pos_u, pos_v, neg_v)\n",
        "                    loss.backward()\n",
        "                    optimizer.step()\n",
        "\n",
        "\n",
        "                    running_loss = running_loss * (1 - 5/iprint) + loss.item() * (5/iprint)\n",
        "                    if i > 0 and i % iprint == 0:\n",
        "                        \n",
        "                        print(\" Loss: \" + str(running_loss) + ' lr: ' \n",
        "                            + str([param_group['lr'] for param_group in optimizer.param_groups]))\n",
        "                        #print(\" Loss: \" + str(running_loss))\n",
        "            if self.lr_schedule:\n",
        "                scheduler.step()\n",
        "            print(\" Loss: \" + str(running_loss))\n",
        "\n",
        "        #self.skip_gram_model.save_embedding(self.data.id2word, self.output_file_name)\n",
        "        if self.save_embedding:\n",
        "            print('Saving embeddings...', flush=True)\n",
        "            embeddings = self.model.embeddings.weight.cpu().data.numpy()\n",
        "            np.savez_compressed('gdrive/My Drive/Projects with Wei/wiki_data/wiki_embedding/embedding.npz', embeddings)"
      ],
      "execution_count": 15,
      "outputs": []
    },
    {
      "cell_type": "code",
      "metadata": {
        "id": "E-fs7JuvM8HP",
        "colab_type": "code",
        "colab": {}
      },
      "source": [
        "def train_model(epochs = 1, collate_fn='custom',num_workers=1, test = False, n_chunk = 20, save_embedding=True):\n",
        "  #ipdb.set_trace()\n",
        "  wt = WikiTrainer(\n",
        "                        page_word_stats = page_word_stats, \n",
        "                        hidden_dim1 = 100, \n",
        "                        out_dim = 100, \n",
        "                        # output_file=\"gdrive/My Drive/Projects with Wei/Wei_tmp_outputs/w2v_output/out.vec\",\n",
        "                        # min_count=5,\n",
        "                        batch_size=8096,\n",
        "                        iterations=epochs,\n",
        "                        num_workers=num_workers,\n",
        "                        collate_fn=collate_fn,\n",
        "                        iprint=5000,\n",
        "                        n_chunk = n_chunk,\n",
        "                        embedding_dim=100,\n",
        "                        ns_exponent=0.75,\n",
        "                        initial_lr=0.005,\n",
        "                        optimizer='sparse_adam',\n",
        "                        single_layer=True,\n",
        "                        sparse=True,\n",
        "                        lr_schedule=True,\n",
        "                        test=test,\n",
        "                        save_embedding=save_embedding,\n",
        " #                       optimizer_kwargs={'momentum':0.9},\n",
        " #                       warm_start_model = 'gdrive/My Drive/Projects with Wei/Wei_tmp_outputs/torch_model/model.pkl',\n",
        "                        )\n",
        "  wt.train()\n",
        "  return wt"
      ],
      "execution_count": 16,
      "outputs": []
    },
    {
      "cell_type": "code",
      "metadata": {
        "id": "2n2Q4Kc-cRMT",
        "colab_type": "code",
        "colab": {}
      },
      "source": [
        "gc.collect()\n",
        "torch.cuda.empty_cache()"
      ],
      "execution_count": 17,
      "outputs": []
    },
    {
      "cell_type": "code",
      "metadata": {
        "id": "PK-F-EAyNxS1",
        "colab_type": "code",
        "colab": {
          "base_uri": "https://localhost:8080/",
          "height": 1000
        },
        "outputId": "979f553c-b61f-4b40-d7d3-957daa375a55"
      },
      "source": [
        "train_model(epochs=20,\n",
        "            num_workers=3, \n",
        "            test = False, \n",
        "            save_embedding=True)"
      ],
      "execution_count": 18,
      "outputs": [
        {
          "output_type": "stream",
          "text": [
            "Initializing negative samples\n",
            "\n",
            "\n",
            "\n",
            "Iteration: 1\n"
          ],
          "name": "stdout"
        },
        {
          "output_type": "stream",
          "text": [
            "  5%|▌         | 1/20 [01:29<28:13, 89.11s/it]"
          ],
          "name": "stderr"
        },
        {
          "output_type": "stream",
          "text": [
            " Loss: 13.764840855062273 lr: [0.005]\n"
          ],
          "name": "stdout"
        },
        {
          "output_type": "stream",
          "text": [
            " 15%|█▌        | 3/20 [04:26<25:10, 88.88s/it]"
          ],
          "name": "stderr"
        },
        {
          "output_type": "stream",
          "text": [
            " Loss: 12.457069091726785 lr: [0.005]\n"
          ],
          "name": "stdout"
        },
        {
          "output_type": "stream",
          "text": [
            " 25%|██▌       | 5/20 [07:26<22:20, 89.35s/it]"
          ],
          "name": "stderr"
        },
        {
          "output_type": "stream",
          "text": [
            " Loss: 11.345420284626064 lr: [0.005]\n"
          ],
          "name": "stdout"
        },
        {
          "output_type": "stream",
          "text": [
            " 35%|███▌      | 7/20 [10:10<18:39, 86.11s/it]"
          ],
          "name": "stderr"
        },
        {
          "output_type": "stream",
          "text": [
            " Loss: 10.39269736462111 lr: [0.005]\n"
          ],
          "name": "stdout"
        },
        {
          "output_type": "stream",
          "text": [
            " 50%|█████     | 10/20 [13:09<11:54, 71.43s/it]"
          ],
          "name": "stderr"
        },
        {
          "output_type": "stream",
          "text": [
            " Loss: 9.56853012093887 lr: [0.005]\n"
          ],
          "name": "stdout"
        },
        {
          "output_type": "stream",
          "text": [
            " 60%|██████    | 12/20 [15:42<09:11, 68.98s/it]"
          ],
          "name": "stderr"
        },
        {
          "output_type": "stream",
          "text": [
            " Loss: 8.866263746558761 lr: [0.005]\n"
          ],
          "name": "stdout"
        },
        {
          "output_type": "stream",
          "text": [
            " 70%|███████   | 14/20 [17:50<06:39, 66.51s/it]"
          ],
          "name": "stderr"
        },
        {
          "output_type": "stream",
          "text": [
            " Loss: 8.269384666710302 lr: [0.005]\n"
          ],
          "name": "stdout"
        },
        {
          "output_type": "stream",
          "text": [
            " 85%|████████▌ | 17/20 [20:47<03:19, 66.38s/it]"
          ],
          "name": "stderr"
        },
        {
          "output_type": "stream",
          "text": [
            " Loss: 7.768811114351047 lr: [0.005]\n"
          ],
          "name": "stdout"
        },
        {
          "output_type": "stream",
          "text": [
            " 95%|█████████▌| 19/20 [23:26<01:07, 67.26s/it]"
          ],
          "name": "stderr"
        },
        {
          "output_type": "stream",
          "text": [
            " Loss: 7.342495710459134 lr: [0.005]\n"
          ],
          "name": "stdout"
        },
        {
          "output_type": "stream",
          "text": [
            "100%|██████████| 20/20 [24:09<00:00, 72.47s/it]\n",
            "100%|██████████| 20/20 [24:26<00:00, 73.31s/it]\n",
            "100%|██████████| 20/20 [24:26<00:00, 73.30s/it]\n"
          ],
          "name": "stderr"
        },
        {
          "output_type": "stream",
          "text": [
            " Loss: 7.252014549374753\n",
            "\n",
            "\n",
            "\n",
            "Iteration: 2\n"
          ],
          "name": "stdout"
        },
        {
          "output_type": "stream",
          "text": [
            "  5%|▌         | 1/20 [01:19<25:03, 79.12s/it]"
          ],
          "name": "stderr"
        },
        {
          "output_type": "stream",
          "text": [
            " Loss: 5.3700485909782625 lr: [0.0049692208514878445]\n"
          ],
          "name": "stdout"
        },
        {
          "output_type": "stream",
          "text": [
            " 15%|█▌        | 3/20 [04:15<23:43, 83.74s/it]"
          ],
          "name": "stderr"
        },
        {
          "output_type": "stream",
          "text": [
            " Loss: 5.421699774128142 lr: [0.0049692208514878445]\n"
          ],
          "name": "stdout"
        },
        {
          "output_type": "stream",
          "text": [
            " 25%|██▌       | 5/20 [07:14<21:37, 86.49s/it]"
          ],
          "name": "stderr"
        },
        {
          "output_type": "stream",
          "text": [
            " Loss: 5.3845391353228855 lr: [0.0049692208514878445]\n"
          ],
          "name": "stdout"
        },
        {
          "output_type": "stream",
          "text": [
            " 35%|███▌      | 7/20 [10:25<19:51, 91.67s/it]"
          ],
          "name": "stderr"
        },
        {
          "output_type": "stream",
          "text": [
            " Loss: 5.316435484731064 lr: [0.0049692208514878445]\n"
          ],
          "name": "stdout"
        },
        {
          "output_type": "stream",
          "text": [
            " 50%|█████     | 10/20 [13:45<13:02, 78.21s/it]"
          ],
          "name": "stderr"
        },
        {
          "output_type": "stream",
          "text": [
            " Loss: 5.235444824005531 lr: [0.0049692208514878445]\n"
          ],
          "name": "stdout"
        },
        {
          "output_type": "stream",
          "text": [
            " 60%|██████    | 12/20 [16:26<09:53, 74.20s/it]"
          ],
          "name": "stderr"
        },
        {
          "output_type": "stream",
          "text": [
            " Loss: 5.15521220879613 lr: [0.0049692208514878445]\n"
          ],
          "name": "stdout"
        },
        {
          "output_type": "stream",
          "text": [
            " 70%|███████   | 14/20 [18:45<07:10, 71.78s/it]"
          ],
          "name": "stderr"
        },
        {
          "output_type": "stream",
          "text": [
            " Loss: 5.075152563025256 lr: [0.0049692208514878445]\n"
          ],
          "name": "stdout"
        },
        {
          "output_type": "stream",
          "text": [
            " 85%|████████▌ | 17/20 [21:53<03:32, 70.72s/it]"
          ],
          "name": "stderr"
        },
        {
          "output_type": "stream",
          "text": [
            " Loss: 4.998849594898842 lr: [0.0049692208514878445]\n"
          ],
          "name": "stdout"
        },
        {
          "output_type": "stream",
          "text": [
            " 95%|█████████▌| 19/20 [24:46<01:12, 72.77s/it]"
          ],
          "name": "stderr"
        },
        {
          "output_type": "stream",
          "text": [
            " Loss: 4.9251580726433755 lr: [0.0049692208514878445]\n"
          ],
          "name": "stdout"
        },
        {
          "output_type": "stream",
          "text": [
            "100%|██████████| 20/20 [25:34<00:00, 76.70s/it]\n",
            "100%|██████████| 20/20 [25:51<00:00, 77.57s/it]\n",
            "100%|██████████| 20/20 [25:51<00:00, 77.56s/it]\n"
          ],
          "name": "stderr"
        },
        {
          "output_type": "stream",
          "text": [
            " Loss: 4.90727443345976\n",
            "\n",
            "\n",
            "\n",
            "Iteration: 3\n"
          ],
          "name": "stdout"
        },
        {
          "output_type": "stream",
          "text": [
            "  5%|▌         | 1/20 [01:18<24:51, 78.49s/it]"
          ],
          "name": "stderr"
        },
        {
          "output_type": "stream",
          "text": [
            " Loss: 4.227872321304102 lr: [0.0048776412907378846]\n"
          ],
          "name": "stdout"
        },
        {
          "output_type": "stream",
          "text": [
            " 15%|█▌        | 3/20 [04:17<23:47, 83.97s/it]"
          ],
          "name": "stderr"
        },
        {
          "output_type": "stream",
          "text": [
            " Loss: 4.270961128959921 lr: [0.0048776412907378846]\n"
          ],
          "name": "stdout"
        },
        {
          "output_type": "stream",
          "text": [
            " 25%|██▌       | 5/20 [07:15<21:37, 86.53s/it]"
          ],
          "name": "stderr"
        },
        {
          "output_type": "stream",
          "text": [
            " Loss: 4.269835093793569 lr: [0.0048776412907378846]\n"
          ],
          "name": "stdout"
        },
        {
          "output_type": "stream",
          "text": [
            " 35%|███▌      | 7/20 [10:29<20:00, 92.38s/it]"
          ],
          "name": "stderr"
        },
        {
          "output_type": "stream",
          "text": [
            " Loss: 4.255574605888672 lr: [0.0048776412907378846]\n"
          ],
          "name": "stdout"
        },
        {
          "output_type": "stream",
          "text": [
            " 50%|█████     | 10/20 [13:48<13:04, 78.46s/it]"
          ],
          "name": "stderr"
        },
        {
          "output_type": "stream",
          "text": [
            " Loss: 4.232127818479585 lr: [0.0048776412907378846]\n"
          ],
          "name": "stdout"
        },
        {
          "output_type": "stream",
          "text": [
            " 60%|██████    | 12/20 [16:31<09:56, 74.51s/it]"
          ],
          "name": "stderr"
        },
        {
          "output_type": "stream",
          "text": [
            " Loss: 4.208202599808466 lr: [0.0048776412907378846]\n"
          ],
          "name": "stdout"
        },
        {
          "output_type": "stream",
          "text": [
            " 70%|███████   | 14/20 [18:50<07:10, 71.79s/it]"
          ],
          "name": "stderr"
        },
        {
          "output_type": "stream",
          "text": [
            " Loss: 4.182989353147637 lr: [0.0048776412907378846]\n"
          ],
          "name": "stdout"
        },
        {
          "output_type": "stream",
          "text": [
            " 85%|████████▌ | 17/20 [21:57<03:31, 70.64s/it]"
          ],
          "name": "stderr"
        },
        {
          "output_type": "stream",
          "text": [
            " Loss: 4.1574505325234945 lr: [0.0048776412907378846]\n"
          ],
          "name": "stdout"
        },
        {
          "output_type": "stream",
          "text": [
            " 95%|█████████▌| 19/20 [24:50<01:12, 72.62s/it]"
          ],
          "name": "stderr"
        },
        {
          "output_type": "stream",
          "text": [
            " Loss: 4.133505199685331 lr: [0.0048776412907378846]\n"
          ],
          "name": "stdout"
        },
        {
          "output_type": "stream",
          "text": [
            "100%|██████████| 20/20 [25:37<00:00, 76.87s/it]\n",
            "100%|██████████| 20/20 [25:54<00:00, 77.73s/it]\n",
            "100%|██████████| 20/20 [25:55<00:00, 77.76s/it]\n"
          ],
          "name": "stderr"
        },
        {
          "output_type": "stream",
          "text": [
            " Loss: 4.128103529509901\n",
            "\n",
            "\n",
            "\n",
            "Iteration: 4\n"
          ],
          "name": "stdout"
        },
        {
          "output_type": "stream",
          "text": [
            "  5%|▌         | 1/20 [01:19<25:06, 79.28s/it]"
          ],
          "name": "stderr"
        },
        {
          "output_type": "stream",
          "text": [
            " Loss: 3.7828491921967697 lr: [0.00472751631047092]\n"
          ],
          "name": "stdout"
        },
        {
          "output_type": "stream",
          "text": [
            " 15%|█▌        | 3/20 [04:16<23:48, 84.03s/it]"
          ],
          "name": "stderr"
        },
        {
          "output_type": "stream",
          "text": [
            " Loss: 3.81152052269558 lr: [0.00472751631047092]\n"
          ],
          "name": "stdout"
        },
        {
          "output_type": "stream",
          "text": [
            " 25%|██▌       | 5/20 [07:13<21:33, 86.24s/it]"
          ],
          "name": "stderr"
        },
        {
          "output_type": "stream",
          "text": [
            " Loss: 3.81389383260388 lr: [0.00472751631047092]\n"
          ],
          "name": "stdout"
        },
        {
          "output_type": "stream",
          "text": [
            " 35%|███▌      | 7/20 [10:25<19:51, 91.67s/it]"
          ],
          "name": "stderr"
        },
        {
          "output_type": "stream",
          "text": [
            " Loss: 3.8093713118121997 lr: [0.00472751631047092]\n"
          ],
          "name": "stdout"
        },
        {
          "output_type": "stream",
          "text": [
            " 50%|█████     | 10/20 [13:43<12:58, 77.89s/it]"
          ],
          "name": "stderr"
        },
        {
          "output_type": "stream",
          "text": [
            " Loss: 3.7987423884706226 lr: [0.00472751631047092]\n"
          ],
          "name": "stdout"
        },
        {
          "output_type": "stream",
          "text": [
            " 60%|██████    | 12/20 [16:24<09:52, 74.11s/it]"
          ],
          "name": "stderr"
        },
        {
          "output_type": "stream",
          "text": [
            " Loss: 3.787986858959301 lr: [0.00472751631047092]\n"
          ],
          "name": "stdout"
        },
        {
          "output_type": "stream",
          "text": [
            " 70%|███████   | 14/20 [18:43<07:09, 71.55s/it]"
          ],
          "name": "stderr"
        },
        {
          "output_type": "stream",
          "text": [
            " Loss: 3.7763209449209083 lr: [0.00472751631047092]\n"
          ],
          "name": "stdout"
        },
        {
          "output_type": "stream",
          "text": [
            " 85%|████████▌ | 17/20 [21:52<03:32, 70.86s/it]"
          ],
          "name": "stderr"
        },
        {
          "output_type": "stream",
          "text": [
            " Loss: 3.7642963039822956 lr: [0.00472751631047092]\n"
          ],
          "name": "stdout"
        },
        {
          "output_type": "stream",
          "text": [
            " 95%|█████████▌| 19/20 [24:45<01:12, 72.79s/it]"
          ],
          "name": "stderr"
        },
        {
          "output_type": "stream",
          "text": [
            " Loss: 3.7544851940637645 lr: [0.00472751631047092]\n"
          ],
          "name": "stdout"
        },
        {
          "output_type": "stream",
          "text": [
            "100%|██████████| 20/20 [25:33<00:00, 76.66s/it]\n",
            "100%|██████████| 20/20 [25:49<00:00, 77.49s/it]\n",
            "100%|██████████| 20/20 [25:50<00:00, 77.50s/it]\n"
          ],
          "name": "stderr"
        },
        {
          "output_type": "stream",
          "text": [
            " Loss: 3.7537362268616374\n",
            "\n",
            "\n",
            "\n",
            "Iteration: 5\n"
          ],
          "name": "stdout"
        },
        {
          "output_type": "stream",
          "text": [
            "  5%|▌         | 1/20 [01:19<25:02, 79.07s/it]"
          ],
          "name": "stderr"
        },
        {
          "output_type": "stream",
          "text": [
            " Loss: 3.5381726431287825 lr: [0.004522542485937369]\n"
          ],
          "name": "stdout"
        },
        {
          "output_type": "stream",
          "text": [
            " 15%|█▌        | 3/20 [04:16<23:47, 83.95s/it]"
          ],
          "name": "stderr"
        },
        {
          "output_type": "stream",
          "text": [
            " Loss: 3.559190812397937 lr: [0.004522542485937369]\n"
          ],
          "name": "stdout"
        },
        {
          "output_type": "stream",
          "text": [
            " 25%|██▌       | 5/20 [07:14<21:33, 86.23s/it]"
          ],
          "name": "stderr"
        },
        {
          "output_type": "stream",
          "text": [
            " Loss: 3.5624888708777864 lr: [0.004522542485937369]\n"
          ],
          "name": "stdout"
        },
        {
          "output_type": "stream",
          "text": [
            " 35%|███▌      | 7/20 [10:23<19:44, 91.12s/it]"
          ],
          "name": "stderr"
        },
        {
          "output_type": "stream",
          "text": [
            " Loss: 3.5614924005890387 lr: [0.004522542485937369]\n"
          ],
          "name": "stdout"
        },
        {
          "output_type": "stream",
          "text": [
            " 50%|█████     | 10/20 [13:39<12:50, 77.08s/it]"
          ],
          "name": "stderr"
        },
        {
          "output_type": "stream",
          "text": [
            " Loss: 3.5563108424854333 lr: [0.004522542485937369]\n"
          ],
          "name": "stdout"
        },
        {
          "output_type": "stream",
          "text": [
            " 60%|██████    | 12/20 [16:19<09:46, 73.32s/it]"
          ],
          "name": "stderr"
        },
        {
          "output_type": "stream",
          "text": [
            " Loss: 3.551096257652306 lr: [0.004522542485937369]\n"
          ],
          "name": "stdout"
        },
        {
          "output_type": "stream",
          "text": [
            " 70%|███████   | 14/20 [18:36<07:03, 70.65s/it]"
          ],
          "name": "stderr"
        },
        {
          "output_type": "stream",
          "text": [
            " Loss: 3.545052007013837 lr: [0.004522542485937369]\n"
          ],
          "name": "stdout"
        },
        {
          "output_type": "stream",
          "text": [
            " 85%|████████▌ | 17/20 [21:41<03:29, 69.81s/it]"
          ],
          "name": "stderr"
        },
        {
          "output_type": "stream",
          "text": [
            " Loss: 3.538992518233147 lr: [0.004522542485937369]\n"
          ],
          "name": "stdout"
        },
        {
          "output_type": "stream",
          "text": [
            " 95%|█████████▌| 19/20 [24:32<01:11, 71.81s/it]"
          ],
          "name": "stderr"
        },
        {
          "output_type": "stream",
          "text": [
            " Loss: 3.5356066496693717 lr: [0.004522542485937369]\n"
          ],
          "name": "stdout"
        },
        {
          "output_type": "stream",
          "text": [
            "100%|██████████| 20/20 [25:18<00:00, 75.94s/it]\n",
            "100%|██████████| 20/20 [25:35<00:00, 76.78s/it]\n",
            "100%|██████████| 20/20 [25:36<00:00, 76.81s/it]\n"
          ],
          "name": "stderr"
        },
        {
          "output_type": "stream",
          "text": [
            " Loss: 3.537682957966126\n",
            "\n",
            "\n",
            "\n",
            "Iteration: 6\n"
          ],
          "name": "stdout"
        },
        {
          "output_type": "stream",
          "text": [
            "  5%|▌         | 1/20 [01:17<24:41, 77.96s/it]"
          ],
          "name": "stderr"
        },
        {
          "output_type": "stream",
          "text": [
            " Loss: 3.385841411270808 lr: [0.004267766952966369]\n"
          ],
          "name": "stdout"
        },
        {
          "output_type": "stream",
          "text": [
            " 15%|█▌        | 3/20 [04:12<23:25, 82.69s/it]"
          ],
          "name": "stderr"
        },
        {
          "output_type": "stream",
          "text": [
            " Loss: 3.402323755940183 lr: [0.004267766952966369]\n"
          ],
          "name": "stdout"
        },
        {
          "output_type": "stream",
          "text": [
            " 25%|██▌       | 5/20 [07:08<21:18, 85.24s/it]"
          ],
          "name": "stderr"
        },
        {
          "output_type": "stream",
          "text": [
            " Loss: 3.4055978341305577 lr: [0.004267766952966369]\n"
          ],
          "name": "stdout"
        },
        {
          "output_type": "stream",
          "text": [
            " 35%|███▌      | 7/20 [10:17<19:36, 90.47s/it]"
          ],
          "name": "stderr"
        },
        {
          "output_type": "stream",
          "text": [
            " Loss: 3.405822648402401 lr: [0.004267766952966369]\n"
          ],
          "name": "stdout"
        },
        {
          "output_type": "stream",
          "text": [
            " 50%|█████     | 10/20 [13:32<12:48, 76.85s/it]"
          ],
          "name": "stderr"
        },
        {
          "output_type": "stream",
          "text": [
            " Loss: 3.402882254123221 lr: [0.004267766952966369]\n"
          ],
          "name": "stdout"
        },
        {
          "output_type": "stream",
          "text": [
            " 60%|██████    | 12/20 [16:12<09:44, 73.10s/it]"
          ],
          "name": "stderr"
        },
        {
          "output_type": "stream",
          "text": [
            " Loss: 3.3998291737091044 lr: [0.004267766952966369]\n"
          ],
          "name": "stdout"
        },
        {
          "output_type": "stream",
          "text": [
            " 70%|███████   | 14/20 [18:29<07:02, 70.49s/it]"
          ],
          "name": "stderr"
        },
        {
          "output_type": "stream",
          "text": [
            " Loss: 3.3960454444195083 lr: [0.004267766952966369]\n"
          ],
          "name": "stdout"
        },
        {
          "output_type": "stream",
          "text": [
            " 85%|████████▌ | 17/20 [21:36<03:30, 70.30s/it]"
          ],
          "name": "stderr"
        },
        {
          "output_type": "stream",
          "text": [
            " Loss: 3.3925557517584384 lr: [0.004267766952966369]\n"
          ],
          "name": "stdout"
        },
        {
          "output_type": "stream",
          "text": [
            " 95%|█████████▌| 19/20 [24:29<01:12, 72.44s/it]"
          ],
          "name": "stderr"
        },
        {
          "output_type": "stream",
          "text": [
            " Loss: 3.392301698207967 lr: [0.004267766952966369]\n"
          ],
          "name": "stdout"
        },
        {
          "output_type": "stream",
          "text": [
            "100%|██████████| 20/20 [25:16<00:00, 75.82s/it]\n",
            "100%|██████████| 20/20 [25:33<00:00, 76.68s/it]\n",
            "100%|██████████| 20/20 [25:34<00:00, 76.71s/it]\n"
          ],
          "name": "stderr"
        },
        {
          "output_type": "stream",
          "text": [
            " Loss: 3.3963898091816485\n",
            "\n",
            "\n",
            "\n",
            "Iteration: 7\n"
          ],
          "name": "stdout"
        },
        {
          "output_type": "stream",
          "text": [
            "  5%|▌         | 1/20 [01:19<25:15, 79.78s/it]"
          ],
          "name": "stderr"
        },
        {
          "output_type": "stream",
          "text": [
            " Loss: 3.281096181649712 lr: [0.003969463130731183]\n"
          ],
          "name": "stdout"
        },
        {
          "output_type": "stream",
          "text": [
            " 15%|█▌        | 3/20 [04:17<23:51, 84.20s/it]"
          ],
          "name": "stderr"
        },
        {
          "output_type": "stream",
          "text": [
            " Loss: 3.2941582797927706 lr: [0.003969463130731183]\n"
          ],
          "name": "stdout"
        },
        {
          "output_type": "stream",
          "text": [
            " 25%|██▌       | 5/20 [07:15<21:40, 86.72s/it]"
          ],
          "name": "stderr"
        },
        {
          "output_type": "stream",
          "text": [
            " Loss: 3.296753175590172 lr: [0.003969463130731183]\n"
          ],
          "name": "stdout"
        },
        {
          "output_type": "stream",
          "text": [
            " 35%|███▌      | 7/20 [10:29<20:01, 92.45s/it]"
          ],
          "name": "stderr"
        },
        {
          "output_type": "stream",
          "text": [
            " Loss: 3.2969854574328243 lr: [0.003969463130731183]\n"
          ],
          "name": "stdout"
        },
        {
          "output_type": "stream",
          "text": [
            " 50%|█████     | 10/20 [13:49<13:05, 78.52s/it]"
          ],
          "name": "stderr"
        },
        {
          "output_type": "stream",
          "text": [
            " Loss: 3.294681803373175 lr: [0.003969463130731183]\n"
          ],
          "name": "stdout"
        },
        {
          "output_type": "stream",
          "text": [
            " 60%|██████    | 12/20 [16:30<09:56, 74.57s/it]"
          ],
          "name": "stderr"
        },
        {
          "output_type": "stream",
          "text": [
            " Loss: 3.292161976019211 lr: [0.003969463130731183]\n"
          ],
          "name": "stdout"
        },
        {
          "output_type": "stream",
          "text": [
            " 70%|███████   | 14/20 [18:50<07:11, 71.97s/it]"
          ],
          "name": "stderr"
        },
        {
          "output_type": "stream",
          "text": [
            " Loss: 3.289035066534765 lr: [0.003969463130731183]\n"
          ],
          "name": "stdout"
        },
        {
          "output_type": "stream",
          "text": [
            " 85%|████████▌ | 17/20 [22:00<03:33, 71.19s/it]"
          ],
          "name": "stderr"
        },
        {
          "output_type": "stream",
          "text": [
            " Loss: 3.286547670373993 lr: [0.003969463130731183]\n"
          ],
          "name": "stdout"
        },
        {
          "output_type": "stream",
          "text": [
            " 95%|█████████▌| 19/20 [24:54<01:13, 73.20s/it]"
          ],
          "name": "stderr"
        },
        {
          "output_type": "stream",
          "text": [
            " Loss: 3.287848854456012 lr: [0.003969463130731183]\n"
          ],
          "name": "stdout"
        },
        {
          "output_type": "stream",
          "text": [
            "100%|██████████| 20/20 [25:42<00:00, 77.13s/it]\n",
            "100%|██████████| 20/20 [26:00<00:00, 78.00s/it]\n",
            "100%|██████████| 20/20 [25:59<00:00, 77.99s/it]\n"
          ],
          "name": "stderr"
        },
        {
          "output_type": "stream",
          "text": [
            " Loss: 3.2937082392285975\n",
            "\n",
            "\n",
            "\n",
            "Iteration: 8\n"
          ],
          "name": "stdout"
        },
        {
          "output_type": "stream",
          "text": [
            "  5%|▌         | 1/20 [01:19<25:13, 79.64s/it]"
          ],
          "name": "stderr"
        },
        {
          "output_type": "stream",
          "text": [
            " Loss: 3.202054108498175 lr: [0.0036349762493488673]\n"
          ],
          "name": "stdout"
        },
        {
          "output_type": "stream",
          "text": [
            " 15%|█▌        | 3/20 [04:18<23:56, 84.49s/it]"
          ],
          "name": "stderr"
        },
        {
          "output_type": "stream",
          "text": [
            " Loss: 3.212460407313655 lr: [0.0036349762493488673]\n"
          ],
          "name": "stdout"
        },
        {
          "output_type": "stream",
          "text": [
            " 25%|██▌       | 5/20 [07:16<21:43, 86.87s/it]"
          ],
          "name": "stderr"
        },
        {
          "output_type": "stream",
          "text": [
            " Loss: 3.2141114325516273 lr: [0.0036349762493488673]\n"
          ],
          "name": "stdout"
        },
        {
          "output_type": "stream",
          "text": [
            " 35%|███▌      | 7/20 [10:28<19:57, 92.12s/it]"
          ],
          "name": "stderr"
        },
        {
          "output_type": "stream",
          "text": [
            " Loss: 3.213823467636076 lr: [0.0036349762493488673]\n"
          ],
          "name": "stdout"
        },
        {
          "output_type": "stream",
          "text": [
            " 50%|█████     | 10/20 [13:48<13:01, 78.18s/it]"
          ],
          "name": "stderr"
        },
        {
          "output_type": "stream",
          "text": [
            " Loss: 3.211415417744434 lr: [0.0036349762493488673]\n"
          ],
          "name": "stdout"
        },
        {
          "output_type": "stream",
          "text": [
            " 60%|██████    | 12/20 [16:29<09:54, 74.36s/it]"
          ],
          "name": "stderr"
        },
        {
          "output_type": "stream",
          "text": [
            " Loss: 3.2087315022927885 lr: [0.0036349762493488673]\n"
          ],
          "name": "stdout"
        },
        {
          "output_type": "stream",
          "text": [
            " 70%|███████   | 14/20 [18:49<07:10, 71.70s/it]"
          ],
          "name": "stderr"
        },
        {
          "output_type": "stream",
          "text": [
            " Loss: 3.2055690595421087 lr: [0.0036349762493488673]\n"
          ],
          "name": "stdout"
        },
        {
          "output_type": "stream",
          "text": [
            " 85%|████████▌ | 17/20 [21:58<03:32, 70.99s/it]"
          ],
          "name": "stderr"
        },
        {
          "output_type": "stream",
          "text": [
            " Loss: 3.2032905087830517 lr: [0.0036349762493488673]\n"
          ],
          "name": "stdout"
        },
        {
          "output_type": "stream",
          "text": [
            " 95%|█████████▌| 19/20 [24:51<01:13, 73.04s/it]"
          ],
          "name": "stderr"
        },
        {
          "output_type": "stream",
          "text": [
            " Loss: 3.205409358480853 lr: [0.0036349762493488673]\n"
          ],
          "name": "stdout"
        },
        {
          "output_type": "stream",
          "text": [
            "100%|██████████| 20/20 [25:39<00:00, 76.98s/it]\n",
            "100%|██████████| 20/20 [25:56<00:00, 77.85s/it]\n",
            "100%|██████████| 20/20 [25:56<00:00, 77.84s/it]\n"
          ],
          "name": "stderr"
        },
        {
          "output_type": "stream",
          "text": [
            " Loss: 3.212975840763272\n",
            "\n",
            "\n",
            "\n",
            "Iteration: 9\n"
          ],
          "name": "stdout"
        },
        {
          "output_type": "stream",
          "text": [
            "  5%|▌         | 1/20 [01:19<25:08, 79.40s/it]"
          ],
          "name": "stderr"
        },
        {
          "output_type": "stream",
          "text": [
            " Loss: 3.138227358060555 lr: [0.003272542485937369]\n"
          ],
          "name": "stdout"
        },
        {
          "output_type": "stream",
          "text": [
            " 15%|█▌        | 3/20 [04:18<23:55, 84.46s/it]"
          ],
          "name": "stderr"
        },
        {
          "output_type": "stream",
          "text": [
            " Loss: 3.1465748540523033 lr: [0.003272542485937369]\n"
          ],
          "name": "stdout"
        },
        {
          "output_type": "stream",
          "text": [
            " 25%|██▌       | 5/20 [07:17<21:43, 86.91s/it]"
          ],
          "name": "stderr"
        },
        {
          "output_type": "stream",
          "text": [
            " Loss: 3.1472094415194407 lr: [0.003272542485937369]\n"
          ],
          "name": "stdout"
        },
        {
          "output_type": "stream",
          "text": [
            " 35%|███▌      | 7/20 [10:30<20:03, 92.54s/it]"
          ],
          "name": "stderr"
        },
        {
          "output_type": "stream",
          "text": [
            " Loss: 3.1461944602371754 lr: [0.003272542485937369]\n"
          ],
          "name": "stdout"
        },
        {
          "output_type": "stream",
          "text": [
            " 50%|█████     | 10/20 [13:50<13:05, 78.53s/it]"
          ],
          "name": "stderr"
        },
        {
          "output_type": "stream",
          "text": [
            " Loss: 3.143363223896686 lr: [0.003272542485937369]\n"
          ],
          "name": "stdout"
        },
        {
          "output_type": "stream",
          "text": [
            " 60%|██████    | 12/20 [16:34<09:59, 74.89s/it]"
          ],
          "name": "stderr"
        },
        {
          "output_type": "stream",
          "text": [
            " Loss: 3.140158838909833 lr: [0.003272542485937369]\n"
          ],
          "name": "stdout"
        },
        {
          "output_type": "stream",
          "text": [
            " 70%|███████   | 14/20 [18:54<07:13, 72.32s/it]"
          ],
          "name": "stderr"
        },
        {
          "output_type": "stream",
          "text": [
            " Loss: 3.1366114567496215 lr: [0.003272542485937369]\n"
          ],
          "name": "stdout"
        },
        {
          "output_type": "stream",
          "text": [
            " 85%|████████▌ | 17/20 [21:59<03:31, 70.57s/it]"
          ],
          "name": "stderr"
        },
        {
          "output_type": "stream",
          "text": [
            " Loss: 3.1341255208829466 lr: [0.003272542485937369]\n"
          ],
          "name": "stdout"
        },
        {
          "output_type": "stream",
          "text": [
            " 95%|█████████▌| 19/20 [24:58<01:13, 73.90s/it]"
          ],
          "name": "stderr"
        },
        {
          "output_type": "stream",
          "text": [
            " Loss: 3.136698863296175 lr: [0.003272542485937369]\n"
          ],
          "name": "stdout"
        },
        {
          "output_type": "stream",
          "text": [
            "100%|██████████| 20/20 [25:46<00:00, 77.31s/it]\n",
            "100%|██████████| 20/20 [26:03<00:00, 78.20s/it]\n",
            "100%|██████████| 20/20 [26:03<00:00, 78.19s/it]\n"
          ],
          "name": "stderr"
        },
        {
          "output_type": "stream",
          "text": [
            " Loss: 3.1459951989201644\n",
            "\n",
            "\n",
            "\n",
            "Iteration: 10\n"
          ],
          "name": "stdout"
        },
        {
          "output_type": "stream",
          "text": [
            "  5%|▌         | 1/20 [01:19<25:04, 79.20s/it]"
          ],
          "name": "stderr"
        },
        {
          "output_type": "stream",
          "text": [
            " Loss: 3.0843833428067176 lr: [0.0028910861626005777]\n"
          ],
          "name": "stdout"
        },
        {
          "output_type": "stream",
          "text": [
            " 15%|█▌        | 3/20 [03:57<22:22, 79.00s/it]"
          ],
          "name": "stderr"
        },
        {
          "output_type": "stream",
          "text": [
            " Loss: 3.0910974360601076 lr: [0.0028910861626005777]\n"
          ],
          "name": "stdout"
        },
        {
          "output_type": "stream",
          "text": [
            " 25%|██▌       | 5/20 [06:34<19:41, 78.78s/it]"
          ],
          "name": "stderr"
        },
        {
          "output_type": "stream",
          "text": [
            " Loss: 3.090739542963061 lr: [0.0028910861626005777]\n"
          ],
          "name": "stdout"
        },
        {
          "output_type": "stream",
          "text": [
            " 35%|███▌      | 7/20 [09:17<17:26, 80.47s/it]"
          ],
          "name": "stderr"
        },
        {
          "output_type": "stream",
          "text": [
            " Loss: 3.0888948802505487 lr: [0.0028910861626005777]\n"
          ],
          "name": "stdout"
        },
        {
          "output_type": "stream",
          "text": [
            " 50%|█████     | 10/20 [12:13<11:29, 68.92s/it]"
          ],
          "name": "stderr"
        },
        {
          "output_type": "stream",
          "text": [
            " Loss: 3.0854749788931355 lr: [0.0028910861626005777]\n"
          ],
          "name": "stdout"
        },
        {
          "output_type": "stream",
          "text": [
            " 60%|██████    | 12/20 [14:49<09:09, 68.71s/it]"
          ],
          "name": "stderr"
        },
        {
          "output_type": "stream",
          "text": [
            " Loss: 3.0816039716195927 lr: [0.0028910861626005777]\n"
          ],
          "name": "stdout"
        },
        {
          "output_type": "stream",
          "text": [
            " 70%|███████   | 14/20 [17:02<06:45, 67.52s/it]"
          ],
          "name": "stderr"
        },
        {
          "output_type": "stream",
          "text": [
            " Loss: 3.0774592873889057 lr: [0.0028910861626005777]\n"
          ],
          "name": "stdout"
        },
        {
          "output_type": "stream",
          "text": [
            " 85%|████████▌ | 17/20 [19:52<03:14, 64.82s/it]"
          ],
          "name": "stderr"
        },
        {
          "output_type": "stream",
          "text": [
            " Loss: 3.0745064829151727 lr: [0.0028910861626005777]\n"
          ],
          "name": "stdout"
        },
        {
          "output_type": "stream",
          "text": [
            " 95%|█████████▌| 19/20 [22:25<01:05, 65.31s/it]"
          ],
          "name": "stderr"
        },
        {
          "output_type": "stream",
          "text": [
            " Loss: 3.0773529615343183 lr: [0.0028910861626005777]\n"
          ],
          "name": "stdout"
        },
        {
          "output_type": "stream",
          "text": [
            "100%|██████████| 20/20 [23:05<00:00, 69.29s/it]\n",
            "100%|██████████| 20/20 [23:23<00:00, 70.15s/it]\n",
            "100%|██████████| 20/20 [23:22<00:00, 70.12s/it]\n"
          ],
          "name": "stderr"
        },
        {
          "output_type": "stream",
          "text": [
            " Loss: 3.0884162086091247\n",
            "\n",
            "\n",
            "\n",
            "Iteration: 11\n"
          ],
          "name": "stdout"
        },
        {
          "output_type": "stream",
          "text": [
            "  5%|▌         | 1/20 [01:19<25:14, 79.72s/it]"
          ],
          "name": "stderr"
        },
        {
          "output_type": "stream",
          "text": [
            " Loss: 3.037754501008738 lr: [0.0025]\n"
          ],
          "name": "stdout"
        },
        {
          "output_type": "stream",
          "text": [
            " 15%|█▌        | 3/20 [03:56<22:21, 78.93s/it]"
          ],
          "name": "stderr"
        },
        {
          "output_type": "stream",
          "text": [
            " Loss: 3.0431350361275933 lr: [0.0025]\n"
          ],
          "name": "stdout"
        },
        {
          "output_type": "stream",
          "text": [
            " 25%|██▌       | 5/20 [06:34<19:44, 78.96s/it]"
          ],
          "name": "stderr"
        },
        {
          "output_type": "stream",
          "text": [
            " Loss: 3.041821709191628 lr: [0.0025]\n"
          ],
          "name": "stdout"
        },
        {
          "output_type": "stream",
          "text": [
            " 35%|███▌      | 7/20 [09:19<17:32, 80.95s/it]"
          ],
          "name": "stderr"
        },
        {
          "output_type": "stream",
          "text": [
            " Loss: 3.039143802135486 lr: [0.0025]\n"
          ],
          "name": "stdout"
        },
        {
          "output_type": "stream",
          "text": [
            " 50%|█████     | 10/20 [12:17<11:35, 69.53s/it]"
          ],
          "name": "stderr"
        },
        {
          "output_type": "stream",
          "text": [
            " Loss: 3.0350121796701703 lr: [0.0025]\n"
          ],
          "name": "stdout"
        },
        {
          "output_type": "stream",
          "text": [
            " 60%|██████    | 12/20 [14:53<09:12, 69.04s/it]"
          ],
          "name": "stderr"
        },
        {
          "output_type": "stream",
          "text": [
            " Loss: 3.0303835746025296 lr: [0.0025]\n"
          ],
          "name": "stdout"
        },
        {
          "output_type": "stream",
          "text": [
            " 70%|███████   | 14/20 [17:08<06:48, 68.15s/it]"
          ],
          "name": "stderr"
        },
        {
          "output_type": "stream",
          "text": [
            " Loss: 3.0255270616269225 lr: [0.0025]\n"
          ],
          "name": "stdout"
        },
        {
          "output_type": "stream",
          "text": [
            " 85%|████████▌ | 17/20 [19:59<03:16, 65.51s/it]"
          ],
          "name": "stderr"
        },
        {
          "output_type": "stream",
          "text": [
            " Loss: 3.0219620228412154 lr: [0.0025]\n"
          ],
          "name": "stdout"
        },
        {
          "output_type": "stream",
          "text": [
            " 95%|█████████▌| 19/20 [22:36<01:06, 66.46s/it]"
          ],
          "name": "stderr"
        },
        {
          "output_type": "stream",
          "text": [
            " Loss: 3.0249474472269826 lr: [0.0025]\n"
          ],
          "name": "stdout"
        },
        {
          "output_type": "stream",
          "text": [
            "100%|██████████| 20/20 [23:17<00:00, 69.88s/it]\n",
            "100%|██████████| 20/20 [23:34<00:00, 70.72s/it]\n",
            "100%|██████████| 20/20 [23:34<00:00, 70.73s/it]\n"
          ],
          "name": "stderr"
        },
        {
          "output_type": "stream",
          "text": [
            " Loss: 3.0378679513054774\n",
            "\n",
            "\n",
            "\n",
            "Iteration: 12\n"
          ],
          "name": "stdout"
        },
        {
          "output_type": "stream",
          "text": [
            "  5%|▌         | 1/20 [01:20<25:33, 80.74s/it]"
          ],
          "name": "stderr"
        },
        {
          "output_type": "stream",
          "text": [
            " Loss: 2.996868809976553 lr: [0.0021089138373994237]\n"
          ],
          "name": "stdout"
        },
        {
          "output_type": "stream",
          "text": [
            " 15%|█▌        | 3/20 [04:01<22:46, 80.39s/it]"
          ],
          "name": "stderr"
        },
        {
          "output_type": "stream",
          "text": [
            " Loss: 3.0011358959425545 lr: [0.0021089138373994237]\n"
          ],
          "name": "stdout"
        },
        {
          "output_type": "stream",
          "text": [
            " 25%|██▌       | 5/20 [06:40<19:59, 79.97s/it]"
          ],
          "name": "stderr"
        },
        {
          "output_type": "stream",
          "text": [
            " Loss: 2.998928326665467 lr: [0.0021089138373994237]\n"
          ],
          "name": "stdout"
        },
        {
          "output_type": "stream",
          "text": [
            " 35%|███▌      | 7/20 [09:25<17:39, 81.50s/it]"
          ],
          "name": "stderr"
        },
        {
          "output_type": "stream",
          "text": [
            " Loss: 2.995415509449179 lr: [0.0021089138373994237]\n"
          ],
          "name": "stdout"
        },
        {
          "output_type": "stream",
          "text": [
            " 50%|█████     | 10/20 [12:23<11:36, 69.61s/it]"
          ],
          "name": "stderr"
        },
        {
          "output_type": "stream",
          "text": [
            " Loss: 2.99051433003027 lr: [0.0021089138373994237]\n"
          ],
          "name": "stdout"
        },
        {
          "output_type": "stream",
          "text": [
            " 60%|██████    | 12/20 [14:59<09:13, 69.13s/it]"
          ],
          "name": "stderr"
        },
        {
          "output_type": "stream",
          "text": [
            " Loss: 2.985081249502143 lr: [0.0021089138373994237]\n"
          ],
          "name": "stdout"
        },
        {
          "output_type": "stream",
          "text": [
            " 70%|███████   | 14/20 [17:13<06:48, 68.15s/it]"
          ],
          "name": "stderr"
        },
        {
          "output_type": "stream",
          "text": [
            " Loss: 2.979437399422442 lr: [0.0021089138373994237]\n"
          ],
          "name": "stdout"
        },
        {
          "output_type": "stream",
          "text": [
            " 85%|████████▌ | 17/20 [20:06<03:17, 65.67s/it]"
          ],
          "name": "stderr"
        },
        {
          "output_type": "stream",
          "text": [
            " Loss: 2.975165179451296 lr: [0.0021089138373994237]\n"
          ],
          "name": "stdout"
        },
        {
          "output_type": "stream",
          "text": [
            " 95%|█████████▌| 19/20 [22:42<01:06, 66.37s/it]"
          ],
          "name": "stderr"
        },
        {
          "output_type": "stream",
          "text": [
            " Loss: 2.9781786509231303 lr: [0.0021089138373994237]\n"
          ],
          "name": "stdout"
        },
        {
          "output_type": "stream",
          "text": [
            "100%|██████████| 20/20 [23:23<00:00, 70.19s/it]\n",
            "100%|██████████| 20/20 [23:40<00:00, 71.03s/it]\n",
            "100%|██████████| 20/20 [23:40<00:00, 71.03s/it]\n"
          ],
          "name": "stderr"
        },
        {
          "output_type": "stream",
          "text": [
            " Loss: 2.99306668474789\n",
            "\n",
            "\n",
            "\n",
            "Iteration: 13\n"
          ],
          "name": "stdout"
        },
        {
          "output_type": "stream",
          "text": [
            "  5%|▌         | 1/20 [01:20<25:25, 80.29s/it]"
          ],
          "name": "stderr"
        },
        {
          "output_type": "stream",
          "text": [
            " Loss: 2.9610085904768 lr: [0.0017274575140626318]\n"
          ],
          "name": "stdout"
        },
        {
          "output_type": "stream",
          "text": [
            " 15%|█▌        | 3/20 [04:00<22:40, 80.01s/it]"
          ],
          "name": "stderr"
        },
        {
          "output_type": "stream",
          "text": [
            " Loss: 2.9643373754963633 lr: [0.0017274575140626318]\n"
          ],
          "name": "stdout"
        },
        {
          "output_type": "stream",
          "text": [
            " 25%|██▌       | 5/20 [06:40<20:00, 80.03s/it]"
          ],
          "name": "stderr"
        },
        {
          "output_type": "stream",
          "text": [
            " Loss: 2.9612935724344975 lr: [0.0017274575140626318]\n"
          ],
          "name": "stdout"
        },
        {
          "output_type": "stream",
          "text": [
            " 35%|███▌      | 7/20 [09:26<17:42, 81.76s/it]"
          ],
          "name": "stderr"
        },
        {
          "output_type": "stream",
          "text": [
            " Loss: 2.956952626360622 lr: [0.0017274575140626318]\n"
          ],
          "name": "stdout"
        },
        {
          "output_type": "stream",
          "text": [
            " 50%|█████     | 10/20 [12:24<11:37, 69.71s/it]"
          ],
          "name": "stderr"
        },
        {
          "output_type": "stream",
          "text": [
            " Loss: 2.9512470746385446 lr: [0.0017274575140626318]\n"
          ],
          "name": "stdout"
        },
        {
          "output_type": "stream",
          "text": [
            " 60%|██████    | 12/20 [15:00<09:12, 69.05s/it]"
          ],
          "name": "stderr"
        },
        {
          "output_type": "stream",
          "text": [
            " Loss: 2.944971061941234 lr: [0.0017274575140626318]\n"
          ],
          "name": "stdout"
        },
        {
          "output_type": "stream",
          "text": [
            " 70%|███████   | 14/20 [17:14<06:47, 67.98s/it]"
          ],
          "name": "stderr"
        },
        {
          "output_type": "stream",
          "text": [
            " Loss: 2.9384946611419447 lr: [0.0017274575140626318]\n"
          ],
          "name": "stdout"
        },
        {
          "output_type": "stream",
          "text": [
            " 85%|████████▌ | 17/20 [20:04<03:16, 65.34s/it]"
          ],
          "name": "stderr"
        },
        {
          "output_type": "stream",
          "text": [
            " Loss: 2.933433852160654 lr: [0.0017274575140626318]\n"
          ],
          "name": "stdout"
        },
        {
          "output_type": "stream",
          "text": [
            " 95%|█████████▌| 19/20 [22:42<01:06, 66.27s/it]"
          ],
          "name": "stderr"
        },
        {
          "output_type": "stream",
          "text": [
            " Loss: 2.9363914498330783 lr: [0.0017274575140626318]\n"
          ],
          "name": "stdout"
        },
        {
          "output_type": "stream",
          "text": [
            "100%|██████████| 20/20 [23:22<00:00, 70.11s/it]\n",
            "100%|██████████| 20/20 [23:39<00:00, 70.97s/it]\n",
            "100%|██████████| 20/20 [23:39<00:00, 70.99s/it]\n"
          ],
          "name": "stderr"
        },
        {
          "output_type": "stream",
          "text": [
            " Loss: 2.9533713540963897\n",
            "\n",
            "\n",
            "\n",
            "Iteration: 14\n"
          ],
          "name": "stdout"
        },
        {
          "output_type": "stream",
          "text": [
            "  5%|▌         | 1/20 [01:20<25:20, 80.05s/it]"
          ],
          "name": "stderr"
        },
        {
          "output_type": "stream",
          "text": [
            " Loss: 2.929900801032093 lr: [0.0013650237506511332]\n"
          ],
          "name": "stdout"
        },
        {
          "output_type": "stream",
          "text": [
            " 15%|█▌        | 3/20 [04:00<22:40, 80.02s/it]"
          ],
          "name": "stderr"
        },
        {
          "output_type": "stream",
          "text": [
            " Loss: 2.9324194575123186 lr: [0.0013650237506511332]\n"
          ],
          "name": "stdout"
        },
        {
          "output_type": "stream",
          "text": [
            " 25%|██▌       | 5/20 [06:40<19:57, 79.84s/it]"
          ],
          "name": "stderr"
        },
        {
          "output_type": "stream",
          "text": [
            " Loss: 2.9285948311004897 lr: [0.0013650237506511332]\n"
          ],
          "name": "stdout"
        },
        {
          "output_type": "stream",
          "text": [
            " 35%|███▌      | 7/20 [09:27<17:44, 81.85s/it]"
          ],
          "name": "stderr"
        },
        {
          "output_type": "stream",
          "text": [
            " Loss: 2.923432513885338 lr: [0.0013650237506511332]\n"
          ],
          "name": "stdout"
        },
        {
          "output_type": "stream",
          "text": [
            " 50%|█████     | 10/20 [12:24<11:38, 69.86s/it]"
          ],
          "name": "stderr"
        },
        {
          "output_type": "stream",
          "text": [
            " Loss: 2.9168871641657783 lr: [0.0013650237506511332]\n"
          ],
          "name": "stdout"
        },
        {
          "output_type": "stream",
          "text": [
            " 60%|██████    | 12/20 [15:01<09:14, 69.29s/it]"
          ],
          "name": "stderr"
        },
        {
          "output_type": "stream",
          "text": [
            " Loss: 2.9097456357801503 lr: [0.0013650237506511332]\n"
          ],
          "name": "stdout"
        },
        {
          "output_type": "stream",
          "text": [
            " 70%|███████   | 14/20 [17:16<06:50, 68.34s/it]"
          ],
          "name": "stderr"
        },
        {
          "output_type": "stream",
          "text": [
            " Loss: 2.902389305825473 lr: [0.0013650237506511332]\n"
          ],
          "name": "stdout"
        },
        {
          "output_type": "stream",
          "text": [
            " 85%|████████▌ | 17/20 [20:08<03:17, 65.86s/it]"
          ],
          "name": "stderr"
        },
        {
          "output_type": "stream",
          "text": [
            " Loss: 2.8964779273574885 lr: [0.0013650237506511332]\n"
          ],
          "name": "stdout"
        },
        {
          "output_type": "stream",
          "text": [
            " 95%|█████████▌| 19/20 [22:46<01:06, 66.61s/it]"
          ],
          "name": "stderr"
        },
        {
          "output_type": "stream",
          "text": [
            " Loss: 2.8992914117900814 lr: [0.0013650237506511332]\n"
          ],
          "name": "stdout"
        },
        {
          "output_type": "stream",
          "text": [
            "100%|██████████| 20/20 [23:26<00:00, 70.33s/it]\n",
            "100%|██████████| 20/20 [23:44<00:00, 71.20s/it]\n",
            "100%|██████████| 20/20 [23:44<00:00, 71.23s/it]\n"
          ],
          "name": "stderr"
        },
        {
          "output_type": "stream",
          "text": [
            " Loss: 2.9184902431838227\n",
            "\n",
            "\n",
            "\n",
            "Iteration: 15\n"
          ],
          "name": "stdout"
        },
        {
          "output_type": "stream",
          "text": [
            "  5%|▌         | 1/20 [01:20<25:26, 80.36s/it]"
          ],
          "name": "stderr"
        },
        {
          "output_type": "stream",
          "text": [
            " Loss: 2.9034991259445215 lr: [0.0010305368692688174]\n"
          ],
          "name": "stdout"
        },
        {
          "output_type": "stream",
          "text": [
            " 15%|█▌        | 3/20 [04:00<22:41, 80.08s/it]"
          ],
          "name": "stderr"
        },
        {
          "output_type": "stream",
          "text": [
            " Loss: 2.9053140629254277 lr: [0.0010305368692688174]\n"
          ],
          "name": "stdout"
        },
        {
          "output_type": "stream",
          "text": [
            " 25%|██▌       | 5/20 [06:39<19:58, 79.88s/it]"
          ],
          "name": "stderr"
        },
        {
          "output_type": "stream",
          "text": [
            " Loss: 2.900744310209975 lr: [0.0010305368692688174]\n"
          ],
          "name": "stdout"
        },
        {
          "output_type": "stream",
          "text": [
            " 35%|███▌      | 7/20 [09:26<17:43, 81.83s/it]"
          ],
          "name": "stderr"
        },
        {
          "output_type": "stream",
          "text": [
            " Loss: 2.894759178078224 lr: [0.0010305368692688174]\n"
          ],
          "name": "stdout"
        },
        {
          "output_type": "stream",
          "text": [
            " 50%|█████     | 10/20 [12:24<11:37, 69.72s/it]"
          ],
          "name": "stderr"
        },
        {
          "output_type": "stream",
          "text": [
            " Loss: 2.887355547641677 lr: [0.0010305368692688174]\n"
          ],
          "name": "stdout"
        },
        {
          "output_type": "stream",
          "text": [
            " 60%|██████    | 12/20 [14:59<09:11, 68.94s/it]"
          ],
          "name": "stderr"
        },
        {
          "output_type": "stream",
          "text": [
            " Loss: 2.8793120460151376 lr: [0.0010305368692688174]\n"
          ],
          "name": "stdout"
        },
        {
          "output_type": "stream",
          "text": [
            " 70%|███████   | 14/20 [17:13<06:46, 67.75s/it]"
          ],
          "name": "stderr"
        },
        {
          "output_type": "stream",
          "text": [
            " Loss: 2.871030883549865 lr: [0.0010305368692688174]\n"
          ],
          "name": "stdout"
        },
        {
          "output_type": "stream",
          "text": [
            " 85%|████████▌ | 17/20 [20:01<03:14, 64.70s/it]"
          ],
          "name": "stderr"
        },
        {
          "output_type": "stream",
          "text": [
            " Loss: 2.8642116186703026 lr: [0.0010305368692688174]\n"
          ],
          "name": "stdout"
        },
        {
          "output_type": "stream",
          "text": [
            " 95%|█████████▌| 19/20 [22:39<01:06, 66.00s/it]"
          ],
          "name": "stderr"
        },
        {
          "output_type": "stream",
          "text": [
            " Loss: 2.866795639478115 lr: [0.0010305368692688174]\n"
          ],
          "name": "stdout"
        },
        {
          "output_type": "stream",
          "text": [
            "100%|██████████| 20/20 [23:19<00:00, 69.95s/it]\n",
            "100%|██████████| 20/20 [23:36<00:00, 70.82s/it]\n",
            "100%|██████████| 20/20 [23:36<00:00, 70.84s/it]\n"
          ],
          "name": "stderr"
        },
        {
          "output_type": "stream",
          "text": [
            " Loss: 2.888331533443507\n",
            "\n",
            "\n",
            "\n",
            "Iteration: 16\n"
          ],
          "name": "stdout"
        },
        {
          "output_type": "stream",
          "text": [
            "  5%|▌         | 1/20 [01:19<25:09, 79.47s/it]"
          ],
          "name": "stderr"
        },
        {
          "output_type": "stream",
          "text": [
            " Loss: 2.8818667813894168 lr: [0.0007322330470336313]\n"
          ],
          "name": "stdout"
        },
        {
          "output_type": "stream",
          "text": [
            " 15%|█▌        | 3/20 [04:00<22:36, 79.78s/it]"
          ],
          "name": "stderr"
        },
        {
          "output_type": "stream",
          "text": [
            " Loss: 2.883054624349056 lr: [0.0007322330470336313]\n"
          ],
          "name": "stdout"
        },
        {
          "output_type": "stream",
          "text": [
            " 25%|██▌       | 5/20 [06:40<19:57, 79.86s/it]"
          ],
          "name": "stderr"
        },
        {
          "output_type": "stream",
          "text": [
            " Loss: 2.8777636141588223 lr: [0.0007322330470336313]\n"
          ],
          "name": "stdout"
        },
        {
          "output_type": "stream",
          "text": [
            " 35%|███▌      | 7/20 [09:26<17:42, 81.73s/it]"
          ],
          "name": "stderr"
        },
        {
          "output_type": "stream",
          "text": [
            " Loss: 2.870956977372404 lr: [0.0007322330470336313]\n"
          ],
          "name": "stdout"
        },
        {
          "output_type": "stream",
          "text": [
            " 50%|█████     | 10/20 [12:25<11:39, 69.98s/it]"
          ],
          "name": "stderr"
        },
        {
          "output_type": "stream",
          "text": [
            " Loss: 2.8626689553548657 lr: [0.0007322330470336313]\n"
          ],
          "name": "stdout"
        },
        {
          "output_type": "stream",
          "text": [
            " 60%|██████    | 12/20 [15:02<09:15, 69.46s/it]"
          ],
          "name": "stderr"
        },
        {
          "output_type": "stream",
          "text": [
            " Loss: 2.8536886265191477 lr: [0.0007322330470336313]\n"
          ],
          "name": "stdout"
        },
        {
          "output_type": "stream",
          "text": [
            " 70%|███████   | 14/20 [17:17<06:50, 68.41s/it]"
          ],
          "name": "stderr"
        },
        {
          "output_type": "stream",
          "text": [
            " Loss: 2.844434631835478 lr: [0.0007322330470336313]\n"
          ],
          "name": "stdout"
        },
        {
          "output_type": "stream",
          "text": [
            " 85%|████████▌ | 17/20 [20:09<03:17, 65.73s/it]"
          ],
          "name": "stderr"
        },
        {
          "output_type": "stream",
          "text": [
            " Loss: 2.836649839806747 lr: [0.0007322330470336313]\n"
          ],
          "name": "stdout"
        },
        {
          "output_type": "stream",
          "text": [
            " 95%|█████████▌| 19/20 [22:47<01:06, 66.66s/it]"
          ],
          "name": "stderr"
        },
        {
          "output_type": "stream",
          "text": [
            " Loss: 2.8389143438111977 lr: [0.0007322330470336313]\n"
          ],
          "name": "stdout"
        },
        {
          "output_type": "stream",
          "text": [
            "100%|██████████| 20/20 [23:27<00:00, 70.38s/it]\n",
            "100%|██████████| 20/20 [23:45<00:00, 71.28s/it]\n",
            "100%|██████████| 20/20 [23:45<00:00, 71.25s/it]\n"
          ],
          "name": "stderr"
        },
        {
          "output_type": "stream",
          "text": [
            " Loss: 2.8628773509021235\n",
            "\n",
            "\n",
            "\n",
            "Iteration: 17\n"
          ],
          "name": "stdout"
        },
        {
          "output_type": "stream",
          "text": [
            "  5%|▌         | 1/20 [01:20<25:27, 80.41s/it]"
          ],
          "name": "stderr"
        },
        {
          "output_type": "stream",
          "text": [
            " Loss: 2.8650480592863454 lr: [0.00047745751406263163]\n"
          ],
          "name": "stdout"
        },
        {
          "output_type": "stream",
          "text": [
            " 15%|█▌        | 3/20 [04:00<22:44, 80.28s/it]"
          ],
          "name": "stderr"
        },
        {
          "output_type": "stream",
          "text": [
            " Loss: 2.865664363414112 lr: [0.00047745751406263163]\n"
          ],
          "name": "stdout"
        },
        {
          "output_type": "stream",
          "text": [
            " 25%|██▌       | 5/20 [06:41<20:03, 80.25s/it]"
          ],
          "name": "stderr"
        },
        {
          "output_type": "stream",
          "text": [
            " Loss: 2.8596708832502102 lr: [0.00047745751406263163]\n"
          ],
          "name": "stdout"
        },
        {
          "output_type": "stream",
          "text": [
            " 35%|███▌      | 7/20 [09:28<17:45, 81.99s/it]"
          ],
          "name": "stderr"
        },
        {
          "output_type": "stream",
          "text": [
            " Loss: 2.852046603014269 lr: [0.00047745751406263163]\n"
          ],
          "name": "stdout"
        },
        {
          "output_type": "stream",
          "text": [
            " 50%|█████     | 10/20 [12:25<11:38, 69.83s/it]"
          ],
          "name": "stderr"
        },
        {
          "output_type": "stream",
          "text": [
            " Loss: 2.8428568446967484 lr: [0.00047745751406263163]\n"
          ],
          "name": "stdout"
        },
        {
          "output_type": "stream",
          "text": [
            " 60%|██████    | 12/20 [15:02<09:14, 69.27s/it]"
          ],
          "name": "stderr"
        },
        {
          "output_type": "stream",
          "text": [
            " Loss: 2.8329092397229956 lr: [0.00047745751406263163]\n"
          ],
          "name": "stdout"
        },
        {
          "output_type": "stream",
          "text": [
            " 70%|███████   | 14/20 [17:17<06:50, 68.35s/it]"
          ],
          "name": "stderr"
        },
        {
          "output_type": "stream",
          "text": [
            " Loss: 2.8226431816244704 lr: [0.00047745751406263163]\n"
          ],
          "name": "stdout"
        },
        {
          "output_type": "stream",
          "text": [
            " 85%|████████▌ | 17/20 [20:09<03:17, 65.82s/it]"
          ],
          "name": "stderr"
        },
        {
          "output_type": "stream",
          "text": [
            " Loss: 2.813839364264581 lr: [0.00047745751406263163]\n"
          ],
          "name": "stdout"
        },
        {
          "output_type": "stream",
          "text": [
            " 95%|█████████▌| 19/20 [22:47<01:06, 66.65s/it]"
          ],
          "name": "stderr"
        },
        {
          "output_type": "stream",
          "text": [
            " Loss: 2.8156918158444055 lr: [0.00047745751406263163]\n"
          ],
          "name": "stdout"
        },
        {
          "output_type": "stream",
          "text": [
            "100%|██████████| 20/20 [23:28<00:00, 70.40s/it]\n",
            "100%|██████████| 20/20 [23:45<00:00, 71.28s/it]\n",
            "100%|██████████| 20/20 [23:45<00:00, 71.28s/it]\n"
          ],
          "name": "stderr"
        },
        {
          "output_type": "stream",
          "text": [
            " Loss: 2.842110413618002\n",
            "\n",
            "\n",
            "\n",
            "Iteration: 18\n"
          ],
          "name": "stdout"
        },
        {
          "output_type": "stream",
          "text": [
            "  5%|▌         | 1/20 [01:21<25:46, 81.42s/it]"
          ],
          "name": "stderr"
        },
        {
          "output_type": "stream",
          "text": [
            " Loss: 2.8529632691988533 lr: [0.00027248368952908055]\n"
          ],
          "name": "stdout"
        },
        {
          "output_type": "stream",
          "text": [
            " 15%|█▌        | 3/20 [04:01<22:50, 80.60s/it]"
          ],
          "name": "stderr"
        },
        {
          "output_type": "stream",
          "text": [
            " Loss: 2.8530591061974584 lr: [0.00027248368952908055]\n"
          ],
          "name": "stdout"
        },
        {
          "output_type": "stream",
          "text": [
            " 25%|██▌       | 5/20 [06:41<20:05, 80.34s/it]"
          ],
          "name": "stderr"
        },
        {
          "output_type": "stream",
          "text": [
            " Loss: 2.846391579597011 lr: [0.00027248368952908055]\n"
          ],
          "name": "stdout"
        },
        {
          "output_type": "stream",
          "text": [
            " 35%|███▌      | 7/20 [09:26<17:41, 81.69s/it]"
          ],
          "name": "stderr"
        },
        {
          "output_type": "stream",
          "text": [
            " Loss: 2.8379714055677843 lr: [0.00027248368952908055]\n"
          ],
          "name": "stdout"
        },
        {
          "output_type": "stream",
          "text": [
            " 50%|█████     | 10/20 [12:26<11:39, 70.00s/it]"
          ],
          "name": "stderr"
        },
        {
          "output_type": "stream",
          "text": [
            " Loss: 2.8278841918488804 lr: [0.00027248368952908055]\n"
          ],
          "name": "stdout"
        },
        {
          "output_type": "stream",
          "text": [
            " 60%|██████    | 12/20 [15:02<09:15, 69.48s/it]"
          ],
          "name": "stderr"
        },
        {
          "output_type": "stream",
          "text": [
            " Loss: 2.816968103072593 lr: [0.00027248368952908055]\n"
          ],
          "name": "stdout"
        },
        {
          "output_type": "stream",
          "text": [
            " 70%|███████   | 14/20 [17:18<06:51, 68.55s/it]"
          ],
          "name": "stderr"
        },
        {
          "output_type": "stream",
          "text": [
            " Loss: 2.8056801746589555 lr: [0.00027248368952908055]\n"
          ],
          "name": "stdout"
        },
        {
          "output_type": "stream",
          "text": [
            " 85%|████████▌ | 17/20 [20:11<03:17, 65.87s/it]"
          ],
          "name": "stderr"
        },
        {
          "output_type": "stream",
          "text": [
            " Loss: 2.795833943176766 lr: [0.00027248368952908055]\n"
          ],
          "name": "stdout"
        },
        {
          "output_type": "stream",
          "text": [
            " 95%|█████████▌| 19/20 [22:47<01:06, 66.65s/it]"
          ],
          "name": "stderr"
        },
        {
          "output_type": "stream",
          "text": [
            " Loss: 2.7971938619214334 lr: [0.00027248368952908055]\n"
          ],
          "name": "stdout"
        },
        {
          "output_type": "stream",
          "text": [
            "100%|██████████| 20/20 [23:29<00:00, 70.45s/it]\n",
            "100%|██████████| 20/20 [23:46<00:00, 71.30s/it]\n",
            "100%|██████████| 20/20 [23:45<00:00, 71.29s/it]\n"
          ],
          "name": "stderr"
        },
        {
          "output_type": "stream",
          "text": [
            " Loss: 2.8259878358264494\n",
            "\n",
            "\n",
            "\n",
            "Iteration: 19\n"
          ],
          "name": "stdout"
        },
        {
          "output_type": "stream",
          "text": [
            "  5%|▌         | 1/20 [01:20<25:28, 80.45s/it]"
          ],
          "name": "stderr"
        },
        {
          "output_type": "stream",
          "text": [
            " Loss: 2.8453085013308193 lr: [0.00012235870926211617]\n"
          ],
          "name": "stdout"
        },
        {
          "output_type": "stream",
          "text": [
            " 15%|█▌        | 3/20 [04:01<22:45, 80.29s/it]"
          ],
          "name": "stderr"
        },
        {
          "output_type": "stream",
          "text": [
            " Loss: 2.8449524159813957 lr: [0.00012235870926211617]\n"
          ],
          "name": "stdout"
        },
        {
          "output_type": "stream",
          "text": [
            " 25%|██▌       | 5/20 [06:41<20:01, 80.11s/it]"
          ],
          "name": "stderr"
        },
        {
          "output_type": "stream",
          "text": [
            " Loss: 2.8376761209402876 lr: [0.00012235870926211617]\n"
          ],
          "name": "stdout"
        },
        {
          "output_type": "stream",
          "text": [
            " 35%|███▌      | 7/20 [09:28<17:47, 82.10s/it]"
          ],
          "name": "stderr"
        },
        {
          "output_type": "stream",
          "text": [
            " Loss: 2.828533692147265 lr: [0.00012235870926211617]\n"
          ],
          "name": "stdout"
        },
        {
          "output_type": "stream",
          "text": [
            " 50%|█████     | 10/20 [12:27<11:41, 70.18s/it]"
          ],
          "name": "stderr"
        },
        {
          "output_type": "stream",
          "text": [
            " Loss: 2.8176105186983107 lr: [0.00012235870926211617]\n"
          ],
          "name": "stdout"
        },
        {
          "output_type": "stream",
          "text": [
            " 60%|██████    | 12/20 [15:05<09:18, 69.78s/it]"
          ],
          "name": "stderr"
        },
        {
          "output_type": "stream",
          "text": [
            " Loss: 2.8057932594846045 lr: [0.00012235870926211617]\n"
          ],
          "name": "stdout"
        },
        {
          "output_type": "stream",
          "text": [
            " 70%|███████   | 14/20 [17:20<06:51, 68.65s/it]"
          ],
          "name": "stderr"
        },
        {
          "output_type": "stream",
          "text": [
            " Loss: 2.7935448365334263 lr: [0.00012235870926211617]\n"
          ],
          "name": "stdout"
        },
        {
          "output_type": "stream",
          "text": [
            " 85%|████████▌ | 17/20 [20:13<03:18, 66.13s/it]"
          ],
          "name": "stderr"
        },
        {
          "output_type": "stream",
          "text": [
            " Loss: 2.7827072496912586 lr: [0.00012235870926211617]\n"
          ],
          "name": "stdout"
        },
        {
          "output_type": "stream",
          "text": [
            " 95%|█████████▌| 19/20 [22:51<01:06, 66.84s/it]"
          ],
          "name": "stderr"
        },
        {
          "output_type": "stream",
          "text": [
            " Loss: 2.7835435652447207 lr: [0.00012235870926211617]\n"
          ],
          "name": "stdout"
        },
        {
          "output_type": "stream",
          "text": [
            "100%|██████████| 20/20 [23:32<00:00, 70.62s/it]\n",
            "100%|██████████| 20/20 [23:49<00:00, 71.46s/it]\n",
            "100%|██████████| 20/20 [23:49<00:00, 71.47s/it]\n"
          ],
          "name": "stderr"
        },
        {
          "output_type": "stream",
          "text": [
            " Loss: 2.8144464070947333\n",
            "\n",
            "\n",
            "\n",
            "Iteration: 20\n"
          ],
          "name": "stdout"
        },
        {
          "output_type": "stream",
          "text": [
            "  5%|▌         | 1/20 [01:21<25:40, 81.10s/it]"
          ],
          "name": "stderr"
        },
        {
          "output_type": "stream",
          "text": [
            " Loss: 2.8414499940728932 lr: [3.077914851215585e-05]\n"
          ],
          "name": "stdout"
        },
        {
          "output_type": "stream",
          "text": [
            " 15%|█▌        | 3/20 [04:00<22:45, 80.32s/it]"
          ],
          "name": "stderr"
        },
        {
          "output_type": "stream",
          "text": [
            " Loss: 2.840767974559866 lr: [3.077914851215585e-05]\n"
          ],
          "name": "stdout"
        },
        {
          "output_type": "stream",
          "text": [
            " 25%|██▌       | 5/20 [06:41<20:05, 80.35s/it]"
          ],
          "name": "stderr"
        },
        {
          "output_type": "stream",
          "text": [
            " Loss: 2.833028471396499 lr: [3.077914851215585e-05]\n"
          ],
          "name": "stdout"
        },
        {
          "output_type": "stream",
          "text": [
            " 35%|███▌      | 7/20 [09:28<17:45, 82.00s/it]"
          ],
          "name": "stderr"
        },
        {
          "output_type": "stream",
          "text": [
            " Loss: 2.823335644591201 lr: [3.077914851215585e-05]\n"
          ],
          "name": "stdout"
        },
        {
          "output_type": "stream",
          "text": [
            " 50%|█████     | 10/20 [12:27<11:41, 70.14s/it]"
          ],
          "name": "stderr"
        },
        {
          "output_type": "stream",
          "text": [
            " Loss: 2.8117654550905393 lr: [3.077914851215585e-05]\n"
          ],
          "name": "stdout"
        },
        {
          "output_type": "stream",
          "text": [
            " 60%|██████    | 12/20 [15:04<09:15, 69.50s/it]"
          ],
          "name": "stderr"
        },
        {
          "output_type": "stream",
          "text": [
            " Loss: 2.799243200532025 lr: [3.077914851215585e-05]\n"
          ],
          "name": "stdout"
        },
        {
          "output_type": "stream",
          "text": [
            " 70%|███████   | 14/20 [17:20<06:51, 68.66s/it]"
          ],
          "name": "stderr"
        },
        {
          "output_type": "stream",
          "text": [
            " Loss: 2.7862358317386438 lr: [3.077914851215585e-05]\n"
          ],
          "name": "stdout"
        },
        {
          "output_type": "stream",
          "text": [
            " 85%|████████▌ | 17/20 [20:11<03:17, 65.85s/it]"
          ],
          "name": "stderr"
        },
        {
          "output_type": "stream",
          "text": [
            " Loss: 2.7746086531170095 lr: [3.077914851215585e-05]\n"
          ],
          "name": "stdout"
        },
        {
          "output_type": "stream",
          "text": [
            " 95%|█████████▌| 19/20 [22:50<01:06, 66.90s/it]"
          ],
          "name": "stderr"
        },
        {
          "output_type": "stream",
          "text": [
            " Loss: 2.774992397199984 lr: [3.077914851215585e-05]\n"
          ],
          "name": "stdout"
        },
        {
          "output_type": "stream",
          "text": [
            "100%|██████████| 20/20 [23:31<00:00, 70.56s/it]\n",
            "100%|██████████| 20/20 [23:48<00:00, 71.41s/it]\n",
            "100%|██████████| 20/20 [23:48<00:00, 71.44s/it]\n"
          ],
          "name": "stderr"
        },
        {
          "output_type": "stream",
          "text": [
            " Loss: 2.807454117919927\n",
            "Saving embeddings...\n"
          ],
          "name": "stdout"
        },
        {
          "output_type": "execute_result",
          "data": {
            "text/plain": [
              "<__main__.WikiTrainer at 0x7f97dd4eef28>"
            ]
          },
          "metadata": {
            "tags": []
          },
          "execution_count": 18
        }
      ]
    },
    {
      "cell_type": "code",
      "metadata": {
        "id": "w5Jb1AU_ZqEd",
        "colab_type": "code",
        "colab": {}
      },
      "source": [
        "embeddings = np.load('gdrive/My Drive/Projects with Wei/wiki_data/wiki_embedding/embedding.npz')['arr_0']"
      ],
      "execution_count": null,
      "outputs": []
    },
    {
      "cell_type": "code",
      "metadata": {
        "id": "fzhDrOGhaq1M",
        "colab_type": "code",
        "colab": {}
      },
      "source": [
        "embeddings_normalized = embeddings / np.sqrt((embeddings ** 2).sum(axis = 1))[:,np.newaxis]"
      ],
      "execution_count": null,
      "outputs": []
    },
    {
      "cell_type": "markdown",
      "metadata": {
        "id": "fXxANF5_1kZx",
        "colab_type": "text"
      },
      "source": [
        "Train"
      ]
    },
    {
      "cell_type": "code",
      "metadata": {
        "id": "QcoCVfTO_w6a",
        "colab_type": "code",
        "colab": {}
      },
      "source": [
        "from sklearn.neighbors import KDTree"
      ],
      "execution_count": null,
      "outputs": []
    },
    {
      "cell_type": "code",
      "metadata": {
        "id": "TvgGDCjnZpFv",
        "colab_type": "code",
        "colab": {}
      },
      "source": [
        "kdt = KDTree(embeddings_normalized, leaf_size=30, metric='euclidean')"
      ],
      "execution_count": null,
      "outputs": []
    },
    {
      "cell_type": "code",
      "metadata": {
        "id": "-PIbXpyv_ykI",
        "colab_type": "code",
        "colab": {}
      },
      "source": [
        "dist, ind = kdt.query(embeddings_normalized[[1010],:], k=10, return_distance=True)"
      ],
      "execution_count": null,
      "outputs": []
    },
    {
      "cell_type": "code",
      "metadata": {
        "id": "9rcTwUReIkP1",
        "colab_type": "code",
        "colab": {
          "base_uri": "https://localhost:8080/",
          "height": 51
        },
        "outputId": "5cb9f431-e4e6-4817-e225-afbf0aa72585"
      },
      "source": [
        "dist"
      ],
      "execution_count": null,
      "outputs": [
        {
          "output_type": "execute_result",
          "data": {
            "text/plain": [
              "array([[0.        , 1.03550514, 1.03972902, 1.05127456, 1.05373439,\n",
              "        1.05536446, 1.05647837, 1.05820375, 1.05870784, 1.06046946]])"
            ]
          },
          "metadata": {
            "tags": []
          },
          "execution_count": 96
        }
      ]
    },
    {
      "cell_type": "code",
      "metadata": {
        "id": "6ahjs_xTB-jM",
        "colab_type": "code",
        "colab": {}
      },
      "source": [
        "df_lookup = pd.DataFrame({'page_id':np.array(page_word_stats.id2page)[ind.squeeze()],'dist': dist.squeeze()})"
      ],
      "execution_count": null,
      "outputs": []
    },
    {
      "cell_type": "code",
      "metadata": {
        "id": "ZEJptbhYHnRj",
        "colab_type": "code",
        "colab": {
          "base_uri": "https://localhost:8080/",
          "height": 359
        },
        "outputId": "afd87f55-6cab-49c1-b4e4-d9ddf5454b1f"
      },
      "source": [
        "df_lookup"
      ],
      "execution_count": null,
      "outputs": [
        {
          "output_type": "execute_result",
          "data": {
            "text/html": [
              "<div>\n",
              "<style scoped>\n",
              "    .dataframe tbody tr th:only-of-type {\n",
              "        vertical-align: middle;\n",
              "    }\n",
              "\n",
              "    .dataframe tbody tr th {\n",
              "        vertical-align: top;\n",
              "    }\n",
              "\n",
              "    .dataframe thead th {\n",
              "        text-align: right;\n",
              "    }\n",
              "</style>\n",
              "<table border=\"1\" class=\"dataframe\">\n",
              "  <thead>\n",
              "    <tr style=\"text-align: right;\">\n",
              "      <th></th>\n",
              "      <th>page_id</th>\n",
              "      <th>dist</th>\n",
              "    </tr>\n",
              "  </thead>\n",
              "  <tbody>\n",
              "    <tr>\n",
              "      <th>0</th>\n",
              "      <td>2472</td>\n",
              "      <td>0.000000</td>\n",
              "    </tr>\n",
              "    <tr>\n",
              "      <th>1</th>\n",
              "      <td>18379030</td>\n",
              "      <td>1.035505</td>\n",
              "    </tr>\n",
              "    <tr>\n",
              "      <th>2</th>\n",
              "      <td>2760675</td>\n",
              "      <td>1.039729</td>\n",
              "    </tr>\n",
              "    <tr>\n",
              "      <th>3</th>\n",
              "      <td>2843559</td>\n",
              "      <td>1.051275</td>\n",
              "    </tr>\n",
              "    <tr>\n",
              "      <th>4</th>\n",
              "      <td>38015284</td>\n",
              "      <td>1.053734</td>\n",
              "    </tr>\n",
              "    <tr>\n",
              "      <th>5</th>\n",
              "      <td>53446</td>\n",
              "      <td>1.055364</td>\n",
              "    </tr>\n",
              "    <tr>\n",
              "      <th>6</th>\n",
              "      <td>33259275</td>\n",
              "      <td>1.056478</td>\n",
              "    </tr>\n",
              "    <tr>\n",
              "      <th>7</th>\n",
              "      <td>17275952</td>\n",
              "      <td>1.058204</td>\n",
              "    </tr>\n",
              "    <tr>\n",
              "      <th>8</th>\n",
              "      <td>37686337</td>\n",
              "      <td>1.058708</td>\n",
              "    </tr>\n",
              "    <tr>\n",
              "      <th>9</th>\n",
              "      <td>14042084</td>\n",
              "      <td>1.060469</td>\n",
              "    </tr>\n",
              "  </tbody>\n",
              "</table>\n",
              "</div>"
            ],
            "text/plain": [
              "    page_id      dist\n",
              "0      2472  0.000000\n",
              "1  18379030  1.035505\n",
              "2   2760675  1.039729\n",
              "3   2843559  1.051275\n",
              "4  38015284  1.053734\n",
              "5     53446  1.055364\n",
              "6  33259275  1.056478\n",
              "7  17275952  1.058204\n",
              "8  37686337  1.058708\n",
              "9  14042084  1.060469"
            ]
          },
          "metadata": {
            "tags": []
          },
          "execution_count": 98
        }
      ]
    },
    {
      "cell_type": "code",
      "metadata": {
        "id": "b2N5jzUVDYhz",
        "colab_type": "code",
        "colab": {
          "base_uri": "https://localhost:8080/",
          "height": 359
        },
        "outputId": "e0a727bb-8864-469d-b602-bb625859430f"
      },
      "source": [
        "df_lookup.merge(df_cp, on = 'page_id')[['page_id','page_title']].drop_duplicates()"
      ],
      "execution_count": null,
      "outputs": [
        {
          "output_type": "execute_result",
          "data": {
            "text/html": [
              "<div>\n",
              "<style scoped>\n",
              "    .dataframe tbody tr th:only-of-type {\n",
              "        vertical-align: middle;\n",
              "    }\n",
              "\n",
              "    .dataframe tbody tr th {\n",
              "        vertical-align: top;\n",
              "    }\n",
              "\n",
              "    .dataframe thead th {\n",
              "        text-align: right;\n",
              "    }\n",
              "</style>\n",
              "<table border=\"1\" class=\"dataframe\">\n",
              "  <thead>\n",
              "    <tr style=\"text-align: right;\">\n",
              "      <th></th>\n",
              "      <th>page_id</th>\n",
              "      <th>page_title</th>\n",
              "    </tr>\n",
              "  </thead>\n",
              "  <tbody>\n",
              "    <tr>\n",
              "      <th>0</th>\n",
              "      <td>2472</td>\n",
              "      <td>American_Quarter_Horse</td>\n",
              "    </tr>\n",
              "    <tr>\n",
              "      <th>12</th>\n",
              "      <td>18379030</td>\n",
              "      <td>Dobra_Wola</td>\n",
              "    </tr>\n",
              "    <tr>\n",
              "      <th>15</th>\n",
              "      <td>2760675</td>\n",
              "      <td>TMCR_95.3</td>\n",
              "    </tr>\n",
              "    <tr>\n",
              "      <th>25</th>\n",
              "      <td>2843559</td>\n",
              "      <td>Emergency_vehicle_lighting</td>\n",
              "    </tr>\n",
              "    <tr>\n",
              "      <th>37</th>\n",
              "      <td>38015284</td>\n",
              "      <td>Wrathful_Journey</td>\n",
              "    </tr>\n",
              "    <tr>\n",
              "      <th>46</th>\n",
              "      <td>53446</td>\n",
              "      <td>San_Jose,_California</td>\n",
              "    </tr>\n",
              "    <tr>\n",
              "      <th>83</th>\n",
              "      <td>33259275</td>\n",
              "      <td>Çağlarca,_Toroslar</td>\n",
              "    </tr>\n",
              "    <tr>\n",
              "      <th>93</th>\n",
              "      <td>17275952</td>\n",
              "      <td>Hyperacuity_(album)</td>\n",
              "    </tr>\n",
              "    <tr>\n",
              "      <th>97</th>\n",
              "      <td>37686337</td>\n",
              "      <td>1911–12_Northern_Football_League</td>\n",
              "    </tr>\n",
              "    <tr>\n",
              "      <th>99</th>\n",
              "      <td>14042084</td>\n",
              "      <td>Protochlorophyllide_reductase</td>\n",
              "    </tr>\n",
              "  </tbody>\n",
              "</table>\n",
              "</div>"
            ],
            "text/plain": [
              "     page_id                        page_title\n",
              "0       2472            American_Quarter_Horse\n",
              "12  18379030                        Dobra_Wola\n",
              "15   2760675                         TMCR_95.3\n",
              "25   2843559        Emergency_vehicle_lighting\n",
              "37  38015284                  Wrathful_Journey\n",
              "46     53446              San_Jose,_California\n",
              "83  33259275                Çağlarca,_Toroslar\n",
              "93  17275952               Hyperacuity_(album)\n",
              "97  37686337  1911–12_Northern_Football_League\n",
              "99  14042084     Protochlorophyllide_reductase"
            ]
          },
          "metadata": {
            "tags": []
          },
          "execution_count": 99
        }
      ]
    },
    {
      "cell_type": "code",
      "metadata": {
        "id": "_FBKTtTBCL1i",
        "colab_type": "code",
        "colab": {
          "base_uri": "https://localhost:8080/",
          "height": 34
        },
        "outputId": "9f5d0bc2-dd30-49be-d0fe-b8f31e66fc4f"
      },
      "source": [
        "df_cp.shape"
      ],
      "execution_count": null,
      "outputs": [
        {
          "output_type": "execute_result",
          "data": {
            "text/plain": [
              "(43747765, 5)"
            ]
          },
          "metadata": {
            "tags": []
          },
          "execution_count": 100
        }
      ]
    },
    {
      "cell_type": "code",
      "metadata": {
        "id": "FAKkfwa0CLpy",
        "colab_type": "code",
        "colab": {}
      },
      "source": [
        ""
      ],
      "execution_count": null,
      "outputs": []
    },
    {
      "cell_type": "code",
      "metadata": {
        "id": "oqIpBwsaz95a",
        "colab_type": "code",
        "colab": {
          "base_uri": "https://localhost:8080/",
          "height": 170
        },
        "outputId": "6dccb84a-f78c-43f9-9c46-eba69337a3c8"
      },
      "source": [
        "%lprun -f WikiDataset.__next__ -f WikiDataset.collate -f WikiTrainer.train train_model(num_workers=0, test = True, n_chunk=1)"
      ],
      "execution_count": null,
      "outputs": [
        {
          "output_type": "stream",
          "text": [
            "Initializing negative samples\n"
          ],
          "name": "stdout"
        },
        {
          "output_type": "stream",
          "text": [
            "\n",
            "  0%|          | 0/1 [00:00<?, ?it/s]\u001b[A"
          ],
          "name": "stderr"
        },
        {
          "output_type": "stream",
          "text": [
            "\n",
            "\n",
            "\n",
            "Iteration: 1\n"
          ],
          "name": "stdout"
        },
        {
          "output_type": "stream",
          "text": [
            "\n",
            "100%|██████████| 1/1 [00:58<00:00, 58.34s/it]\n"
          ],
          "name": "stderr"
        },
        {
          "output_type": "stream",
          "text": [
            " Loss: 5.873366421972997\n"
          ],
          "name": "stdout"
        }
      ]
    },
    {
      "cell_type": "code",
      "metadata": {
        "id": "5nidrvvWqRpd",
        "colab_type": "code",
        "colab": {
          "base_uri": "https://localhost:8080/",
          "height": 238
        },
        "outputId": "c5c81998-90f6-47b3-d82c-737368aca4ad"
      },
      "source": [
        "length = 0\n",
        "for c in read_link_pairs_chunks(n_chunk=10):\n",
        "    print(len(c))\n",
        "    length += len(c)\n",
        "print(length)"
      ],
      "execution_count": null,
      "outputs": [
        {
          "output_type": "stream",
          "text": [
            "\r  0%|          | 0/10 [00:00<?, ?it/s]"
          ],
          "name": "stderr"
        },
        {
          "output_type": "stream",
          "text": [
            "reading link pairs in 10 chunks\n"
          ],
          "name": "stdout"
        },
        {
          "output_type": "stream",
          "text": [
            "\r 10%|█         | 1/10 [00:11<01:46, 11.87s/it]"
          ],
          "name": "stderr"
        },
        {
          "output_type": "stream",
          "text": [
            "37397160\n"
          ],
          "name": "stdout"
        },
        {
          "output_type": "stream",
          "text": [
            "\r 20%|██        | 2/10 [00:22<01:32, 11.62s/it]"
          ],
          "name": "stderr"
        },
        {
          "output_type": "stream",
          "text": [
            "37397160\n"
          ],
          "name": "stdout"
        },
        {
          "output_type": "stream",
          "text": [
            "\r 30%|███       | 3/10 [00:34<01:21, 11.61s/it]"
          ],
          "name": "stderr"
        },
        {
          "output_type": "stream",
          "text": [
            "37397160\n"
          ],
          "name": "stdout"
        },
        {
          "output_type": "stream",
          "text": [
            "\r 40%|████      | 4/10 [00:45<01:08, 11.36s/it]"
          ],
          "name": "stderr"
        },
        {
          "output_type": "stream",
          "text": [
            "37397160\n"
          ],
          "name": "stdout"
        },
        {
          "output_type": "stream",
          "text": [
            "\r 50%|█████     | 5/10 [00:56<00:56, 11.20s/it]"
          ],
          "name": "stderr"
        },
        {
          "output_type": "stream",
          "text": [
            "37397160\n"
          ],
          "name": "stdout"
        },
        {
          "output_type": "stream",
          "text": [
            "\r 60%|██████    | 6/10 [01:06<00:44, 11.02s/it]"
          ],
          "name": "stderr"
        },
        {
          "output_type": "stream",
          "text": [
            "37397160\n"
          ],
          "name": "stdout"
        },
        {
          "output_type": "stream",
          "text": [
            "\r 70%|███████   | 7/10 [01:17<00:32, 10.86s/it]"
          ],
          "name": "stderr"
        },
        {
          "output_type": "stream",
          "text": [
            "37397160\n"
          ],
          "name": "stdout"
        },
        {
          "output_type": "stream",
          "text": [
            "\r 80%|████████  | 8/10 [01:27<00:21, 10.69s/it]"
          ],
          "name": "stderr"
        },
        {
          "output_type": "stream",
          "text": [
            "37397160\n"
          ],
          "name": "stdout"
        },
        {
          "output_type": "stream",
          "text": [
            "\r 90%|█████████ | 9/10 [01:37<00:10, 10.56s/it]"
          ],
          "name": "stderr"
        },
        {
          "output_type": "stream",
          "text": [
            "37397160\n"
          ],
          "name": "stdout"
        },
        {
          "output_type": "stream",
          "text": [
            "100%|██████████| 10/10 [01:48<00:00, 10.80s/it]"
          ],
          "name": "stderr"
        },
        {
          "output_type": "stream",
          "text": [
            "37397113\n",
            "373971553\n"
          ],
          "name": "stdout"
        },
        {
          "output_type": "stream",
          "text": [
            "\n"
          ],
          "name": "stderr"
        }
      ]
    },
    {
      "cell_type": "code",
      "metadata": {
        "id": "SECPcELX5soV",
        "colab_type": "code",
        "colab": {}
      },
      "source": [
        "class ContrastiveLoss(torch.nn.Module):\n",
        "    \"\"\"\n",
        "    Contrastive loss function.\n",
        "    Based on: http://yann.lecun.com/exdb/publis/pdf/hadsell-chopra-lecun-06.pdf\n",
        "    \"\"\"\n",
        "\n",
        "    def __init__(self, margin=2.0):\n",
        "        super(ContrastiveLoss, self).__init__()\n",
        "        self.margin = margin\n",
        "\n",
        "    def forward(self, outputs, label):\n",
        "        outputs1, output2 = outputs\n",
        "        euclidean_distance = F.pairwise_distance(output1, output2)\n",
        "        loss_contrastive = torch.mean((1-label) * torch.pow(euclidean_distance, 2) +\n",
        "                                      (label) * torch.pow(torch.clamp(self.margin - euclidean_distance, min=0.0), 2))\n",
        "        return loss_contrastive"
      ],
      "execution_count": null,
      "outputs": []
    },
    {
      "cell_type": "markdown",
      "metadata": {
        "id": "04bGxFzBpSEW",
        "colab_type": "text"
      },
      "source": [
        ""
      ]
    },
    {
      "cell_type": "markdown",
      "metadata": {
        "id": "qpopIKro8sEP",
        "colab_type": "text"
      },
      "source": [
        "We'll define a little function to create our model and optimizer so we\n",
        "can reuse it in the future."
      ]
    },
    {
      "cell_type": "code",
      "metadata": {
        "id": "ZmvPEWOl1dQQ",
        "colab_type": "code",
        "colab": {}
      },
      "source": [
        "def get_model(C, device):\n",
        "    model = two_tower().to(device)\n",
        "    return model, optim.Adam(model.parameters(), lr = C.LEARNING_RATE)"
      ],
      "execution_count": null,
      "outputs": []
    },
    {
      "cell_type": "markdown",
      "metadata": {
        "id": "kCcDDtLp8c6W",
        "colab_type": "text"
      },
      "source": [
        "Since we go through a similar process twice of calculating the loss for both the training set and the validation set, let's make that into its own function, loss_batch, which computes the loss for one batch.\n",
        "\n",
        "We pass an optimizer in for the training set, and use it to perform backprop. For the validation set, we don't pass an optimizer, so the method doesn't perform backprop."
      ]
    },
    {
      "cell_type": "code",
      "metadata": {
        "id": "lpkja9iG8dXc",
        "colab_type": "code",
        "colab": {}
      },
      "source": [
        "def loss_batch(model, loss_func, xb, yb, opt=None):\n",
        "    loss = loss_func(model(xb), yb)\n",
        "\n",
        "    if opt is not None:\n",
        "        loss.backward()\n",
        "        opt.step()\n",
        "        opt.zero_grad()\n",
        "\n",
        "    return loss.item(), len(xb)"
      ],
      "execution_count": null,
      "outputs": []
    },
    {
      "cell_type": "markdown",
      "metadata": {
        "id": "Ln7HPiX49KvU",
        "colab_type": "text"
      },
      "source": [
        "fit runs the necessary operations to train our model and compute the training and validation losses for each epoch. \n",
        "\n",
        "(Note that we always call model.train() before training, and model.eval() before inference, because these are used by layers such as nn.BatchNorm2d and nn.Dropout to ensure appropriate behaviour for these different phases.)\n",
        "\n"
      ]
    },
    {
      "cell_type": "code",
      "metadata": {
        "id": "B5-WaMDi9MZu",
        "colab_type": "code",
        "colab": {}
      },
      "source": [
        "def fit(epochs, model, loss_func, opt, train_dl, valid_dl, device):\n",
        "    counter = []\n",
        "    loss_history = [] \n",
        "    iteration_number= 0\n",
        "    \n",
        "    for epoch in range(epochs):\n",
        "        model.train()\n",
        "        for i, data in enumerate(train_dl, 0):\n",
        "            xb, yb = data\n",
        "            loss_batch(model, loss_func, xb, yb, opt)\n",
        "            \n",
        "            if i %10 == 0 :\n",
        "            print(\"Epoch number {}\\n Current loss {}\\n\".format(epoch, loss_contrastive.data[0]))\n",
        "            iteration_number +=10\n",
        "            counter.append(iteration_number)\n",
        "            loss_history.append(loss_contrastive.data[0])\n",
        "\n",
        "        model.eval()\n",
        "        with torch.no_grad():\n",
        "            losses, nums = zip(\n",
        "                *[loss_batch(model, loss_func, xb, yb) for xb, yb in valid_dl]\n",
        "            )\n",
        "        val_loss = np.sum(np.multiply(losses, nums)) / np.sum(nums)\n",
        "        print(epoch, val_loss)\n",
        "\n",
        "    show_plot(counter,loss_history)"
      ],
      "execution_count": null,
      "outputs": []
    },
    {
      "cell_type": "markdown",
      "metadata": {
        "id": "1HlIOs-J_iQu",
        "colab_type": "text"
      },
      "source": [
        "\"get_data\" returns dataloaders for the training and validation sets."
      ]
    },
    {
      "cell_type": "code",
      "metadata": {
        "id": "zKA_xlqf_kfS",
        "colab_type": "code",
        "colab": {}
      },
      "source": [
        "#TODO: send the batches to device\n",
        "\n",
        "def get_data(X, Y, C):\n",
        "    # Datasets\n",
        "    X = # IDs\n",
        "    Y = # Labels\n",
        "\n",
        "    #dataloader -> iterator\n",
        "    training_set = Dataset(X['train'], Y)\n",
        "    validation_set = Dataset(X['validation'], Y)\n",
        "\n",
        "    return (\n",
        "        DataLoader(train_ds, **C.data_params),\n",
        "        DataLoader(valid_ds, **C.data_params),\n",
        "    )"
      ],
      "execution_count": null,
      "outputs": []
    },
    {
      "cell_type": "markdown",
      "metadata": {
        "id": "NBlkZxnhAY9l",
        "colab_type": "text"
      },
      "source": [
        "main(). \n",
        "\n",
        "Now, our whole process of obtaining the data loaders and fitting the model can be run in 3 lines of code:"
      ]
    },
    {
      "cell_type": "code",
      "metadata": {
        "id": "ePoHD2d9_8hQ",
        "colab_type": "code",
        "colab": {}
      },
      "source": [
        "train_dl, valid_dl = get_data(X, Y, Config)\n",
        "model, opt = get_model(Config, device)\n",
        "fit(Config.NUM_EPOCHS, model, loss_func, opt, train_dl, valid_dl)"
      ],
      "execution_count": null,
      "outputs": []
    },
    {
      "cell_type": "code",
      "metadata": {
        "id": "Lxgkl5uT1mxx",
        "colab_type": "code",
        "cellView": "form",
        "colab": {}
      },
      "source": [
        "#@title\n",
        "model, opt = get_model()\n",
        "loss_func  = ContrastiveLoss()\n",
        "print(loss(model(xb), yb))\n",
        "\n",
        "\n",
        "counter = []\n",
        "loss_history = [] \n",
        "iteration_number= 0\n",
        "\n",
        "for epoch in range(0, Config.NUM_EPOCHS):\n",
        "    model.train()\n",
        "    for i, xb1, xb2 in enumerate(train_dataloader, 0):\n",
        "        pred1, pred2 = model(xb1, xb2)\n",
        "        loss_contrastive = loss_func(pred1, pred2, yb)\n",
        "        loss_contrastive.backward()\n",
        "        opt.step()\n",
        "        opt.zero_grad()\n",
        "  \n",
        "        if i %10 == 0 :\n",
        "            print(\"Epoch number {}\\n Current loss {}\\n\".format(epoch, loss_contrastive.data[0]))\n",
        "            iteration_number +=10\n",
        "            counter.append(iteration_number)\n",
        "            loss_history.append(loss_contrastive.data[0])\n",
        "    \n",
        "    model.eval()\n",
        "    with torch.no_grad():\n",
        "        valid_loss = sum(loss_func(model(xb1, xb2), yb) for xb1, xb2, yb in validation_generator)\n",
        "    print(epoch, valid_loss / len(validation_generator))     \n",
        "       \n",
        "show_plot(counter,loss_history)"
      ],
      "execution_count": null,
      "outputs": []
    },
    {
      "cell_type": "code",
      "metadata": {
        "id": "PvfUzen-6Stx",
        "colab_type": "code",
        "colab": {}
      },
      "source": [
        ""
      ],
      "execution_count": null,
      "outputs": []
    }
  ]
}